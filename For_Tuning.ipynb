{
 "cells": [
  {
   "cell_type": "markdown",
   "id": "74453fc2",
   "metadata": {},
   "source": [
    "Applying Optimization and Grid Search"
   ]
  },
  {
   "cell_type": "code",
   "execution_count": 1,
   "id": "a2227188",
   "metadata": {},
   "outputs": [],
   "source": [
    "#imports\n",
    "import itertools\n",
    "import pandas as pd\n",
    "\n",
    "# Genetic Algorithm\n",
    "from library.GA import genetic_algorithm, get_best_individual \n",
    "\n",
    "# Class GA Solution\n",
    "from library.lineup import LUGASolution\n",
    "\n",
    "# Mutation Functions\n",
    "from library.mutation_funcs import block_rotation_mutation, two_phase_shuffle_mutation, semi_shuffle\n",
    "\n",
    "# Crossover Functions\n",
    "from library.xo_funcs import cyclic_crossover, partially_mapped_crossover\n",
    "\n",
    "# Selection Algorithm\n",
    "from library.selection_algorithms import tournament_selection, ranking_selection\n",
    "\n",
    "# Line-up Problem: Datasets\n",
    "from library.lineup import artists_df, conflicts_df, HERE"
   ]
  },
  {
   "cell_type": "code",
   "execution_count": null,
   "id": "10ea3d59",
   "metadata": {},
   "outputs": [],
   "source": [
    "# With the final combination of logic operators and selection (with its respectives probabilities)\n",
    "POP_SIZE = 10\n",
    "\n",
    "initial_population = [LUGASolution(mutation_function = block_rotation_mutation, crossover_function = cyclic_crossover\n",
    "                                   )\n",
    "                      for i in range(POP_SIZE)]\n",
    "\n",
    "for elitism in [True, False]:\n",
    "    print(f\"\\nElistism set to {elitism}:\")\n",
    "    ga = genetic_algorithm(initial_population=initial_population,\n",
    "                    max_gen=10, #200\n",
    "                    selection_algorithm = tournament_selection,\n",
    "                    maximization=True,\n",
    "                    xo_prob=0.8,\n",
    "                    mut_prob=1,\n",
    "                    elitism=elitism,\n",
    "                    verbose=False)[0]\n",
    "    print(ga)"
   ]
  },
  {
   "cell_type": "code",
   "execution_count": null,
   "id": "bc85a776",
   "metadata": {},
   "outputs": [],
   "source": [
    "def comb_tuning(experience_name:str, mut_func: dict, xo_func: dict, selection_algo: list,\n",
    "                n_runs: int = 30, max_gen:int = 100, pop_size: int = 50):\n",
    "    \n",
    "    \"\"\"\n",
    "    Returns a DataFrame with the following columns:\n",
    "    - 'Combination' - Combination tuple of a mutation, a crossover and a selection algorithm\n",
    "    - 'Run' - Each Combination is runned a specified amount of times, this column specifies the run \n",
    "    number in which the results were obtained.\n",
    "    - 'Generation' - Each Run is composed of a specified amount of generations, this column specifies the \n",
    "    generation number in which the results were obtained.\n",
    "    - 'Best Fitness' - This is the best fitness obtained at each generation.\n",
    "\n",
    "    Purpose:\n",
    "    With this df we can play around inter-run and intra-run statistics, since it contains \n",
    "    all the results from the various combinations\n",
    "    \"\"\"\n",
    "\n",
    "    combinations = list(itertools.product(list(mut_func.keys()), list(xo_func.keys()), selection_algo))\n",
    "\n",
    "    combs_results = []\n",
    "    for comb in combinations:\n",
    "        # Store the best results of each generation for each run.\n",
    "        runs_results = []\n",
    "        for run in range(1, n_runs+1):\n",
    "            initial_population = [LUGASolution(mutation_function = comb[0], crossover_function = comb[1])\n",
    "                                               for i in range(pop_size)]\n",
    "            \n",
    "            _, generation_df = genetic_algorithm(initial_population=initial_population,\n",
    "                    max_gen=max_gen,\n",
    "                    selection_algorithm = comb[2],\n",
    "                    maximization=True,\n",
    "                    xo_prob=xo_func[comb[1]],\n",
    "                    mut_prob= mut_func[comb[0]],\n",
    "                    elitism=True,\n",
    "                    verbose=False)\n",
    "            \n",
    "            current_run = pd.DataFrame()\n",
    "            current_run['Run'] = [run for _ in range(1, max_gen+1)] #fill column 'Run' with the #run it is in\n",
    "            \n",
    "            #with run=#run, merge the df that contains the columns with #generation and its best fitness\n",
    "            one_run = pd.concat([current_run, generation_df], axis=1) \n",
    "            runs_results.append(one_run)\n",
    "        \n",
    "        current_comb_all_runs = pd.concat(runs_results) #concat all the different runs along the index axis\n",
    "        \n",
    "        current_comb = pd.DataFrame()\n",
    "        current_comb['Combination'] = [(comb[0].__name__, comb[1].__name__, comb[2].__name__)\n",
    "                                       for _ in range(current_comb_all_runs.shape[0])]\n",
    "        #combination ID (initials of mutation, xo and selection)\n",
    "        current_comb['Combination ID'] = [str(comb[0].__name__[0]+comb[1].__name__[0]+comb[2].__name__[0]).upper() \n",
    "                                          for _ in range(current_comb_all_runs.shape[0])]\n",
    "        one_comb = pd.concat([current_comb.reset_index(drop=True), current_comb_all_runs.reset_index(drop=True)], axis=1)\n",
    "        combs_results.append(one_comb)\n",
    "    \n",
    "    final_results = pd.concat(combs_results).reset_index(drop=True)\n",
    "    final_filepath = HERE.parent / \"combination_search\"/ f\"final_results_{experience_name}.csv\"\n",
    "    final_results.to_csv(final_filepath, index=False)\n",
    "    \n",
    "    return final_results"
   ]
  },
  {
   "cell_type": "code",
   "execution_count": 15,
   "id": "a2afbfb2",
   "metadata": {},
   "outputs": [],
   "source": [
    "#Experience 1\n",
    "mut_func1 = {block_rotation_mutation:0.1, two_phase_shuffle_mutation: 0.1, semi_shuffle: 0.1}\n",
    "xo_func1 = {cyclic_crossover:0.8, partially_mapped_crossover: 0.8}\n",
    "selection_algo1 = [tournament_selection]#, fitness_proportionate_selection]\n",
    "\n",
    "#Experience 2\n",
    "mut_func2 = {block_rotation_mutation:0.2, two_phase_shuffle_mutation: 0.2, semi_shuffle: 0.35}\n",
    "xo_func2 = {cyclic_crossover:0.8, partially_mapped_crossover: 0.8}\n",
    "selection_algo2 = [tournament_selection]"
   ]
  },
  {
   "cell_type": "code",
   "execution_count": 16,
   "id": "a455d480",
   "metadata": {},
   "outputs": [
    {
     "data": {
      "application/vnd.jupyter.widget-view+json": {
       "model_id": "b151c0e7b48f458c84f892dbaf8d833a",
       "version_major": 2,
       "version_minor": 0
      },
      "text/plain": [
       "Generations:   0%|          | 0/2 [00:00<?, ?gen/s]"
      ]
     },
     "metadata": {},
     "output_type": "display_data"
    },
    {
     "data": {
      "application/vnd.jupyter.widget-view+json": {
       "model_id": "cbdedb9cfa584c97b172921ce32521e6",
       "version_major": 2,
       "version_minor": 0
      },
      "text/plain": [
       "Gen  1:   0%|          | 0/5 [00:00<?, ?ind/s]"
      ]
     },
     "metadata": {},
     "output_type": "display_data"
    },
    {
     "data": {
      "application/vnd.jupyter.widget-view+json": {
       "model_id": "26340ea89ec947b49185c521d2309020",
       "version_major": 2,
       "version_minor": 0
      },
      "text/plain": [
       "Generations:   0%|          | 0/2 [00:00<?, ?gen/s]"
      ]
     },
     "metadata": {},
     "output_type": "display_data"
    },
    {
     "data": {
      "application/vnd.jupyter.widget-view+json": {
       "model_id": "cdf40524756145d18b683cde6550d5c1",
       "version_major": 2,
       "version_minor": 0
      },
      "text/plain": [
       "Gen  1:   0%|          | 0/5 [00:00<?, ?ind/s]"
      ]
     },
     "metadata": {},
     "output_type": "display_data"
    },
    {
     "data": {
      "application/vnd.jupyter.widget-view+json": {
       "model_id": "4489d717c5594620b08de3d3ca3f8c6d",
       "version_major": 2,
       "version_minor": 0
      },
      "text/plain": [
       "Generations:   0%|          | 0/2 [00:00<?, ?gen/s]"
      ]
     },
     "metadata": {},
     "output_type": "display_data"
    },
    {
     "data": {
      "application/vnd.jupyter.widget-view+json": {
       "model_id": "b8238c0331c840e8a44394382a1bd110",
       "version_major": 2,
       "version_minor": 0
      },
      "text/plain": [
       "Gen  1:   0%|          | 0/5 [00:00<?, ?ind/s]"
      ]
     },
     "metadata": {},
     "output_type": "display_data"
    },
    {
     "data": {
      "application/vnd.jupyter.widget-view+json": {
       "model_id": "5520c1759a1f48ecb3f0f19bdc01b4e2",
       "version_major": 2,
       "version_minor": 0
      },
      "text/plain": [
       "Generations:   0%|          | 0/2 [00:00<?, ?gen/s]"
      ]
     },
     "metadata": {},
     "output_type": "display_data"
    },
    {
     "data": {
      "application/vnd.jupyter.widget-view+json": {
       "model_id": "a248d82652b74ddcbdb57749f21a017d",
       "version_major": 2,
       "version_minor": 0
      },
      "text/plain": [
       "Gen  1:   0%|          | 0/5 [00:00<?, ?ind/s]"
      ]
     },
     "metadata": {},
     "output_type": "display_data"
    },
    {
     "data": {
      "application/vnd.jupyter.widget-view+json": {
       "model_id": "82debf5f7ee2495d888d2aadb044b137",
       "version_major": 2,
       "version_minor": 0
      },
      "text/plain": [
       "Generations:   0%|          | 0/2 [00:00<?, ?gen/s]"
      ]
     },
     "metadata": {},
     "output_type": "display_data"
    },
    {
     "data": {
      "application/vnd.jupyter.widget-view+json": {
       "model_id": "716905d2c9954046b15d757dcd7c28cd",
       "version_major": 2,
       "version_minor": 0
      },
      "text/plain": [
       "Gen  1:   0%|          | 0/5 [00:00<?, ?ind/s]"
      ]
     },
     "metadata": {},
     "output_type": "display_data"
    },
    {
     "data": {
      "application/vnd.jupyter.widget-view+json": {
       "model_id": "d9d65d26f50e46b28f5538a172373981",
       "version_major": 2,
       "version_minor": 0
      },
      "text/plain": [
       "Generations:   0%|          | 0/2 [00:00<?, ?gen/s]"
      ]
     },
     "metadata": {},
     "output_type": "display_data"
    },
    {
     "data": {
      "application/vnd.jupyter.widget-view+json": {
       "model_id": "3a1dff841a6d4d8693eb1d3c78539bd7",
       "version_major": 2,
       "version_minor": 0
      },
      "text/plain": [
       "Gen  1:   0%|          | 0/5 [00:00<?, ?ind/s]"
      ]
     },
     "metadata": {},
     "output_type": "display_data"
    },
    {
     "data": {
      "application/vnd.jupyter.widget-view+json": {
       "model_id": "709e8d5223b044b29be4a3b2a109f517",
       "version_major": 2,
       "version_minor": 0
      },
      "text/plain": [
       "Generations:   0%|          | 0/2 [00:00<?, ?gen/s]"
      ]
     },
     "metadata": {},
     "output_type": "display_data"
    },
    {
     "data": {
      "application/vnd.jupyter.widget-view+json": {
       "model_id": "60c97d17a2c44196aabc6025a6ec35f8",
       "version_major": 2,
       "version_minor": 0
      },
      "text/plain": [
       "Gen  1:   0%|          | 0/5 [00:00<?, ?ind/s]"
      ]
     },
     "metadata": {},
     "output_type": "display_data"
    },
    {
     "data": {
      "application/vnd.jupyter.widget-view+json": {
       "model_id": "fc444a6ba01349508cba67fc43b20f94",
       "version_major": 2,
       "version_minor": 0
      },
      "text/plain": [
       "Generations:   0%|          | 0/2 [00:00<?, ?gen/s]"
      ]
     },
     "metadata": {},
     "output_type": "display_data"
    },
    {
     "data": {
      "application/vnd.jupyter.widget-view+json": {
       "model_id": "e0473145af994d8d87c3064c3f16f4a0",
       "version_major": 2,
       "version_minor": 0
      },
      "text/plain": [
       "Gen  1:   0%|          | 0/5 [00:00<?, ?ind/s]"
      ]
     },
     "metadata": {},
     "output_type": "display_data"
    },
    {
     "data": {
      "application/vnd.jupyter.widget-view+json": {
       "model_id": "fb93da859bf64b49a52a778a737bce30",
       "version_major": 2,
       "version_minor": 0
      },
      "text/plain": [
       "Generations:   0%|          | 0/2 [00:00<?, ?gen/s]"
      ]
     },
     "metadata": {},
     "output_type": "display_data"
    },
    {
     "data": {
      "application/vnd.jupyter.widget-view+json": {
       "model_id": "e8e6a8c02ea74ec88199ca52a99b819a",
       "version_major": 2,
       "version_minor": 0
      },
      "text/plain": [
       "Gen  1:   0%|          | 0/5 [00:00<?, ?ind/s]"
      ]
     },
     "metadata": {},
     "output_type": "display_data"
    },
    {
     "data": {
      "application/vnd.jupyter.widget-view+json": {
       "model_id": "a101a76422e14f8eb44477cb493ebd22",
       "version_major": 2,
       "version_minor": 0
      },
      "text/plain": [
       "Generations:   0%|          | 0/2 [00:00<?, ?gen/s]"
      ]
     },
     "metadata": {},
     "output_type": "display_data"
    },
    {
     "data": {
      "application/vnd.jupyter.widget-view+json": {
       "model_id": "788f0de529f3441aa1e5e51f9a24df50",
       "version_major": 2,
       "version_minor": 0
      },
      "text/plain": [
       "Gen  1:   0%|          | 0/5 [00:00<?, ?ind/s]"
      ]
     },
     "metadata": {},
     "output_type": "display_data"
    },
    {
     "data": {
      "application/vnd.jupyter.widget-view+json": {
       "model_id": "7b743817dedb4b83b32d3f0cfc6a928e",
       "version_major": 2,
       "version_minor": 0
      },
      "text/plain": [
       "Generations:   0%|          | 0/2 [00:00<?, ?gen/s]"
      ]
     },
     "metadata": {},
     "output_type": "display_data"
    },
    {
     "data": {
      "application/vnd.jupyter.widget-view+json": {
       "model_id": "71ec457c14f94512ad499ee3bfbf84e4",
       "version_major": 2,
       "version_minor": 0
      },
      "text/plain": [
       "Gen  1:   0%|          | 0/5 [00:00<?, ?ind/s]"
      ]
     },
     "metadata": {},
     "output_type": "display_data"
    },
    {
     "data": {
      "application/vnd.jupyter.widget-view+json": {
       "model_id": "92063267105e4b15a5f1fc5f75e5fd3a",
       "version_major": 2,
       "version_minor": 0
      },
      "text/plain": [
       "Generations:   0%|          | 0/2 [00:00<?, ?gen/s]"
      ]
     },
     "metadata": {},
     "output_type": "display_data"
    },
    {
     "data": {
      "application/vnd.jupyter.widget-view+json": {
       "model_id": "00daa972c23341b59f029fd339254781",
       "version_major": 2,
       "version_minor": 0
      },
      "text/plain": [
       "Gen  1:   0%|          | 0/5 [00:00<?, ?ind/s]"
      ]
     },
     "metadata": {},
     "output_type": "display_data"
    },
    {
     "data": {
      "text/html": [
       "<div>\n",
       "<style scoped>\n",
       "    .dataframe tbody tr th:only-of-type {\n",
       "        vertical-align: middle;\n",
       "    }\n",
       "\n",
       "    .dataframe tbody tr th {\n",
       "        vertical-align: top;\n",
       "    }\n",
       "\n",
       "    .dataframe thead th {\n",
       "        text-align: right;\n",
       "    }\n",
       "</style>\n",
       "<table border=\"1\" class=\"dataframe\">\n",
       "  <thead>\n",
       "    <tr style=\"text-align: right;\">\n",
       "      <th></th>\n",
       "      <th>Combination</th>\n",
       "      <th>Combination ID</th>\n",
       "      <th>Run</th>\n",
       "      <th>Generation</th>\n",
       "      <th>Fitness</th>\n",
       "    </tr>\n",
       "  </thead>\n",
       "  <tbody>\n",
       "    <tr>\n",
       "      <th>0</th>\n",
       "      <td>(block_rotation_mutation, cyclic_crossover, to...</td>\n",
       "      <td>BCT</td>\n",
       "      <td>1</td>\n",
       "      <td>1</td>\n",
       "      <td>1.18157</td>\n",
       "    </tr>\n",
       "    <tr>\n",
       "      <th>1</th>\n",
       "      <td>(block_rotation_mutation, cyclic_crossover, to...</td>\n",
       "      <td>BCT</td>\n",
       "      <td>1</td>\n",
       "      <td>2</td>\n",
       "      <td>1.18157</td>\n",
       "    </tr>\n",
       "    <tr>\n",
       "      <th>2</th>\n",
       "      <td>(block_rotation_mutation, cyclic_crossover, to...</td>\n",
       "      <td>BCT</td>\n",
       "      <td>2</td>\n",
       "      <td>1</td>\n",
       "      <td>1.1609</td>\n",
       "    </tr>\n",
       "    <tr>\n",
       "      <th>3</th>\n",
       "      <td>(block_rotation_mutation, cyclic_crossover, to...</td>\n",
       "      <td>BCT</td>\n",
       "      <td>2</td>\n",
       "      <td>2</td>\n",
       "      <td>1.29443</td>\n",
       "    </tr>\n",
       "    <tr>\n",
       "      <th>4</th>\n",
       "      <td>(block_rotation_mutation, partially_mapped_cro...</td>\n",
       "      <td>BPT</td>\n",
       "      <td>1</td>\n",
       "      <td>1</td>\n",
       "      <td>0.965</td>\n",
       "    </tr>\n",
       "    <tr>\n",
       "      <th>5</th>\n",
       "      <td>(block_rotation_mutation, partially_mapped_cro...</td>\n",
       "      <td>BPT</td>\n",
       "      <td>1</td>\n",
       "      <td>2</td>\n",
       "      <td>1.07629</td>\n",
       "    </tr>\n",
       "    <tr>\n",
       "      <th>6</th>\n",
       "      <td>(block_rotation_mutation, partially_mapped_cro...</td>\n",
       "      <td>BPT</td>\n",
       "      <td>2</td>\n",
       "      <td>1</td>\n",
       "      <td>1.10829</td>\n",
       "    </tr>\n",
       "    <tr>\n",
       "      <th>7</th>\n",
       "      <td>(block_rotation_mutation, partially_mapped_cro...</td>\n",
       "      <td>BPT</td>\n",
       "      <td>2</td>\n",
       "      <td>2</td>\n",
       "      <td>1.10829</td>\n",
       "    </tr>\n",
       "    <tr>\n",
       "      <th>8</th>\n",
       "      <td>(two_phase_shuffle_mutation, cyclic_crossover,...</td>\n",
       "      <td>TCT</td>\n",
       "      <td>1</td>\n",
       "      <td>1</td>\n",
       "      <td>1.10743</td>\n",
       "    </tr>\n",
       "    <tr>\n",
       "      <th>9</th>\n",
       "      <td>(two_phase_shuffle_mutation, cyclic_crossover,...</td>\n",
       "      <td>TCT</td>\n",
       "      <td>1</td>\n",
       "      <td>2</td>\n",
       "      <td>1.16738</td>\n",
       "    </tr>\n",
       "    <tr>\n",
       "      <th>10</th>\n",
       "      <td>(two_phase_shuffle_mutation, cyclic_crossover,...</td>\n",
       "      <td>TCT</td>\n",
       "      <td>2</td>\n",
       "      <td>1</td>\n",
       "      <td>1.10762</td>\n",
       "    </tr>\n",
       "    <tr>\n",
       "      <th>11</th>\n",
       "      <td>(two_phase_shuffle_mutation, cyclic_crossover,...</td>\n",
       "      <td>TCT</td>\n",
       "      <td>2</td>\n",
       "      <td>2</td>\n",
       "      <td>1.10762</td>\n",
       "    </tr>\n",
       "    <tr>\n",
       "      <th>12</th>\n",
       "      <td>(two_phase_shuffle_mutation, partially_mapped_...</td>\n",
       "      <td>TPT</td>\n",
       "      <td>1</td>\n",
       "      <td>1</td>\n",
       "      <td>1.2329</td>\n",
       "    </tr>\n",
       "    <tr>\n",
       "      <th>13</th>\n",
       "      <td>(two_phase_shuffle_mutation, partially_mapped_...</td>\n",
       "      <td>TPT</td>\n",
       "      <td>1</td>\n",
       "      <td>2</td>\n",
       "      <td>1.2329</td>\n",
       "    </tr>\n",
       "    <tr>\n",
       "      <th>14</th>\n",
       "      <td>(two_phase_shuffle_mutation, partially_mapped_...</td>\n",
       "      <td>TPT</td>\n",
       "      <td>2</td>\n",
       "      <td>1</td>\n",
       "      <td>1.036</td>\n",
       "    </tr>\n",
       "    <tr>\n",
       "      <th>15</th>\n",
       "      <td>(two_phase_shuffle_mutation, partially_mapped_...</td>\n",
       "      <td>TPT</td>\n",
       "      <td>2</td>\n",
       "      <td>2</td>\n",
       "      <td>1.10267</td>\n",
       "    </tr>\n",
       "    <tr>\n",
       "      <th>16</th>\n",
       "      <td>(semi_shuffle, cyclic_crossover, tournament_se...</td>\n",
       "      <td>SCT</td>\n",
       "      <td>1</td>\n",
       "      <td>1</td>\n",
       "      <td>1.20943</td>\n",
       "    </tr>\n",
       "    <tr>\n",
       "      <th>17</th>\n",
       "      <td>(semi_shuffle, cyclic_crossover, tournament_se...</td>\n",
       "      <td>SCT</td>\n",
       "      <td>1</td>\n",
       "      <td>2</td>\n",
       "      <td>1.20943</td>\n",
       "    </tr>\n",
       "    <tr>\n",
       "      <th>18</th>\n",
       "      <td>(semi_shuffle, cyclic_crossover, tournament_se...</td>\n",
       "      <td>SCT</td>\n",
       "      <td>2</td>\n",
       "      <td>1</td>\n",
       "      <td>1.08667</td>\n",
       "    </tr>\n",
       "    <tr>\n",
       "      <th>19</th>\n",
       "      <td>(semi_shuffle, cyclic_crossover, tournament_se...</td>\n",
       "      <td>SCT</td>\n",
       "      <td>2</td>\n",
       "      <td>2</td>\n",
       "      <td>1.08667</td>\n",
       "    </tr>\n",
       "    <tr>\n",
       "      <th>20</th>\n",
       "      <td>(semi_shuffle, partially_mapped_crossover, tou...</td>\n",
       "      <td>SPT</td>\n",
       "      <td>1</td>\n",
       "      <td>1</td>\n",
       "      <td>1.14662</td>\n",
       "    </tr>\n",
       "    <tr>\n",
       "      <th>21</th>\n",
       "      <td>(semi_shuffle, partially_mapped_crossover, tou...</td>\n",
       "      <td>SPT</td>\n",
       "      <td>1</td>\n",
       "      <td>2</td>\n",
       "      <td>1.14662</td>\n",
       "    </tr>\n",
       "    <tr>\n",
       "      <th>22</th>\n",
       "      <td>(semi_shuffle, partially_mapped_crossover, tou...</td>\n",
       "      <td>SPT</td>\n",
       "      <td>2</td>\n",
       "      <td>1</td>\n",
       "      <td>1.11447</td>\n",
       "    </tr>\n",
       "    <tr>\n",
       "      <th>23</th>\n",
       "      <td>(semi_shuffle, partially_mapped_crossover, tou...</td>\n",
       "      <td>SPT</td>\n",
       "      <td>2</td>\n",
       "      <td>2</td>\n",
       "      <td>1.11447</td>\n",
       "    </tr>\n",
       "  </tbody>\n",
       "</table>\n",
       "</div>"
      ],
      "text/plain": [
       "                                          Combination Combination ID  Run  \\\n",
       "0   (block_rotation_mutation, cyclic_crossover, to...            BCT    1   \n",
       "1   (block_rotation_mutation, cyclic_crossover, to...            BCT    1   \n",
       "2   (block_rotation_mutation, cyclic_crossover, to...            BCT    2   \n",
       "3   (block_rotation_mutation, cyclic_crossover, to...            BCT    2   \n",
       "4   (block_rotation_mutation, partially_mapped_cro...            BPT    1   \n",
       "5   (block_rotation_mutation, partially_mapped_cro...            BPT    1   \n",
       "6   (block_rotation_mutation, partially_mapped_cro...            BPT    2   \n",
       "7   (block_rotation_mutation, partially_mapped_cro...            BPT    2   \n",
       "8   (two_phase_shuffle_mutation, cyclic_crossover,...            TCT    1   \n",
       "9   (two_phase_shuffle_mutation, cyclic_crossover,...            TCT    1   \n",
       "10  (two_phase_shuffle_mutation, cyclic_crossover,...            TCT    2   \n",
       "11  (two_phase_shuffle_mutation, cyclic_crossover,...            TCT    2   \n",
       "12  (two_phase_shuffle_mutation, partially_mapped_...            TPT    1   \n",
       "13  (two_phase_shuffle_mutation, partially_mapped_...            TPT    1   \n",
       "14  (two_phase_shuffle_mutation, partially_mapped_...            TPT    2   \n",
       "15  (two_phase_shuffle_mutation, partially_mapped_...            TPT    2   \n",
       "16  (semi_shuffle, cyclic_crossover, tournament_se...            SCT    1   \n",
       "17  (semi_shuffle, cyclic_crossover, tournament_se...            SCT    1   \n",
       "18  (semi_shuffle, cyclic_crossover, tournament_se...            SCT    2   \n",
       "19  (semi_shuffle, cyclic_crossover, tournament_se...            SCT    2   \n",
       "20  (semi_shuffle, partially_mapped_crossover, tou...            SPT    1   \n",
       "21  (semi_shuffle, partially_mapped_crossover, tou...            SPT    1   \n",
       "22  (semi_shuffle, partially_mapped_crossover, tou...            SPT    2   \n",
       "23  (semi_shuffle, partially_mapped_crossover, tou...            SPT    2   \n",
       "\n",
       "   Generation  Fitness  \n",
       "0           1  1.18157  \n",
       "1           2  1.18157  \n",
       "2           1   1.1609  \n",
       "3           2  1.29443  \n",
       "4           1    0.965  \n",
       "5           2  1.07629  \n",
       "6           1  1.10829  \n",
       "7           2  1.10829  \n",
       "8           1  1.10743  \n",
       "9           2  1.16738  \n",
       "10          1  1.10762  \n",
       "11          2  1.10762  \n",
       "12          1   1.2329  \n",
       "13          2   1.2329  \n",
       "14          1    1.036  \n",
       "15          2  1.10267  \n",
       "16          1  1.20943  \n",
       "17          2  1.20943  \n",
       "18          1  1.08667  \n",
       "19          2  1.08667  \n",
       "20          1  1.14662  \n",
       "21          2  1.14662  \n",
       "22          1  1.11447  \n",
       "23          2  1.11447  "
      ]
     },
     "execution_count": 16,
     "metadata": {},
     "output_type": "execute_result"
    }
   ],
   "source": [
    "#experimentar 1ª com poucas runs e poucas gen e pop baixa para ver se corre tudo bem\n",
    "comb_tuning(experience_name='exp1', mut_func = mut_func1, xo_func = xo_func1, selection_algo=selection_algo1,\n",
    "            n_runs=2, max_gen=2, pop_size=5) #30 runs, max_gen = 100, pop_size = 100 "
   ]
  },
  {
   "cell_type": "code",
   "execution_count": 76,
   "id": "b6ef89c4",
   "metadata": {},
   "outputs": [
    {
     "data": {
      "text/html": [
       "<div>\n",
       "<style scoped>\n",
       "    .dataframe tbody tr th:only-of-type {\n",
       "        vertical-align: middle;\n",
       "    }\n",
       "\n",
       "    .dataframe tbody tr th {\n",
       "        vertical-align: top;\n",
       "    }\n",
       "\n",
       "    .dataframe thead th {\n",
       "        text-align: right;\n",
       "    }\n",
       "</style>\n",
       "<table border=\"1\" class=\"dataframe\">\n",
       "  <thead>\n",
       "    <tr style=\"text-align: right;\">\n",
       "      <th></th>\n",
       "      <th>Combination</th>\n",
       "      <th>Run</th>\n",
       "      <th>Generation</th>\n",
       "      <th>Fitness</th>\n",
       "    </tr>\n",
       "  </thead>\n",
       "  <tbody>\n",
       "    <tr>\n",
       "      <th>0</th>\n",
       "      <td>('block_rotation_mutation', 'cyclic_crossover'...</td>\n",
       "      <td>1</td>\n",
       "      <td>1</td>\n",
       "      <td>1.10433</td>\n",
       "    </tr>\n",
       "    <tr>\n",
       "      <th>1</th>\n",
       "      <td>('block_rotation_mutation', 'cyclic_crossover'...</td>\n",
       "      <td>1</td>\n",
       "      <td>2</td>\n",
       "      <td>1.13724</td>\n",
       "    </tr>\n",
       "    <tr>\n",
       "      <th>2</th>\n",
       "      <td>('block_rotation_mutation', 'cyclic_crossover'...</td>\n",
       "      <td>2</td>\n",
       "      <td>1</td>\n",
       "      <td>1.03710</td>\n",
       "    </tr>\n",
       "    <tr>\n",
       "      <th>3</th>\n",
       "      <td>('block_rotation_mutation', 'cyclic_crossover'...</td>\n",
       "      <td>2</td>\n",
       "      <td>2</td>\n",
       "      <td>1.03710</td>\n",
       "    </tr>\n",
       "    <tr>\n",
       "      <th>4</th>\n",
       "      <td>('block_rotation_mutation', 'custom_pmxo', 'to...</td>\n",
       "      <td>1</td>\n",
       "      <td>1</td>\n",
       "      <td>1.11533</td>\n",
       "    </tr>\n",
       "    <tr>\n",
       "      <th>5</th>\n",
       "      <td>('block_rotation_mutation', 'custom_pmxo', 'to...</td>\n",
       "      <td>1</td>\n",
       "      <td>2</td>\n",
       "      <td>1.11533</td>\n",
       "    </tr>\n",
       "    <tr>\n",
       "      <th>6</th>\n",
       "      <td>('block_rotation_mutation', 'custom_pmxo', 'to...</td>\n",
       "      <td>2</td>\n",
       "      <td>1</td>\n",
       "      <td>1.21196</td>\n",
       "    </tr>\n",
       "    <tr>\n",
       "      <th>7</th>\n",
       "      <td>('block_rotation_mutation', 'custom_pmxo', 'to...</td>\n",
       "      <td>2</td>\n",
       "      <td>2</td>\n",
       "      <td>1.21496</td>\n",
       "    </tr>\n",
       "    <tr>\n",
       "      <th>8</th>\n",
       "      <td>('two_phase_shuffle_mutation', 'cyclic_crossov...</td>\n",
       "      <td>1</td>\n",
       "      <td>1</td>\n",
       "      <td>1.09662</td>\n",
       "    </tr>\n",
       "    <tr>\n",
       "      <th>9</th>\n",
       "      <td>('two_phase_shuffle_mutation', 'cyclic_crossov...</td>\n",
       "      <td>1</td>\n",
       "      <td>2</td>\n",
       "      <td>1.16371</td>\n",
       "    </tr>\n",
       "    <tr>\n",
       "      <th>10</th>\n",
       "      <td>('two_phase_shuffle_mutation', 'cyclic_crossov...</td>\n",
       "      <td>2</td>\n",
       "      <td>1</td>\n",
       "      <td>1.14447</td>\n",
       "    </tr>\n",
       "    <tr>\n",
       "      <th>11</th>\n",
       "      <td>('two_phase_shuffle_mutation', 'cyclic_crossov...</td>\n",
       "      <td>2</td>\n",
       "      <td>2</td>\n",
       "      <td>1.14447</td>\n",
       "    </tr>\n",
       "    <tr>\n",
       "      <th>12</th>\n",
       "      <td>('two_phase_shuffle_mutation', 'custom_pmxo', ...</td>\n",
       "      <td>1</td>\n",
       "      <td>1</td>\n",
       "      <td>1.08290</td>\n",
       "    </tr>\n",
       "    <tr>\n",
       "      <th>13</th>\n",
       "      <td>('two_phase_shuffle_mutation', 'custom_pmxo', ...</td>\n",
       "      <td>1</td>\n",
       "      <td>2</td>\n",
       "      <td>1.20562</td>\n",
       "    </tr>\n",
       "    <tr>\n",
       "      <th>14</th>\n",
       "      <td>('two_phase_shuffle_mutation', 'custom_pmxo', ...</td>\n",
       "      <td>2</td>\n",
       "      <td>1</td>\n",
       "      <td>1.16790</td>\n",
       "    </tr>\n",
       "    <tr>\n",
       "      <th>15</th>\n",
       "      <td>('two_phase_shuffle_mutation', 'custom_pmxo', ...</td>\n",
       "      <td>2</td>\n",
       "      <td>2</td>\n",
       "      <td>1.24704</td>\n",
       "    </tr>\n",
       "    <tr>\n",
       "      <th>16</th>\n",
       "      <td>('semi_shuffle', 'cyclic_crossover', 'tourname...</td>\n",
       "      <td>1</td>\n",
       "      <td>1</td>\n",
       "      <td>1.13104</td>\n",
       "    </tr>\n",
       "    <tr>\n",
       "      <th>17</th>\n",
       "      <td>('semi_shuffle', 'cyclic_crossover', 'tourname...</td>\n",
       "      <td>1</td>\n",
       "      <td>2</td>\n",
       "      <td>1.13104</td>\n",
       "    </tr>\n",
       "    <tr>\n",
       "      <th>18</th>\n",
       "      <td>('semi_shuffle', 'cyclic_crossover', 'tourname...</td>\n",
       "      <td>2</td>\n",
       "      <td>1</td>\n",
       "      <td>1.06233</td>\n",
       "    </tr>\n",
       "    <tr>\n",
       "      <th>19</th>\n",
       "      <td>('semi_shuffle', 'cyclic_crossover', 'tourname...</td>\n",
       "      <td>2</td>\n",
       "      <td>2</td>\n",
       "      <td>1.06233</td>\n",
       "    </tr>\n",
       "    <tr>\n",
       "      <th>20</th>\n",
       "      <td>('semi_shuffle', 'custom_pmxo', 'tournament_se...</td>\n",
       "      <td>1</td>\n",
       "      <td>1</td>\n",
       "      <td>1.17819</td>\n",
       "    </tr>\n",
       "    <tr>\n",
       "      <th>21</th>\n",
       "      <td>('semi_shuffle', 'custom_pmxo', 'tournament_se...</td>\n",
       "      <td>1</td>\n",
       "      <td>2</td>\n",
       "      <td>1.17819</td>\n",
       "    </tr>\n",
       "    <tr>\n",
       "      <th>22</th>\n",
       "      <td>('semi_shuffle', 'custom_pmxo', 'tournament_se...</td>\n",
       "      <td>2</td>\n",
       "      <td>1</td>\n",
       "      <td>1.29596</td>\n",
       "    </tr>\n",
       "    <tr>\n",
       "      <th>23</th>\n",
       "      <td>('semi_shuffle', 'custom_pmxo', 'tournament_se...</td>\n",
       "      <td>2</td>\n",
       "      <td>2</td>\n",
       "      <td>1.29596</td>\n",
       "    </tr>\n",
       "  </tbody>\n",
       "</table>\n",
       "</div>"
      ],
      "text/plain": [
       "                                          Combination  Run  Generation  \\\n",
       "0   ('block_rotation_mutation', 'cyclic_crossover'...    1           1   \n",
       "1   ('block_rotation_mutation', 'cyclic_crossover'...    1           2   \n",
       "2   ('block_rotation_mutation', 'cyclic_crossover'...    2           1   \n",
       "3   ('block_rotation_mutation', 'cyclic_crossover'...    2           2   \n",
       "4   ('block_rotation_mutation', 'custom_pmxo', 'to...    1           1   \n",
       "5   ('block_rotation_mutation', 'custom_pmxo', 'to...    1           2   \n",
       "6   ('block_rotation_mutation', 'custom_pmxo', 'to...    2           1   \n",
       "7   ('block_rotation_mutation', 'custom_pmxo', 'to...    2           2   \n",
       "8   ('two_phase_shuffle_mutation', 'cyclic_crossov...    1           1   \n",
       "9   ('two_phase_shuffle_mutation', 'cyclic_crossov...    1           2   \n",
       "10  ('two_phase_shuffle_mutation', 'cyclic_crossov...    2           1   \n",
       "11  ('two_phase_shuffle_mutation', 'cyclic_crossov...    2           2   \n",
       "12  ('two_phase_shuffle_mutation', 'custom_pmxo', ...    1           1   \n",
       "13  ('two_phase_shuffle_mutation', 'custom_pmxo', ...    1           2   \n",
       "14  ('two_phase_shuffle_mutation', 'custom_pmxo', ...    2           1   \n",
       "15  ('two_phase_shuffle_mutation', 'custom_pmxo', ...    2           2   \n",
       "16  ('semi_shuffle', 'cyclic_crossover', 'tourname...    1           1   \n",
       "17  ('semi_shuffle', 'cyclic_crossover', 'tourname...    1           2   \n",
       "18  ('semi_shuffle', 'cyclic_crossover', 'tourname...    2           1   \n",
       "19  ('semi_shuffle', 'cyclic_crossover', 'tourname...    2           2   \n",
       "20  ('semi_shuffle', 'custom_pmxo', 'tournament_se...    1           1   \n",
       "21  ('semi_shuffle', 'custom_pmxo', 'tournament_se...    1           2   \n",
       "22  ('semi_shuffle', 'custom_pmxo', 'tournament_se...    2           1   \n",
       "23  ('semi_shuffle', 'custom_pmxo', 'tournament_se...    2           2   \n",
       "\n",
       "    Fitness  \n",
       "0   1.10433  \n",
       "1   1.13724  \n",
       "2   1.03710  \n",
       "3   1.03710  \n",
       "4   1.11533  \n",
       "5   1.11533  \n",
       "6   1.21196  \n",
       "7   1.21496  \n",
       "8   1.09662  \n",
       "9   1.16371  \n",
       "10  1.14447  \n",
       "11  1.14447  \n",
       "12  1.08290  \n",
       "13  1.20562  \n",
       "14  1.16790  \n",
       "15  1.24704  \n",
       "16  1.13104  \n",
       "17  1.13104  \n",
       "18  1.06233  \n",
       "19  1.06233  \n",
       "20  1.17819  \n",
       "21  1.17819  \n",
       "22  1.29596  \n",
       "23  1.29596  "
      ]
     },
     "execution_count": 76,
     "metadata": {},
     "output_type": "execute_result"
    }
   ],
   "source": [
    "results = pd.read_csv(HERE.parent /'combination_search' /'final_results.csv')\n",
    "results"
   ]
  },
  {
   "cell_type": "code",
   "execution_count": 65,
   "id": "110859e0",
   "metadata": {},
   "outputs": [
    {
     "data": {
      "text/plain": [
       "array([\"('block_rotation_mutation', 'cyclic_crossover', 'tournament_selection')\",\n",
       "       \"('block_rotation_mutation', 'cyclic_crossover', 'fitness_proportionate_selection')\",\n",
       "       \"('block_rotation_mutation', 'custom_pmxo', 'tournament_selection')\",\n",
       "       \"('block_rotation_mutation', 'custom_pmxo', 'fitness_proportionate_selection')\",\n",
       "       \"('two_phase_shuffle_mutation', 'cyclic_crossover', 'tournament_selection')\",\n",
       "       \"('two_phase_shuffle_mutation', 'cyclic_crossover', 'fitness_proportionate_selection')\",\n",
       "       \"('two_phase_shuffle_mutation', 'custom_pmxo', 'tournament_selection')\",\n",
       "       \"('two_phase_shuffle_mutation', 'custom_pmxo', 'fitness_proportionate_selection')\",\n",
       "       \"('semi_shuffle', 'cyclic_crossover', 'tournament_selection')\",\n",
       "       \"('semi_shuffle', 'cyclic_crossover', 'fitness_proportionate_selection')\",\n",
       "       \"('semi_shuffle', 'custom_pmxo', 'tournament_selection')\",\n",
       "       \"('semi_shuffle', 'custom_pmxo', 'fitness_proportionate_selection')\"],\n",
       "      dtype=object)"
      ]
     },
     "execution_count": 65,
     "metadata": {},
     "output_type": "execute_result"
    }
   ],
   "source": [
    "results['Combination'].unique()\n",
    "#len(results['Combination'].unique())"
   ]
  }
 ],
 "metadata": {
  "kernelspec": {
   "display_name": ".venv",
   "language": "python",
   "name": "python3"
  },
  "language_info": {
   "codemirror_mode": {
    "name": "ipython",
    "version": 3
   },
   "file_extension": ".py",
   "mimetype": "text/x-python",
   "name": "python",
   "nbconvert_exporter": "python",
   "pygments_lexer": "ipython3",
   "version": "3.13.1"
  }
 },
 "nbformat": 4,
 "nbformat_minor": 5
}
