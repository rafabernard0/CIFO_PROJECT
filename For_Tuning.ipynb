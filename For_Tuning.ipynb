{
 "cells": [
  {
   "cell_type": "markdown",
   "id": "74453fc2",
   "metadata": {},
   "source": [
    "Applying Optimization and Grid Search"
   ]
  },
  {
   "cell_type": "code",
   "execution_count": 1,
   "id": "a2227188",
   "metadata": {},
   "outputs": [],
   "source": [
    "#imports\n",
    "import itertools\n",
    "import pandas as pd\n",
    "#from library.algorithms.genetic_algorithms.algorithm import genetic_algorithm\n",
    "from library_group.ours_genetic_algo_func import genetic_algorithm, get_best_ind\n",
    "from library_group.lineup import LUGASolution\n",
    "from library_group.mutation_funcs import block_rotation_mutation, two_phase_shuffle_mutation, semi_shuffle\n",
    "from library_group.xo_funcs import cyclic_crossover, custom_pmxo\n",
    "\n",
    "#Line-up Problem: Datasets\n",
    "from library_group.lineup import artists_df, conflicts_df\n",
    "\n",
    "#from library_group.\n",
    "from library.algorithms.genetic_algorithms.selection import fitness_proportionate_selection #NÃO PODEMOS USAR ERA SÓ PARA EXEMPLO"
   ]
  },
  {
   "cell_type": "code",
   "execution_count": 2,
   "id": "10ea3d59",
   "metadata": {},
   "outputs": [
    {
     "name": "stdout",
     "output_type": "stream",
     "text": [
      "INFO: Casting representation elements to integers.\n",
      "DEBUG: Your repr has been validated\n",
      "INFO: Casting representation elements to integers.\n",
      "DEBUG: Your repr has been validated\n",
      "DEBUG: Your repr has been validated\n",
      "DEBUG: Your repr has been validated\n",
      "INFO: Casting representation elements to integers.\n",
      "DEBUG: Your repr has been validated\n",
      "INFO: Casting representation elements to integers.\n",
      "DEBUG: Your repr has been validated\n",
      "DEBUG: Your repr has been validated\n",
      "DEBUG: Your repr has been validated\n",
      "INFO: Casting representation elements to integers.\n",
      "DEBUG: Your repr has been validated\n",
      "INFO: Casting representation elements to integers.\n",
      "DEBUG: Your repr has been validated\n",
      "DEBUG: Your repr has been validated\n",
      "DEBUG: Your repr has been validated\n",
      "INFO: Casting representation elements to integers.\n",
      "DEBUG: Your repr has been validated\n",
      "INFO: Casting representation elements to integers.\n",
      "DEBUG: Your repr has been validated\n",
      "DEBUG: Your repr has been validated\n",
      "DEBUG: Your repr has been validated\n",
      "INFO: Casting representation elements to integers.\n",
      "DEBUG: Your repr has been validated\n",
      "INFO: Casting representation elements to integers.\n",
      "DEBUG: Your repr has been validated\n",
      "DEBUG: Your repr has been validated\n",
      "DEBUG: Your repr has been validated\n",
      "DEBUG: Your repr has been validated\n"
     ]
    },
    {
     "ename": "IndexError",
     "evalue": "index 0 is out of bounds for axis 0 with size 0",
     "output_type": "error",
     "traceback": [
      "\u001b[1;31m---------------------------------------------------------------------------\u001b[0m",
      "\u001b[1;31mIndexError\u001b[0m                                Traceback (most recent call last)",
      "Cell \u001b[1;32mIn[2], line 7\u001b[0m\n\u001b[0;32m      1\u001b[0m POP_SIZE \u001b[38;5;241m=\u001b[39m \u001b[38;5;241m10\u001b[39m\n\u001b[0;32m      3\u001b[0m initial_population \u001b[38;5;241m=\u001b[39m [LUGASolution(mutation_function \u001b[38;5;241m=\u001b[39m block_rotation_mutation, crossover_function \u001b[38;5;241m=\u001b[39m cyclic_crossover\n\u001b[0;32m      4\u001b[0m                                    )\n\u001b[0;32m      5\u001b[0m                       \u001b[38;5;28;01mfor\u001b[39;00m i \u001b[38;5;129;01min\u001b[39;00m \u001b[38;5;28mrange\u001b[39m(POP_SIZE)]\n\u001b[1;32m----> 7\u001b[0m genetic_algorithm(initial_population\u001b[38;5;241m=\u001b[39minitial_population,\n\u001b[0;32m      8\u001b[0m                   max_gen\u001b[38;5;241m=\u001b[39m\u001b[38;5;241m100\u001b[39m,\n\u001b[0;32m      9\u001b[0m                   selection_algorithm \u001b[38;5;241m=\u001b[39m fitness_proportionate_selection,\n\u001b[0;32m     10\u001b[0m                   maximization\u001b[38;5;241m=\u001b[39m\u001b[38;5;28;01mTrue\u001b[39;00m,\n\u001b[0;32m     11\u001b[0m                   xo_prob\u001b[38;5;241m=\u001b[39m\u001b[38;5;241m0.8\u001b[39m,\n\u001b[0;32m     12\u001b[0m                   mut_prob\u001b[38;5;241m=\u001b[39m\u001b[38;5;241m1\u001b[39m,\n\u001b[0;32m     13\u001b[0m                   elitism\u001b[38;5;241m=\u001b[39m\u001b[38;5;28;01mTrue\u001b[39;00m,\n\u001b[0;32m     14\u001b[0m                   verbose\u001b[38;5;241m=\u001b[39m\u001b[38;5;28;01mFalse\u001b[39;00m)\n",
      "File \u001b[1;32mc:\\Users\\irism\\OneDrive - NOVAIMS\\Msc-CIFO\\CIFO_PROJECT\\library_group\\ours_genetic_algo_func.py:74\u001b[0m, in \u001b[0;36mgenetic_algorithm\u001b[1;34m(initial_population, max_gen, selection_algorithm, maximization, xo_prob, mut_prob, elitism, verbose)\u001b[0m\n\u001b[0;32m     71\u001b[0m \u001b[38;5;66;03m# 2.3.2. Choose an operator between crossover and replication\u001b[39;00m\n\u001b[0;32m     72\u001b[0m \u001b[38;5;66;03m# 2.3.3. Apply the operator to generate the offspring\u001b[39;00m\n\u001b[0;32m     73\u001b[0m \u001b[38;5;28;01mif\u001b[39;00m random\u001b[38;5;241m.\u001b[39mrandom() \u001b[38;5;241m<\u001b[39m xo_prob:\n\u001b[1;32m---> 74\u001b[0m     offspring1_repr, offspring2_repr \u001b[38;5;241m=\u001b[39m first_ind\u001b[38;5;241m.\u001b[39mcrossover(second_ind)\n\u001b[0;32m     75\u001b[0m     \u001b[38;5;28;01mif\u001b[39;00m verbose:\n\u001b[0;32m     76\u001b[0m         \u001b[38;5;28mprint\u001b[39m(\u001b[38;5;124mf\u001b[39m\u001b[38;5;124m\"\u001b[39m\u001b[38;5;124mApplied crossover\u001b[39m\u001b[38;5;124m\"\u001b[39m)\n",
      "File \u001b[1;32mc:\\Users\\irism\\OneDrive - NOVAIMS\\Msc-CIFO\\CIFO_PROJECT\\library_group\\lineup.py:388\u001b[0m, in \u001b[0;36mLUGASolution.crossover\u001b[1;34m(self, other_solution)\u001b[0m\n\u001b[0;32m    387\u001b[0m \u001b[38;5;28;01mdef\u001b[39;00m \u001b[38;5;21mcrossover\u001b[39m(\u001b[38;5;28mself\u001b[39m, other_solution):\n\u001b[1;32m--> 388\u001b[0m     offspring1_repr, offspring2_repr \u001b[38;5;241m=\u001b[39m \u001b[38;5;28mself\u001b[39m\u001b[38;5;241m.\u001b[39mcrossover_function(\n\u001b[0;32m    389\u001b[0m         \u001b[38;5;28mself\u001b[39m\u001b[38;5;241m.\u001b[39mrepr, other_solution\u001b[38;5;241m.\u001b[39mrepr\n\u001b[0;32m    390\u001b[0m     )\n\u001b[0;32m    392\u001b[0m     \u001b[38;5;28;01mreturn\u001b[39;00m (\n\u001b[0;32m    393\u001b[0m         LUGASolution(\n\u001b[0;32m    394\u001b[0m             \u001b[38;5;28mrepr\u001b[39m\u001b[38;5;241m=\u001b[39moffspring1_repr,\n\u001b[1;32m   (...)\u001b[0m\n\u001b[0;32m    410\u001b[0m         ),\n\u001b[0;32m    411\u001b[0m     )\n",
      "File \u001b[1;32mc:\\Users\\irism\\OneDrive - NOVAIMS\\Msc-CIFO\\CIFO_PROJECT\\library_group\\xo_funcs.py:14\u001b[0m, in \u001b[0;36mcyclic_crossover\u001b[1;34m(parent1_repr, parent2_repr)\u001b[0m\n\u001b[0;32m     12\u001b[0m \u001b[38;5;28;01mwhile\u001b[39;00m \u001b[38;5;28;01mTrue\u001b[39;00m:\n\u001b[0;32m     13\u001b[0m     value_parent2 \u001b[38;5;241m=\u001b[39m parent2_repr[current_cycle_idx[\u001b[38;5;241m0\u001b[39m], current_cycle_idx[\u001b[38;5;241m1\u001b[39m]]\n\u001b[1;32m---> 14\u001b[0m     next_cycle_idx \u001b[38;5;241m=\u001b[39m [np\u001b[38;5;241m.\u001b[39mwhere(parent1_repr\u001b[38;5;241m==\u001b[39mvalue_parent2)[\u001b[38;5;241m0\u001b[39m][\u001b[38;5;241m0\u001b[39m], np\u001b[38;5;241m.\u001b[39mwhere(parent1_repr\u001b[38;5;241m==\u001b[39mvalue_parent2)[\u001b[38;5;241m1\u001b[39m][\u001b[38;5;241m0\u001b[39m]]\n\u001b[0;32m     15\u001b[0m     \u001b[38;5;28;01mif\u001b[39;00m next_cycle_idx \u001b[38;5;129;01min\u001b[39;00m cycle_idxs:\n\u001b[0;32m     16\u001b[0m         \u001b[38;5;28;01mbreak\u001b[39;00m\n",
      "\u001b[1;31mIndexError\u001b[0m: index 0 is out of bounds for axis 0 with size 0"
     ]
    }
   ],
   "source": [
    "POP_SIZE = 10\n",
    "\n",
    "initial_population = [LUGASolution(mutation_function = block_rotation_mutation, crossover_function = cyclic_crossover\n",
    "                                   )\n",
    "                      for i in range(POP_SIZE)]\n",
    "\n",
    "genetic_algorithm(initial_population=initial_population,\n",
    "                  max_gen=100,\n",
    "                  selection_algorithm = fitness_proportionate_selection,\n",
    "                  maximization=True,\n",
    "                  xo_prob=0.8,\n",
    "                  mut_prob=1,\n",
    "                  elitism=True,\n",
    "                  verbose=False)\n",
    "\n",
    "#get_best_ind(initial_population, maximization=True)"
   ]
  },
  {
   "cell_type": "code",
   "execution_count": null,
   "id": "bc85a776",
   "metadata": {},
   "outputs": [],
   "source": [
    "def comb_tuning(mut_func: dict, xo_func: dict, selection_algo: list,\n",
    "                n_runs: int = 30, max_gen:int = 100, pop_size: int = 50):\n",
    "    \n",
    "    \"\"\"\n",
    "    Returns a DataFrame with the following columns:\n",
    "    - 'Combination' - Combination tuple of a mutation, a crossover and a selection algorithm\n",
    "    - 'Run' - Each Combination is runned a specified amount of times, this column specifies the run \n",
    "    number in which the results were obtained.\n",
    "    - 'Generation' - Each Run is composed of a specified amount of generations, this column specifies the \n",
    "    generation number in which the results were obtained.\n",
    "    - 'Best Fitness' - This is the best fitness obtained at each generation.\n",
    "\n",
    "    Purpose:\n",
    "    With this df we can play around inter-run and intra-run statistics, since it contains \n",
    "    all the results from the various combinations\n",
    "    \"\"\"\n",
    "\n",
    "    combinations = list(itertools.product(list(mut_func.keys()), list(xo_func.keys()), selection_algo))\n",
    "\n",
    "    combs_results = []\n",
    "    for comb in combinations:\n",
    "        # Store the best results of each generation for each run.\n",
    "        runs_results = []\n",
    "        for run in range(1, n_runs+1):\n",
    "            initial_population = [LUGASolution(mutation_function = comb[0], crossover_function = comb[1],\n",
    "                                               values=values, weights=weights, capacity=capacity)\n",
    "                                               for i in range(pop_size)]\n",
    "            \n",
    "            _, generation_df = genetic_algorithm(initial_population=initial_population,\n",
    "                    max_gen=max_gen,\n",
    "                    selection_algorithm = comb[2],\n",
    "                    maximization=False,\n",
    "                    xo_prob=xo_func[comb[1]],\n",
    "                    mut_prob= mut_func[comb[0]],\n",
    "                    elitism=True,\n",
    "                    verbose=False)\n",
    "            \n",
    "            current_run = pd.DataFrame()\n",
    "            current_run['Run'] = [run for _ in range(1, n_runs+1)] #fill column 'Run' with the #run it is in\n",
    "            \n",
    "            #with run=#run, merge the df that contains the columns with #generation and its best fitness\n",
    "            one_run = pd.concat([current_run, generation_df], axis=1) \n",
    "            runs_results.append(one_run)\n",
    "        \n",
    "        current_comb_all_runs = pd.concat(runs_results) #concat all the different runs along the index axis\n",
    "        \n",
    "        # Generate filename based on combination\n",
    "        filename = f\"comb_{comb[0]}_{comb[1]}_{comb[2]}.csv\"\n",
    "        # Save to CSV\n",
    "        current_comb_all_runs.to_csv(filename, index=False)\n",
    "        \n",
    "        current_comb = pd.DataFrame()\n",
    "        current_comb['Combination'] = [(comb[0], comb[1], comb[2]) for _ in range(len(combinations))]\n",
    "        one_comb = pd.concat([current_comb, current_comb_all_runs], axis=1)\n",
    "        combs_results.append(one_comb)\n",
    "    \n",
    "    final_results = pd.concat(combs_results)\n",
    "    \n",
    "    return final_results"
   ]
  },
  {
   "cell_type": "code",
   "execution_count": 10,
   "id": "a2afbfb2",
   "metadata": {},
   "outputs": [],
   "source": [
    "#Example\n",
    "mut_func = {block_rotation_mutation:0.05, two_phase_shuffle_mutation: 0.1, semi_shuffle: 0.2} #, }\n",
    "xo_func = {cyclic_crossover:0.7, custom_pmxo: 0.6} #, }\n",
    "#selection_algo = [fitness_proportionate_selection, ] #USAR OS NOSSOS ALGORITMOS"
   ]
  },
  {
   "cell_type": "code",
   "execution_count": null,
   "id": "a455d480",
   "metadata": {},
   "outputs": [],
   "source": [
    "#experimentar 1ª com poucas runs e poucas gen e pop baixa para ver se corre tudo bem\n",
    "comb_tuning(mut_func = mut_func, xo_func = xo_func, selection_algo=selection_algo,\n",
    "            n_runs=4, max_gen=30, pop_size=20)"
   ]
  }
 ],
 "metadata": {
  "kernelspec": {
   "display_name": "base",
   "language": "python",
   "name": "python3"
  },
  "language_info": {
   "codemirror_mode": {
    "name": "ipython",
    "version": 3
   },
   "file_extension": ".py",
   "mimetype": "text/x-python",
   "name": "python",
   "nbconvert_exporter": "python",
   "pygments_lexer": "ipython3",
   "version": "3.12.3"
  }
 },
 "nbformat": 4,
 "nbformat_minor": 5
}
