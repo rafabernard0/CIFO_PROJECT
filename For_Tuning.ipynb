{
 "cells": [
  {
   "cell_type": "markdown",
   "id": "74453fc2",
   "metadata": {},
   "source": [
    "Applying Optimization and Grid Search"
   ]
  },
  {
   "cell_type": "code",
   "execution_count": null,
   "id": "a2227188",
   "metadata": {},
   "outputs": [],
   "source": [
    "#imports\n",
    "import itertools\n",
    "import pandas as pd\n",
    "from library.algorithms.genetic_algorithms.algorithm import genetic_algorithm # Reuse classes' function\n",
    "from library_group.lineup import LUGASolution\n",
    "from library_group.mutation_funcs import block_rotation_mutation\n",
    "from library_group.xo_funcs import cyclic_crossover\n",
    "\n",
    "\n",
    "#from library_group.\n",
    "from library.algorithms.genetic_algorithms.selection import fitness_proportionate_selection #NÃO PODEMOS USAR ERA SÓ PARA EXEMPLO"
   ]
  },
  {
   "cell_type": "code",
   "execution_count": null,
   "id": "10ea3d59",
   "metadata": {},
   "outputs": [],
   "source": [
    "POP_SIZE = 50\n",
    "\n",
    "initial_population = [LUGASolution(mutation_function = block_rotation_mutation, crossover_function =  cyclic_crossover\n",
    "                                   )\n",
    "                      for i in range(POP_SIZE)]\n",
    "\n",
    "genetic_algorithm(initial_population=initial_population,\n",
    "                  max_gen=100,\n",
    "                  selection_algorithm = fitness_proportionate_selection,\n",
    "                  maximization=False,\n",
    "                  xo_prob=0.8,\n",
    "                  mut_prob=1,\n",
    "                  elitism=True,\n",
    "                  verbose=True)"
   ]
  },
  {
   "cell_type": "code",
   "execution_count": null,
   "id": "bc85a776",
   "metadata": {},
   "outputs": [],
   "source": [
    "def comb_tuning(mut_func: dict, xo_func: dict, selection_algo: list, \n",
    "                POP_SIZE: int = 50):\n",
    "    \"\"\"\n",
    "    Function to access the results of each combination between selection algorithm, mutation and crossover functions.\n",
    "    (It does not search for crossover and mutation probabilities.)\n",
    "\n",
    "    Parameters:\n",
    "    - mut_func: A dictionary with keys as the mutation function and its values for its mutation probability.\n",
    "    - xo_func: A dictionary with keys as the crossover function and its values for its crossover probability.\n",
    "    - selection_algo: A list with selection algorithms.\n",
    "    - POP_SIZE = Population size\n",
    "\n",
    "    Returns:\n",
    "    A DataFrame, where the index represents the combinations of 3 and the value is the fitness resulting\n",
    "    from that combination.\n",
    "\n",
    "    \"\"\"\n",
    "\n",
    "    combinations = list(itertools.product(list(mut_func.keys()), list(xo_func.keys()), selection_algo))\n",
    "    #combinations = list(itertools.product(mut_func, xo_func, selection_algo))\n",
    "    \n",
    "    #Store params and respective result\n",
    "    results = {}\n",
    "\n",
    "    for comb in combinations:\n",
    "\n",
    "        initial_population = [LUGASolution(mutation_function = comb[0], crossover_function = comb[1])\n",
    "                      for i in range(POP_SIZE)]\n",
    "\n",
    "        ga = genetic_algorithm(initial_population=initial_population,\n",
    "                  max_gen=100,\n",
    "                  selection_algorithm = comb[2],\n",
    "                  maximization=False,\n",
    "                  xo_prob=xo_func[comb[1]],\n",
    "                  mut_prob= mut_func[comb[0]],\n",
    "                  elitism=True,\n",
    "                  verbose=True)\n",
    "        \n",
    "        results[(comb[0], comb[1], comb[2])] = ga\n",
    "    \n",
    "    return pd.DataFrame(results)\n"
   ]
  },
  {
   "cell_type": "code",
   "execution_count": null,
   "id": "a2afbfb2",
   "metadata": {},
   "outputs": [],
   "source": [
    "#Example\n",
    "mut_func ={block_rotation_mutation:0.2} #, }\n",
    "xo_func = {cyclic_crossover:0.7} #, }\n",
    "selection_algo = [fitness_proportionate_selection] #, ] # USAR OS NOSSOS ALGORITMOS"
   ]
  },
  {
   "cell_type": "code",
   "execution_count": null,
   "id": "a455d480",
   "metadata": {},
   "outputs": [],
   "source": [
    "comb_tuning(mut_func=mut_func, xo_func=xo_func, selection_algo=selection_algo)"
   ]
  }
 ],
 "metadata": {
  "kernelspec": {
   "display_name": "base",
   "language": "python",
   "name": "python3"
  },
  "language_info": {
   "codemirror_mode": {
    "name": "ipython",
    "version": 3
   },
   "file_extension": ".py",
   "mimetype": "text/x-python",
   "name": "python",
   "nbconvert_exporter": "python",
   "pygments_lexer": "ipython3",
   "version": "3.12.3"
  }
 },
 "nbformat": 4,
 "nbformat_minor": 5
}
