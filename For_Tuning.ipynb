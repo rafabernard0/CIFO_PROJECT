{
 "cells": [
  {
   "cell_type": "markdown",
   "id": "74453fc2",
   "metadata": {},
   "source": [
    "Applying Optimization and Grid Search"
   ]
  },
  {
   "cell_type": "code",
   "execution_count": 35,
   "id": "a2227188",
   "metadata": {},
   "outputs": [],
   "source": [
    "#imports\n",
    "\n",
    "import itertools\n",
    "import pandas as pd\n",
    "#from library.algorithms.genetic_algorithms.algorithm import genetic_algorithm\n",
    "from library_group.ours_genetic_algo_func import genetic_algorithm\n",
    "from library_group.lineup import LUGASolution\n",
    "from library_group.mutation_funcs import block_rotation_mutation, two_phase_shuffle_mutation, semi_shuffle\n",
    "from library_group.xo_funcs import cyclic_crossover, custom_pmxo\n",
    "\n",
    "#Line-up Problem: Datasets\n",
    "from library_group.lineup import artists_df, conflicts_df\n",
    "\n",
    "#from library_group.\n",
    "from library.algorithms.genetic_algorithms.selection import fitness_proportionate_selection #NÃO PODEMOS USAR ERA SÓ PARA EXEMPLO"
   ]
  },
  {
   "cell_type": "code",
   "execution_count": null,
   "id": "29cc9d23",
   "metadata": {},
   "outputs": [],
   "source": [
    "\"\"\"\n",
    "Esta célula não corre\n",
    "\"\"\"\n",
    "\n",
    "#o problema está no crossover???\n",
    "random_solution = LUGASolution(mutation_function = block_rotation_mutation, crossover_function =  cyclic_crossover)\n",
    "random_sol2 = LUGASolution(mutation_function = block_rotation_mutation, crossover_function =  cyclic_crossover)            \n",
    "random_solution.crossover(random_sol2)"
   ]
  },
  {
   "cell_type": "code",
   "execution_count": null,
   "id": "10ea3d59",
   "metadata": {},
   "outputs": [],
   "source": [
    "\"\"\"\n",
    "Esta célula não corre\n",
    "\"\"\"\n",
    "\n",
    "POP_SIZE = 50\n",
    "\n",
    "initial_population = [LUGASolution(mutation_function = block_rotation_mutation, crossover_function = cyclic_crossover\n",
    "                                   )\n",
    "                      for i in range(POP_SIZE)]\n",
    "\n",
    "genetic_algorithm(initial_population=initial_population,\n",
    "                  max_gen=100,\n",
    "                  selection_algorithm = fitness_proportionate_selection,\n",
    "                  maximization=False,\n",
    "                  xo_prob=0.8,\n",
    "                  mut_prob=1,\n",
    "                  elitism=True,\n",
    "                  verbose=True)"
   ]
  },
  {
   "cell_type": "code",
   "execution_count": null,
   "id": "bc85a776",
   "metadata": {},
   "outputs": [],
   "source": [
    "def comb_tuning(mut_func: dict, xo_func: dict, selection_algo: list,\n",
    "                n_runs: int = 30, max_gen:int = 100, POP_SIZE: int = 50):\n",
    "    \n",
    "    \"\"\"\n",
    "    Returns a DataFrame with the following columns:\n",
    "    - 'Combination' - Combination tuple of a mutation, a crossover and a selection algorithm\n",
    "    - 'Run' - Each Combination is runned a specified amount of times, this column specifies the run \n",
    "    number in which the results were obtained.\n",
    "    - 'Generation' - Each Run is composed of a specified amount of generations, this column specifies the \n",
    "    generation number in which the results were obtained.\n",
    "    - 'Best Fitness' - This is the best fitness obtained at each generation.\n",
    "\n",
    "    Purpose:\n",
    "    With this df we can play around inter-run and intra-run statistics, since it contains \n",
    "    all the results from the various combinations\n",
    "    \"\"\"\n",
    "\n",
    "    combinations = list(itertools.product(list(mut_func.keys()), list(xo_func.keys()), selection_algo))\n",
    "\n",
    "    combs_results = []\n",
    "    for comb in combinations:\n",
    "        # Store the best results of each generation for each run.\n",
    "        runs_results = []\n",
    "        for run in range(1, n_runs+1):\n",
    "            initial_population = [LUGASolution(mutation_function = comb[0], crossover_function = comb[1],\n",
    "                                               values=values, weights=weights, capacity=capacity)\n",
    "                                               for i in range(POP_SIZE)]\n",
    "            \n",
    "            _, generation_df = genetic_algorithm(initial_population=initial_population,\n",
    "                    max_gen=max_gen,\n",
    "                    selection_algorithm = comb[2],\n",
    "                    maximization=False,\n",
    "                    xo_prob=xo_func[comb[1]],\n",
    "                    mut_prob= mut_func[comb[0]],\n",
    "                    elitism=True,\n",
    "                    verbose=False)\n",
    "            \n",
    "            current_run = pd.DataFrame()\n",
    "            current_run['Run'] = [run for _ in range(1, n_runs+1)] #fill column 'Run' with the #run it is in\n",
    "            \n",
    "            #with run=#run, merge the df that contains the columns with #generation and its best fitness\n",
    "            one_run = pd.concat([current_run, generation_df], axis=1) \n",
    "            runs_results.append(one_run)\n",
    "        \n",
    "        current_comb_all_runs = pd.concat(runs_results) #concat all the different runs along the index axis\n",
    "        \n",
    "        # Generate filename based on combination\n",
    "        filename = f\"comb_{comb[0]}_{comb[1]}_{comb[2]}.csv\"\n",
    "        # Save to CSV\n",
    "        current_comb_all_runs.to_csv(filename, index=False)\n",
    "        \n",
    "        current_comb = pd.DataFrame()\n",
    "        current_comb['Combination'] = [(comb[0], comb[1], comb[2]) for _ in range(len(combinations))]\n",
    "        one_comb = pd.concat([current_comb, current_comb_all_runs], axis=1)\n",
    "        combs_results.append(one_comb)\n",
    "    \n",
    "    final_results = pd.concat(combs_results)\n",
    "    \n",
    "    return final_results"
   ]
  },
  {
   "cell_type": "code",
   "execution_count": null,
   "id": "a2afbfb2",
   "metadata": {},
   "outputs": [],
   "source": [
    "#Example\n",
    "mut_func = {block_rotation_mutation:0.05, two_phase_shuffle_mutation: 0.1, semi_shuffle: 0.2} #, }\n",
    "xo_func = {cyclic_crossover:0.7, custom_pmxo: 0.6} #, }\n",
    "#selection_algo = [fitness_proportionate_selection, ] #USAR OS NOSSOS ALGORITMOS"
   ]
  },
  {
   "cell_type": "code",
   "execution_count": null,
   "id": "a455d480",
   "metadata": {},
   "outputs": [],
   "source": [
    "comb_tuning(mut_func=mut_func, xo_func=xo_func, selection_algo=selection_algo)"
   ]
  }
 ],
 "metadata": {
  "kernelspec": {
   "display_name": "base",
   "language": "python",
   "name": "python3"
  },
  "language_info": {
   "codemirror_mode": {
    "name": "ipython",
    "version": 3
   },
   "file_extension": ".py",
   "mimetype": "text/x-python",
   "name": "python",
   "nbconvert_exporter": "python",
   "pygments_lexer": "ipython3",
   "version": "3.12.3"
  }
 },
 "nbformat": 4,
 "nbformat_minor": 5
}
