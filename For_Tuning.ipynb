{
 "cells": [
  {
   "cell_type": "markdown",
   "id": "74453fc2",
   "metadata": {},
   "source": [
    "Applying Optimization and Grid Search"
   ]
  },
  {
   "cell_type": "code",
   "execution_count": 1,
   "id": "a2227188",
   "metadata": {},
   "outputs": [],
   "source": [
    "#imports\n",
    "import itertools\n",
    "import pandas as pd\n",
    "\n",
    "# Genetic Algorithm\n",
    "from library.GA import genetic_algorithm, get_best_individual \n",
    "\n",
    "# Class GA Solution\n",
    "from library.lineup import LUGASolution\n",
    "\n",
    "# Mutation Functions\n",
    "from library.mutation_funcs import block_rotation_mutation, two_phase_shuffle_mutation, semi_shuffle\n",
    "\n",
    "# Crossover Functions\n",
    "from library.xo_funcs import cyclic_crossover, custom_pmxo\n",
    "\n",
    "# Selection Algorithm\n",
    "from library.selection_algorithms import tournament_selection, ranking_selection\n",
    "from library.selection_algorithms import fitness_proportionate_selection #NÃO PODEMOS USAR ERA SÓ PARA EXEMPLO\n",
    "\n",
    "# Line-up Problem: Datasets\n",
    "from library.lineup import artists_df, conflicts_df, HERE"
   ]
  },
  {
   "cell_type": "code",
   "execution_count": null,
   "id": "10ea3d59",
   "metadata": {},
   "outputs": [
    {
     "data": {
      "application/vnd.jupyter.widget-view+json": {
       "model_id": "785d23c34eb741b084e540bad1a8caf3",
       "version_major": 2,
       "version_minor": 0
      },
      "text/plain": [
       "Generations:   0%|          | 0/10 [00:00<?, ?gen/s]"
      ]
     },
     "metadata": {},
     "output_type": "display_data"
    },
    {
     "data": {
      "application/vnd.jupyter.widget-view+json": {
       "model_id": "e38e4dea6d9a455aa8c8c753944008b2",
       "version_major": 2,
       "version_minor": 0
      },
      "text/plain": [
       "Gen  1:   0%|          | 0/10 [00:00<?, ?ind/s]"
      ]
     },
     "metadata": {},
     "output_type": "display_data"
    },
    {
     "data": {
      "text/plain": [
       "<LUSolution (5 Stages, 7 Slots)>\n",
       "╒═════════╤══════════════════════════╤══════════════════╤════════════════════╤═══════════════════════╤═════════════════════════╤════════════════╤════════════════════╕\n",
       "│         │          Slot 1          │      Slot 2      │       Slot 3       │        Slot 4         │         Slot 5          │     Slot 6     │       Slot 7       │\n",
       "╞═════════╪══════════════════════════╪══════════════════╪════════════════════╪═══════════════════════╪═════════════════════════╪════════════════╪════════════════════╡\n",
       "│ Stage 1 │      Shadow Cadence      │ The Jazz Nomads  │    Astral Tide     │    Crimson Harmony    │ The Bassline Architects │ Static Mirage  │ Electric Serpents  │\n",
       "├─────────┼──────────────────────────┼──────────────────┼────────────────────┼───────────────────────┼─────────────────────────┼────────────────┼────────────────────┤\n",
       "│ Stage 2 │       Golden Ember       │  Rhythm Alchemy  │ The Sonic Drifters │ Cloud Nine Collective │      Midnight Echo      │  Turbo Vortex  │    Neon Reverie    │\n",
       "├─────────┼──────────────────────────┼──────────────────┼────────────────────┼───────────────────────┼─────────────────────────┼────────────────┼────────────────────┤\n",
       "│ Stage 3 │      Deep Resonance      │ Nightfall Sonata │ Parallel Dimension │  Harmonic Dissonance  │    Synthwave Saints     │ Phantom Groove │ Velvet Underground │\n",
       "├─────────┼──────────────────────────┼──────────────────┼────────────────────┼───────────────────────┼─────────────────────────┼────────────────┼────────────────────┤\n",
       "│ Stage 4 │ The Polyrhythm Syndicate │   Solar Flare    │    Aurora Skies    │     Echo Chamber      │      Velvet Pulse       │  Quantum Beat  │  Celestial Voyage  │\n",
       "├─────────┼──────────────────────────┼──────────────────┼────────────────────┼───────────────────────┼─────────────────────────┼────────────────┼────────────────────┤\n",
       "│ Stage 5 │     Hypnotic Echoes      │  Lunar Spectrum  │  Cosmic Frequency  │  The Wandering Notes  │      Blue Horizon       │ Mystic Rhythms │  The Silver Owls   │\n",
       "╘═════════╧══════════════════════════╧══════════════════╧════════════════════╧═══════════════════════╧═════════════════════════╧════════════════╧════════════════════╛\n",
       "Scores:\n",
       "  Prime Slot Popularity : 0.90200\n",
       "  Genre Diversity       : 0.73333\n",
       "  Conflict Penalty      : 0.46786\n",
       "  Total Fitness         : 1.16747"
      ]
     },
     "execution_count": 3,
     "metadata": {},
     "output_type": "execute_result"
    }
   ],
   "source": [
    "POP_SIZE = 10\n",
    "\n",
    "initial_population = [LUGASolution(mutation_function = block_rotation_mutation, crossover_function = cyclic_crossover\n",
    "                                   )\n",
    "                      for i in range(POP_SIZE)]\n",
    "\n",
    "genetic_algorithm(initial_population=initial_population,\n",
    "                  max_gen=10,\n",
    "                  selection_algorithm = tournament_selection,\n",
    "                  maximization=True,\n",
    "                  xo_prob=0.8,\n",
    "                  mut_prob=1,\n",
    "                  elitism=True,\n",
    "                  verbose=False)[0]"
   ]
  },
  {
   "cell_type": "code",
   "execution_count": 41,
   "id": "bc85a776",
   "metadata": {},
   "outputs": [],
   "source": [
    "def comb_tuning(mut_func: dict, xo_func: dict, selection_algo: list,\n",
    "                n_runs: int = 30, max_gen:int = 100, pop_size: int = 50):\n",
    "    \n",
    "    \"\"\"\n",
    "    Returns a DataFrame with the following columns:\n",
    "    - 'Combination' - Combination tuple of a mutation, a crossover and a selection algorithm\n",
    "    - 'Run' - Each Combination is runned a specified amount of times, this column specifies the run \n",
    "    number in which the results were obtained.\n",
    "    - 'Generation' - Each Run is composed of a specified amount of generations, this column specifies the \n",
    "    generation number in which the results were obtained.\n",
    "    - 'Best Fitness' - This is the best fitness obtained at each generation.\n",
    "\n",
    "    Purpose:\n",
    "    With this df we can play around inter-run and intra-run statistics, since it contains \n",
    "    all the results from the various combinations\n",
    "    \"\"\"\n",
    "\n",
    "    combinations = list(itertools.product(list(mut_func.keys()), list(xo_func.keys()), selection_algo))\n",
    "\n",
    "    combs_results = []\n",
    "    for comb in combinations:\n",
    "        # Store the best results of each generation for each run.\n",
    "        runs_results = []\n",
    "        for run in range(1, n_runs+1):\n",
    "            initial_population = [LUGASolution(mutation_function = comb[0], crossover_function = comb[1])\n",
    "                                               for i in range(pop_size)]\n",
    "            \n",
    "            _, generation_df = genetic_algorithm(initial_population=initial_population,\n",
    "                    max_gen=max_gen,\n",
    "                    selection_algorithm = comb[2],\n",
    "                    maximization=True,\n",
    "                    xo_prob=xo_func[comb[1]],\n",
    "                    mut_prob= mut_func[comb[0]],\n",
    "                    elitism=True,\n",
    "                    verbose=False)\n",
    "            \n",
    "            current_run = pd.DataFrame()\n",
    "            current_run['Run'] = [run for _ in range(1, max_gen+1)] #fill column 'Run' with the #run it is in\n",
    "            \n",
    "            #with run=#run, merge the df that contains the columns with #generation and its best fitness\n",
    "            one_run = pd.concat([current_run, generation_df], axis=1) \n",
    "            runs_results.append(one_run)\n",
    "        \n",
    "        current_comb_all_runs = pd.concat(runs_results) #concat all the different runs along the index axis\n",
    "        \n",
    "        current_comb = pd.DataFrame()\n",
    "        current_comb['Combination'] = [(comb[0].__name__, comb[1].__name__, comb[2].__name__)\n",
    "                                       for _ in range(current_comb_all_runs.shape[0])]\n",
    "        one_comb = pd.concat([current_comb.reset_index(drop=True), current_comb_all_runs.reset_index(drop=True)], axis=1)\n",
    "        combs_results.append(one_comb)\n",
    "    \n",
    "    global final_results\n",
    "    final_results = pd.concat(combs_results)\n",
    "    final_filepath = HERE.parent / \"combination_search\"/ \"final_results.csv\"\n",
    "    final_results.to_csv(final_filepath, index=False)\n",
    "    \n",
    "    return final_results"
   ]
  },
  {
   "cell_type": "code",
   "execution_count": null,
   "id": "a2afbfb2",
   "metadata": {},
   "outputs": [],
   "source": [
    "#Example\n",
    "mut_func = {block_rotation_mutation:0.07, two_phase_shuffle_mutation: 0.1, semi_shuffle: 0.2}\n",
    "xo_func = {cyclic_crossover:0.7, custom_pmxo: 0.8}\n",
    "selection_algo = [tournament_selection]#, fitness_proportionate_selection]"
   ]
  },
  {
   "cell_type": "code",
   "execution_count": 52,
   "id": "a455d480",
   "metadata": {},
   "outputs": [
    {
     "data": {
      "application/vnd.jupyter.widget-view+json": {
       "model_id": "58dc12ba029f4202ae282cb5fdf346f8",
       "version_major": 2,
       "version_minor": 0
      },
      "text/plain": [
       "Generations:   0%|          | 0/2 [00:00<?, ?gen/s]"
      ]
     },
     "metadata": {},
     "output_type": "display_data"
    },
    {
     "data": {
      "application/vnd.jupyter.widget-view+json": {
       "model_id": "e51b9032d5794eed90de6c45018a9d63",
       "version_major": 2,
       "version_minor": 0
      },
      "text/plain": [
       "Gen  1:   0%|          | 0/5 [00:00<?, ?ind/s]"
      ]
     },
     "metadata": {},
     "output_type": "display_data"
    },
    {
     "data": {
      "application/vnd.jupyter.widget-view+json": {
       "model_id": "20adeb12c679458d997c9f9d3e3e6773",
       "version_major": 2,
       "version_minor": 0
      },
      "text/plain": [
       "Generations:   0%|          | 0/2 [00:00<?, ?gen/s]"
      ]
     },
     "metadata": {},
     "output_type": "display_data"
    },
    {
     "data": {
      "application/vnd.jupyter.widget-view+json": {
       "model_id": "7db0d9c1c9e04abd840894bd8b34eeab",
       "version_major": 2,
       "version_minor": 0
      },
      "text/plain": [
       "Gen  1:   0%|          | 0/5 [00:00<?, ?ind/s]"
      ]
     },
     "metadata": {},
     "output_type": "display_data"
    },
    {
     "data": {
      "application/vnd.jupyter.widget-view+json": {
       "model_id": "bae55a29aa444eda895e831becbae948",
       "version_major": 2,
       "version_minor": 0
      },
      "text/plain": [
       "Generations:   0%|          | 0/2 [00:00<?, ?gen/s]"
      ]
     },
     "metadata": {},
     "output_type": "display_data"
    },
    {
     "data": {
      "application/vnd.jupyter.widget-view+json": {
       "model_id": "9dc5e6c4705746bb862396fab55dfcd7",
       "version_major": 2,
       "version_minor": 0
      },
      "text/plain": [
       "Gen  1:   0%|          | 0/5 [00:00<?, ?ind/s]"
      ]
     },
     "metadata": {},
     "output_type": "display_data"
    },
    {
     "data": {
      "application/vnd.jupyter.widget-view+json": {
       "model_id": "da26e28022a644deaac90a79819c222b",
       "version_major": 2,
       "version_minor": 0
      },
      "text/plain": [
       "Generations:   0%|          | 0/2 [00:00<?, ?gen/s]"
      ]
     },
     "metadata": {},
     "output_type": "display_data"
    },
    {
     "data": {
      "application/vnd.jupyter.widget-view+json": {
       "model_id": "8e82162bad9e4de781ea20e94e70077d",
       "version_major": 2,
       "version_minor": 0
      },
      "text/plain": [
       "Gen  1:   0%|          | 0/5 [00:00<?, ?ind/s]"
      ]
     },
     "metadata": {},
     "output_type": "display_data"
    },
    {
     "data": {
      "application/vnd.jupyter.widget-view+json": {
       "model_id": "6e505977d21141e6a187552c773fb96a",
       "version_major": 2,
       "version_minor": 0
      },
      "text/plain": [
       "Generations:   0%|          | 0/2 [00:00<?, ?gen/s]"
      ]
     },
     "metadata": {},
     "output_type": "display_data"
    },
    {
     "data": {
      "application/vnd.jupyter.widget-view+json": {
       "model_id": "1624010c77f341f892153c81aded8187",
       "version_major": 2,
       "version_minor": 0
      },
      "text/plain": [
       "Gen  1:   0%|          | 0/5 [00:00<?, ?ind/s]"
      ]
     },
     "metadata": {},
     "output_type": "display_data"
    },
    {
     "data": {
      "application/vnd.jupyter.widget-view+json": {
       "model_id": "26cbb14f403540ca8773557aa0e8c665",
       "version_major": 2,
       "version_minor": 0
      },
      "text/plain": [
       "Generations:   0%|          | 0/2 [00:00<?, ?gen/s]"
      ]
     },
     "metadata": {},
     "output_type": "display_data"
    },
    {
     "data": {
      "application/vnd.jupyter.widget-view+json": {
       "model_id": "686d0d9ddd474e069b935be80c349cce",
       "version_major": 2,
       "version_minor": 0
      },
      "text/plain": [
       "Gen  1:   0%|          | 0/5 [00:00<?, ?ind/s]"
      ]
     },
     "metadata": {},
     "output_type": "display_data"
    },
    {
     "data": {
      "application/vnd.jupyter.widget-view+json": {
       "model_id": "84271a9f10c440e4bd93f7c7277913de",
       "version_major": 2,
       "version_minor": 0
      },
      "text/plain": [
       "Generations:   0%|          | 0/2 [00:00<?, ?gen/s]"
      ]
     },
     "metadata": {},
     "output_type": "display_data"
    },
    {
     "data": {
      "application/vnd.jupyter.widget-view+json": {
       "model_id": "1e7aed129aa745b0bc85021d58ad9c0e",
       "version_major": 2,
       "version_minor": 0
      },
      "text/plain": [
       "Gen  1:   0%|          | 0/5 [00:00<?, ?ind/s]"
      ]
     },
     "metadata": {},
     "output_type": "display_data"
    },
    {
     "data": {
      "application/vnd.jupyter.widget-view+json": {
       "model_id": "6bca4a39dec34cfab4c1a53127981771",
       "version_major": 2,
       "version_minor": 0
      },
      "text/plain": [
       "Generations:   0%|          | 0/2 [00:00<?, ?gen/s]"
      ]
     },
     "metadata": {},
     "output_type": "display_data"
    },
    {
     "data": {
      "application/vnd.jupyter.widget-view+json": {
       "model_id": "55cc312600154fd0a44b2514f8b77155",
       "version_major": 2,
       "version_minor": 0
      },
      "text/plain": [
       "Gen  1:   0%|          | 0/5 [00:00<?, ?ind/s]"
      ]
     },
     "metadata": {},
     "output_type": "display_data"
    },
    {
     "data": {
      "application/vnd.jupyter.widget-view+json": {
       "model_id": "53f66e84a2174aa88384b4b87d6a5a1d",
       "version_major": 2,
       "version_minor": 0
      },
      "text/plain": [
       "Generations:   0%|          | 0/2 [00:00<?, ?gen/s]"
      ]
     },
     "metadata": {},
     "output_type": "display_data"
    },
    {
     "data": {
      "application/vnd.jupyter.widget-view+json": {
       "model_id": "2c126018b8ca49149cffd21cdca270e1",
       "version_major": 2,
       "version_minor": 0
      },
      "text/plain": [
       "Gen  1:   0%|          | 0/5 [00:00<?, ?ind/s]"
      ]
     },
     "metadata": {},
     "output_type": "display_data"
    },
    {
     "data": {
      "application/vnd.jupyter.widget-view+json": {
       "model_id": "c7470f9a80824752ae32db161694bb97",
       "version_major": 2,
       "version_minor": 0
      },
      "text/plain": [
       "Generations:   0%|          | 0/2 [00:00<?, ?gen/s]"
      ]
     },
     "metadata": {},
     "output_type": "display_data"
    },
    {
     "data": {
      "application/vnd.jupyter.widget-view+json": {
       "model_id": "aca2b98b0cfa4ca68113d366475484b9",
       "version_major": 2,
       "version_minor": 0
      },
      "text/plain": [
       "Gen  1:   0%|          | 0/5 [00:00<?, ?ind/s]"
      ]
     },
     "metadata": {},
     "output_type": "display_data"
    },
    {
     "data": {
      "application/vnd.jupyter.widget-view+json": {
       "model_id": "358c38423104449e9d5c51cb3fba66d9",
       "version_major": 2,
       "version_minor": 0
      },
      "text/plain": [
       "Generations:   0%|          | 0/2 [00:00<?, ?gen/s]"
      ]
     },
     "metadata": {},
     "output_type": "display_data"
    },
    {
     "data": {
      "application/vnd.jupyter.widget-view+json": {
       "model_id": "f9ab5ee2ba3645598ae6b6f1a467e34a",
       "version_major": 2,
       "version_minor": 0
      },
      "text/plain": [
       "Gen  1:   0%|          | 0/5 [00:00<?, ?ind/s]"
      ]
     },
     "metadata": {},
     "output_type": "display_data"
    },
    {
     "data": {
      "application/vnd.jupyter.widget-view+json": {
       "model_id": "12747cc2436943e0823bce086a5c19c3",
       "version_major": 2,
       "version_minor": 0
      },
      "text/plain": [
       "Generations:   0%|          | 0/2 [00:00<?, ?gen/s]"
      ]
     },
     "metadata": {},
     "output_type": "display_data"
    },
    {
     "data": {
      "application/vnd.jupyter.widget-view+json": {
       "model_id": "cb8b4e8a4a31487194a9d39cae6b33eb",
       "version_major": 2,
       "version_minor": 0
      },
      "text/plain": [
       "Gen  1:   0%|          | 0/5 [00:00<?, ?ind/s]"
      ]
     },
     "metadata": {},
     "output_type": "display_data"
    },
    {
     "data": {
      "application/vnd.jupyter.widget-view+json": {
       "model_id": "4a3a3c4bdfe6480dbd422d0213129cfb",
       "version_major": 2,
       "version_minor": 0
      },
      "text/plain": [
       "Generations:   0%|          | 0/2 [00:00<?, ?gen/s]"
      ]
     },
     "metadata": {},
     "output_type": "display_data"
    },
    {
     "data": {
      "application/vnd.jupyter.widget-view+json": {
       "model_id": "64f79a05fb164dd19d6c3ba731e21e33",
       "version_major": 2,
       "version_minor": 0
      },
      "text/plain": [
       "Gen  1:   0%|          | 0/5 [00:00<?, ?ind/s]"
      ]
     },
     "metadata": {},
     "output_type": "display_data"
    },
    {
     "data": {
      "application/vnd.jupyter.widget-view+json": {
       "model_id": "88b5c83552064d959d7cea7a209dd2a8",
       "version_major": 2,
       "version_minor": 0
      },
      "text/plain": [
       "Generations:   0%|          | 0/2 [00:00<?, ?gen/s]"
      ]
     },
     "metadata": {},
     "output_type": "display_data"
    },
    {
     "data": {
      "application/vnd.jupyter.widget-view+json": {
       "model_id": "c7076b3776a04c3d8a98f86c9f40d829",
       "version_major": 2,
       "version_minor": 0
      },
      "text/plain": [
       "Gen  1:   0%|          | 0/5 [00:00<?, ?ind/s]"
      ]
     },
     "metadata": {},
     "output_type": "display_data"
    },
    {
     "data": {
      "application/vnd.jupyter.widget-view+json": {
       "model_id": "516a95e118934f8ca253c754eaf9bb22",
       "version_major": 2,
       "version_minor": 0
      },
      "text/plain": [
       "Generations:   0%|          | 0/2 [00:00<?, ?gen/s]"
      ]
     },
     "metadata": {},
     "output_type": "display_data"
    },
    {
     "data": {
      "application/vnd.jupyter.widget-view+json": {
       "model_id": "95b2af59194147a1b4423794c0338aa3",
       "version_major": 2,
       "version_minor": 0
      },
      "text/plain": [
       "Gen  1:   0%|          | 0/5 [00:00<?, ?ind/s]"
      ]
     },
     "metadata": {},
     "output_type": "display_data"
    },
    {
     "data": {
      "application/vnd.jupyter.widget-view+json": {
       "model_id": "3890ea33addd44c4a863d99d92e4d1d9",
       "version_major": 2,
       "version_minor": 0
      },
      "text/plain": [
       "Generations:   0%|          | 0/2 [00:00<?, ?gen/s]"
      ]
     },
     "metadata": {},
     "output_type": "display_data"
    },
    {
     "data": {
      "application/vnd.jupyter.widget-view+json": {
       "model_id": "a3df033b43894eb2a198ee6cc2b72822",
       "version_major": 2,
       "version_minor": 0
      },
      "text/plain": [
       "Gen  1:   0%|          | 0/5 [00:00<?, ?ind/s]"
      ]
     },
     "metadata": {},
     "output_type": "display_data"
    },
    {
     "data": {
      "application/vnd.jupyter.widget-view+json": {
       "model_id": "73f1116e352f44f3870223e6f0694dd1",
       "version_major": 2,
       "version_minor": 0
      },
      "text/plain": [
       "Generations:   0%|          | 0/2 [00:00<?, ?gen/s]"
      ]
     },
     "metadata": {},
     "output_type": "display_data"
    },
    {
     "data": {
      "application/vnd.jupyter.widget-view+json": {
       "model_id": "ecc1dcf4ffbf40899bbd36b1326a2869",
       "version_major": 2,
       "version_minor": 0
      },
      "text/plain": [
       "Gen  1:   0%|          | 0/5 [00:00<?, ?ind/s]"
      ]
     },
     "metadata": {},
     "output_type": "display_data"
    },
    {
     "data": {
      "application/vnd.jupyter.widget-view+json": {
       "model_id": "6f7d3708d4094aa383ce81496c526355",
       "version_major": 2,
       "version_minor": 0
      },
      "text/plain": [
       "Generations:   0%|          | 0/2 [00:00<?, ?gen/s]"
      ]
     },
     "metadata": {},
     "output_type": "display_data"
    },
    {
     "data": {
      "application/vnd.jupyter.widget-view+json": {
       "model_id": "d5af0b77013544fda2698a4b27aff941",
       "version_major": 2,
       "version_minor": 0
      },
      "text/plain": [
       "Gen  1:   0%|          | 0/5 [00:00<?, ?ind/s]"
      ]
     },
     "metadata": {},
     "output_type": "display_data"
    },
    {
     "data": {
      "application/vnd.jupyter.widget-view+json": {
       "model_id": "186a59906d0c4cce99cddabbd46463cc",
       "version_major": 2,
       "version_minor": 0
      },
      "text/plain": [
       "Generations:   0%|          | 0/2 [00:00<?, ?gen/s]"
      ]
     },
     "metadata": {},
     "output_type": "display_data"
    },
    {
     "data": {
      "application/vnd.jupyter.widget-view+json": {
       "model_id": "bd0c3094614a4a948518ecb6716d874f",
       "version_major": 2,
       "version_minor": 0
      },
      "text/plain": [
       "Gen  1:   0%|          | 0/5 [00:00<?, ?ind/s]"
      ]
     },
     "metadata": {},
     "output_type": "display_data"
    },
    {
     "data": {
      "application/vnd.jupyter.widget-view+json": {
       "model_id": "2fd56c3639a94de091f1d555340e0b94",
       "version_major": 2,
       "version_minor": 0
      },
      "text/plain": [
       "Generations:   0%|          | 0/2 [00:00<?, ?gen/s]"
      ]
     },
     "metadata": {},
     "output_type": "display_data"
    },
    {
     "data": {
      "application/vnd.jupyter.widget-view+json": {
       "model_id": "eb6370315b074669903e278ff9f08b64",
       "version_major": 2,
       "version_minor": 0
      },
      "text/plain": [
       "Gen  1:   0%|          | 0/5 [00:00<?, ?ind/s]"
      ]
     },
     "metadata": {},
     "output_type": "display_data"
    },
    {
     "data": {
      "application/vnd.jupyter.widget-view+json": {
       "model_id": "d2b0ae6138c84aedaae4a6dd29d0ccc7",
       "version_major": 2,
       "version_minor": 0
      },
      "text/plain": [
       "Generations:   0%|          | 0/2 [00:00<?, ?gen/s]"
      ]
     },
     "metadata": {},
     "output_type": "display_data"
    },
    {
     "data": {
      "application/vnd.jupyter.widget-view+json": {
       "model_id": "33a3de64bc3c4a86a0b9b43625090993",
       "version_major": 2,
       "version_minor": 0
      },
      "text/plain": [
       "Gen  1:   0%|          | 0/5 [00:00<?, ?ind/s]"
      ]
     },
     "metadata": {},
     "output_type": "display_data"
    },
    {
     "data": {
      "application/vnd.jupyter.widget-view+json": {
       "model_id": "11a2476d07c04d4d92286be8d48636c8",
       "version_major": 2,
       "version_minor": 0
      },
      "text/plain": [
       "Generations:   0%|          | 0/2 [00:00<?, ?gen/s]"
      ]
     },
     "metadata": {},
     "output_type": "display_data"
    },
    {
     "data": {
      "application/vnd.jupyter.widget-view+json": {
       "model_id": "f64c2058cb954e28853443e512d6a284",
       "version_major": 2,
       "version_minor": 0
      },
      "text/plain": [
       "Gen  1:   0%|          | 0/5 [00:00<?, ?ind/s]"
      ]
     },
     "metadata": {},
     "output_type": "display_data"
    },
    {
     "data": {
      "application/vnd.jupyter.widget-view+json": {
       "model_id": "ef58be15c6ba4c2f9f13c762fa230c3f",
       "version_major": 2,
       "version_minor": 0
      },
      "text/plain": [
       "Generations:   0%|          | 0/2 [00:00<?, ?gen/s]"
      ]
     },
     "metadata": {},
     "output_type": "display_data"
    },
    {
     "data": {
      "application/vnd.jupyter.widget-view+json": {
       "model_id": "3a00b84e36b04c01a3e27e00db68be47",
       "version_major": 2,
       "version_minor": 0
      },
      "text/plain": [
       "Gen  1:   0%|          | 0/5 [00:00<?, ?ind/s]"
      ]
     },
     "metadata": {},
     "output_type": "display_data"
    },
    {
     "data": {
      "application/vnd.jupyter.widget-view+json": {
       "model_id": "de2ee93c52dc42ea82368d6943d33a44",
       "version_major": 2,
       "version_minor": 0
      },
      "text/plain": [
       "Generations:   0%|          | 0/2 [00:00<?, ?gen/s]"
      ]
     },
     "metadata": {},
     "output_type": "display_data"
    },
    {
     "data": {
      "application/vnd.jupyter.widget-view+json": {
       "model_id": "4bb6279f8bee42d89352d1194b2a825e",
       "version_major": 2,
       "version_minor": 0
      },
      "text/plain": [
       "Gen  1:   0%|          | 0/5 [00:00<?, ?ind/s]"
      ]
     },
     "metadata": {},
     "output_type": "display_data"
    },
    {
     "data": {
      "text/html": [
       "<div>\n",
       "<style scoped>\n",
       "    .dataframe tbody tr th:only-of-type {\n",
       "        vertical-align: middle;\n",
       "    }\n",
       "\n",
       "    .dataframe tbody tr th {\n",
       "        vertical-align: top;\n",
       "    }\n",
       "\n",
       "    .dataframe thead th {\n",
       "        text-align: right;\n",
       "    }\n",
       "</style>\n",
       "<table border=\"1\" class=\"dataframe\">\n",
       "  <thead>\n",
       "    <tr style=\"text-align: right;\">\n",
       "      <th></th>\n",
       "      <th>Combination</th>\n",
       "      <th>Run</th>\n",
       "      <th>Generation</th>\n",
       "      <th>Fitness</th>\n",
       "    </tr>\n",
       "  </thead>\n",
       "  <tbody>\n",
       "    <tr>\n",
       "      <th>0</th>\n",
       "      <td>(block_rotation_mutation, cyclic_crossover, to...</td>\n",
       "      <td>1</td>\n",
       "      <td>1</td>\n",
       "      <td>1.16667</td>\n",
       "    </tr>\n",
       "    <tr>\n",
       "      <th>1</th>\n",
       "      <td>(block_rotation_mutation, cyclic_crossover, to...</td>\n",
       "      <td>1</td>\n",
       "      <td>2</td>\n",
       "      <td>1.16667</td>\n",
       "    </tr>\n",
       "    <tr>\n",
       "      <th>2</th>\n",
       "      <td>(block_rotation_mutation, cyclic_crossover, to...</td>\n",
       "      <td>2</td>\n",
       "      <td>1</td>\n",
       "      <td>1.01143</td>\n",
       "    </tr>\n",
       "    <tr>\n",
       "      <th>3</th>\n",
       "      <td>(block_rotation_mutation, cyclic_crossover, to...</td>\n",
       "      <td>2</td>\n",
       "      <td>2</td>\n",
       "      <td>1.07796</td>\n",
       "    </tr>\n",
       "    <tr>\n",
       "      <th>0</th>\n",
       "      <td>(block_rotation_mutation, cyclic_crossover, fi...</td>\n",
       "      <td>1</td>\n",
       "      <td>1</td>\n",
       "      <td>1.10181</td>\n",
       "    </tr>\n",
       "    <tr>\n",
       "      <th>1</th>\n",
       "      <td>(block_rotation_mutation, cyclic_crossover, fi...</td>\n",
       "      <td>1</td>\n",
       "      <td>2</td>\n",
       "      <td>1.10181</td>\n",
       "    </tr>\n",
       "    <tr>\n",
       "      <th>2</th>\n",
       "      <td>(block_rotation_mutation, cyclic_crossover, fi...</td>\n",
       "      <td>2</td>\n",
       "      <td>1</td>\n",
       "      <td>1.04867</td>\n",
       "    </tr>\n",
       "    <tr>\n",
       "      <th>3</th>\n",
       "      <td>(block_rotation_mutation, cyclic_crossover, fi...</td>\n",
       "      <td>2</td>\n",
       "      <td>2</td>\n",
       "      <td>1.04867</td>\n",
       "    </tr>\n",
       "    <tr>\n",
       "      <th>0</th>\n",
       "      <td>(block_rotation_mutation, custom_pmxo, tournam...</td>\n",
       "      <td>1</td>\n",
       "      <td>1</td>\n",
       "      <td>1.16733</td>\n",
       "    </tr>\n",
       "    <tr>\n",
       "      <th>1</th>\n",
       "      <td>(block_rotation_mutation, custom_pmxo, tournam...</td>\n",
       "      <td>1</td>\n",
       "      <td>2</td>\n",
       "      <td>1.16733</td>\n",
       "    </tr>\n",
       "    <tr>\n",
       "      <th>2</th>\n",
       "      <td>(block_rotation_mutation, custom_pmxo, tournam...</td>\n",
       "      <td>2</td>\n",
       "      <td>1</td>\n",
       "      <td>1.15157</td>\n",
       "    </tr>\n",
       "    <tr>\n",
       "      <th>3</th>\n",
       "      <td>(block_rotation_mutation, custom_pmxo, tournam...</td>\n",
       "      <td>2</td>\n",
       "      <td>2</td>\n",
       "      <td>1.21129</td>\n",
       "    </tr>\n",
       "    <tr>\n",
       "      <th>0</th>\n",
       "      <td>(block_rotation_mutation, custom_pmxo, fitness...</td>\n",
       "      <td>1</td>\n",
       "      <td>1</td>\n",
       "      <td>1.2159</td>\n",
       "    </tr>\n",
       "    <tr>\n",
       "      <th>1</th>\n",
       "      <td>(block_rotation_mutation, custom_pmxo, fitness...</td>\n",
       "      <td>1</td>\n",
       "      <td>2</td>\n",
       "      <td>1.2159</td>\n",
       "    </tr>\n",
       "    <tr>\n",
       "      <th>2</th>\n",
       "      <td>(block_rotation_mutation, custom_pmxo, fitness...</td>\n",
       "      <td>2</td>\n",
       "      <td>1</td>\n",
       "      <td>1.11176</td>\n",
       "    </tr>\n",
       "    <tr>\n",
       "      <th>3</th>\n",
       "      <td>(block_rotation_mutation, custom_pmxo, fitness...</td>\n",
       "      <td>2</td>\n",
       "      <td>2</td>\n",
       "      <td>1.15243</td>\n",
       "    </tr>\n",
       "    <tr>\n",
       "      <th>0</th>\n",
       "      <td>(two_phase_shuffle_mutation, cyclic_crossover,...</td>\n",
       "      <td>1</td>\n",
       "      <td>1</td>\n",
       "      <td>1.15876</td>\n",
       "    </tr>\n",
       "    <tr>\n",
       "      <th>1</th>\n",
       "      <td>(two_phase_shuffle_mutation, cyclic_crossover,...</td>\n",
       "      <td>1</td>\n",
       "      <td>2</td>\n",
       "      <td>1.15876</td>\n",
       "    </tr>\n",
       "    <tr>\n",
       "      <th>2</th>\n",
       "      <td>(two_phase_shuffle_mutation, cyclic_crossover,...</td>\n",
       "      <td>2</td>\n",
       "      <td>1</td>\n",
       "      <td>1.16724</td>\n",
       "    </tr>\n",
       "    <tr>\n",
       "      <th>3</th>\n",
       "      <td>(two_phase_shuffle_mutation, cyclic_crossover,...</td>\n",
       "      <td>2</td>\n",
       "      <td>2</td>\n",
       "      <td>1.16724</td>\n",
       "    </tr>\n",
       "    <tr>\n",
       "      <th>0</th>\n",
       "      <td>(two_phase_shuffle_mutation, cyclic_crossover,...</td>\n",
       "      <td>1</td>\n",
       "      <td>1</td>\n",
       "      <td>1.27643</td>\n",
       "    </tr>\n",
       "    <tr>\n",
       "      <th>1</th>\n",
       "      <td>(two_phase_shuffle_mutation, cyclic_crossover,...</td>\n",
       "      <td>1</td>\n",
       "      <td>2</td>\n",
       "      <td>1.27643</td>\n",
       "    </tr>\n",
       "    <tr>\n",
       "      <th>2</th>\n",
       "      <td>(two_phase_shuffle_mutation, cyclic_crossover,...</td>\n",
       "      <td>2</td>\n",
       "      <td>1</td>\n",
       "      <td>1.07786</td>\n",
       "    </tr>\n",
       "    <tr>\n",
       "      <th>3</th>\n",
       "      <td>(two_phase_shuffle_mutation, cyclic_crossover,...</td>\n",
       "      <td>2</td>\n",
       "      <td>2</td>\n",
       "      <td>1.07786</td>\n",
       "    </tr>\n",
       "    <tr>\n",
       "      <th>0</th>\n",
       "      <td>(two_phase_shuffle_mutation, custom_pmxo, tour...</td>\n",
       "      <td>1</td>\n",
       "      <td>1</td>\n",
       "      <td>1.11053</td>\n",
       "    </tr>\n",
       "    <tr>\n",
       "      <th>1</th>\n",
       "      <td>(two_phase_shuffle_mutation, custom_pmxo, tour...</td>\n",
       "      <td>1</td>\n",
       "      <td>2</td>\n",
       "      <td>1.19438</td>\n",
       "    </tr>\n",
       "    <tr>\n",
       "      <th>2</th>\n",
       "      <td>(two_phase_shuffle_mutation, custom_pmxo, tour...</td>\n",
       "      <td>2</td>\n",
       "      <td>1</td>\n",
       "      <td>1.146</td>\n",
       "    </tr>\n",
       "    <tr>\n",
       "      <th>3</th>\n",
       "      <td>(two_phase_shuffle_mutation, custom_pmxo, tour...</td>\n",
       "      <td>2</td>\n",
       "      <td>2</td>\n",
       "      <td>1.146</td>\n",
       "    </tr>\n",
       "    <tr>\n",
       "      <th>0</th>\n",
       "      <td>(two_phase_shuffle_mutation, custom_pmxo, fitn...</td>\n",
       "      <td>1</td>\n",
       "      <td>1</td>\n",
       "      <td>1.06567</td>\n",
       "    </tr>\n",
       "    <tr>\n",
       "      <th>1</th>\n",
       "      <td>(two_phase_shuffle_mutation, custom_pmxo, fitn...</td>\n",
       "      <td>1</td>\n",
       "      <td>2</td>\n",
       "      <td>1.06567</td>\n",
       "    </tr>\n",
       "    <tr>\n",
       "      <th>2</th>\n",
       "      <td>(two_phase_shuffle_mutation, custom_pmxo, fitn...</td>\n",
       "      <td>2</td>\n",
       "      <td>1</td>\n",
       "      <td>1.13047</td>\n",
       "    </tr>\n",
       "    <tr>\n",
       "      <th>3</th>\n",
       "      <td>(two_phase_shuffle_mutation, custom_pmxo, fitn...</td>\n",
       "      <td>2</td>\n",
       "      <td>2</td>\n",
       "      <td>1.13047</td>\n",
       "    </tr>\n",
       "    <tr>\n",
       "      <th>0</th>\n",
       "      <td>(semi_shuffle, cyclic_crossover, tournament_se...</td>\n",
       "      <td>1</td>\n",
       "      <td>1</td>\n",
       "      <td>1.07453</td>\n",
       "    </tr>\n",
       "    <tr>\n",
       "      <th>1</th>\n",
       "      <td>(semi_shuffle, cyclic_crossover, tournament_se...</td>\n",
       "      <td>1</td>\n",
       "      <td>2</td>\n",
       "      <td>1.142</td>\n",
       "    </tr>\n",
       "    <tr>\n",
       "      <th>2</th>\n",
       "      <td>(semi_shuffle, cyclic_crossover, tournament_se...</td>\n",
       "      <td>2</td>\n",
       "      <td>1</td>\n",
       "      <td>1.0631</td>\n",
       "    </tr>\n",
       "    <tr>\n",
       "      <th>3</th>\n",
       "      <td>(semi_shuffle, cyclic_crossover, tournament_se...</td>\n",
       "      <td>2</td>\n",
       "      <td>2</td>\n",
       "      <td>1.0631</td>\n",
       "    </tr>\n",
       "    <tr>\n",
       "      <th>0</th>\n",
       "      <td>(semi_shuffle, cyclic_crossover, fitness_propo...</td>\n",
       "      <td>1</td>\n",
       "      <td>1</td>\n",
       "      <td>1.05843</td>\n",
       "    </tr>\n",
       "    <tr>\n",
       "      <th>1</th>\n",
       "      <td>(semi_shuffle, cyclic_crossover, fitness_propo...</td>\n",
       "      <td>1</td>\n",
       "      <td>2</td>\n",
       "      <td>1.05843</td>\n",
       "    </tr>\n",
       "    <tr>\n",
       "      <th>2</th>\n",
       "      <td>(semi_shuffle, cyclic_crossover, fitness_propo...</td>\n",
       "      <td>2</td>\n",
       "      <td>1</td>\n",
       "      <td>1.1651</td>\n",
       "    </tr>\n",
       "    <tr>\n",
       "      <th>3</th>\n",
       "      <td>(semi_shuffle, cyclic_crossover, fitness_propo...</td>\n",
       "      <td>2</td>\n",
       "      <td>2</td>\n",
       "      <td>1.1651</td>\n",
       "    </tr>\n",
       "    <tr>\n",
       "      <th>0</th>\n",
       "      <td>(semi_shuffle, custom_pmxo, tournament_selection)</td>\n",
       "      <td>1</td>\n",
       "      <td>1</td>\n",
       "      <td>1.20081</td>\n",
       "    </tr>\n",
       "    <tr>\n",
       "      <th>1</th>\n",
       "      <td>(semi_shuffle, custom_pmxo, tournament_selection)</td>\n",
       "      <td>1</td>\n",
       "      <td>2</td>\n",
       "      <td>1.23838</td>\n",
       "    </tr>\n",
       "    <tr>\n",
       "      <th>2</th>\n",
       "      <td>(semi_shuffle, custom_pmxo, tournament_selection)</td>\n",
       "      <td>2</td>\n",
       "      <td>1</td>\n",
       "      <td>1.19757</td>\n",
       "    </tr>\n",
       "    <tr>\n",
       "      <th>3</th>\n",
       "      <td>(semi_shuffle, custom_pmxo, tournament_selection)</td>\n",
       "      <td>2</td>\n",
       "      <td>2</td>\n",
       "      <td>1.19971</td>\n",
       "    </tr>\n",
       "    <tr>\n",
       "      <th>0</th>\n",
       "      <td>(semi_shuffle, custom_pmxo, fitness_proportion...</td>\n",
       "      <td>1</td>\n",
       "      <td>1</td>\n",
       "      <td>1.10714</td>\n",
       "    </tr>\n",
       "    <tr>\n",
       "      <th>1</th>\n",
       "      <td>(semi_shuffle, custom_pmxo, fitness_proportion...</td>\n",
       "      <td>1</td>\n",
       "      <td>2</td>\n",
       "      <td>1.10786</td>\n",
       "    </tr>\n",
       "    <tr>\n",
       "      <th>2</th>\n",
       "      <td>(semi_shuffle, custom_pmxo, fitness_proportion...</td>\n",
       "      <td>2</td>\n",
       "      <td>1</td>\n",
       "      <td>1.18324</td>\n",
       "    </tr>\n",
       "    <tr>\n",
       "      <th>3</th>\n",
       "      <td>(semi_shuffle, custom_pmxo, fitness_proportion...</td>\n",
       "      <td>2</td>\n",
       "      <td>2</td>\n",
       "      <td>1.18324</td>\n",
       "    </tr>\n",
       "  </tbody>\n",
       "</table>\n",
       "</div>"
      ],
      "text/plain": [
       "                                         Combination  Run Generation  Fitness\n",
       "0  (block_rotation_mutation, cyclic_crossover, to...    1          1  1.16667\n",
       "1  (block_rotation_mutation, cyclic_crossover, to...    1          2  1.16667\n",
       "2  (block_rotation_mutation, cyclic_crossover, to...    2          1  1.01143\n",
       "3  (block_rotation_mutation, cyclic_crossover, to...    2          2  1.07796\n",
       "0  (block_rotation_mutation, cyclic_crossover, fi...    1          1  1.10181\n",
       "1  (block_rotation_mutation, cyclic_crossover, fi...    1          2  1.10181\n",
       "2  (block_rotation_mutation, cyclic_crossover, fi...    2          1  1.04867\n",
       "3  (block_rotation_mutation, cyclic_crossover, fi...    2          2  1.04867\n",
       "0  (block_rotation_mutation, custom_pmxo, tournam...    1          1  1.16733\n",
       "1  (block_rotation_mutation, custom_pmxo, tournam...    1          2  1.16733\n",
       "2  (block_rotation_mutation, custom_pmxo, tournam...    2          1  1.15157\n",
       "3  (block_rotation_mutation, custom_pmxo, tournam...    2          2  1.21129\n",
       "0  (block_rotation_mutation, custom_pmxo, fitness...    1          1   1.2159\n",
       "1  (block_rotation_mutation, custom_pmxo, fitness...    1          2   1.2159\n",
       "2  (block_rotation_mutation, custom_pmxo, fitness...    2          1  1.11176\n",
       "3  (block_rotation_mutation, custom_pmxo, fitness...    2          2  1.15243\n",
       "0  (two_phase_shuffle_mutation, cyclic_crossover,...    1          1  1.15876\n",
       "1  (two_phase_shuffle_mutation, cyclic_crossover,...    1          2  1.15876\n",
       "2  (two_phase_shuffle_mutation, cyclic_crossover,...    2          1  1.16724\n",
       "3  (two_phase_shuffle_mutation, cyclic_crossover,...    2          2  1.16724\n",
       "0  (two_phase_shuffle_mutation, cyclic_crossover,...    1          1  1.27643\n",
       "1  (two_phase_shuffle_mutation, cyclic_crossover,...    1          2  1.27643\n",
       "2  (two_phase_shuffle_mutation, cyclic_crossover,...    2          1  1.07786\n",
       "3  (two_phase_shuffle_mutation, cyclic_crossover,...    2          2  1.07786\n",
       "0  (two_phase_shuffle_mutation, custom_pmxo, tour...    1          1  1.11053\n",
       "1  (two_phase_shuffle_mutation, custom_pmxo, tour...    1          2  1.19438\n",
       "2  (two_phase_shuffle_mutation, custom_pmxo, tour...    2          1    1.146\n",
       "3  (two_phase_shuffle_mutation, custom_pmxo, tour...    2          2    1.146\n",
       "0  (two_phase_shuffle_mutation, custom_pmxo, fitn...    1          1  1.06567\n",
       "1  (two_phase_shuffle_mutation, custom_pmxo, fitn...    1          2  1.06567\n",
       "2  (two_phase_shuffle_mutation, custom_pmxo, fitn...    2          1  1.13047\n",
       "3  (two_phase_shuffle_mutation, custom_pmxo, fitn...    2          2  1.13047\n",
       "0  (semi_shuffle, cyclic_crossover, tournament_se...    1          1  1.07453\n",
       "1  (semi_shuffle, cyclic_crossover, tournament_se...    1          2    1.142\n",
       "2  (semi_shuffle, cyclic_crossover, tournament_se...    2          1   1.0631\n",
       "3  (semi_shuffle, cyclic_crossover, tournament_se...    2          2   1.0631\n",
       "0  (semi_shuffle, cyclic_crossover, fitness_propo...    1          1  1.05843\n",
       "1  (semi_shuffle, cyclic_crossover, fitness_propo...    1          2  1.05843\n",
       "2  (semi_shuffle, cyclic_crossover, fitness_propo...    2          1   1.1651\n",
       "3  (semi_shuffle, cyclic_crossover, fitness_propo...    2          2   1.1651\n",
       "0  (semi_shuffle, custom_pmxo, tournament_selection)    1          1  1.20081\n",
       "1  (semi_shuffle, custom_pmxo, tournament_selection)    1          2  1.23838\n",
       "2  (semi_shuffle, custom_pmxo, tournament_selection)    2          1  1.19757\n",
       "3  (semi_shuffle, custom_pmxo, tournament_selection)    2          2  1.19971\n",
       "0  (semi_shuffle, custom_pmxo, fitness_proportion...    1          1  1.10714\n",
       "1  (semi_shuffle, custom_pmxo, fitness_proportion...    1          2  1.10786\n",
       "2  (semi_shuffle, custom_pmxo, fitness_proportion...    2          1  1.18324\n",
       "3  (semi_shuffle, custom_pmxo, fitness_proportion...    2          2  1.18324"
      ]
     },
     "execution_count": 52,
     "metadata": {},
     "output_type": "execute_result"
    }
   ],
   "source": [
    "#experimentar 1ª com poucas runs e poucas gen e pop baixa para ver se corre tudo bem\n",
    "comb_tuning(mut_func = mut_func, xo_func = xo_func, selection_algo=selection_algo,\n",
    "            n_runs=2, max_gen=2, pop_size=5)"
   ]
  },
  {
   "cell_type": "code",
   "execution_count": 60,
   "id": "b6ef89c4",
   "metadata": {},
   "outputs": [
    {
     "data": {
      "text/html": [
       "<div>\n",
       "<style scoped>\n",
       "    .dataframe tbody tr th:only-of-type {\n",
       "        vertical-align: middle;\n",
       "    }\n",
       "\n",
       "    .dataframe tbody tr th {\n",
       "        vertical-align: top;\n",
       "    }\n",
       "\n",
       "    .dataframe thead th {\n",
       "        text-align: right;\n",
       "    }\n",
       "</style>\n",
       "<table border=\"1\" class=\"dataframe\">\n",
       "  <thead>\n",
       "    <tr style=\"text-align: right;\">\n",
       "      <th></th>\n",
       "      <th>Combination</th>\n",
       "      <th>Run</th>\n",
       "      <th>Generation</th>\n",
       "      <th>Fitness</th>\n",
       "    </tr>\n",
       "  </thead>\n",
       "  <tbody>\n",
       "    <tr>\n",
       "      <th>0</th>\n",
       "      <td>('block_rotation_mutation', 'cyclic_crossover'...</td>\n",
       "      <td>1</td>\n",
       "      <td>1</td>\n",
       "      <td>1.16667</td>\n",
       "    </tr>\n",
       "    <tr>\n",
       "      <th>1</th>\n",
       "      <td>('block_rotation_mutation', 'cyclic_crossover'...</td>\n",
       "      <td>1</td>\n",
       "      <td>2</td>\n",
       "      <td>1.16667</td>\n",
       "    </tr>\n",
       "    <tr>\n",
       "      <th>2</th>\n",
       "      <td>('block_rotation_mutation', 'cyclic_crossover'...</td>\n",
       "      <td>2</td>\n",
       "      <td>1</td>\n",
       "      <td>1.01143</td>\n",
       "    </tr>\n",
       "    <tr>\n",
       "      <th>3</th>\n",
       "      <td>('block_rotation_mutation', 'cyclic_crossover'...</td>\n",
       "      <td>2</td>\n",
       "      <td>2</td>\n",
       "      <td>1.07796</td>\n",
       "    </tr>\n",
       "    <tr>\n",
       "      <th>4</th>\n",
       "      <td>('block_rotation_mutation', 'cyclic_crossover'...</td>\n",
       "      <td>1</td>\n",
       "      <td>1</td>\n",
       "      <td>1.10181</td>\n",
       "    </tr>\n",
       "    <tr>\n",
       "      <th>5</th>\n",
       "      <td>('block_rotation_mutation', 'cyclic_crossover'...</td>\n",
       "      <td>1</td>\n",
       "      <td>2</td>\n",
       "      <td>1.10181</td>\n",
       "    </tr>\n",
       "    <tr>\n",
       "      <th>6</th>\n",
       "      <td>('block_rotation_mutation', 'cyclic_crossover'...</td>\n",
       "      <td>2</td>\n",
       "      <td>1</td>\n",
       "      <td>1.04867</td>\n",
       "    </tr>\n",
       "    <tr>\n",
       "      <th>7</th>\n",
       "      <td>('block_rotation_mutation', 'cyclic_crossover'...</td>\n",
       "      <td>2</td>\n",
       "      <td>2</td>\n",
       "      <td>1.04867</td>\n",
       "    </tr>\n",
       "    <tr>\n",
       "      <th>8</th>\n",
       "      <td>('block_rotation_mutation', 'custom_pmxo', 'to...</td>\n",
       "      <td>1</td>\n",
       "      <td>1</td>\n",
       "      <td>1.16733</td>\n",
       "    </tr>\n",
       "    <tr>\n",
       "      <th>9</th>\n",
       "      <td>('block_rotation_mutation', 'custom_pmxo', 'to...</td>\n",
       "      <td>1</td>\n",
       "      <td>2</td>\n",
       "      <td>1.16733</td>\n",
       "    </tr>\n",
       "    <tr>\n",
       "      <th>10</th>\n",
       "      <td>('block_rotation_mutation', 'custom_pmxo', 'to...</td>\n",
       "      <td>2</td>\n",
       "      <td>1</td>\n",
       "      <td>1.15157</td>\n",
       "    </tr>\n",
       "    <tr>\n",
       "      <th>11</th>\n",
       "      <td>('block_rotation_mutation', 'custom_pmxo', 'to...</td>\n",
       "      <td>2</td>\n",
       "      <td>2</td>\n",
       "      <td>1.21129</td>\n",
       "    </tr>\n",
       "    <tr>\n",
       "      <th>12</th>\n",
       "      <td>('block_rotation_mutation', 'custom_pmxo', 'fi...</td>\n",
       "      <td>1</td>\n",
       "      <td>1</td>\n",
       "      <td>1.21590</td>\n",
       "    </tr>\n",
       "    <tr>\n",
       "      <th>13</th>\n",
       "      <td>('block_rotation_mutation', 'custom_pmxo', 'fi...</td>\n",
       "      <td>1</td>\n",
       "      <td>2</td>\n",
       "      <td>1.21590</td>\n",
       "    </tr>\n",
       "    <tr>\n",
       "      <th>14</th>\n",
       "      <td>('block_rotation_mutation', 'custom_pmxo', 'fi...</td>\n",
       "      <td>2</td>\n",
       "      <td>1</td>\n",
       "      <td>1.11176</td>\n",
       "    </tr>\n",
       "    <tr>\n",
       "      <th>15</th>\n",
       "      <td>('block_rotation_mutation', 'custom_pmxo', 'fi...</td>\n",
       "      <td>2</td>\n",
       "      <td>2</td>\n",
       "      <td>1.15243</td>\n",
       "    </tr>\n",
       "    <tr>\n",
       "      <th>16</th>\n",
       "      <td>('two_phase_shuffle_mutation', 'cyclic_crossov...</td>\n",
       "      <td>1</td>\n",
       "      <td>1</td>\n",
       "      <td>1.15876</td>\n",
       "    </tr>\n",
       "    <tr>\n",
       "      <th>17</th>\n",
       "      <td>('two_phase_shuffle_mutation', 'cyclic_crossov...</td>\n",
       "      <td>1</td>\n",
       "      <td>2</td>\n",
       "      <td>1.15876</td>\n",
       "    </tr>\n",
       "    <tr>\n",
       "      <th>18</th>\n",
       "      <td>('two_phase_shuffle_mutation', 'cyclic_crossov...</td>\n",
       "      <td>2</td>\n",
       "      <td>1</td>\n",
       "      <td>1.16724</td>\n",
       "    </tr>\n",
       "    <tr>\n",
       "      <th>19</th>\n",
       "      <td>('two_phase_shuffle_mutation', 'cyclic_crossov...</td>\n",
       "      <td>2</td>\n",
       "      <td>2</td>\n",
       "      <td>1.16724</td>\n",
       "    </tr>\n",
       "    <tr>\n",
       "      <th>20</th>\n",
       "      <td>('two_phase_shuffle_mutation', 'cyclic_crossov...</td>\n",
       "      <td>1</td>\n",
       "      <td>1</td>\n",
       "      <td>1.27643</td>\n",
       "    </tr>\n",
       "    <tr>\n",
       "      <th>21</th>\n",
       "      <td>('two_phase_shuffle_mutation', 'cyclic_crossov...</td>\n",
       "      <td>1</td>\n",
       "      <td>2</td>\n",
       "      <td>1.27643</td>\n",
       "    </tr>\n",
       "    <tr>\n",
       "      <th>22</th>\n",
       "      <td>('two_phase_shuffle_mutation', 'cyclic_crossov...</td>\n",
       "      <td>2</td>\n",
       "      <td>1</td>\n",
       "      <td>1.07786</td>\n",
       "    </tr>\n",
       "    <tr>\n",
       "      <th>23</th>\n",
       "      <td>('two_phase_shuffle_mutation', 'cyclic_crossov...</td>\n",
       "      <td>2</td>\n",
       "      <td>2</td>\n",
       "      <td>1.07786</td>\n",
       "    </tr>\n",
       "    <tr>\n",
       "      <th>24</th>\n",
       "      <td>('two_phase_shuffle_mutation', 'custom_pmxo', ...</td>\n",
       "      <td>1</td>\n",
       "      <td>1</td>\n",
       "      <td>1.11053</td>\n",
       "    </tr>\n",
       "    <tr>\n",
       "      <th>25</th>\n",
       "      <td>('two_phase_shuffle_mutation', 'custom_pmxo', ...</td>\n",
       "      <td>1</td>\n",
       "      <td>2</td>\n",
       "      <td>1.19438</td>\n",
       "    </tr>\n",
       "    <tr>\n",
       "      <th>26</th>\n",
       "      <td>('two_phase_shuffle_mutation', 'custom_pmxo', ...</td>\n",
       "      <td>2</td>\n",
       "      <td>1</td>\n",
       "      <td>1.14600</td>\n",
       "    </tr>\n",
       "    <tr>\n",
       "      <th>27</th>\n",
       "      <td>('two_phase_shuffle_mutation', 'custom_pmxo', ...</td>\n",
       "      <td>2</td>\n",
       "      <td>2</td>\n",
       "      <td>1.14600</td>\n",
       "    </tr>\n",
       "    <tr>\n",
       "      <th>28</th>\n",
       "      <td>('two_phase_shuffle_mutation', 'custom_pmxo', ...</td>\n",
       "      <td>1</td>\n",
       "      <td>1</td>\n",
       "      <td>1.06567</td>\n",
       "    </tr>\n",
       "    <tr>\n",
       "      <th>29</th>\n",
       "      <td>('two_phase_shuffle_mutation', 'custom_pmxo', ...</td>\n",
       "      <td>1</td>\n",
       "      <td>2</td>\n",
       "      <td>1.06567</td>\n",
       "    </tr>\n",
       "    <tr>\n",
       "      <th>30</th>\n",
       "      <td>('two_phase_shuffle_mutation', 'custom_pmxo', ...</td>\n",
       "      <td>2</td>\n",
       "      <td>1</td>\n",
       "      <td>1.13047</td>\n",
       "    </tr>\n",
       "    <tr>\n",
       "      <th>31</th>\n",
       "      <td>('two_phase_shuffle_mutation', 'custom_pmxo', ...</td>\n",
       "      <td>2</td>\n",
       "      <td>2</td>\n",
       "      <td>1.13047</td>\n",
       "    </tr>\n",
       "    <tr>\n",
       "      <th>32</th>\n",
       "      <td>('semi_shuffle', 'cyclic_crossover', 'tourname...</td>\n",
       "      <td>1</td>\n",
       "      <td>1</td>\n",
       "      <td>1.07453</td>\n",
       "    </tr>\n",
       "    <tr>\n",
       "      <th>33</th>\n",
       "      <td>('semi_shuffle', 'cyclic_crossover', 'tourname...</td>\n",
       "      <td>1</td>\n",
       "      <td>2</td>\n",
       "      <td>1.14200</td>\n",
       "    </tr>\n",
       "    <tr>\n",
       "      <th>34</th>\n",
       "      <td>('semi_shuffle', 'cyclic_crossover', 'tourname...</td>\n",
       "      <td>2</td>\n",
       "      <td>1</td>\n",
       "      <td>1.06310</td>\n",
       "    </tr>\n",
       "    <tr>\n",
       "      <th>35</th>\n",
       "      <td>('semi_shuffle', 'cyclic_crossover', 'tourname...</td>\n",
       "      <td>2</td>\n",
       "      <td>2</td>\n",
       "      <td>1.06310</td>\n",
       "    </tr>\n",
       "    <tr>\n",
       "      <th>36</th>\n",
       "      <td>('semi_shuffle', 'cyclic_crossover', 'fitness_...</td>\n",
       "      <td>1</td>\n",
       "      <td>1</td>\n",
       "      <td>1.05843</td>\n",
       "    </tr>\n",
       "    <tr>\n",
       "      <th>37</th>\n",
       "      <td>('semi_shuffle', 'cyclic_crossover', 'fitness_...</td>\n",
       "      <td>1</td>\n",
       "      <td>2</td>\n",
       "      <td>1.05843</td>\n",
       "    </tr>\n",
       "    <tr>\n",
       "      <th>38</th>\n",
       "      <td>('semi_shuffle', 'cyclic_crossover', 'fitness_...</td>\n",
       "      <td>2</td>\n",
       "      <td>1</td>\n",
       "      <td>1.16510</td>\n",
       "    </tr>\n",
       "    <tr>\n",
       "      <th>39</th>\n",
       "      <td>('semi_shuffle', 'cyclic_crossover', 'fitness_...</td>\n",
       "      <td>2</td>\n",
       "      <td>2</td>\n",
       "      <td>1.16510</td>\n",
       "    </tr>\n",
       "    <tr>\n",
       "      <th>40</th>\n",
       "      <td>('semi_shuffle', 'custom_pmxo', 'tournament_se...</td>\n",
       "      <td>1</td>\n",
       "      <td>1</td>\n",
       "      <td>1.20081</td>\n",
       "    </tr>\n",
       "    <tr>\n",
       "      <th>41</th>\n",
       "      <td>('semi_shuffle', 'custom_pmxo', 'tournament_se...</td>\n",
       "      <td>1</td>\n",
       "      <td>2</td>\n",
       "      <td>1.23838</td>\n",
       "    </tr>\n",
       "    <tr>\n",
       "      <th>42</th>\n",
       "      <td>('semi_shuffle', 'custom_pmxo', 'tournament_se...</td>\n",
       "      <td>2</td>\n",
       "      <td>1</td>\n",
       "      <td>1.19757</td>\n",
       "    </tr>\n",
       "    <tr>\n",
       "      <th>43</th>\n",
       "      <td>('semi_shuffle', 'custom_pmxo', 'tournament_se...</td>\n",
       "      <td>2</td>\n",
       "      <td>2</td>\n",
       "      <td>1.19971</td>\n",
       "    </tr>\n",
       "    <tr>\n",
       "      <th>44</th>\n",
       "      <td>('semi_shuffle', 'custom_pmxo', 'fitness_propo...</td>\n",
       "      <td>1</td>\n",
       "      <td>1</td>\n",
       "      <td>1.10714</td>\n",
       "    </tr>\n",
       "    <tr>\n",
       "      <th>45</th>\n",
       "      <td>('semi_shuffle', 'custom_pmxo', 'fitness_propo...</td>\n",
       "      <td>1</td>\n",
       "      <td>2</td>\n",
       "      <td>1.10786</td>\n",
       "    </tr>\n",
       "    <tr>\n",
       "      <th>46</th>\n",
       "      <td>('semi_shuffle', 'custom_pmxo', 'fitness_propo...</td>\n",
       "      <td>2</td>\n",
       "      <td>1</td>\n",
       "      <td>1.18324</td>\n",
       "    </tr>\n",
       "    <tr>\n",
       "      <th>47</th>\n",
       "      <td>('semi_shuffle', 'custom_pmxo', 'fitness_propo...</td>\n",
       "      <td>2</td>\n",
       "      <td>2</td>\n",
       "      <td>1.18324</td>\n",
       "    </tr>\n",
       "  </tbody>\n",
       "</table>\n",
       "</div>"
      ],
      "text/plain": [
       "                                          Combination  Run  Generation  \\\n",
       "0   ('block_rotation_mutation', 'cyclic_crossover'...    1           1   \n",
       "1   ('block_rotation_mutation', 'cyclic_crossover'...    1           2   \n",
       "2   ('block_rotation_mutation', 'cyclic_crossover'...    2           1   \n",
       "3   ('block_rotation_mutation', 'cyclic_crossover'...    2           2   \n",
       "4   ('block_rotation_mutation', 'cyclic_crossover'...    1           1   \n",
       "5   ('block_rotation_mutation', 'cyclic_crossover'...    1           2   \n",
       "6   ('block_rotation_mutation', 'cyclic_crossover'...    2           1   \n",
       "7   ('block_rotation_mutation', 'cyclic_crossover'...    2           2   \n",
       "8   ('block_rotation_mutation', 'custom_pmxo', 'to...    1           1   \n",
       "9   ('block_rotation_mutation', 'custom_pmxo', 'to...    1           2   \n",
       "10  ('block_rotation_mutation', 'custom_pmxo', 'to...    2           1   \n",
       "11  ('block_rotation_mutation', 'custom_pmxo', 'to...    2           2   \n",
       "12  ('block_rotation_mutation', 'custom_pmxo', 'fi...    1           1   \n",
       "13  ('block_rotation_mutation', 'custom_pmxo', 'fi...    1           2   \n",
       "14  ('block_rotation_mutation', 'custom_pmxo', 'fi...    2           1   \n",
       "15  ('block_rotation_mutation', 'custom_pmxo', 'fi...    2           2   \n",
       "16  ('two_phase_shuffle_mutation', 'cyclic_crossov...    1           1   \n",
       "17  ('two_phase_shuffle_mutation', 'cyclic_crossov...    1           2   \n",
       "18  ('two_phase_shuffle_mutation', 'cyclic_crossov...    2           1   \n",
       "19  ('two_phase_shuffle_mutation', 'cyclic_crossov...    2           2   \n",
       "20  ('two_phase_shuffle_mutation', 'cyclic_crossov...    1           1   \n",
       "21  ('two_phase_shuffle_mutation', 'cyclic_crossov...    1           2   \n",
       "22  ('two_phase_shuffle_mutation', 'cyclic_crossov...    2           1   \n",
       "23  ('two_phase_shuffle_mutation', 'cyclic_crossov...    2           2   \n",
       "24  ('two_phase_shuffle_mutation', 'custom_pmxo', ...    1           1   \n",
       "25  ('two_phase_shuffle_mutation', 'custom_pmxo', ...    1           2   \n",
       "26  ('two_phase_shuffle_mutation', 'custom_pmxo', ...    2           1   \n",
       "27  ('two_phase_shuffle_mutation', 'custom_pmxo', ...    2           2   \n",
       "28  ('two_phase_shuffle_mutation', 'custom_pmxo', ...    1           1   \n",
       "29  ('two_phase_shuffle_mutation', 'custom_pmxo', ...    1           2   \n",
       "30  ('two_phase_shuffle_mutation', 'custom_pmxo', ...    2           1   \n",
       "31  ('two_phase_shuffle_mutation', 'custom_pmxo', ...    2           2   \n",
       "32  ('semi_shuffle', 'cyclic_crossover', 'tourname...    1           1   \n",
       "33  ('semi_shuffle', 'cyclic_crossover', 'tourname...    1           2   \n",
       "34  ('semi_shuffle', 'cyclic_crossover', 'tourname...    2           1   \n",
       "35  ('semi_shuffle', 'cyclic_crossover', 'tourname...    2           2   \n",
       "36  ('semi_shuffle', 'cyclic_crossover', 'fitness_...    1           1   \n",
       "37  ('semi_shuffle', 'cyclic_crossover', 'fitness_...    1           2   \n",
       "38  ('semi_shuffle', 'cyclic_crossover', 'fitness_...    2           1   \n",
       "39  ('semi_shuffle', 'cyclic_crossover', 'fitness_...    2           2   \n",
       "40  ('semi_shuffle', 'custom_pmxo', 'tournament_se...    1           1   \n",
       "41  ('semi_shuffle', 'custom_pmxo', 'tournament_se...    1           2   \n",
       "42  ('semi_shuffle', 'custom_pmxo', 'tournament_se...    2           1   \n",
       "43  ('semi_shuffle', 'custom_pmxo', 'tournament_se...    2           2   \n",
       "44  ('semi_shuffle', 'custom_pmxo', 'fitness_propo...    1           1   \n",
       "45  ('semi_shuffle', 'custom_pmxo', 'fitness_propo...    1           2   \n",
       "46  ('semi_shuffle', 'custom_pmxo', 'fitness_propo...    2           1   \n",
       "47  ('semi_shuffle', 'custom_pmxo', 'fitness_propo...    2           2   \n",
       "\n",
       "    Fitness  \n",
       "0   1.16667  \n",
       "1   1.16667  \n",
       "2   1.01143  \n",
       "3   1.07796  \n",
       "4   1.10181  \n",
       "5   1.10181  \n",
       "6   1.04867  \n",
       "7   1.04867  \n",
       "8   1.16733  \n",
       "9   1.16733  \n",
       "10  1.15157  \n",
       "11  1.21129  \n",
       "12  1.21590  \n",
       "13  1.21590  \n",
       "14  1.11176  \n",
       "15  1.15243  \n",
       "16  1.15876  \n",
       "17  1.15876  \n",
       "18  1.16724  \n",
       "19  1.16724  \n",
       "20  1.27643  \n",
       "21  1.27643  \n",
       "22  1.07786  \n",
       "23  1.07786  \n",
       "24  1.11053  \n",
       "25  1.19438  \n",
       "26  1.14600  \n",
       "27  1.14600  \n",
       "28  1.06567  \n",
       "29  1.06567  \n",
       "30  1.13047  \n",
       "31  1.13047  \n",
       "32  1.07453  \n",
       "33  1.14200  \n",
       "34  1.06310  \n",
       "35  1.06310  \n",
       "36  1.05843  \n",
       "37  1.05843  \n",
       "38  1.16510  \n",
       "39  1.16510  \n",
       "40  1.20081  \n",
       "41  1.23838  \n",
       "42  1.19757  \n",
       "43  1.19971  \n",
       "44  1.10714  \n",
       "45  1.10786  \n",
       "46  1.18324  \n",
       "47  1.18324  "
      ]
     },
     "execution_count": 60,
     "metadata": {},
     "output_type": "execute_result"
    }
   ],
   "source": [
    "results = pd.read_csv(HERE.parent /'combination_search' /'final_results.csv')\n",
    "results"
   ]
  },
  {
   "cell_type": "code",
   "execution_count": null,
   "id": "2ad3ae5c",
   "metadata": {},
   "outputs": [],
   "source": [
    "# It is also stored in a global variable, not only in csv\n",
    "\n",
    "#unique = final_results['Combination'].unique()\n",
    "#for u in unique:\n",
    "#    print(final_results[final_results['Combination']==u])"
   ]
  }
 ],
 "metadata": {
  "kernelspec": {
   "display_name": ".venv",
   "language": "python",
   "name": "python3"
  },
  "language_info": {
   "codemirror_mode": {
    "name": "ipython",
    "version": 3
   },
   "file_extension": ".py",
   "mimetype": "text/x-python",
   "name": "python",
   "nbconvert_exporter": "python",
   "pygments_lexer": "ipython3",
   "version": "3.13.1"
  }
 },
 "nbformat": 4,
 "nbformat_minor": 5
}
