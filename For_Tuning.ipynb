{
 "cells": [
  {
   "cell_type": "markdown",
   "id": "74453fc2",
   "metadata": {},
   "source": [
    "Applying Optimization and Grid Search"
   ]
  },
  {
   "cell_type": "code",
   "execution_count": 1,
   "id": "a2227188",
   "metadata": {},
   "outputs": [],
   "source": [
    "#imports\n",
    "import itertools\n",
    "import pandas as pd\n",
    "\n",
    "# Genetic Algorithm\n",
    "from library.GA import genetic_algorithm, get_best_individual \n",
    "\n",
    "# Class GA Solution\n",
    "from library.lineup import LUGASolution\n",
    "\n",
    "# Mutation Functions\n",
    "from library.mutation_funcs import block_rotation_mutation, two_phase_shuffle_mutation, semi_shuffle\n",
    "\n",
    "# Crossover Functions\n",
    "from library.xo_funcs import cyclic_crossover, custom_pmxo\n",
    "\n",
    "# Selection Algorithm\n",
    "from library.selection_algorithms import tournament_selection, ranking_selection\n",
    "from library.selection_algorithms import fitness_proportionate_selection #NÃO PODEMOS USAR ERA SÓ PARA EXEMPLO\n",
    "\n",
    "# Line-up Problem: Datasets\n",
    "from library.lineup import artists_df, conflicts_df"
   ]
  },
  {
   "cell_type": "code",
   "execution_count": 4,
   "id": "10ea3d59",
   "metadata": {},
   "outputs": [
    {
     "data": {
      "application/vnd.jupyter.widget-view+json": {
       "model_id": "b9784596ebc94e7496e615031ea97c34",
       "version_major": 2,
       "version_minor": 0
      },
      "text/plain": [
       "Generations:   0%|          | 0/10 [00:00<?, ?gen/s]"
      ]
     },
     "metadata": {},
     "output_type": "display_data"
    },
    {
     "data": {
      "application/vnd.jupyter.widget-view+json": {
       "model_id": "90a1312387e045d0a15f4b5231be3c2e",
       "version_major": 2,
       "version_minor": 0
      },
      "text/plain": [
       "Gen  1:   0%|          | 0/10 [00:00<?, ?ind/s]"
      ]
     },
     "metadata": {},
     "output_type": "display_data"
    },
    {
     "data": {
      "text/plain": [
       "<LUSolution (5 Stages, 7 Slots)>\n",
       "╒═════════╤═════════════════════╤══════════════════════════╤═══════════════════════╤════════════════╤════════════════════╤══════════════════╤════════════════════╕\n",
       "│         │       Slot 1        │          Slot 2          │        Slot 3         │     Slot 4     │       Slot 5       │      Slot 6      │       Slot 7       │\n",
       "╞═════════╪═════════════════════╪══════════════════════════╪═══════════════════════╪════════════════╪════════════════════╪══════════════════╪════════════════════╡\n",
       "│ Stage 1 │   The Jazz Nomads   │     Synthwave Saints     │   Celestial Voyage    │  Velvet Pulse  │    Turbo Vortex    │ Nightfall Sonata │    Aurora Skies    │\n",
       "├─────────┼─────────────────────┼──────────────────────────┼───────────────────────┼────────────────┼────────────────────┼──────────────────┼────────────────────┤\n",
       "│ Stage 2 │   Crimson Harmony   │ The Polyrhythm Syndicate │   Cosmic Frequency    │ Midnight Echo  │ Parallel Dimension │   Neon Reverie   │   Lunar Spectrum   │\n",
       "├─────────┼─────────────────────┼──────────────────────────┼───────────────────────┼────────────────┼────────────────────┼──────────────────┼────────────────────┤\n",
       "│ Stage 3 │    Golden Ember     │      Static Mirage       │ Cloud Nine Collective │ Phantom Groove │ Velvet Underground │  Shadow Cadence  │    Echo Chamber    │\n",
       "├─────────┼─────────────────────┼──────────────────────────┼───────────────────────┼────────────────┼────────────────────┼──────────────────┼────────────────────┤\n",
       "│ Stage 4 │    Quantum Beat     │     The Silver Owls      │  The Wandering Notes  │ Mystic Rhythms │   Deep Resonance   │ Hypnotic Echoes  │ Electric Serpents  │\n",
       "├─────────┼─────────────────────┼──────────────────────────┼───────────────────────┼────────────────┼────────────────────┼──────────────────┼────────────────────┤\n",
       "│ Stage 5 │ Harmonic Dissonance │ The Bassline Architects  │    Rhythm Alchemy     │  Solar Flare   │    Blue Horizon    │   Astral Tide    │ The Sonic Drifters │\n",
       "╘═════════╧═════════════════════╧══════════════════════════╧═══════════════════════╧════════════════╧════════════════════╧══════════════════╧════════════════════╛\n",
       "Scores:\n",
       "  Prime Slot Popularity : 0.91800\n",
       "  Genre Diversity       : 0.83333\n",
       "  Conflict Penalty      : 0.44357\n",
       "  Total Fitness         : 1.30776"
      ]
     },
     "execution_count": 4,
     "metadata": {},
     "output_type": "execute_result"
    }
   ],
   "source": [
    "POP_SIZE = 10\n",
    "\n",
    "initial_population = [LUGASolution(mutation_function = block_rotation_mutation, crossover_function = cyclic_crossover\n",
    "                                   )\n",
    "                      for i in range(POP_SIZE)]\n",
    "\n",
    "genetic_algorithm(initial_population=initial_population,\n",
    "                  max_gen=10,\n",
    "                  selection_algorithm = tournament_selection,\n",
    "                  maximization=True,\n",
    "                  xo_prob=0.8,\n",
    "                  mut_prob=1,\n",
    "                  elitism=True,\n",
    "                  verbose=False)[0]\n",
    "\n",
    "#get_best_ind(initial_population, maximization=True)"
   ]
  },
  {
   "cell_type": "code",
   "execution_count": 5,
   "id": "bc85a776",
   "metadata": {},
   "outputs": [],
   "source": [
    "def comb_tuning(mut_func: dict, xo_func: dict, selection_algo: list,\n",
    "                n_runs: int = 30, max_gen:int = 100, pop_size: int = 50):\n",
    "    \n",
    "    \"\"\"\n",
    "    Returns a DataFrame with the following columns:\n",
    "    - 'Combination' - Combination tuple of a mutation, a crossover and a selection algorithm\n",
    "    - 'Run' - Each Combination is runned a specified amount of times, this column specifies the run \n",
    "    number in which the results were obtained.\n",
    "    - 'Generation' - Each Run is composed of a specified amount of generations, this column specifies the \n",
    "    generation number in which the results were obtained.\n",
    "    - 'Best Fitness' - This is the best fitness obtained at each generation.\n",
    "\n",
    "    Purpose:\n",
    "    With this df we can play around inter-run and intra-run statistics, since it contains \n",
    "    all the results from the various combinations\n",
    "    \"\"\"\n",
    "\n",
    "    combinations = list(itertools.product(list(mut_func.keys()), list(xo_func.keys()), selection_algo))\n",
    "\n",
    "    combs_results = []\n",
    "    for comb in combinations:\n",
    "        # Store the best results of each generation for each run.\n",
    "        runs_results = []\n",
    "        for run in range(1, n_runs+1):\n",
    "            initial_population = [LUGASolution(mutation_function = comb[0], crossover_function = comb[1])\n",
    "                                               for i in range(pop_size)]\n",
    "            \n",
    "            _, generation_df = genetic_algorithm(initial_population=initial_population,\n",
    "                    max_gen=max_gen,\n",
    "                    selection_algorithm = comb[2],\n",
    "                    maximization=False,\n",
    "                    xo_prob=xo_func[comb[1]],\n",
    "                    mut_prob= mut_func[comb[0]],\n",
    "                    elitism=True,\n",
    "                    verbose=False)\n",
    "            \n",
    "            current_run = pd.DataFrame()\n",
    "            current_run['Run'] = [run for _ in range(1, n_runs+1)] #fill column 'Run' with the #run it is in\n",
    "            \n",
    "            #with run=#run, merge the df that contains the columns with #generation and its best fitness\n",
    "            one_run = pd.concat([current_run, generation_df], axis=1) \n",
    "            runs_results.append(one_run)\n",
    "        \n",
    "        current_comb_all_runs = pd.concat(runs_results) #concat all the different runs along the index axis\n",
    "        \n",
    "        # Generate filename based on combination\n",
    "        filepath = f\"../combination_search/comb_{comb[0]}_{comb[1]}_{comb[2]}.csv\"\n",
    "        # Save to CSV\n",
    "        current_comb_all_runs.to_csv(filepath, index=False)\n",
    "        \n",
    "        current_comb = pd.DataFrame()\n",
    "        current_comb['Combination'] = [(comb[0], comb[1], comb[2]) for _ in range(len(combinations))]\n",
    "        one_comb = pd.concat([current_comb, current_comb_all_runs], axis=1)\n",
    "        combs_results.append(one_comb)\n",
    "    \n",
    "    final_results = pd.concat(combs_results)\n",
    "    final_results.to_csv(f\"../combination_search/final_results.csv\", index=False)\n",
    "    \n",
    "    return final_results"
   ]
  },
  {
   "cell_type": "code",
   "execution_count": 8,
   "id": "a2afbfb2",
   "metadata": {},
   "outputs": [],
   "source": [
    "#Example\n",
    "mut_func = {block_rotation_mutation:0.07, two_phase_shuffle_mutation: 0.1, semi_shuffle: 0.2}\n",
    "xo_func = {cyclic_crossover:0.7, custom_pmxo: 0.8}\n",
    "selection_algo = [tournament_selection, ranking_selection]"
   ]
  },
  {
   "cell_type": "code",
   "execution_count": 7,
   "id": "a455d480",
   "metadata": {},
   "outputs": [
    {
     "data": {
      "application/vnd.jupyter.widget-view+json": {
       "model_id": "ad93f267075a43b785e64c2900230243",
       "version_major": 2,
       "version_minor": 0
      },
      "text/plain": [
       "Generations:   0%|          | 0/10 [00:00<?, ?gen/s]"
      ]
     },
     "metadata": {},
     "output_type": "display_data"
    },
    {
     "data": {
      "application/vnd.jupyter.widget-view+json": {
       "model_id": "0119f3cdfd4a4495b797d38d18425cea",
       "version_major": 2,
       "version_minor": 0
      },
      "text/plain": [
       "Gen  1:   0%|          | 0/20 [00:00<?, ?ind/s]"
      ]
     },
     "metadata": {},
     "output_type": "display_data"
    },
    {
     "data": {
      "application/vnd.jupyter.widget-view+json": {
       "model_id": "a8a9aab817094d5cba40f0b99a0ecf24",
       "version_major": 2,
       "version_minor": 0
      },
      "text/plain": [
       "Generations:   0%|          | 0/10 [00:00<?, ?gen/s]"
      ]
     },
     "metadata": {},
     "output_type": "display_data"
    },
    {
     "data": {
      "application/vnd.jupyter.widget-view+json": {
       "model_id": "a9606bda534b49cc8b694a5b75ed9755",
       "version_major": 2,
       "version_minor": 0
      },
      "text/plain": [
       "Gen  1:   0%|          | 0/20 [00:00<?, ?ind/s]"
      ]
     },
     "metadata": {},
     "output_type": "display_data"
    },
    {
     "data": {
      "application/vnd.jupyter.widget-view+json": {
       "model_id": "2311036bdada46a3b7c97da825212150",
       "version_major": 2,
       "version_minor": 0
      },
      "text/plain": [
       "Generations:   0%|          | 0/10 [00:00<?, ?gen/s]"
      ]
     },
     "metadata": {},
     "output_type": "display_data"
    },
    {
     "data": {
      "application/vnd.jupyter.widget-view+json": {
       "model_id": "7a85ff23050a429e845f52add56c2c0f",
       "version_major": 2,
       "version_minor": 0
      },
      "text/plain": [
       "Gen  1:   0%|          | 0/20 [00:00<?, ?ind/s]"
      ]
     },
     "metadata": {},
     "output_type": "display_data"
    },
    {
     "ename": "OSError",
     "evalue": "Cannot save file into a non-existent directory: '..\\combination_search'",
     "output_type": "error",
     "traceback": [
      "\u001b[1;31m---------------------------------------------------------------------------\u001b[0m",
      "\u001b[1;31mOSError\u001b[0m                                   Traceback (most recent call last)",
      "Cell \u001b[1;32mIn[7], line 2\u001b[0m\n\u001b[0;32m      1\u001b[0m \u001b[38;5;66;03m#experimentar 1ª com poucas runs e poucas gen e pop baixa para ver se corre tudo bem\u001b[39;00m\n\u001b[1;32m----> 2\u001b[0m comb_tuning(mut_func \u001b[38;5;241m=\u001b[39m mut_func, xo_func \u001b[38;5;241m=\u001b[39m xo_func, selection_algo\u001b[38;5;241m=\u001b[39mselection_algo,\n\u001b[0;32m      3\u001b[0m             n_runs\u001b[38;5;241m=\u001b[39m\u001b[38;5;241m3\u001b[39m, max_gen\u001b[38;5;241m=\u001b[39m\u001b[38;5;241m10\u001b[39m, pop_size\u001b[38;5;241m=\u001b[39m\u001b[38;5;241m20\u001b[39m)\n",
      "Cell \u001b[1;32mIn[5], line 49\u001b[0m, in \u001b[0;36mcomb_tuning\u001b[1;34m(mut_func, xo_func, selection_algo, n_runs, max_gen, pop_size)\u001b[0m\n\u001b[0;32m     47\u001b[0m filepath \u001b[38;5;241m=\u001b[39m \u001b[38;5;124mf\u001b[39m\u001b[38;5;124m\"\u001b[39m\u001b[38;5;124m../combination_search/comb_\u001b[39m\u001b[38;5;132;01m{\u001b[39;00mcomb[\u001b[38;5;241m0\u001b[39m]\u001b[38;5;132;01m}\u001b[39;00m\u001b[38;5;124m_\u001b[39m\u001b[38;5;132;01m{\u001b[39;00mcomb[\u001b[38;5;241m1\u001b[39m]\u001b[38;5;132;01m}\u001b[39;00m\u001b[38;5;124m_\u001b[39m\u001b[38;5;132;01m{\u001b[39;00mcomb[\u001b[38;5;241m2\u001b[39m]\u001b[38;5;132;01m}\u001b[39;00m\u001b[38;5;124m.csv\u001b[39m\u001b[38;5;124m\"\u001b[39m\n\u001b[0;32m     48\u001b[0m \u001b[38;5;66;03m# Save to CSV\u001b[39;00m\n\u001b[1;32m---> 49\u001b[0m current_comb_all_runs\u001b[38;5;241m.\u001b[39mto_csv(filepath, index\u001b[38;5;241m=\u001b[39m\u001b[38;5;28;01mFalse\u001b[39;00m)\n\u001b[0;32m     51\u001b[0m current_comb \u001b[38;5;241m=\u001b[39m pd\u001b[38;5;241m.\u001b[39mDataFrame()\n\u001b[0;32m     52\u001b[0m current_comb[\u001b[38;5;124m'\u001b[39m\u001b[38;5;124mCombination\u001b[39m\u001b[38;5;124m'\u001b[39m] \u001b[38;5;241m=\u001b[39m [(comb[\u001b[38;5;241m0\u001b[39m], comb[\u001b[38;5;241m1\u001b[39m], comb[\u001b[38;5;241m2\u001b[39m]) \u001b[38;5;28;01mfor\u001b[39;00m _ \u001b[38;5;129;01min\u001b[39;00m \u001b[38;5;28mrange\u001b[39m(\u001b[38;5;28mlen\u001b[39m(combinations))]\n",
      "File \u001b[1;32mc:\\Users\\irism\\anaconda3\\Lib\\site-packages\\pandas\\util\\_decorators.py:333\u001b[0m, in \u001b[0;36mdeprecate_nonkeyword_arguments.<locals>.decorate.<locals>.wrapper\u001b[1;34m(*args, **kwargs)\u001b[0m\n\u001b[0;32m    327\u001b[0m \u001b[38;5;28;01mif\u001b[39;00m \u001b[38;5;28mlen\u001b[39m(args) \u001b[38;5;241m>\u001b[39m num_allow_args:\n\u001b[0;32m    328\u001b[0m     warnings\u001b[38;5;241m.\u001b[39mwarn(\n\u001b[0;32m    329\u001b[0m         msg\u001b[38;5;241m.\u001b[39mformat(arguments\u001b[38;5;241m=\u001b[39m_format_argument_list(allow_args)),\n\u001b[0;32m    330\u001b[0m         \u001b[38;5;167;01mFutureWarning\u001b[39;00m,\n\u001b[0;32m    331\u001b[0m         stacklevel\u001b[38;5;241m=\u001b[39mfind_stack_level(),\n\u001b[0;32m    332\u001b[0m     )\n\u001b[1;32m--> 333\u001b[0m \u001b[38;5;28;01mreturn\u001b[39;00m func(\u001b[38;5;241m*\u001b[39margs, \u001b[38;5;241m*\u001b[39m\u001b[38;5;241m*\u001b[39mkwargs)\n",
      "File \u001b[1;32mc:\\Users\\irism\\anaconda3\\Lib\\site-packages\\pandas\\core\\generic.py:3967\u001b[0m, in \u001b[0;36mNDFrame.to_csv\u001b[1;34m(self, path_or_buf, sep, na_rep, float_format, columns, header, index, index_label, mode, encoding, compression, quoting, quotechar, lineterminator, chunksize, date_format, doublequote, escapechar, decimal, errors, storage_options)\u001b[0m\n\u001b[0;32m   3956\u001b[0m df \u001b[38;5;241m=\u001b[39m \u001b[38;5;28mself\u001b[39m \u001b[38;5;28;01mif\u001b[39;00m \u001b[38;5;28misinstance\u001b[39m(\u001b[38;5;28mself\u001b[39m, ABCDataFrame) \u001b[38;5;28;01melse\u001b[39;00m \u001b[38;5;28mself\u001b[39m\u001b[38;5;241m.\u001b[39mto_frame()\n\u001b[0;32m   3958\u001b[0m formatter \u001b[38;5;241m=\u001b[39m DataFrameFormatter(\n\u001b[0;32m   3959\u001b[0m     frame\u001b[38;5;241m=\u001b[39mdf,\n\u001b[0;32m   3960\u001b[0m     header\u001b[38;5;241m=\u001b[39mheader,\n\u001b[1;32m   (...)\u001b[0m\n\u001b[0;32m   3964\u001b[0m     decimal\u001b[38;5;241m=\u001b[39mdecimal,\n\u001b[0;32m   3965\u001b[0m )\n\u001b[1;32m-> 3967\u001b[0m \u001b[38;5;28;01mreturn\u001b[39;00m DataFrameRenderer(formatter)\u001b[38;5;241m.\u001b[39mto_csv(\n\u001b[0;32m   3968\u001b[0m     path_or_buf,\n\u001b[0;32m   3969\u001b[0m     lineterminator\u001b[38;5;241m=\u001b[39mlineterminator,\n\u001b[0;32m   3970\u001b[0m     sep\u001b[38;5;241m=\u001b[39msep,\n\u001b[0;32m   3971\u001b[0m     encoding\u001b[38;5;241m=\u001b[39mencoding,\n\u001b[0;32m   3972\u001b[0m     errors\u001b[38;5;241m=\u001b[39merrors,\n\u001b[0;32m   3973\u001b[0m     compression\u001b[38;5;241m=\u001b[39mcompression,\n\u001b[0;32m   3974\u001b[0m     quoting\u001b[38;5;241m=\u001b[39mquoting,\n\u001b[0;32m   3975\u001b[0m     columns\u001b[38;5;241m=\u001b[39mcolumns,\n\u001b[0;32m   3976\u001b[0m     index_label\u001b[38;5;241m=\u001b[39mindex_label,\n\u001b[0;32m   3977\u001b[0m     mode\u001b[38;5;241m=\u001b[39mmode,\n\u001b[0;32m   3978\u001b[0m     chunksize\u001b[38;5;241m=\u001b[39mchunksize,\n\u001b[0;32m   3979\u001b[0m     quotechar\u001b[38;5;241m=\u001b[39mquotechar,\n\u001b[0;32m   3980\u001b[0m     date_format\u001b[38;5;241m=\u001b[39mdate_format,\n\u001b[0;32m   3981\u001b[0m     doublequote\u001b[38;5;241m=\u001b[39mdoublequote,\n\u001b[0;32m   3982\u001b[0m     escapechar\u001b[38;5;241m=\u001b[39mescapechar,\n\u001b[0;32m   3983\u001b[0m     storage_options\u001b[38;5;241m=\u001b[39mstorage_options,\n\u001b[0;32m   3984\u001b[0m )\n",
      "File \u001b[1;32mc:\\Users\\irism\\anaconda3\\Lib\\site-packages\\pandas\\io\\formats\\format.py:1014\u001b[0m, in \u001b[0;36mDataFrameRenderer.to_csv\u001b[1;34m(self, path_or_buf, encoding, sep, columns, index_label, mode, compression, quoting, quotechar, lineterminator, chunksize, date_format, doublequote, escapechar, errors, storage_options)\u001b[0m\n\u001b[0;32m    993\u001b[0m     created_buffer \u001b[38;5;241m=\u001b[39m \u001b[38;5;28;01mFalse\u001b[39;00m\n\u001b[0;32m    995\u001b[0m csv_formatter \u001b[38;5;241m=\u001b[39m CSVFormatter(\n\u001b[0;32m    996\u001b[0m     path_or_buf\u001b[38;5;241m=\u001b[39mpath_or_buf,\n\u001b[0;32m    997\u001b[0m     lineterminator\u001b[38;5;241m=\u001b[39mlineterminator,\n\u001b[1;32m   (...)\u001b[0m\n\u001b[0;32m   1012\u001b[0m     formatter\u001b[38;5;241m=\u001b[39m\u001b[38;5;28mself\u001b[39m\u001b[38;5;241m.\u001b[39mfmt,\n\u001b[0;32m   1013\u001b[0m )\n\u001b[1;32m-> 1014\u001b[0m csv_formatter\u001b[38;5;241m.\u001b[39msave()\n\u001b[0;32m   1016\u001b[0m \u001b[38;5;28;01mif\u001b[39;00m created_buffer:\n\u001b[0;32m   1017\u001b[0m     \u001b[38;5;28;01massert\u001b[39;00m \u001b[38;5;28misinstance\u001b[39m(path_or_buf, StringIO)\n",
      "File \u001b[1;32mc:\\Users\\irism\\anaconda3\\Lib\\site-packages\\pandas\\io\\formats\\csvs.py:251\u001b[0m, in \u001b[0;36mCSVFormatter.save\u001b[1;34m(self)\u001b[0m\n\u001b[0;32m    247\u001b[0m \u001b[38;5;250m\u001b[39m\u001b[38;5;124;03m\"\"\"\u001b[39;00m\n\u001b[0;32m    248\u001b[0m \u001b[38;5;124;03mCreate the writer & save.\u001b[39;00m\n\u001b[0;32m    249\u001b[0m \u001b[38;5;124;03m\"\"\"\u001b[39;00m\n\u001b[0;32m    250\u001b[0m \u001b[38;5;66;03m# apply compression and byte/text conversion\u001b[39;00m\n\u001b[1;32m--> 251\u001b[0m \u001b[38;5;28;01mwith\u001b[39;00m get_handle(\n\u001b[0;32m    252\u001b[0m     \u001b[38;5;28mself\u001b[39m\u001b[38;5;241m.\u001b[39mfilepath_or_buffer,\n\u001b[0;32m    253\u001b[0m     \u001b[38;5;28mself\u001b[39m\u001b[38;5;241m.\u001b[39mmode,\n\u001b[0;32m    254\u001b[0m     encoding\u001b[38;5;241m=\u001b[39m\u001b[38;5;28mself\u001b[39m\u001b[38;5;241m.\u001b[39mencoding,\n\u001b[0;32m    255\u001b[0m     errors\u001b[38;5;241m=\u001b[39m\u001b[38;5;28mself\u001b[39m\u001b[38;5;241m.\u001b[39merrors,\n\u001b[0;32m    256\u001b[0m     compression\u001b[38;5;241m=\u001b[39m\u001b[38;5;28mself\u001b[39m\u001b[38;5;241m.\u001b[39mcompression,\n\u001b[0;32m    257\u001b[0m     storage_options\u001b[38;5;241m=\u001b[39m\u001b[38;5;28mself\u001b[39m\u001b[38;5;241m.\u001b[39mstorage_options,\n\u001b[0;32m    258\u001b[0m ) \u001b[38;5;28;01mas\u001b[39;00m handles:\n\u001b[0;32m    259\u001b[0m     \u001b[38;5;66;03m# Note: self.encoding is irrelevant here\u001b[39;00m\n\u001b[0;32m    260\u001b[0m     \u001b[38;5;28mself\u001b[39m\u001b[38;5;241m.\u001b[39mwriter \u001b[38;5;241m=\u001b[39m csvlib\u001b[38;5;241m.\u001b[39mwriter(\n\u001b[0;32m    261\u001b[0m         handles\u001b[38;5;241m.\u001b[39mhandle,\n\u001b[0;32m    262\u001b[0m         lineterminator\u001b[38;5;241m=\u001b[39m\u001b[38;5;28mself\u001b[39m\u001b[38;5;241m.\u001b[39mlineterminator,\n\u001b[1;32m   (...)\u001b[0m\n\u001b[0;32m    267\u001b[0m         quotechar\u001b[38;5;241m=\u001b[39m\u001b[38;5;28mself\u001b[39m\u001b[38;5;241m.\u001b[39mquotechar,\n\u001b[0;32m    268\u001b[0m     )\n\u001b[0;32m    270\u001b[0m     \u001b[38;5;28mself\u001b[39m\u001b[38;5;241m.\u001b[39m_save()\n",
      "File \u001b[1;32mc:\\Users\\irism\\anaconda3\\Lib\\site-packages\\pandas\\io\\common.py:749\u001b[0m, in \u001b[0;36mget_handle\u001b[1;34m(path_or_buf, mode, encoding, compression, memory_map, is_text, errors, storage_options)\u001b[0m\n\u001b[0;32m    747\u001b[0m \u001b[38;5;66;03m# Only for write methods\u001b[39;00m\n\u001b[0;32m    748\u001b[0m \u001b[38;5;28;01mif\u001b[39;00m \u001b[38;5;124m\"\u001b[39m\u001b[38;5;124mr\u001b[39m\u001b[38;5;124m\"\u001b[39m \u001b[38;5;129;01mnot\u001b[39;00m \u001b[38;5;129;01min\u001b[39;00m mode \u001b[38;5;129;01mand\u001b[39;00m is_path:\n\u001b[1;32m--> 749\u001b[0m     check_parent_directory(\u001b[38;5;28mstr\u001b[39m(handle))\n\u001b[0;32m    751\u001b[0m \u001b[38;5;28;01mif\u001b[39;00m compression:\n\u001b[0;32m    752\u001b[0m     \u001b[38;5;28;01mif\u001b[39;00m compression \u001b[38;5;241m!=\u001b[39m \u001b[38;5;124m\"\u001b[39m\u001b[38;5;124mzstd\u001b[39m\u001b[38;5;124m\"\u001b[39m:\n\u001b[0;32m    753\u001b[0m         \u001b[38;5;66;03m# compression libraries do not like an explicit text-mode\u001b[39;00m\n",
      "File \u001b[1;32mc:\\Users\\irism\\anaconda3\\Lib\\site-packages\\pandas\\io\\common.py:616\u001b[0m, in \u001b[0;36mcheck_parent_directory\u001b[1;34m(path)\u001b[0m\n\u001b[0;32m    614\u001b[0m parent \u001b[38;5;241m=\u001b[39m Path(path)\u001b[38;5;241m.\u001b[39mparent\n\u001b[0;32m    615\u001b[0m \u001b[38;5;28;01mif\u001b[39;00m \u001b[38;5;129;01mnot\u001b[39;00m parent\u001b[38;5;241m.\u001b[39mis_dir():\n\u001b[1;32m--> 616\u001b[0m     \u001b[38;5;28;01mraise\u001b[39;00m \u001b[38;5;167;01mOSError\u001b[39;00m(\u001b[38;5;124mrf\u001b[39m\u001b[38;5;124m\"\u001b[39m\u001b[38;5;124mCannot save file into a non-existent directory: \u001b[39m\u001b[38;5;124m'\u001b[39m\u001b[38;5;132;01m{\u001b[39;00mparent\u001b[38;5;132;01m}\u001b[39;00m\u001b[38;5;124m'\u001b[39m\u001b[38;5;124m\"\u001b[39m)\n",
      "\u001b[1;31mOSError\u001b[0m: Cannot save file into a non-existent directory: '..\\combination_search'"
     ]
    }
   ],
   "source": [
    "#experimentar 1ª com poucas runs e poucas gen e pop baixa para ver se corre tudo bem\n",
    "comb_tuning(mut_func = mut_func, xo_func = xo_func, selection_algo=selection_algo,\n",
    "            n_runs=3, max_gen=10, pop_size=20)"
   ]
  },
  {
   "cell_type": "code",
   "execution_count": null,
   "id": "0cc1de89",
   "metadata": {},
   "outputs": [],
   "source": []
  }
 ],
 "metadata": {
  "kernelspec": {
   "display_name": ".venv",
   "language": "python",
   "name": "python3"
  },
  "language_info": {
   "codemirror_mode": {
    "name": "ipython",
    "version": 3
   },
   "file_extension": ".py",
   "mimetype": "text/x-python",
   "name": "python",
   "nbconvert_exporter": "python",
   "pygments_lexer": "ipython3",
   "version": "3.13.1"
  }
 },
 "nbformat": 4,
 "nbformat_minor": 5
}
