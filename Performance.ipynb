{
 "cells": [
  {
   "cell_type": "markdown",
   "id": "94d65591",
   "metadata": {},
   "source": [
    "# Visualize, Evaluate and Compare Performance"
   ]
  },
  {
   "cell_type": "code",
   "execution_count": 1,
   "id": "66c089d4",
   "metadata": {},
   "outputs": [],
   "source": [
    "# table of contents needs to be updateddddd !!!!"
   ]
  },
  {
   "cell_type": "markdown",
   "id": "ea99a9a4",
   "metadata": {},
   "source": [
    "## Table of Contents\n",
    "- [1. Imports](#1-imports)\n",
    "   - [1.1. Import Necessary Libraries](#11-import-necessary-libraries)\n",
    "   - [1.2. Import Data](#12-import-data)\n",
    "- [2. Visualizations](#2-visualizations)\n",
    "   - [2.1. Average Best Fitness (per generation)](#21-average-best-fitness-(per-generation))\n",
    "   - [2.2. Median Best Fitness (per generation)](#22-median-best-fitness-(per-generation))\n",
    "   - [2.3. Best Fitness (per run)](#23-best-final-fitness-(per-run))\n",
    "   - [2.4. Average Best Fitness of each mutation (per generation)](#24-average-best-fitness-of-each-mutation-(per-generation))\n",
    "- [3. Metrics](#3-metrics)"
   ]
  },
  {
   "cell_type": "markdown",
   "id": "fc4e01ac",
   "metadata": {},
   "source": [
    "## 1. Imports"
   ]
  },
  {
   "cell_type": "markdown",
   "id": "e2af2113",
   "metadata": {},
   "source": [
    "### 1.1. Import Necessary Libraries"
   ]
  },
  {
   "cell_type": "markdown",
   "id": "25c35b1e",
   "metadata": {},
   "source": [
    "__`Step 1`__ Import necessary libraries."
   ]
  },
  {
   "cell_type": "code",
   "execution_count": 2,
   "id": "ef10bd25",
   "metadata": {},
   "outputs": [],
   "source": [
    "import pandas as pd\n",
    "from library.performance_analysis import *"
   ]
  },
  {
   "cell_type": "markdown",
   "id": "1be3a122",
   "metadata": {},
   "source": [
    "### 1.2. Import Data"
   ]
  },
  {
   "cell_type": "markdown",
   "id": "69c9198b",
   "metadata": {},
   "source": [
    "__`Step 2`__ Import the data from our runs."
   ]
  },
  {
   "cell_type": "code",
   "execution_count": 3,
   "id": "d444e34c",
   "metadata": {},
   "outputs": [],
   "source": [
    "df_exp1 = pd.read_csv('combination_search/final_results_exp1.csv')\n",
    "df_exp2 = pd.read_csv('combination_search/final_results_exp2.csv')\n",
    "df_exp3 = pd.read_csv('combination_search/final_results_exp3.csv')\n",
    "\n",
    "#df_elitism = pd.read_csv('combination_search/elitism_exp.csv')\n",
    "\n",
    "#print(df_exp1.head())\n",
    "#print(df_exp2.head())\n",
    "#print(df_exp3.head())\n",
    "\n",
    "#CORRIGIR NOMES"
   ]
  },
  {
   "cell_type": "markdown",
   "id": "86386573",
   "metadata": {},
   "source": [
    "## 2. Visualizations"
   ]
  },
  {
   "cell_type": "markdown",
   "id": "e84be73b",
   "metadata": {},
   "source": [
    "### 2.1. Intra-Run Analysis: Median Best Fitness"
   ]
  },
  {
   "cell_type": "markdown",
   "id": "0cb41cbe",
   "metadata": {},
   "source": [
    "__`Step 3`__ Plot the Median best fitness of each generation of each combination."
   ]
  },
  {
   "cell_type": "code",
   "execution_count": 4,
   "id": "6bfe0a92",
   "metadata": {},
   "outputs": [
    {
     "data": {
      "application/vnd.plotly.v1+json": {
       "config": {
        "plotlyServerURL": "https://plot.ly"
       },
       "data": [
        {
         "hovertemplate": "Combination: ('block_rotation_mutation', 'cyclic_crossover', 'tournament_selection')<br>Generation: %{x}<br>Fitness: %{y}<extra></extra>",
         "mode": "lines+markers",
         "name": "('block_rotation_mutation', 'cyclic_crossover', 'tournament_selection')",
         "showlegend": true,
         "type": "scatter",
         "x": {
          "bdata": "AQIDBAUGBwgJCgsMDQ4PEBESExQVFhcYGRobHB0eHyAhIiMkJSYnKCkqKywtLi8wMTIBAgMEBQYHCAkKCwwNDg8QERITFBUWFxgZGhscHR4fICEiIyQlJicoKSorLC0uLzAxMgECAwQFBgcICQoLDA0ODxAREhMUFRYXGBkaGxwdHh8gISIjJCUmJygpKissLS4vMDEyAQIDBAUGBwgJCgsMDQ4PEBESExQVFhcYGRobHB0eHyAhIiMkJSYnKCkqKywtLi8wMTIBAgMEBQYHCAkKCwwNDg8QERITFBUWFxgZGhscHR4fICEiIyQlJicoKSorLC0uLzAxMgECAwQFBgcICQoLDA0ODxAREhMUFRYXGBkaGxwdHh8gISIjJCUmJygpKissLS4vMDEyAQIDBAUGBwgJCgsMDQ4PEBESExQVFhcYGRobHB0eHyAhIiMkJSYnKCkqKywtLi8wMTIBAgMEBQYHCAkKCwwNDg8QERITFBUWFxgZGhscHR4fICEiIyQlJicoKSorLC0uLzAxMgECAwQFBgcICQoLDA0ODxAREhMUFRYXGBkaGxwdHh8gISIjJCUmJygpKissLS4vMDEyAQIDBAUGBwgJCgsMDQ4PEBESExQVFhcYGRobHB0eHyAhIiMkJSYnKCkqKywtLi8wMTIBAgMEBQYHCAkKCwwNDg8QERITFBUWFxgZGhscHR4fICEiIyQlJicoKSorLC0uLzAxMgECAwQFBgcICQoLDA0ODxAREhMUFRYXGBkaGxwdHh8gISIjJCUmJygpKissLS4vMDEy",
          "dtype": "i1"
         },
         "y": {
          "bdata": "igeUTbkC9D+6/If021f0P6vP1Vbsr/Q/gZVDi2zn9D/0H9JvX0f1P6IjufyHdPU/tHHEWnyK9T/aG3xhMpX1P/SmIhXGlvU/bK0vEtqy9T+aR/5g4Ln1P+TaUDHO3/U/FHR7SWP09T9syhXe5SL2PzMbZJKRM/Y/zV1LyAc99j9mFMstrUb2P1Ist7QaUvY/8l61MuFX9j9GKowtBHn2P0YqjC0EefY/6hwDstd79j8ge7374332P/TzpiIVhvY/9POmIhWG9j/086YiFYb2P8xYNJ2djPY/Z5sb0xOW9j85tMh2vp/2P0o3iUFgpfY/WPrQBfWt9j/4FADjGbT2P/gUAOMZtPY/+BQA4xm09j/4FADjGbT2P/gUAOMZtPY/KT+p9um49j/mV3OAYM72P+ZXc4BgzvY/36Y/+5Hi9j/fpj/7keL2P9+mP/uR4vY/36Y/+5Hi9j/fpj/7keL2P+/Jw0Kt6fY/on+CixX19j9IcvkP6ff2P0hy+Q/p9/Y/SHL5D+n39j9IcvkP6ff2Pw==",
          "dtype": "f8"
         }
        },
        {
         "hovertemplate": "Combination: ('block_rotation_mutation', 'cyclic_crossover', 'linear_ranking_selection')<br>Generation: %{x}<br>Fitness: %{y}<extra></extra>",
         "mode": "lines+markers",
         "name": "('block_rotation_mutation', 'cyclic_crossover', 'linear_ranking_selection')",
         "showlegend": true,
         "type": "scatter",
         "x": {
          "bdata": "AQIDBAUGBwgJCgsMDQ4PEBESExQVFhcYGRobHB0eHyAhIiMkJSYnKCkqKywtLi8wMTIBAgMEBQYHCAkKCwwNDg8QERITFBUWFxgZGhscHR4fICEiIyQlJicoKSorLC0uLzAxMgECAwQFBgcICQoLDA0ODxAREhMUFRYXGBkaGxwdHh8gISIjJCUmJygpKissLS4vMDEyAQIDBAUGBwgJCgsMDQ4PEBESExQVFhcYGRobHB0eHyAhIiMkJSYnKCkqKywtLi8wMTIBAgMEBQYHCAkKCwwNDg8QERITFBUWFxgZGhscHR4fICEiIyQlJicoKSorLC0uLzAxMgECAwQFBgcICQoLDA0ODxAREhMUFRYXGBkaGxwdHh8gISIjJCUmJygpKissLS4vMDEyAQIDBAUGBwgJCgsMDQ4PEBESExQVFhcYGRobHB0eHyAhIiMkJSYnKCkqKywtLi8wMTIBAgMEBQYHCAkKCwwNDg8QERITFBUWFxgZGhscHR4fICEiIyQlJicoKSorLC0uLzAxMgECAwQFBgcICQoLDA0ODxAREhMUFRYXGBkaGxwdHh8gISIjJCUmJygpKissLS4vMDEyAQIDBAUGBwgJCgsMDQ4PEBESExQVFhcYGRobHB0eHyAhIiMkJSYnKCkqKywtLi8wMTIBAgMEBQYHCAkKCwwNDg8QERITFBUWFxgZGhscHR4fICEiIyQlJicoKSorLC0uLzAxMgECAwQFBgcICQoLDA0ODxAREhMUFRYXGBkaGxwdHh8gISIjJCUmJygpKissLS4vMDEy",
          "dtype": "i1"
         },
         "y": {
          "bdata": "lnMprip78z9GdxA7U6jzP5ZbWg2Ju/M/lltaDYm78z+WW1oNibvzP5ZbWg2Ju/M/lltaDYm78z+WW1oNibvzP41F09nJ4PM/X9IYraPq8z8A6DBfXgD0PwDoMF9eAPQ/AOgwX14A9D8A6DBfXgD0PxSWeEDZFPQ/FJZ4QNkU9D8UlnhA2RT0PxSWeEDZFPQ/y9sRTgse9D/L2xFOCx70P27i5H6HIvQ/buLkfoci9D++E7NeDCX0P74Ts14MJfQ/vhOzXgwl9D++E7NeDCX0P74Ts14MJfQ/vhOzXgwl9D++E7NeDCX0P74Ts14MJfQ/Sx+6oL4l9D9LH7qgviX0P0sfuqC+JfQ/T5KumXwz9D9uF5rrNFL0P24Xmus0UvQ/bhea6zRS9D9uF5rrNFL0P24Xmus0UvQ/UFPL1vpi9D9QU8vW+mL0P1BTy9b6YvQ/UFPL1vpi9D9QU8vW+mL0P1BTy9b6YvQ/UFPL1vpi9D9QU8vW+mL0P1BTy9b6YvQ/UFPL1vpi9D9QU8vW+mL0Pw==",
          "dtype": "f8"
         }
        },
        {
         "hovertemplate": "Combination: ('block_rotation_mutation', 'partially_mapped_crossover', 'tournament_selection')<br>Generation: %{x}<br>Fitness: %{y}<extra></extra>",
         "mode": "lines+markers",
         "name": "('block_rotation_mutation', 'partially_mapped_crossover', 'tournament_selection')",
         "showlegend": true,
         "type": "scatter",
         "x": {
          "bdata": "AQIDBAUGBwgJCgsMDQ4PEBESExQVFhcYGRobHB0eHyAhIiMkJSYnKCkqKywtLi8wMTIBAgMEBQYHCAkKCwwNDg8QERITFBUWFxgZGhscHR4fICEiIyQlJicoKSorLC0uLzAxMgECAwQFBgcICQoLDA0ODxAREhMUFRYXGBkaGxwdHh8gISIjJCUmJygpKissLS4vMDEyAQIDBAUGBwgJCgsMDQ4PEBESExQVFhcYGRobHB0eHyAhIiMkJSYnKCkqKywtLi8wMTIBAgMEBQYHCAkKCwwNDg8QERITFBUWFxgZGhscHR4fICEiIyQlJicoKSorLC0uLzAxMgECAwQFBgcICQoLDA0ODxAREhMUFRYXGBkaGxwdHh8gISIjJCUmJygpKissLS4vMDEyAQIDBAUGBwgJCgsMDQ4PEBESExQVFhcYGRobHB0eHyAhIiMkJSYnKCkqKywtLi8wMTIBAgMEBQYHCAkKCwwNDg8QERITFBUWFxgZGhscHR4fICEiIyQlJicoKSorLC0uLzAxMgECAwQFBgcICQoLDA0ODxAREhMUFRYXGBkaGxwdHh8gISIjJCUmJygpKissLS4vMDEyAQIDBAUGBwgJCgsMDQ4PEBESExQVFhcYGRobHB0eHyAhIiMkJSYnKCkqKywtLi8wMTIBAgMEBQYHCAkKCwwNDg8QERITFBUWFxgZGhscHR4fICEiIyQlJicoKSorLC0uLzAxMgECAwQFBgcICQoLDA0ODxAREhMUFRYXGBkaGxwdHh8gISIjJCUmJygpKissLS4vMDEy",
          "dtype": "i1"
         },
         "y": {
          "bdata": "k8ZoHVUN9D/ImLuWkI/0P2b35GGh1vQ/BHgLJCj+9D/5a7JGPYT1PyqHFtnO9/U/ttsuNNcp9j+qE9BE2HD2P1mjHqLRnfY/Emba/pXV9j/kFB3J5f/2P8l2vp8aL/c/DTfg88NI9z/GckurIXH3P9JXkGYsmvc/zEV8J2a99z8idqbQec33P6jeGtgqAfg/PL1SliEO+D+GbYsyGyT4PzSAt0CCYvg/NIC3QIJi+D8IbTmX4mr4P65fsBu2bfg/rl+wG7Zt+D8j88gfDHz4P5pattYXifg/bypSYWyh+D+wj05d+ez4PxToE3mS9Pg/FOgTeZL0+D/wxKwXQ/n4P/DErBdD+fg/ARO4dTcP+T8LXvQVpBn5Pz7QCgxZHfk/sHd/vFct+T8ofoy5a0n5Pyh+jLlrSfk/z/dT46Vb+T/P91PjpVv5P8/3U+OlW/k/wOeHEcJj+T8svMtFfGf5Pyy8y0V8Z/k/mWTkLOxp+T+ZZOQs7Gn5P7jpz36kiPk/MlUwKqmT+T/KHww89575Pw==",
          "dtype": "f8"
         }
        },
        {
         "hovertemplate": "Combination: ('block_rotation_mutation', 'partially_mapped_crossover', 'linear_ranking_selection')<br>Generation: %{x}<br>Fitness: %{y}<extra></extra>",
         "mode": "lines+markers",
         "name": "('block_rotation_mutation', 'partially_mapped_crossover', 'linear_ranking_selection')",
         "showlegend": true,
         "type": "scatter",
         "x": {
          "bdata": "AQIDBAUGBwgJCgsMDQ4PEBESExQVFhcYGRobHB0eHyAhIiMkJSYnKCkqKywtLi8wMTIBAgMEBQYHCAkKCwwNDg8QERITFBUWFxgZGhscHR4fICEiIyQlJicoKSorLC0uLzAxMgECAwQFBgcICQoLDA0ODxAREhMUFRYXGBkaGxwdHh8gISIjJCUmJygpKissLS4vMDEyAQIDBAUGBwgJCgsMDQ4PEBESExQVFhcYGRobHB0eHyAhIiMkJSYnKCkqKywtLi8wMTIBAgMEBQYHCAkKCwwNDg8QERITFBUWFxgZGhscHR4fICEiIyQlJicoKSorLC0uLzAxMgECAwQFBgcICQoLDA0ODxAREhMUFRYXGBkaGxwdHh8gISIjJCUmJygpKissLS4vMDEyAQIDBAUGBwgJCgsMDQ4PEBESExQVFhcYGRobHB0eHyAhIiMkJSYnKCkqKywtLi8wMTIBAgMEBQYHCAkKCwwNDg8QERITFBUWFxgZGhscHR4fICEiIyQlJicoKSorLC0uLzAxMgECAwQFBgcICQoLDA0ODxAREhMUFRYXGBkaGxwdHh8gISIjJCUmJygpKissLS4vMDEyAQIDBAUGBwgJCgsMDQ4PEBESExQVFhcYGRobHB0eHyAhIiMkJSYnKCkqKywtLi8wMTIBAgMEBQYHCAkKCwwNDg8QERITFBUWFxgZGhscHR4fICEiIyQlJicoKSorLC0uLzAxMgECAwQFBgcICQoLDA0ODxAREhMUFRYXGBkaGxwdHh8gISIjJCUmJygpKissLS4vMDEy",
          "dtype": "i1"
         },
         "y": {
          "bdata": "IPRsVn1u8z/7RJ4kXXPzPzp6/N6mf/M/cxHfiVmv8z+IM7+aA8TzP+grSDMWzfM/6CtIMxbN8z866X3ja8/zPzQRNjy90vM/NBE2PL3S8z80ETY8vdLzPzQRNjy90vM/NBE2PL3S8z80ETY8vdLzPzQRNjy90vM/NBE2PL3S8z/ajxSRYdXzP9qPFJFh1fM/2o8UkWHV8z+ygAncutvzP7KACdy62/M/soAJ3Lrb8z+ygAncutvzP7KACdy62/M/OJz51Rzg8z84nPnVHODzPzic+dUc4PM/OJz51Rzg8z84nPnVHODzP9B+pIgM6/M/0H6kiAzr8z/QfqSIDOvzP9B+pIgM6/M/0H6kiAzr8z/QfqSIDOvzP9B+pIgM6/M/xcn9DkUB9D9WSPlJtQ/0P1ZI+Um1D/Q/Vkj5SbUP9D9WSPlJtQ/0P1ZI+Um1D/Q/FDqvsUsU9D+FQgQcQhX0P4VCBBxCFfQ/hUIEHEIV9D+FQgQcQhX0P4VCBBxCFfQ/hUIEHEIV9D+FQgQcQhX0Pw==",
          "dtype": "f8"
         }
        },
        {
         "hovertemplate": "Combination: ('two_phase_shuffle_mutation', 'cyclic_crossover', 'tournament_selection')<br>Generation: %{x}<br>Fitness: %{y}<extra></extra>",
         "mode": "lines+markers",
         "name": "('two_phase_shuffle_mutation', 'cyclic_crossover', 'tournament_selection')",
         "showlegend": true,
         "type": "scatter",
         "x": {
          "bdata": "AQIDBAUGBwgJCgsMDQ4PEBESExQVFhcYGRobHB0eHyAhIiMkJSYnKCkqKywtLi8wMTIBAgMEBQYHCAkKCwwNDg8QERITFBUWFxgZGhscHR4fICEiIyQlJicoKSorLC0uLzAxMgECAwQFBgcICQoLDA0ODxAREhMUFRYXGBkaGxwdHh8gISIjJCUmJygpKissLS4vMDEyAQIDBAUGBwgJCgsMDQ4PEBESExQVFhcYGRobHB0eHyAhIiMkJSYnKCkqKywtLi8wMTIBAgMEBQYHCAkKCwwNDg8QERITFBUWFxgZGhscHR4fICEiIyQlJicoKSorLC0uLzAxMgECAwQFBgcICQoLDA0ODxAREhMUFRYXGBkaGxwdHh8gISIjJCUmJygpKissLS4vMDEyAQIDBAUGBwgJCgsMDQ4PEBESExQVFhcYGRobHB0eHyAhIiMkJSYnKCkqKywtLi8wMTIBAgMEBQYHCAkKCwwNDg8QERITFBUWFxgZGhscHR4fICEiIyQlJicoKSorLC0uLzAxMgECAwQFBgcICQoLDA0ODxAREhMUFRYXGBkaGxwdHh8gISIjJCUmJygpKissLS4vMDEyAQIDBAUGBwgJCgsMDQ4PEBESExQVFhcYGRobHB0eHyAhIiMkJSYnKCkqKywtLi8wMTIBAgMEBQYHCAkKCwwNDg8QERITFBUWFxgZGhscHR4fICEiIyQlJicoKSorLC0uLzAxMgECAwQFBgcICQoLDA0ODxAREhMUFRYXGBkaGxwdHh8gISIjJCUmJygpKissLS4vMDEy",
          "dtype": "i1"
         },
         "y": {
          "bdata": "Qg5KmGn78z9w8IXJVEH0P3bDtkWZjfQ/OJz51Rzg9D/Wi6GcaBf1Pxr1EI3uYPU/QGoTJ/d79T9AahMn93v1P8AhVKnZg/U/HLYtymyQ9T9C7Eyh85r1P7SrkPKTqvU/oDL+fcbF9T+gMv59xsX1P0A1XrpJzPU/okCfyJPk9T8QKJtyhff1P1yZ8Ev9/PU/kgVM4NYd9j8yIHu9+yP2PzIge737I/Y/9P3UeOkm9j/IXu/+eC/2P4o8SbpmMvY/bZBJRs5C9j9tkElGzkL2P22QSUbOQvY/bZBJRs5C9j/tR4rIsEr2P3rHKTqSS/Y/escpOpJL9j96xyk6kkv2P3rHKTqSS/Y/tJjYfFxb9j+0mNh8XFv2P7SY2HxcW/Y/tJjYfFxb9j/Qg7uzdlv2P+yBVmDIavY/Jcy0/Str9j8lzLT9K2v2PyXMtP0ra/Y/Jcy0/Str9j8lzLT9K2v2PyXMtP0ra/Y/AB3mywtw9j8TuHU3T3X2PxO4dTdPdfY/E7h1N0919j/Kcad0sH72Pw==",
          "dtype": "f8"
         }
        },
        {
         "hovertemplate": "Combination: ('two_phase_shuffle_mutation', 'cyclic_crossover', 'linear_ranking_selection')<br>Generation: %{x}<br>Fitness: %{y}<extra></extra>",
         "mode": "lines+markers",
         "name": "('two_phase_shuffle_mutation', 'cyclic_crossover', 'linear_ranking_selection')",
         "showlegend": true,
         "type": "scatter",
         "x": {
          "bdata": "AQIDBAUGBwgJCgsMDQ4PEBESExQVFhcYGRobHB0eHyAhIiMkJSYnKCkqKywtLi8wMTIBAgMEBQYHCAkKCwwNDg8QERITFBUWFxgZGhscHR4fICEiIyQlJicoKSorLC0uLzAxMgECAwQFBgcICQoLDA0ODxAREhMUFRYXGBkaGxwdHh8gISIjJCUmJygpKissLS4vMDEyAQIDBAUGBwgJCgsMDQ4PEBESExQVFhcYGRobHB0eHyAhIiMkJSYnKCkqKywtLi8wMTIBAgMEBQYHCAkKCwwNDg8QERITFBUWFxgZGhscHR4fICEiIyQlJicoKSorLC0uLzAxMgECAwQFBgcICQoLDA0ODxAREhMUFRYXGBkaGxwdHh8gISIjJCUmJygpKissLS4vMDEyAQIDBAUGBwgJCgsMDQ4PEBESExQVFhcYGRobHB0eHyAhIiMkJSYnKCkqKywtLi8wMTIBAgMEBQYHCAkKCwwNDg8QERITFBUWFxgZGhscHR4fICEiIyQlJicoKSorLC0uLzAxMgECAwQFBgcICQoLDA0ODxAREhMUFRYXGBkaGxwdHh8gISIjJCUmJygpKissLS4vMDEyAQIDBAUGBwgJCgsMDQ4PEBESExQVFhcYGRobHB0eHyAhIiMkJSYnKCkqKywtLi8wMTIBAgMEBQYHCAkKCwwNDg8QERITFBUWFxgZGhscHR4fICEiIyQlJicoKSorLC0uLzAxMgECAwQFBgcICQoLDA0ODxAREhMUFRYXGBkaGxwdHh8gISIjJCUmJygpKissLS4vMDEy",
          "dtype": "i1"
         },
         "y": {
          "bdata": "qiaIug+A8z/MlxdgH53zP0xPWOIBpfM/TE9Y4gGl8z9MT1jiAaXzP2aDTDJy1vM/yHvVyoTf8z8bUdobfOHzPxtR2ht84fM/G1HaG3zh8z8bUdobfOHzP0pL5e0I5/M/Skvl7Qjn8z94RfC/lezzP3hF8L+V7PM/Tdaoh2j08z9N1qiHaPTzP03WqIdo9PM/FytqMA0D9D8XK2owDQP0PxcrajANA/Q/wH0dOGcE9D+bQuc1dgn0P5tC5zV2CfQ/pRmLprMT9D+lGYumsxP0P70Yyol2FfQ/u04jLZU39D+7TiMtlTf0P34/NV66SfQ/fj81XrpJ9D8Kv9TPm0r0Pwq/1M+bSvQ/Cr/Uz5tK9D/MEMe6uE30P+QPBp57T/Q/5A8GnntP9D8UlnhA2VT0PxSWeEDZVPQ/QBh47j1c9D9AGHjuPVz0P0AYeO49XPQ/QBh47j1c9D9AGHjuPVz0P4WxhSAHZfQ/hbGFIAdl9D9gsBu2LYr0P2CwG7YtivQ/YLAbti2K9D9gsBu2LYr0Pw==",
          "dtype": "f8"
         }
        },
        {
         "hovertemplate": "Combination: ('two_phase_shuffle_mutation', 'partially_mapped_crossover', 'tournament_selection')<br>Generation: %{x}<br>Fitness: %{y}<extra></extra>",
         "mode": "lines+markers",
         "name": "('two_phase_shuffle_mutation', 'partially_mapped_crossover', 'tournament_selection')",
         "showlegend": true,
         "type": "scatter",
         "x": {
          "bdata": "AQIDBAUGBwgJCgsMDQ4PEBESExQVFhcYGRobHB0eHyAhIiMkJSYnKCkqKywtLi8wMTIBAgMEBQYHCAkKCwwNDg8QERITFBUWFxgZGhscHR4fICEiIyQlJicoKSorLC0uLzAxMgECAwQFBgcICQoLDA0ODxAREhMUFRYXGBkaGxwdHh8gISIjJCUmJygpKissLS4vMDEyAQIDBAUGBwgJCgsMDQ4PEBESExQVFhcYGRobHB0eHyAhIiMkJSYnKCkqKywtLi8wMTIBAgMEBQYHCAkKCwwNDg8QERITFBUWFxgZGhscHR4fICEiIyQlJicoKSorLC0uLzAxMgECAwQFBgcICQoLDA0ODxAREhMUFRYXGBkaGxwdHh8gISIjJCUmJygpKissLS4vMDEyAQIDBAUGBwgJCgsMDQ4PEBESExQVFhcYGRobHB0eHyAhIiMkJSYnKCkqKywtLi8wMTIBAgMEBQYHCAkKCwwNDg8QERITFBUWFxgZGhscHR4fICEiIyQlJicoKSorLC0uLzAxMgECAwQFBgcICQoLDA0ODxAREhMUFRYXGBkaGxwdHh8gISIjJCUmJygpKissLS4vMDEyAQIDBAUGBwgJCgsMDQ4PEBESExQVFhcYGRobHB0eHyAhIiMkJSYnKCkqKywtLi8wMTIBAgMEBQYHCAkKCwwNDg8QERITFBUWFxgZGhscHR4fICEiIyQlJicoKSorLC0uLzAxMgECAwQFBgcICQoLDA0ODxAREhMUFRYXGBkaGxwdHh8gISIjJCUmJygpKissLS4vMDEy",
          "dtype": "i1"
         },
         "y": {
          "bdata": "5ssLsI/O8z9e7/54r1r0Pwz0iTxJuvQ/NIC3QIIi9T+qSIWxhaD1P/Z698d71fU/gpAsYAL39T/4wmSqYBT2P5SkaybfLPY/o3prYKtE9j/pmsk321z2P451cRsNoPY/jnVxGw2g9j882jhiLb72P8f0hCUe0PY/kgVM4NYd9z/Y2CWqt0b3P3ADPj+MUPc/CFqBIatb9z+1w1+TNWr3P41donproPc/uoPYmUKn9z/mBdhHp673PwSQ2sTJvfc/BJDaxMm99z/1Zz9SRMb3P6RYbmk15Pc/SHL5D+n39z9IcvkP6ff3P2Hl0CLb+fc/INeGinH+9z8bEvdY+hD4PxsS91j6EPg/0GbV52or+D/M7snDQi34P01nJ4OjZPg/egH20alr+D/H0ocuqG/4P8fShy6ob/g/x9KHLqhv+D/E5uPaUHH4P4NMMnIWdvg/Rbbz/dR4+D9FtvP91Hj4PwyTqYJRifg/7+GS406p+D8229yYnrD4Pzbb3JiesPg/FRiyutWz+D8VGLK61bP4Pw==",
          "dtype": "f8"
         }
        },
        {
         "hovertemplate": "Combination: ('two_phase_shuffle_mutation', 'partially_mapped_crossover', 'linear_ranking_selection')<br>Generation: %{x}<br>Fitness: %{y}<extra></extra>",
         "mode": "lines+markers",
         "name": "('two_phase_shuffle_mutation', 'partially_mapped_crossover', 'linear_ranking_selection')",
         "showlegend": true,
         "type": "scatter",
         "x": {
          "bdata": "AQIDBAUGBwgJCgsMDQ4PEBESExQVFhcYGRobHB0eHyAhIiMkJSYnKCkqKywtLi8wMTIBAgMEBQYHCAkKCwwNDg8QERITFBUWFxgZGhscHR4fICEiIyQlJicoKSorLC0uLzAxMgECAwQFBgcICQoLDA0ODxAREhMUFRYXGBkaGxwdHh8gISIjJCUmJygpKissLS4vMDEyAQIDBAUGBwgJCgsMDQ4PEBESExQVFhcYGRobHB0eHyAhIiMkJSYnKCkqKywtLi8wMTIBAgMEBQYHCAkKCwwNDg8QERITFBUWFxgZGhscHR4fICEiIyQlJicoKSorLC0uLzAxMgECAwQFBgcICQoLDA0ODxAREhMUFRYXGBkaGxwdHh8gISIjJCUmJygpKissLS4vMDEyAQIDBAUGBwgJCgsMDQ4PEBESExQVFhcYGRobHB0eHyAhIiMkJSYnKCkqKywtLi8wMTIBAgMEBQYHCAkKCwwNDg8QERITFBUWFxgZGhscHR4fICEiIyQlJicoKSorLC0uLzAxMgECAwQFBgcICQoLDA0ODxAREhMUFRYXGBkaGxwdHh8gISIjJCUmJygpKissLS4vMDEyAQIDBAUGBwgJCgsMDQ4PEBESExQVFhcYGRobHB0eHyAhIiMkJSYnKCkqKywtLi8wMTIBAgMEBQYHCAkKCwwNDg8QERITFBUWFxgZGhscHR4fICEiIyQlJicoKSorLC0uLzAxMgECAwQFBgcICQoLDA0ODxAREhMUFRYXGBkaGxwdHh8gISIjJCUmJygpKissLS4vMDEy",
          "dtype": "i1"
         },
         "y": {
          "bdata": "UKp9Oh4z8z80aOif4KLzP+gwX16AvfM/Bd1e0hjt8z/RkVz+Q/rzP9GRXP5D+vM/AIxn0ND/8z+atn9lpQn0P5q2f2WlCfQ/mrZ/ZaUJ9D+atn9lpQn0P5q2f2WlCfQ/mrZ/ZaUJ9D8urYbEPRb0Py6thsQ9FvQ/guLHmLsW9D+C4seYuxb0P4Lix5i7FvQ/guLHmLsW9D+C4seYuxb0PyV1ApoIG/Q/JXUCmggb9D9wzojS3iD0P9Wytb5IKPQ/1bK1vkgo9D/VsrW+SCj0P1huaTUkLvQ/WG5pNSQu9D9Ybmk1JC70P1huaTUkLvQ/WG5pNSQu9D9Ybmk1JC70P1huaTUkLvQ/WG5pNSQu9D9Ybmk1JC70P1huaTUkLvQ/WG5pNSQu9D9Ybmk1JC70P1huaTUkLvQ/mgMEc/Q49D+aAwRz9Dj0P5oDBHP0OPQ/mgMEc/Q49D+6/If021f0P7r8h/TbV/Q/uvyH9NtX9D+6/If021f0P7r8h/TbV/Q/uvyH9NtX9D+6/If021f0Pw==",
          "dtype": "f8"
         }
        },
        {
         "hovertemplate": "Combination: ('semi_shuffle', 'cyclic_crossover', 'tournament_selection')<br>Generation: %{x}<br>Fitness: %{y}<extra></extra>",
         "mode": "lines+markers",
         "name": "('semi_shuffle', 'cyclic_crossover', 'tournament_selection')",
         "showlegend": true,
         "type": "scatter",
         "x": {
          "bdata": "AQIDBAUGBwgJCgsMDQ4PEBESExQVFhcYGRobHB0eHyAhIiMkJSYnKCkqKywtLi8wMTIBAgMEBQYHCAkKCwwNDg8QERITFBUWFxgZGhscHR4fICEiIyQlJicoKSorLC0uLzAxMgECAwQFBgcICQoLDA0ODxAREhMUFRYXGBkaGxwdHh8gISIjJCUmJygpKissLS4vMDEyAQIDBAUGBwgJCgsMDQ4PEBESExQVFhcYGRobHB0eHyAhIiMkJSYnKCkqKywtLi8wMTIBAgMEBQYHCAkKCwwNDg8QERITFBUWFxgZGhscHR4fICEiIyQlJicoKSorLC0uLzAxMgECAwQFBgcICQoLDA0ODxAREhMUFRYXGBkaGxwdHh8gISIjJCUmJygpKissLS4vMDEyAQIDBAUGBwgJCgsMDQ4PEBESExQVFhcYGRobHB0eHyAhIiMkJSYnKCkqKywtLi8wMTIBAgMEBQYHCAkKCwwNDg8QERITFBUWFxgZGhscHR4fICEiIyQlJicoKSorLC0uLzAxMgECAwQFBgcICQoLDA0ODxAREhMUFRYXGBkaGxwdHh8gISIjJCUmJygpKissLS4vMDEyAQIDBAUGBwgJCgsMDQ4PEBESExQVFhcYGRobHB0eHyAhIiMkJSYnKCkqKywtLi8wMTIBAgMEBQYHCAkKCwwNDg8QERITFBUWFxgZGhscHR4fICEiIyQlJicoKSorLC0uLzAxMgECAwQFBgcICQoLDA0ODxAREhMUFRYXGBkaGxwdHh8gISIjJCUmJygpKissLS4vMDEy",
          "dtype": "i1"
         },
         "y": {
          "bdata": "6WUUyy3t8z8UXKyowTT0Pz6zJEBNrfQ/lEiil1Hs9D+6TiMtlTf1Pw9/Tdaoh/U/36Y/+5Gi9T/x9EpZhrj1P00QdR+A1PU/uAa2SrD49T8eSx+6oP71PwRz9Pi9DfY/aVch5ScV9j81DB8RUyL2P4q1+BQAI/Y/56kOuRku9j/nqQ65GS72P+epDrkZLvY/08H6P4c59j/Twfo/hzn2P8pxp3SwPvY/ynGndLA+9j/Kcad0sD72P8pxp3SwPvY/iGNd3EZD9j+IY13cRkP2P4hjXdxGQ/Y/6Q5iZwpd9j/Fd2LWi2H2P8V3YtaLYfY/XqJ6a2Br9j9eonprYGv2P0iKyLCKd/Y/SIrIsIp39j9Iisiwinf2P7KFIAcljPY/soUgByWM9j+Kcf4mFKL2P4px/iYUovY/ba0vEtqy9j9trS8S2rL2Pyyf5Xlwt/Y/Lj4FwHjG9j8uPgXAeMb2Py4+BcB4xvY/Lj4FwHjG9j8uPgXAeMb2P96Th4Va0/Y/HsnlP6Tf9j8eyeU/pN/2Pw==",
          "dtype": "f8"
         }
        },
        {
         "hovertemplate": "Combination: ('semi_shuffle', 'cyclic_crossover', 'linear_ranking_selection')<br>Generation: %{x}<br>Fitness: %{y}<extra></extra>",
         "mode": "lines+markers",
         "name": "('semi_shuffle', 'cyclic_crossover', 'linear_ranking_selection')",
         "showlegend": true,
         "type": "scatter",
         "x": {
          "bdata": "AQIDBAUGBwgJCgsMDQ4PEBESExQVFhcYGRobHB0eHyAhIiMkJSYnKCkqKywtLi8wMTIBAgMEBQYHCAkKCwwNDg8QERITFBUWFxgZGhscHR4fICEiIyQlJicoKSorLC0uLzAxMgECAwQFBgcICQoLDA0ODxAREhMUFRYXGBkaGxwdHh8gISIjJCUmJygpKissLS4vMDEyAQIDBAUGBwgJCgsMDQ4PEBESExQVFhcYGRobHB0eHyAhIiMkJSYnKCkqKywtLi8wMTIBAgMEBQYHCAkKCwwNDg8QERITFBUWFxgZGhscHR4fICEiIyQlJicoKSorLC0uLzAxMgECAwQFBgcICQoLDA0ODxAREhMUFRYXGBkaGxwdHh8gISIjJCUmJygpKissLS4vMDEyAQIDBAUGBwgJCgsMDQ4PEBESExQVFhcYGRobHB0eHyAhIiMkJSYnKCkqKywtLi8wMTIBAgMEBQYHCAkKCwwNDg8QERITFBUWFxgZGhscHR4fICEiIyQlJicoKSorLC0uLzAxMgECAwQFBgcICQoLDA0ODxAREhMUFRYXGBkaGxwdHh8gISIjJCUmJygpKissLS4vMDEyAQIDBAUGBwgJCgsMDQ4PEBESExQVFhcYGRobHB0eHyAhIiMkJSYnKCkqKywtLi8wMTIBAgMEBQYHCAkKCwwNDg8QERITFBUWFxgZGhscHR4fICEiIyQlJicoKSorLC0uLzAxMgECAwQFBgcICQoLDA0ODxAREhMUFRYXGBkaGxwdHh8gISIjJCUmJygpKissLS4vMDEy",
          "dtype": "i1"
         },
         "y": {
          "bdata": "qg65GW6A8z+gceFASJbzP9i7P96rlvM/2Ls/3quW8z/Yuz/eq5bzP9i7P96rlvM/2Ls/3quW8z8ouFhRg6nzPyi4WFGDqfM/KLhYUYOp8z8ouFhRg6nzPyi4WFGDqfM/KLhYUYOp8z8ouFhRg6nzPwwHQrKAyfM/Cp3X2CXq8z8KndfYJerzPwqd19gl6vM/Cp3X2CXq8z8KndfYJerzPwqd19gl6vM/Cp3X2CXq8z8KndfYJerzPwqd19gl6vM/Cp3X2CXq8z8KndfYJerzP/5g4Ln38PM//mDguffw8z/+YOC59/DzP/5g4Ln38PM//mDguffw8z/+YOC59/DzP/5g4Ln38PM//mDguffw8z/+YOC59/DzP/5g4Ln38PM//mDguffw8z9+0LNZ9fnzP37Qs1n1+fM/ftCzWfX58z9+0LNZ9fnzP37Qs1n1+fM/ftCzWfX58z9+0LNZ9fnzP37Qs1n1+fM/ftCzWfX58z9+0LNZ9fnzP37Qs1n1+fM/ftCzWfX58z9+0LNZ9fnzPw==",
          "dtype": "f8"
         }
        },
        {
         "hovertemplate": "Combination: ('semi_shuffle', 'partially_mapped_crossover', 'tournament_selection')<br>Generation: %{x}<br>Fitness: %{y}<extra></extra>",
         "mode": "lines+markers",
         "name": "('semi_shuffle', 'partially_mapped_crossover', 'tournament_selection')",
         "showlegend": true,
         "type": "scatter",
         "x": {
          "bdata": "AQIDBAUGBwgJCgsMDQ4PEBESExQVFhcYGRobHB0eHyAhIiMkJSYnKCkqKywtLi8wMTIBAgMEBQYHCAkKCwwNDg8QERITFBUWFxgZGhscHR4fICEiIyQlJicoKSorLC0uLzAxMgECAwQFBgcICQoLDA0ODxAREhMUFRYXGBkaGxwdHh8gISIjJCUmJygpKissLS4vMDEyAQIDBAUGBwgJCgsMDQ4PEBESExQVFhcYGRobHB0eHyAhIiMkJSYnKCkqKywtLi8wMTIBAgMEBQYHCAkKCwwNDg8QERITFBUWFxgZGhscHR4fICEiIyQlJicoKSorLC0uLzAxMgECAwQFBgcICQoLDA0ODxAREhMUFRYXGBkaGxwdHh8gISIjJCUmJygpKissLS4vMDEyAQIDBAUGBwgJCgsMDQ4PEBESExQVFhcYGRobHB0eHyAhIiMkJSYnKCkqKywtLi8wMTIBAgMEBQYHCAkKCwwNDg8QERITFBUWFxgZGhscHR4fICEiIyQlJicoKSorLC0uLzAxMgECAwQFBgcICQoLDA0ODxAREhMUFRYXGBkaGxwdHh8gISIjJCUmJygpKissLS4vMDEyAQIDBAUGBwgJCgsMDQ4PEBESExQVFhcYGRobHB0eHyAhIiMkJSYnKCkqKywtLi8wMTIBAgMEBQYHCAkKCwwNDg8QERITFBUWFxgZGhscHR4fICEiIyQlJicoKSorLC0uLzAxMgECAwQFBgcICQoLDA0ODxAREhMUFRYXGBkaGxwdHh8gISIjJCUmJygpKissLS4vMDEy",
          "dtype": "i1"
         },
         "y": {
          "bdata": "cjPcgM/P8z9QATCeQYP0P2TMXUvIB/U/2JlC5zV29T9aqDXNOw72P6AVGLK6VfY/66hqgqh79j9+dOrKZ7n2P7IpV3iXC/c/GjT0T3Ax9z/Mr+YAwVz3P9aVz/I8ePc/+nlTkQqj9z/XVuwvu+f3P+AVwf9W8vc/Pzp15bP89z/YZI16iAb4P4JWYMjqFvg/SKeufJYn+D8IlE25wjv4P0jhehSuR/g/SOF6FK5H+D/6ljldFlP4P/qWOV0WU/g/+pY5XRZT+D/6ljldFlP4P0x/9iNFZPg/eLRxxFp8+D9u2LYos4H4P27Ytiizgfg/bti2KLOB+D/8471qZYL4P/zjvWplgvg//OO9amWC+D9kQPZ694f4P38TChFwiPg/cHfWbruQ+D9CeLRxxJr4P0J4tHHEmvg/Qni0ccSa+D+ATdaoh6j4P6n7AKQ2sfg/hs5r7BLV+D+atn9lpQn5P5q2f2WlCfk/mrZ/ZaUJ+T+atn9lpQn5P5q2f2WlCfk/mrZ/ZaUJ+T875Ga4AR/5Pw==",
          "dtype": "f8"
         }
        },
        {
         "hovertemplate": "Combination: ('semi_shuffle', 'partially_mapped_crossover', 'linear_ranking_selection')<br>Generation: %{x}<br>Fitness: %{y}<extra></extra>",
         "mode": "lines+markers",
         "name": "('semi_shuffle', 'partially_mapped_crossover', 'linear_ranking_selection')",
         "showlegend": true,
         "type": "scatter",
         "x": {
          "bdata": "AQIDBAUGBwgJCgsMDQ4PEBESExQVFhcYGRobHB0eHyAhIiMkJSYnKCkqKywtLi8wMTIBAgMEBQYHCAkKCwwNDg8QERITFBUWFxgZGhscHR4fICEiIyQlJicoKSorLC0uLzAxMgECAwQFBgcICQoLDA0ODxAREhMUFRYXGBkaGxwdHh8gISIjJCUmJygpKissLS4vMDEyAQIDBAUGBwgJCgsMDQ4PEBESExQVFhcYGRobHB0eHyAhIiMkJSYnKCkqKywtLi8wMTIBAgMEBQYHCAkKCwwNDg8QERITFBUWFxgZGhscHR4fICEiIyQlJicoKSorLC0uLzAxMgECAwQFBgcICQoLDA0ODxAREhMUFRYXGBkaGxwdHh8gISIjJCUmJygpKissLS4vMDEyAQIDBAUGBwgJCgsMDQ4PEBESExQVFhcYGRobHB0eHyAhIiMkJSYnKCkqKywtLi8wMTIBAgMEBQYHCAkKCwwNDg8QERITFBUWFxgZGhscHR4fICEiIyQlJicoKSorLC0uLzAxMgECAwQFBgcICQoLDA0ODxAREhMUFRYXGBkaGxwdHh8gISIjJCUmJygpKissLS4vMDEyAQIDBAUGBwgJCgsMDQ4PEBESExQVFhcYGRobHB0eHyAhIiMkJSYnKCkqKywtLi8wMTIBAgMEBQYHCAkKCwwNDg8QERITFBUWFxgZGhscHR4fICEiIyQlJicoKSorLC0uLzAxMgECAwQFBgcICQoLDA0ODxAREhMUFRYXGBkaGxwdHh8gISIjJCUmJygpKissLS4vMDEy",
          "dtype": "i1"
         },
         "y": {
          "bdata": "ngyOklen8z/Vlc/yPLjzP9WVz/I8uPM/SREZVvHG8z8gdqbQec3zPyB2ptB5zfM/NJ2dDI7S8z80nZ0MjtLzPzSdnQyO0vM/NJ2dDI7S8z80nZ0MjtLzPzSdnQyO0vM/NJ2dDI7S8z80nZ0MjtLzPzSdnQyO0vM/NJ2dDI7S8z80nZ0MjtLzPzSdnQyO0vM/NJ2dDI7S8z80nZ0MjtLzPzSdnQyO0vM/NJ2dDI7S8z80nZ0MjtLzPzSdnQyO0vM/NJ2dDI7S8z80nZ0MjtLzPyjtDb4w2fM/KO0NvjDZ8z/hehSuR+HzP+F6FK5H4fM/4XoUrkfh8z8zxLEubuPzP62jqgmi7vM/raOqCaLu8z+to6oJou7zP62jqgmi7vM/raOqCaLu8z+to6oJou7zP62jqgmi7vM/raOqCaLu8z+to6oJou7zP62jqgmi7vM/raOqCaLu8z+to6oJou7zP62jqgmi7vM/WKg1zTsO9D9YqDXNOw70P1ioNc07DvQ/WKg1zTsO9D9YqDXNOw70Pw==",
          "dtype": "f8"
         }
        }
       ],
       "layout": {
        "autosize": true,
        "height": 650,
        "legend": {
         "font": {
          "size": 11
         },
         "orientation": "h",
         "title": {
          "font": {
           "size": 12
          },
          "side": "top",
          "text": "Combination"
         },
         "y": -0.3
        },
        "margin": {
         "b": 100,
         "l": 50,
         "pad": 10,
         "r": 50,
         "t": 80
        },
        "plot_bgcolor": "white",
        "template": {
         "data": {
          "bar": [
           {
            "error_x": {
             "color": "#2a3f5f"
            },
            "error_y": {
             "color": "#2a3f5f"
            },
            "marker": {
             "line": {
              "color": "#E5ECF6",
              "width": 0.5
             },
             "pattern": {
              "fillmode": "overlay",
              "size": 10,
              "solidity": 0.2
             }
            },
            "type": "bar"
           }
          ],
          "barpolar": [
           {
            "marker": {
             "line": {
              "color": "#E5ECF6",
              "width": 0.5
             },
             "pattern": {
              "fillmode": "overlay",
              "size": 10,
              "solidity": 0.2
             }
            },
            "type": "barpolar"
           }
          ],
          "carpet": [
           {
            "aaxis": {
             "endlinecolor": "#2a3f5f",
             "gridcolor": "white",
             "linecolor": "white",
             "minorgridcolor": "white",
             "startlinecolor": "#2a3f5f"
            },
            "baxis": {
             "endlinecolor": "#2a3f5f",
             "gridcolor": "white",
             "linecolor": "white",
             "minorgridcolor": "white",
             "startlinecolor": "#2a3f5f"
            },
            "type": "carpet"
           }
          ],
          "choropleth": [
           {
            "colorbar": {
             "outlinewidth": 0,
             "ticks": ""
            },
            "type": "choropleth"
           }
          ],
          "contour": [
           {
            "colorbar": {
             "outlinewidth": 0,
             "ticks": ""
            },
            "colorscale": [
             [
              0,
              "#0d0887"
             ],
             [
              0.1111111111111111,
              "#46039f"
             ],
             [
              0.2222222222222222,
              "#7201a8"
             ],
             [
              0.3333333333333333,
              "#9c179e"
             ],
             [
              0.4444444444444444,
              "#bd3786"
             ],
             [
              0.5555555555555556,
              "#d8576b"
             ],
             [
              0.6666666666666666,
              "#ed7953"
             ],
             [
              0.7777777777777778,
              "#fb9f3a"
             ],
             [
              0.8888888888888888,
              "#fdca26"
             ],
             [
              1,
              "#f0f921"
             ]
            ],
            "type": "contour"
           }
          ],
          "contourcarpet": [
           {
            "colorbar": {
             "outlinewidth": 0,
             "ticks": ""
            },
            "type": "contourcarpet"
           }
          ],
          "heatmap": [
           {
            "colorbar": {
             "outlinewidth": 0,
             "ticks": ""
            },
            "colorscale": [
             [
              0,
              "#0d0887"
             ],
             [
              0.1111111111111111,
              "#46039f"
             ],
             [
              0.2222222222222222,
              "#7201a8"
             ],
             [
              0.3333333333333333,
              "#9c179e"
             ],
             [
              0.4444444444444444,
              "#bd3786"
             ],
             [
              0.5555555555555556,
              "#d8576b"
             ],
             [
              0.6666666666666666,
              "#ed7953"
             ],
             [
              0.7777777777777778,
              "#fb9f3a"
             ],
             [
              0.8888888888888888,
              "#fdca26"
             ],
             [
              1,
              "#f0f921"
             ]
            ],
            "type": "heatmap"
           }
          ],
          "histogram": [
           {
            "marker": {
             "pattern": {
              "fillmode": "overlay",
              "size": 10,
              "solidity": 0.2
             }
            },
            "type": "histogram"
           }
          ],
          "histogram2d": [
           {
            "colorbar": {
             "outlinewidth": 0,
             "ticks": ""
            },
            "colorscale": [
             [
              0,
              "#0d0887"
             ],
             [
              0.1111111111111111,
              "#46039f"
             ],
             [
              0.2222222222222222,
              "#7201a8"
             ],
             [
              0.3333333333333333,
              "#9c179e"
             ],
             [
              0.4444444444444444,
              "#bd3786"
             ],
             [
              0.5555555555555556,
              "#d8576b"
             ],
             [
              0.6666666666666666,
              "#ed7953"
             ],
             [
              0.7777777777777778,
              "#fb9f3a"
             ],
             [
              0.8888888888888888,
              "#fdca26"
             ],
             [
              1,
              "#f0f921"
             ]
            ],
            "type": "histogram2d"
           }
          ],
          "histogram2dcontour": [
           {
            "colorbar": {
             "outlinewidth": 0,
             "ticks": ""
            },
            "colorscale": [
             [
              0,
              "#0d0887"
             ],
             [
              0.1111111111111111,
              "#46039f"
             ],
             [
              0.2222222222222222,
              "#7201a8"
             ],
             [
              0.3333333333333333,
              "#9c179e"
             ],
             [
              0.4444444444444444,
              "#bd3786"
             ],
             [
              0.5555555555555556,
              "#d8576b"
             ],
             [
              0.6666666666666666,
              "#ed7953"
             ],
             [
              0.7777777777777778,
              "#fb9f3a"
             ],
             [
              0.8888888888888888,
              "#fdca26"
             ],
             [
              1,
              "#f0f921"
             ]
            ],
            "type": "histogram2dcontour"
           }
          ],
          "mesh3d": [
           {
            "colorbar": {
             "outlinewidth": 0,
             "ticks": ""
            },
            "type": "mesh3d"
           }
          ],
          "parcoords": [
           {
            "line": {
             "colorbar": {
              "outlinewidth": 0,
              "ticks": ""
             }
            },
            "type": "parcoords"
           }
          ],
          "pie": [
           {
            "automargin": true,
            "type": "pie"
           }
          ],
          "scatter": [
           {
            "fillpattern": {
             "fillmode": "overlay",
             "size": 10,
             "solidity": 0.2
            },
            "type": "scatter"
           }
          ],
          "scatter3d": [
           {
            "line": {
             "colorbar": {
              "outlinewidth": 0,
              "ticks": ""
             }
            },
            "marker": {
             "colorbar": {
              "outlinewidth": 0,
              "ticks": ""
             }
            },
            "type": "scatter3d"
           }
          ],
          "scattercarpet": [
           {
            "marker": {
             "colorbar": {
              "outlinewidth": 0,
              "ticks": ""
             }
            },
            "type": "scattercarpet"
           }
          ],
          "scattergeo": [
           {
            "marker": {
             "colorbar": {
              "outlinewidth": 0,
              "ticks": ""
             }
            },
            "type": "scattergeo"
           }
          ],
          "scattergl": [
           {
            "marker": {
             "colorbar": {
              "outlinewidth": 0,
              "ticks": ""
             }
            },
            "type": "scattergl"
           }
          ],
          "scattermap": [
           {
            "marker": {
             "colorbar": {
              "outlinewidth": 0,
              "ticks": ""
             }
            },
            "type": "scattermap"
           }
          ],
          "scattermapbox": [
           {
            "marker": {
             "colorbar": {
              "outlinewidth": 0,
              "ticks": ""
             }
            },
            "type": "scattermapbox"
           }
          ],
          "scatterpolar": [
           {
            "marker": {
             "colorbar": {
              "outlinewidth": 0,
              "ticks": ""
             }
            },
            "type": "scatterpolar"
           }
          ],
          "scatterpolargl": [
           {
            "marker": {
             "colorbar": {
              "outlinewidth": 0,
              "ticks": ""
             }
            },
            "type": "scatterpolargl"
           }
          ],
          "scatterternary": [
           {
            "marker": {
             "colorbar": {
              "outlinewidth": 0,
              "ticks": ""
             }
            },
            "type": "scatterternary"
           }
          ],
          "surface": [
           {
            "colorbar": {
             "outlinewidth": 0,
             "ticks": ""
            },
            "colorscale": [
             [
              0,
              "#0d0887"
             ],
             [
              0.1111111111111111,
              "#46039f"
             ],
             [
              0.2222222222222222,
              "#7201a8"
             ],
             [
              0.3333333333333333,
              "#9c179e"
             ],
             [
              0.4444444444444444,
              "#bd3786"
             ],
             [
              0.5555555555555556,
              "#d8576b"
             ],
             [
              0.6666666666666666,
              "#ed7953"
             ],
             [
              0.7777777777777778,
              "#fb9f3a"
             ],
             [
              0.8888888888888888,
              "#fdca26"
             ],
             [
              1,
              "#f0f921"
             ]
            ],
            "type": "surface"
           }
          ],
          "table": [
           {
            "cells": {
             "fill": {
              "color": "#EBF0F8"
             },
             "line": {
              "color": "white"
             }
            },
            "header": {
             "fill": {
              "color": "#C8D4E3"
             },
             "line": {
              "color": "white"
             }
            },
            "type": "table"
           }
          ]
         },
         "layout": {
          "annotationdefaults": {
           "arrowcolor": "#2a3f5f",
           "arrowhead": 0,
           "arrowwidth": 1
          },
          "autotypenumbers": "strict",
          "coloraxis": {
           "colorbar": {
            "outlinewidth": 0,
            "ticks": ""
           }
          },
          "colorscale": {
           "diverging": [
            [
             0,
             "#8e0152"
            ],
            [
             0.1,
             "#c51b7d"
            ],
            [
             0.2,
             "#de77ae"
            ],
            [
             0.3,
             "#f1b6da"
            ],
            [
             0.4,
             "#fde0ef"
            ],
            [
             0.5,
             "#f7f7f7"
            ],
            [
             0.6,
             "#e6f5d0"
            ],
            [
             0.7,
             "#b8e186"
            ],
            [
             0.8,
             "#7fbc41"
            ],
            [
             0.9,
             "#4d9221"
            ],
            [
             1,
             "#276419"
            ]
           ],
           "sequential": [
            [
             0,
             "#0d0887"
            ],
            [
             0.1111111111111111,
             "#46039f"
            ],
            [
             0.2222222222222222,
             "#7201a8"
            ],
            [
             0.3333333333333333,
             "#9c179e"
            ],
            [
             0.4444444444444444,
             "#bd3786"
            ],
            [
             0.5555555555555556,
             "#d8576b"
            ],
            [
             0.6666666666666666,
             "#ed7953"
            ],
            [
             0.7777777777777778,
             "#fb9f3a"
            ],
            [
             0.8888888888888888,
             "#fdca26"
            ],
            [
             1,
             "#f0f921"
            ]
           ],
           "sequentialminus": [
            [
             0,
             "#0d0887"
            ],
            [
             0.1111111111111111,
             "#46039f"
            ],
            [
             0.2222222222222222,
             "#7201a8"
            ],
            [
             0.3333333333333333,
             "#9c179e"
            ],
            [
             0.4444444444444444,
             "#bd3786"
            ],
            [
             0.5555555555555556,
             "#d8576b"
            ],
            [
             0.6666666666666666,
             "#ed7953"
            ],
            [
             0.7777777777777778,
             "#fb9f3a"
            ],
            [
             0.8888888888888888,
             "#fdca26"
            ],
            [
             1,
             "#f0f921"
            ]
           ]
          },
          "colorway": [
           "#636efa",
           "#EF553B",
           "#00cc96",
           "#ab63fa",
           "#FFA15A",
           "#19d3f3",
           "#FF6692",
           "#B6E880",
           "#FF97FF",
           "#FECB52"
          ],
          "font": {
           "color": "#2a3f5f"
          },
          "geo": {
           "bgcolor": "white",
           "lakecolor": "white",
           "landcolor": "#E5ECF6",
           "showlakes": true,
           "showland": true,
           "subunitcolor": "white"
          },
          "hoverlabel": {
           "align": "left"
          },
          "hovermode": "closest",
          "mapbox": {
           "style": "light"
          },
          "paper_bgcolor": "white",
          "plot_bgcolor": "#E5ECF6",
          "polar": {
           "angularaxis": {
            "gridcolor": "white",
            "linecolor": "white",
            "ticks": ""
           },
           "bgcolor": "#E5ECF6",
           "radialaxis": {
            "gridcolor": "white",
            "linecolor": "white",
            "ticks": ""
           }
          },
          "scene": {
           "xaxis": {
            "backgroundcolor": "#E5ECF6",
            "gridcolor": "white",
            "gridwidth": 2,
            "linecolor": "white",
            "showbackground": true,
            "ticks": "",
            "zerolinecolor": "white"
           },
           "yaxis": {
            "backgroundcolor": "#E5ECF6",
            "gridcolor": "white",
            "gridwidth": 2,
            "linecolor": "white",
            "showbackground": true,
            "ticks": "",
            "zerolinecolor": "white"
           },
           "zaxis": {
            "backgroundcolor": "#E5ECF6",
            "gridcolor": "white",
            "gridwidth": 2,
            "linecolor": "white",
            "showbackground": true,
            "ticks": "",
            "zerolinecolor": "white"
           }
          },
          "shapedefaults": {
           "line": {
            "color": "#2a3f5f"
           }
          },
          "ternary": {
           "aaxis": {
            "gridcolor": "white",
            "linecolor": "white",
            "ticks": ""
           },
           "baxis": {
            "gridcolor": "white",
            "linecolor": "white",
            "ticks": ""
           },
           "bgcolor": "#E5ECF6",
           "caxis": {
            "gridcolor": "white",
            "linecolor": "white",
            "ticks": ""
           }
          },
          "title": {
           "x": 0.05
          },
          "xaxis": {
           "automargin": true,
           "gridcolor": "white",
           "linecolor": "white",
           "ticks": "",
           "title": {
            "standoff": 15
           },
           "zerolinecolor": "white",
           "zerolinewidth": 2
          },
          "yaxis": {
           "automargin": true,
           "gridcolor": "white",
           "linecolor": "white",
           "ticks": "",
           "title": {
            "standoff": 15
           },
           "zerolinecolor": "white",
           "zerolinewidth": 2
          }
         }
        },
        "title": {
         "font": {
          "family": "Arial",
          "size": 18
         },
         "text": "<b>Median Best Fitness per Generation</b><br>Experience 1"
        },
        "width": 850,
        "xaxis": {
         "gridcolor": "lightgray",
         "title": {
          "text": "Generation"
         }
        },
        "yaxis": {
         "gridcolor": "lightgray",
         "title": {
          "text": "Fitness"
         }
        }
       }
      }
     },
     "metadata": {},
     "output_type": "display_data"
    },
    {
     "data": {
      "application/vnd.plotly.v1+json": {
       "config": {
        "plotlyServerURL": "https://plot.ly"
       },
       "data": [
        {
         "hovertemplate": "Combination: ('block_rotation_mutation', 'cyclic_crossover', 'tournament_selection')<br>Generation: %{x}<br>Fitness: %{y}<extra></extra>",
         "mode": "lines+markers",
         "name": "('block_rotation_mutation', 'cyclic_crossover', 'tournament_selection')",
         "showlegend": true,
         "type": "scatter",
         "x": {
          "bdata": "AQIDBAUGBwgJCgsMDQ4PEBESExQVFhcYGRobHB0eHyAhIiMkJSYnKCkqKywtLi8wMTIBAgMEBQYHCAkKCwwNDg8QERITFBUWFxgZGhscHR4fICEiIyQlJicoKSorLC0uLzAxMgECAwQFBgcICQoLDA0ODxAREhMUFRYXGBkaGxwdHh8gISIjJCUmJygpKissLS4vMDEyAQIDBAUGBwgJCgsMDQ4PEBESExQVFhcYGRobHB0eHyAhIiMkJSYnKCkqKywtLi8wMTIBAgMEBQYHCAkKCwwNDg8QERITFBUWFxgZGhscHR4fICEiIyQlJicoKSorLC0uLzAxMgECAwQFBgcICQoLDA0ODxAREhMUFRYXGBkaGxwdHh8gISIjJCUmJygpKissLS4vMDEyAQIDBAUGBwgJCgsMDQ4PEBESExQVFhcYGRobHB0eHyAhIiMkJSYnKCkqKywtLi8wMTIBAgMEBQYHCAkKCwwNDg8QERITFBUWFxgZGhscHR4fICEiIyQlJicoKSorLC0uLzAxMgECAwQFBgcICQoLDA0ODxAREhMUFRYXGBkaGxwdHh8gISIjJCUmJygpKissLS4vMDEyAQIDBAUGBwgJCgsMDQ4PEBESExQVFhcYGRobHB0eHyAhIiMkJSYnKCkqKywtLi8wMTIBAgMEBQYHCAkKCwwNDg8QERITFBUWFxgZGhscHR4fICEiIyQlJicoKSorLC0uLzAxMgECAwQFBgcICQoLDA0ODxAREhMUFRYXGBkaGxwdHh8gISIjJCUmJygpKissLS4vMDEy",
          "dtype": "i1"
         },
         "y": {
          "bdata": "fL37473q8z9G09nJ4Cj0P9YcIJijh/Q/3c1THXKz9D9698d71cr0PwwCK4cW2fQ/DAIrhxbZ9D8b2CrB4vD0P8OedvhrMvU/3DNLAtRU9T8cgXhdv2D1PxDM0eP3dvU/QMbctYR89T/fbHNjeoL1P/Cnxks3ifU/sKw0KQWd9T+wrDQpBZ31P9y6m6c6pPU/MPDce7ik9T8w8Nx7uKT1PzDw3Hu4pPU/OjsZHCWv9T+aM6K0N7j1P5ozorQ3uPU/j4MSZtq+9T/GbTSAt8D1P9z0Zz9SxPU/3PRnP1LE9T9++zpwzsj1P377OnDOyPU/fvs6cM7I9T9++zpwzsj1P/+ye/Kw0PU//7J78rDQ9T//snvysND1P7TIdr6f2vU/Cp3X2CXq9T/8dDxmoPL1P/x0PGag8vU//HQ8ZqDy9T++YDdsWxT2P6mHaHQHMfY/qYdodAcx9j8WvOgrSDP2Pxa86CtIM/Y/FrzoK0gz9j8WvOgrSDP2P7QCQ1a3OvY/tAJDVrc69j/8IqEt51L2Pw==",
          "dtype": "f8"
         }
        },
        {
         "hovertemplate": "Combination: ('block_rotation_mutation', 'cyclic_crossover', 'linear_ranking_selection')<br>Generation: %{x}<br>Fitness: %{y}<extra></extra>",
         "mode": "lines+markers",
         "name": "('block_rotation_mutation', 'cyclic_crossover', 'linear_ranking_selection')",
         "showlegend": true,
         "type": "scatter",
         "x": {
          "bdata": "AQIDBAUGBwgJCgsMDQ4PEBESExQVFhcYGRobHB0eHyAhIiMkJSYnKCkqKywtLi8wMTIBAgMEBQYHCAkKCwwNDg8QERITFBUWFxgZGhscHR4fICEiIyQlJicoKSorLC0uLzAxMgECAwQFBgcICQoLDA0ODxAREhMUFRYXGBkaGxwdHh8gISIjJCUmJygpKissLS4vMDEyAQIDBAUGBwgJCgsMDQ4PEBESExQVFhcYGRobHB0eHyAhIiMkJSYnKCkqKywtLi8wMTIBAgMEBQYHCAkKCwwNDg8QERITFBUWFxgZGhscHR4fICEiIyQlJicoKSorLC0uLzAxMgECAwQFBgcICQoLDA0ODxAREhMUFRYXGBkaGxwdHh8gISIjJCUmJygpKissLS4vMDEyAQIDBAUGBwgJCgsMDQ4PEBESExQVFhcYGRobHB0eHyAhIiMkJSYnKCkqKywtLi8wMTIBAgMEBQYHCAkKCwwNDg8QERITFBUWFxgZGhscHR4fICEiIyQlJicoKSorLC0uLzAxMgECAwQFBgcICQoLDA0ODxAREhMUFRYXGBkaGxwdHh8gISIjJCUmJygpKissLS4vMDEyAQIDBAUGBwgJCgsMDQ4PEBESExQVFhcYGRobHB0eHyAhIiMkJSYnKCkqKywtLi8wMTIBAgMEBQYHCAkKCwwNDg8QERITFBUWFxgZGhscHR4fICEiIyQlJicoKSorLC0uLzAxMgECAwQFBgcICQoLDA0ODxAREhMUFRYXGBkaGxwdHh8gISIjJCUmJygpKissLS4vMDEy",
          "dtype": "i1"
         },
         "y": {
          "bdata": "dGN6whJP8z9SswdagaHzP3AlOzYCsfM/4syv5gDB8z/ECOHRxtHzP8QI4dHG0fM/FtnO91Pj8z+9UpYhjvXzP8i1oWKc//M/M4rlllYD9D8ziuWWVgP0PzOK5ZZWA/Q/M4rlllYD9D/caABvgQT0P9xoAG+BBPQ/3GgAb4EE9D8v+grSjAX0P/uuCP63EvQ/+64I/rcS9D/7rgj+txL0P/uuCP63EvQ/qBjnb0Ih9D+jKNAn8iT0P6Mo0CfyJPQ/oyjQJ/Ik9D/05QXYRyf0P/TlBdhHJ/Q/9OUF2Ecn9D/05QXYRyf0P/TlBdhHJ/Q/9OUF2Ecn9D+IaHQHsTP0P4hodAexM/Q/iGh0B7Ez9D/gnBGlvUH0P+CcEaW9QfQ/bRyxFp9C9D9tHLEWn0L0P20csRafQvQ/bRyxFp9C9D9tHLEWn0L0P20csRafQvQ/bRyxFp9C9D9tHLEWn0L0P20csRafQvQ/bRyxFp9C9D/IJCNnYU/0P8gkI2dhT/Q/yCQjZ2FP9D/IJCNnYU/0Pw==",
          "dtype": "f8"
         }
        },
        {
         "hovertemplate": "Combination: ('block_rotation_mutation', 'partially_mapped_crossover', 'tournament_selection')<br>Generation: %{x}<br>Fitness: %{y}<extra></extra>",
         "mode": "lines+markers",
         "name": "('block_rotation_mutation', 'partially_mapped_crossover', 'tournament_selection')",
         "showlegend": true,
         "type": "scatter",
         "x": {
          "bdata": "AQIDBAUGBwgJCgsMDQ4PEBESExQVFhcYGRobHB0eHyAhIiMkJSYnKCkqKywtLi8wMTIBAgMEBQYHCAkKCwwNDg8QERITFBUWFxgZGhscHR4fICEiIyQlJicoKSorLC0uLzAxMgECAwQFBgcICQoLDA0ODxAREhMUFRYXGBkaGxwdHh8gISIjJCUmJygpKissLS4vMDEyAQIDBAUGBwgJCgsMDQ4PEBESExQVFhcYGRobHB0eHyAhIiMkJSYnKCkqKywtLi8wMTIBAgMEBQYHCAkKCwwNDg8QERITFBUWFxgZGhscHR4fICEiIyQlJicoKSorLC0uLzAxMgECAwQFBgcICQoLDA0ODxAREhMUFRYXGBkaGxwdHh8gISIjJCUmJygpKissLS4vMDEyAQIDBAUGBwgJCgsMDQ4PEBESExQVFhcYGRobHB0eHyAhIiMkJSYnKCkqKywtLi8wMTIBAgMEBQYHCAkKCwwNDg8QERITFBUWFxgZGhscHR4fICEiIyQlJicoKSorLC0uLzAxMgECAwQFBgcICQoLDA0ODxAREhMUFRYXGBkaGxwdHh8gISIjJCUmJygpKissLS4vMDEyAQIDBAUGBwgJCgsMDQ4PEBESExQVFhcYGRobHB0eHyAhIiMkJSYnKCkqKywtLi8wMTIBAgMEBQYHCAkKCwwNDg8QERITFBUWFxgZGhscHR4fICEiIyQlJicoKSorLC0uLzAxMgECAwQFBgcICQoLDA0ODxAREhMUFRYXGBkaGxwdHh8gISIjJCUmJygpKissLS4vMDEy",
          "dtype": "i1"
         },
         "y": {
          "bdata": "IbByaJGt8z/YnlkSoCb0P6D9SBEZlvQ/eR7cnbXb9D98pSxDHCv1P8L6P4f5cvU/7wOQ2sTJ9T9BDkqYafv1P3P0+L1NP/Y/oaF/gotV9j/dXtIYrWP2PyZYHM78avY/9vOmIhWG9j/286YiFYb2PzRj0XR2svY/nu+nxkv39j8LXvQVpBn3Pwte9BWkGfc/PBkcJa9O9z+cOLnfoWj3P5w4ud+haPc/XhYTm49r9z9eFhObj2v3P1+1MuGXevc/X7Uy4Zd69z+Cc0aU9ob3P1d4l4v4jvc/V3iXi/iO9z8A3gIJip/3P8nlP6Tfvvc/yeU/pN++9z/J5T+k3773P8nlP6Tfvvc/yeU/pN++9z8IG55eKcv3Pwgbnl4py/c/giGrWz3n9z86I0p7g+/3P16/YDdsG/g/aw4QzNEj+D//7EeKyDD4P//sR4rIMPg/1jkGZK83+D+X/5B++zr4P5j/kH77Ovg/MuGX+nlT+D+KPEm6ZnL4P46vPbMkgPg/WHiXi/iO+D+uwJDVrZ74Pw==",
          "dtype": "f8"
         }
        },
        {
         "hovertemplate": "Combination: ('block_rotation_mutation', 'partially_mapped_crossover', 'linear_ranking_selection')<br>Generation: %{x}<br>Fitness: %{y}<extra></extra>",
         "mode": "lines+markers",
         "name": "('block_rotation_mutation', 'partially_mapped_crossover', 'linear_ranking_selection')",
         "showlegend": true,
         "type": "scatter",
         "x": {
          "bdata": "AQIDBAUGBwgJCgsMDQ4PEBESExQVFhcYGRobHB0eHyAhIiMkJSYnKCkqKywtLi8wMTIBAgMEBQYHCAkKCwwNDg8QERITFBUWFxgZGhscHR4fICEiIyQlJicoKSorLC0uLzAxMgECAwQFBgcICQoLDA0ODxAREhMUFRYXGBkaGxwdHh8gISIjJCUmJygpKissLS4vMDEyAQIDBAUGBwgJCgsMDQ4PEBESExQVFhcYGRobHB0eHyAhIiMkJSYnKCkqKywtLi8wMTIBAgMEBQYHCAkKCwwNDg8QERITFBUWFxgZGhscHR4fICEiIyQlJicoKSorLC0uLzAxMgECAwQFBgcICQoLDA0ODxAREhMUFRYXGBkaGxwdHh8gISIjJCUmJygpKissLS4vMDEyAQIDBAUGBwgJCgsMDQ4PEBESExQVFhcYGRobHB0eHyAhIiMkJSYnKCkqKywtLi8wMTIBAgMEBQYHCAkKCwwNDg8QERITFBUWFxgZGhscHR4fICEiIyQlJicoKSorLC0uLzAxMgECAwQFBgcICQoLDA0ODxAREhMUFRYXGBkaGxwdHh8gISIjJCUmJygpKissLS4vMDEyAQIDBAUGBwgJCgsMDQ4PEBESExQVFhcYGRobHB0eHyAhIiMkJSYnKCkqKywtLi8wMTIBAgMEBQYHCAkKCwwNDg8QERITFBUWFxgZGhscHR4fICEiIyQlJicoKSorLC0uLzAxMgECAwQFBgcICQoLDA0ODxAREhMUFRYXGBkaGxwdHh8gISIjJCUmJygpKissLS4vMDEy",
          "dtype": "i1"
         },
         "y": {
          "bdata": "4+R+h6KA8z/2QCswZLXzP1ZNEHUfwPM/WkxsPq7N8z8w2A3bFuXzP0fmkT8Y+PM/3NeBc0YU9D+pE9BE2DD0P6kT0ETYMPQ/qRPQRNgw9D+pE9BE2DD0PzQzMzMzM/Q/NDMzMzMz9D80MzMzMzP0PzQzMzMzM/Q/NDMzMzMz9D80MzMzMzP0PzQzMzMzM/Q/NDMzMzMz9D/WITfDDTj0P9YhN8MNOPQ/1iE3ww049D/WITfDDTj0P9YhN8MNOPQ/1iE3ww049D/WITfDDTj0P9YhN8MNOPQ/1iE3ww049D/WITfDDTj0P9YhN8MNOPQ/1iE3ww049D/WITfDDTj0P9YhN8MNOPQ/1iE3ww049D/WITfDDTj0P9YhN8MNOPQ/1iE3ww049D/WITfDDTj0PzHO34RCRPQ/NlmjHqJR9D82WaMeolH0PzZZox6iUfQ/NlmjHqJR9D82WaMeolH0PzZZox6iUfQ/NlmjHqJR9D82WaMeolH0PzZZox6iUfQ/NlmjHqJR9D82WaMeolH0Pw==",
          "dtype": "f8"
         }
        },
        {
         "hovertemplate": "Combination: ('two_phase_shuffle_mutation', 'cyclic_crossover', 'tournament_selection')<br>Generation: %{x}<br>Fitness: %{y}<extra></extra>",
         "mode": "lines+markers",
         "name": "('two_phase_shuffle_mutation', 'cyclic_crossover', 'tournament_selection')",
         "showlegend": true,
         "type": "scatter",
         "x": {
          "bdata": "AQIDBAUGBwgJCgsMDQ4PEBESExQVFhcYGRobHB0eHyAhIiMkJSYnKCkqKywtLi8wMTIBAgMEBQYHCAkKCwwNDg8QERITFBUWFxgZGhscHR4fICEiIyQlJicoKSorLC0uLzAxMgECAwQFBgcICQoLDA0ODxAREhMUFRYXGBkaGxwdHh8gISIjJCUmJygpKissLS4vMDEyAQIDBAUGBwgJCgsMDQ4PEBESExQVFhcYGRobHB0eHyAhIiMkJSYnKCkqKywtLi8wMTIBAgMEBQYHCAkKCwwNDg8QERITFBUWFxgZGhscHR4fICEiIyQlJicoKSorLC0uLzAxMgECAwQFBgcICQoLDA0ODxAREhMUFRYXGBkaGxwdHh8gISIjJCUmJygpKissLS4vMDEyAQIDBAUGBwgJCgsMDQ4PEBESExQVFhcYGRobHB0eHyAhIiMkJSYnKCkqKywtLi8wMTIBAgMEBQYHCAkKCwwNDg8QERITFBUWFxgZGhscHR4fICEiIyQlJicoKSorLC0uLzAxMgECAwQFBgcICQoLDA0ODxAREhMUFRYXGBkaGxwdHh8gISIjJCUmJygpKissLS4vMDEyAQIDBAUGBwgJCgsMDQ4PEBESExQVFhcYGRobHB0eHyAhIiMkJSYnKCkqKywtLi8wMTIBAgMEBQYHCAkKCwwNDg8QERITFBUWFxgZGhscHR4fICEiIyQlJicoKSorLC0uLzAxMgECAwQFBgcICQoLDA0ODxAREhMUFRYXGBkaGxwdHh8gISIjJCUmJygpKissLS4vMDEy",
          "dtype": "i1"
         },
         "y": {
          "bdata": "ujE9YYnH8z8Z/z7jwgH0P9zXgXNGVPQ/YI4ev7dp9D+E8GjjiHX0PxJr8SkAhvQ/1pC4x9LH9D/O34RCBNz0P87fhEIE3PQ/zt+EQgTc9D9rmnecouP0P+Olm8Qg8PQ/12mkpfL29D9lcJS8Ogf1P4XOa+wSFfU/C9KMRdNZ9T+OjUC8rl/1P46NQLyuX/U/jo1AvK5f9T+iKNAn8mT1PwCRfvs6cPU/AJF++zpw9T/04O6s3Xb1Pyy3tBoSd/U/LLe0GhJ39T+d19glqnf1P53X2CWqd/U/ndfYJap39T+d19glqnf1P5pfzQGCefU/ml/NAYJ59T+aX80Bgnn1P5pfzQGCefU/ml/NAYJ59T8/xty1hHz1Pz/G3LWEfPU/P8bctYR89T8bR6zFp4D1PxjPoKF/gvU/GM+goX+C9T8Yz6Chf4L1PxjPoKF/gvU/GM+goX+C9T+g/UgRGZb1P6D9SBEZlvU/oP1IERmW9T+g/UgRGZb1P6D9SBEZlvU/oP1IERmW9T+nXOFdLqL1Pw==",
          "dtype": "f8"
         }
        },
        {
         "hovertemplate": "Combination: ('two_phase_shuffle_mutation', 'cyclic_crossover', 'linear_ranking_selection')<br>Generation: %{x}<br>Fitness: %{y}<extra></extra>",
         "mode": "lines+markers",
         "name": "('two_phase_shuffle_mutation', 'cyclic_crossover', 'linear_ranking_selection')",
         "showlegend": true,
         "type": "scatter",
         "x": {
          "bdata": "AQIDBAUGBwgJCgsMDQ4PEBESExQVFhcYGRobHB0eHyAhIiMkJSYnKCkqKywtLi8wMTIBAgMEBQYHCAkKCwwNDg8QERITFBUWFxgZGhscHR4fICEiIyQlJicoKSorLC0uLzAxMgECAwQFBgcICQoLDA0ODxAREhMUFRYXGBkaGxwdHh8gISIjJCUmJygpKissLS4vMDEyAQIDBAUGBwgJCgsMDQ4PEBESExQVFhcYGRobHB0eHyAhIiMkJSYnKCkqKywtLi8wMTIBAgMEBQYHCAkKCwwNDg8QERITFBUWFxgZGhscHR4fICEiIyQlJicoKSorLC0uLzAxMgECAwQFBgcICQoLDA0ODxAREhMUFRYXGBkaGxwdHh8gISIjJCUmJygpKissLS4vMDEyAQIDBAUGBwgJCgsMDQ4PEBESExQVFhcYGRobHB0eHyAhIiMkJSYnKCkqKywtLi8wMTIBAgMEBQYHCAkKCwwNDg8QERITFBUWFxgZGhscHR4fICEiIyQlJicoKSorLC0uLzAxMgECAwQFBgcICQoLDA0ODxAREhMUFRYXGBkaGxwdHh8gISIjJCUmJygpKissLS4vMDEyAQIDBAUGBwgJCgsMDQ4PEBESExQVFhcYGRobHB0eHyAhIiMkJSYnKCkqKywtLi8wMTIBAgMEBQYHCAkKCwwNDg8QERITFBUWFxgZGhscHR4fICEiIyQlJicoKSorLC0uLzAxMgECAwQFBgcICQoLDA0ODxAREhMUFRYXGBkaGxwdHh8gISIjJCUmJygpKissLS4vMDEy",
          "dtype": "i1"
         },
         "y": {
          "bdata": "waikTkDT8z+gppat9QX0P3Iz3IDPD/Q/f2q8dJMY9D9/arx0kxj0P39qvHSTGPQ/R+aRPxg49D9H5pE/GDj0P0fmkT8YOPQ/R+aRPxg49D+qTZzc71D0P6pNnNzvUPQ/qk2c3O9Q9D/CTNu/slL0P5o90AoMWfQ/mj3QCgxZ9D8gzVg0nV30PyDNWDSdXfQ/IM1YNJ1d9D8gzVg0nV30P24Sg8DKYfQ/r1+wG7Zt9D+vX7Abtm30P8aFAyFZgPQ/4PjaM0uC9D/g+NozS4L0P+D42jNLgvQ/4PjaM0uC9D/g+NozS4L0P1R0JJf/kPQ/VHQkl/+Q9D9UdCSX/5D0P1R0JJf/kPQ/gjl6/N6m9D+COXr83qb0P4I5evzepvQ/UU60q5Cy9D9RTrSrkLL0P1FOtKuQsvQ/UU60q5Cy9D9RTrSrkLL0P1FOtKuQsvQ/iDO/mgPE9D+IM7+aA8T0P3BfB84Z0fQ/cF8HzhnR9D9wXwfOGdH0P3BfB84Z0fQ/cF8HzhnR9D82JO6x9OH0Pw==",
          "dtype": "f8"
         }
        },
        {
         "hovertemplate": "Combination: ('two_phase_shuffle_mutation', 'partially_mapped_crossover', 'tournament_selection')<br>Generation: %{x}<br>Fitness: %{y}<extra></extra>",
         "mode": "lines+markers",
         "name": "('two_phase_shuffle_mutation', 'partially_mapped_crossover', 'tournament_selection')",
         "showlegend": true,
         "type": "scatter",
         "x": {
          "bdata": "AQIDBAUGBwgJCgsMDQ4PEBESExQVFhcYGRobHB0eHyAhIiMkJSYnKCkqKywtLi8wMTIBAgMEBQYHCAkKCwwNDg8QERITFBUWFxgZGhscHR4fICEiIyQlJicoKSorLC0uLzAxMgECAwQFBgcICQoLDA0ODxAREhMUFRYXGBkaGxwdHh8gISIjJCUmJygpKissLS4vMDEyAQIDBAUGBwgJCgsMDQ4PEBESExQVFhcYGRobHB0eHyAhIiMkJSYnKCkqKywtLi8wMTIBAgMEBQYHCAkKCwwNDg8QERITFBUWFxgZGhscHR4fICEiIyQlJicoKSorLC0uLzAxMgECAwQFBgcICQoLDA0ODxAREhMUFRYXGBkaGxwdHh8gISIjJCUmJygpKissLS4vMDEyAQIDBAUGBwgJCgsMDQ4PEBESExQVFhcYGRobHB0eHyAhIiMkJSYnKCkqKywtLi8wMTIBAgMEBQYHCAkKCwwNDg8QERITFBUWFxgZGhscHR4fICEiIyQlJicoKSorLC0uLzAxMgECAwQFBgcICQoLDA0ODxAREhMUFRYXGBkaGxwdHh8gISIjJCUmJygpKissLS4vMDEyAQIDBAUGBwgJCgsMDQ4PEBESExQVFhcYGRobHB0eHyAhIiMkJSYnKCkqKywtLi8wMTIBAgMEBQYHCAkKCwwNDg8QERITFBUWFxgZGhscHR4fICEiIyQlJicoKSorLC0uLzAxMgECAwQFBgcICQoLDA0ODxAREhMUFRYXGBkaGxwdHh8gISIjJCUmJygpKissLS4vMDEy",
          "dtype": "i1"
         },
         "y": {
          "bdata": "cA1slWDx8z/wOEVHcjn0P1Lt0/GYgfQ/BthHp6789D+pjH+fcSH1PwwkKH6MOfU/wCFUqdmD9T/QCgxZ3ar1P917uOS40/U/QtR9AFLb9T/Gyf0ORQH2P8bJ/Q5FAfY/kgVM4NYd9j+gVPt0PCb2P/AzLhwISfY/l3Mprip79j/k9zb92Y/2P74wmSoY1fY/Htydtdvu9j8YeO49XPL2Pxh47j1c8vY/lGqfjscM9z+hoX+CixX3P1hbsb/sHvc/jC0EOSgh9z+y74rgfyv3P5Kg+DHmbvc/YEGasWh69z9gQZqxaHr3P/JG5pE/mPc/8kbmkT+Y9z/yRuaRP5j3P/JG5pE/mPc/8kbmkT+Y9z+ikjoBTcT3P4TTghd9xfc/hNOCF33F9z8wmSoYldT3P1RvDWyV4Pc/VG8NbJXg9z+Jzce1oeL3P4nNx7Wh4vc/ic3HtaHi9z+Jzce1oeL3Px5QNuUK7/c/R+aRPxj49z9H5pE/GPj3P6qy74rg//c/qrLviuD/9z+NQLyuXzD4Pw==",
          "dtype": "f8"
         }
        },
        {
         "hovertemplate": "Combination: ('two_phase_shuffle_mutation', 'partially_mapped_crossover', 'linear_ranking_selection')<br>Generation: %{x}<br>Fitness: %{y}<extra></extra>",
         "mode": "lines+markers",
         "name": "('two_phase_shuffle_mutation', 'partially_mapped_crossover', 'linear_ranking_selection')",
         "showlegend": true,
         "type": "scatter",
         "x": {
          "bdata": "AQIDBAUGBwgJCgsMDQ4PEBESExQVFhcYGRobHB0eHyAhIiMkJSYnKCkqKywtLi8wMTIBAgMEBQYHCAkKCwwNDg8QERITFBUWFxgZGhscHR4fICEiIyQlJicoKSorLC0uLzAxMgECAwQFBgcICQoLDA0ODxAREhMUFRYXGBkaGxwdHh8gISIjJCUmJygpKissLS4vMDEyAQIDBAUGBwgJCgsMDQ4PEBESExQVFhcYGRobHB0eHyAhIiMkJSYnKCkqKywtLi8wMTIBAgMEBQYHCAkKCwwNDg8QERITFBUWFxgZGhscHR4fICEiIyQlJicoKSorLC0uLzAxMgECAwQFBgcICQoLDA0ODxAREhMUFRYXGBkaGxwdHh8gISIjJCUmJygpKissLS4vMDEyAQIDBAUGBwgJCgsMDQ4PEBESExQVFhcYGRobHB0eHyAhIiMkJSYnKCkqKywtLi8wMTIBAgMEBQYHCAkKCwwNDg8QERITFBUWFxgZGhscHR4fICEiIyQlJicoKSorLC0uLzAxMgECAwQFBgcICQoLDA0ODxAREhMUFRYXGBkaGxwdHh8gISIjJCUmJygpKissLS4vMDEyAQIDBAUGBwgJCgsMDQ4PEBESExQVFhcYGRobHB0eHyAhIiMkJSYnKCkqKywtLi8wMTIBAgMEBQYHCAkKCwwNDg8QERITFBUWFxgZGhscHR4fICEiIyQlJicoKSorLC0uLzAxMgECAwQFBgcICQoLDA0ODxAREhMUFRYXGBkaGxwdHh8gISIjJCUmJygpKissLS4vMDEy",
          "dtype": "i1"
         },
         "y": {
          "bdata": "bjmX4qqy8z/2tMNfk/XzP/a0w1+T9fM/1HjpJjEI9D/0Yign2hX0P+qtga0SLPQ/6q2BrRIs9D/qrYGtEiz0P+qtga0SLPQ/6q2BrRIs9D/qrYGtEiz0P2gFhqxuNfQ/aAWGrG419D9oBYasbjX0P2gFhqxuNfQ/aAWGrG419D9oBYasbjX0P2gFhqxuNfQ/aAWGrG419D9oBYasbjX0P2gFhqxuNfQ/aAWGrG419D9oBYasbjX0PyBGCI82TvQ/IEYIjzZO9D8gRgiPNk70PyBGCI82TvQ/IEYIjzZO9D8gRgiPNk70P2lSCrq9ZPQ/aVIKur1k9D90Ka4q+270P3Qprir7bvQ/dCmuKvtu9D90Ka4q+270P3Qprir7bvQ/dCmuKvtu9D90Ka4q+270P3Qprir7bvQ/dCmuKvtu9D90Ka4q+270P3Qprir7bvQ/dCmuKvtu9D90Ka4q+270P3Qprir7bvQ/dCmuKvtu9D90Ka4q+270P3Qprir7bvQ/dCmuKvtu9D90Ka4q+270Pw==",
          "dtype": "f8"
         }
        },
        {
         "hovertemplate": "Combination: ('semi_shuffle', 'cyclic_crossover', 'tournament_selection')<br>Generation: %{x}<br>Fitness: %{y}<extra></extra>",
         "mode": "lines+markers",
         "name": "('semi_shuffle', 'cyclic_crossover', 'tournament_selection')",
         "showlegend": true,
         "type": "scatter",
         "x": {
          "bdata": "AQIDBAUGBwgJCgsMDQ4PEBESExQVFhcYGRobHB0eHyAhIiMkJSYnKCkqKywtLi8wMTIBAgMEBQYHCAkKCwwNDg8QERITFBUWFxgZGhscHR4fICEiIyQlJicoKSorLC0uLzAxMgECAwQFBgcICQoLDA0ODxAREhMUFRYXGBkaGxwdHh8gISIjJCUmJygpKissLS4vMDEyAQIDBAUGBwgJCgsMDQ4PEBESExQVFhcYGRobHB0eHyAhIiMkJSYnKCkqKywtLi8wMTIBAgMEBQYHCAkKCwwNDg8QERITFBUWFxgZGhscHR4fICEiIyQlJicoKSorLC0uLzAxMgECAwQFBgcICQoLDA0ODxAREhMUFRYXGBkaGxwdHh8gISIjJCUmJygpKissLS4vMDEyAQIDBAUGBwgJCgsMDQ4PEBESExQVFhcYGRobHB0eHyAhIiMkJSYnKCkqKywtLi8wMTIBAgMEBQYHCAkKCwwNDg8QERITFBUWFxgZGhscHR4fICEiIyQlJicoKSorLC0uLzAxMgECAwQFBgcICQoLDA0ODxAREhMUFRYXGBkaGxwdHh8gISIjJCUmJygpKissLS4vMDEyAQIDBAUGBwgJCgsMDQ4PEBESExQVFhcYGRobHB0eHyAhIiMkJSYnKCkqKywtLi8wMTIBAgMEBQYHCAkKCwwNDg8QERITFBUWFxgZGhscHR4fICEiIyQlJicoKSorLC0uLzAxMgECAwQFBgcICQoLDA0ODxAREhMUFRYXGBkaGxwdHh8gISIjJCUmJygpKissLS4vMDEy",
          "dtype": "i1"
         },
         "y": {
          "bdata": "74/3qpXJ8z8yIHu9+2P0P4wyG2SS0fQ/r0LKT6r99D+KPEm6ZjL1P5RNucK7nPU/am/whcnU9T9CmrFoOvv1PxzTE5Z4APY/pn7eVKQC9j9DVrd6Tjr2P0NWt3pOOvY/A1slWBxO9j9A8WPMXYv2PxZSflLtk/Y/QuxMofOa9j/2tMNfk7X2Px6KAn0iz/Y/HooCfSLP9j8eigJ9Is/2P/lmmxvT0/Y/+WabG9PT9j8Cste7P972Pw8om3KF9/Y/OIQqNXsg9z/gYkUNpiH3PxfUt8zpMvc/hGQBE7g19z9qMA3DR0T3P2owDcNHRPc/DB8RUyJJ9z8MHxFTIkn3PwwfEVMiSfc/DB8RUyJJ9z8MHxFTIkn3PwwfEVMiSfc/AlslWBxO9z+rOUAwR0/3P6s5QDBHT/c/gj6RJ0lX9z+CPpEnSVf3P+xunuqQW/c/6Q5iZwpd9z+uwJDVrV73P67AkNWtXvc/rsCQ1a1e9z+IKZFEL2P3P9gS8kHPZvc/2BLyQc9m9z/YEvJBz2b3Pw==",
          "dtype": "f8"
         }
        },
        {
         "hovertemplate": "Combination: ('semi_shuffle', 'cyclic_crossover', 'linear_ranking_selection')<br>Generation: %{x}<br>Fitness: %{y}<extra></extra>",
         "mode": "lines+markers",
         "name": "('semi_shuffle', 'cyclic_crossover', 'linear_ranking_selection')",
         "showlegend": true,
         "type": "scatter",
         "x": {
          "bdata": "AQIDBAUGBwgJCgsMDQ4PEBESExQVFhcYGRobHB0eHyAhIiMkJSYnKCkqKywtLi8wMTIBAgMEBQYHCAkKCwwNDg8QERITFBUWFxgZGhscHR4fICEiIyQlJicoKSorLC0uLzAxMgECAwQFBgcICQoLDA0ODxAREhMUFRYXGBkaGxwdHh8gISIjJCUmJygpKissLS4vMDEyAQIDBAUGBwgJCgsMDQ4PEBESExQVFhcYGRobHB0eHyAhIiMkJSYnKCkqKywtLi8wMTIBAgMEBQYHCAkKCwwNDg8QERITFBUWFxgZGhscHR4fICEiIyQlJicoKSorLC0uLzAxMgECAwQFBgcICQoLDA0ODxAREhMUFRYXGBkaGxwdHh8gISIjJCUmJygpKissLS4vMDEyAQIDBAUGBwgJCgsMDQ4PEBESExQVFhcYGRobHB0eHyAhIiMkJSYnKCkqKywtLi8wMTIBAgMEBQYHCAkKCwwNDg8QERITFBUWFxgZGhscHR4fICEiIyQlJicoKSorLC0uLzAxMgECAwQFBgcICQoLDA0ODxAREhMUFRYXGBkaGxwdHh8gISIjJCUmJygpKissLS4vMDEyAQIDBAUGBwgJCgsMDQ4PEBESExQVFhcYGRobHB0eHyAhIiMkJSYnKCkqKywtLi8wMTIBAgMEBQYHCAkKCwwNDg8QERITFBUWFxgZGhscHR4fICEiIyQlJicoKSorLC0uLzAxMgECAwQFBgcICQoLDA0ODxAREhMUFRYXGBkaGxwdHh8gISIjJCUmJygpKissLS4vMDEy",
          "dtype": "i1"
         },
         "y": {
          "bdata": "gez17o+38z+B7PXuj7fzP4Hs9e6Pt/M/ba0vEtry8z9trS8S2vLzP22tLxLa8vM/ba0vEtry8z9trS8S2vLzP8y0/SsrDfQ/zLT9KysN9D/MtP0rKw30P8y0/SsrDfQ/zLT9KysN9D/MtP0rKw30P8y0/SsrDfQ/zLT9KysN9D/MtP0rKw30P8y0/SsrDfQ/zLT9KysN9D/MtP0rKw30P8y0/SsrDfQ/zLT9KysN9D+loNtLGiP0P6Wg20saI/Q/paDbSxoj9D+loNtLGiP0P6Wg20saI/Q/paDbSxoj9D/Arbt5qkP0P8Ctu3mqQ/Q/CFqBIatb9D8IWoEhq1v0PwhagSGrW/Q/CFqBIatb9D8IWoEhq1v0PwhagSGrW/Q/CFqBIatb9D8IWoEhq1v0PwhagSGrW/Q/CFqBIatb9D8IWoEhq1v0PwhagSGrW/Q/CFqBIatb9D8IWoEhq1v0PwhagSGrW/Q/CFqBIatb9D8IWoEhq1v0PwhagSGrW/Q/CFqBIatb9D8IWoEhq1v0Pw==",
          "dtype": "f8"
         }
        },
        {
         "hovertemplate": "Combination: ('semi_shuffle', 'partially_mapped_crossover', 'tournament_selection')<br>Generation: %{x}<br>Fitness: %{y}<extra></extra>",
         "mode": "lines+markers",
         "name": "('semi_shuffle', 'partially_mapped_crossover', 'tournament_selection')",
         "showlegend": true,
         "type": "scatter",
         "x": {
          "bdata": "AQIDBAUGBwgJCgsMDQ4PEBESExQVFhcYGRobHB0eHyAhIiMkJSYnKCkqKywtLi8wMTIBAgMEBQYHCAkKCwwNDg8QERITFBUWFxgZGhscHR4fICEiIyQlJicoKSorLC0uLzAxMgECAwQFBgcICQoLDA0ODxAREhMUFRYXGBkaGxwdHh8gISIjJCUmJygpKissLS4vMDEyAQIDBAUGBwgJCgsMDQ4PEBESExQVFhcYGRobHB0eHyAhIiMkJSYnKCkqKywtLi8wMTIBAgMEBQYHCAkKCwwNDg8QERITFBUWFxgZGhscHR4fICEiIyQlJicoKSorLC0uLzAxMgECAwQFBgcICQoLDA0ODxAREhMUFRYXGBkaGxwdHh8gISIjJCUmJygpKissLS4vMDEyAQIDBAUGBwgJCgsMDQ4PEBESExQVFhcYGRobHB0eHyAhIiMkJSYnKCkqKywtLi8wMTIBAgMEBQYHCAkKCwwNDg8QERITFBUWFxgZGhscHR4fICEiIyQlJicoKSorLC0uLzAxMgECAwQFBgcICQoLDA0ODxAREhMUFRYXGBkaGxwdHh8gISIjJCUmJygpKissLS4vMDEyAQIDBAUGBwgJCgsMDQ4PEBESExQVFhcYGRobHB0eHyAhIiMkJSYnKCkqKywtLi8wMTIBAgMEBQYHCAkKCwwNDg8QERITFBUWFxgZGhscHR4fICEiIyQlJicoKSorLC0uLzAxMgECAwQFBgcICQoLDA0ODxAREhMUFRYXGBkaGxwdHh8gISIjJCUmJygpKissLS4vMDEy",
          "dtype": "i1"
         },
         "y": {
          "bdata": "oKaWrfUF9D+sHFpkO9/0P6cFL/oKEvU/AvG6fsGu9T82cXK/QxH2P6n7AKQ2cfY/+KV+3lSk9j80UBn/PuP2P820/SsrDfc/4iNiSiRR9z8Ebt3NU133P5/leXB3lvc/845TdCTX9z+WkA96Niv4P3PcKR2sP/g/+kSeJF1z+D8dA7LXu7/4P5qZmZmZ2fg/xy5RvTXw+D/HLlG9NfD4P6jGSzeJQfk/sp3vp8ZL+T9angd3Z235P7sKKT+pdvk/skY9RKN7+T+yRj1Eo3v5PyJnYU87fPk/TS1b64uE+T9NLVvri4T5P00tW+uLhPk/TS1b64uE+T9NLVvri4T5P00tW+uLhPk/GeJYF7eR+T8Z4lgXt5H5PxniWBe3kfk//JEiMqyi+T+GrG71nLT5P4i6D0Bq0/k/iLoPQGrT+T+Iug9AatP5P4i6D0Bq0/k/iLoPQGrT+T+Iug9AatP5P4i6D0Bq0/k/1LfM6bLY+T/Ut8zpstj5Pz8AqU2c3Pk/PwCpTZzc+T8/AKlNnNz5Pw==",
          "dtype": "f8"
         }
        },
        {
         "hovertemplate": "Combination: ('semi_shuffle', 'partially_mapped_crossover', 'linear_ranking_selection')<br>Generation: %{x}<br>Fitness: %{y}<extra></extra>",
         "mode": "lines+markers",
         "name": "('semi_shuffle', 'partially_mapped_crossover', 'linear_ranking_selection')",
         "showlegend": true,
         "type": "scatter",
         "x": {
          "bdata": "AQIDBAUGBwgJCgsMDQ4PEBESExQVFhcYGRobHB0eHyAhIiMkJSYnKCkqKywtLi8wMTIBAgMEBQYHCAkKCwwNDg8QERITFBUWFxgZGhscHR4fICEiIyQlJicoKSorLC0uLzAxMgECAwQFBgcICQoLDA0ODxAREhMUFRYXGBkaGxwdHh8gISIjJCUmJygpKissLS4vMDEyAQIDBAUGBwgJCgsMDQ4PEBESExQVFhcYGRobHB0eHyAhIiMkJSYnKCkqKywtLi8wMTIBAgMEBQYHCAkKCwwNDg8QERITFBUWFxgZGhscHR4fICEiIyQlJicoKSorLC0uLzAxMgECAwQFBgcICQoLDA0ODxAREhMUFRYXGBkaGxwdHh8gISIjJCUmJygpKissLS4vMDEyAQIDBAUGBwgJCgsMDQ4PEBESExQVFhcYGRobHB0eHyAhIiMkJSYnKCkqKywtLi8wMTIBAgMEBQYHCAkKCwwNDg8QERITFBUWFxgZGhscHR4fICEiIyQlJicoKSorLC0uLzAxMgECAwQFBgcICQoLDA0ODxAREhMUFRYXGBkaGxwdHh8gISIjJCUmJygpKissLS4vMDEyAQIDBAUGBwgJCgsMDQ4PEBESExQVFhcYGRobHB0eHyAhIiMkJSYnKCkqKywtLi8wMTIBAgMEBQYHCAkKCwwNDg8QERITFBUWFxgZGhscHR4fICEiIyQlJicoKSorLC0uLzAxMgECAwQFBgcICQoLDA0ODxAREhMUFRYXGBkaGxwdHh8gISIjJCUmJygpKissLS4vMDEy",
          "dtype": "i1"
         },
         "y": {
          "bdata": "kSdJ10w+8z9uF5rrNFLzP88PI4RHW/M/zw8jhEdb8z/X+iKhLWfzP9f6IqEtZ/M/0ETY8PSK8z/QRNjw9IrzP9BE2PD0ivM/0ETY8PSK8z/QRNjw9IrzP0hQ/Bhzl/M/SFD8GHOX8z9IUPwYc5fzP0hQ/Bhzl/M/rtNIS+Wt8z+u00hL5a3zP6xzDMher/M/rHMMyF6v8z8J3Lqbp7rzPwncupunuvM/4jsx68XQ8z/iOzHrxdDzP+I7MevF0PM/4jsx68XQ8z/iOzHrxdDzP6RYbmk15PM/pFhuaTXk8z+kWG5pNeTzP6RYbmk15PM/pFhuaTXk8z+kWG5pNeTzP6RYbmk15PM/pFhuaTXk8z+kWG5pNeTzP6RYbmk15PM/pFhuaTXk8z+kWG5pNeTzP6RYbmk15PM/pFhuaTXk8z+kWG5pNeTzP6RYbmk15PM/pFhuaTXk8z+kWG5pNeTzP6RYbmk15PM/pFhuaTXk8z+kWG5pNeTzP6RYbmk15PM/pFhuaTXk8z+kWG5pNeTzPw==",
          "dtype": "f8"
         }
        }
       ],
       "layout": {
        "autosize": true,
        "height": 650,
        "legend": {
         "font": {
          "size": 11
         },
         "orientation": "h",
         "title": {
          "font": {
           "size": 12
          },
          "side": "top",
          "text": "Combination"
         },
         "y": -0.3
        },
        "margin": {
         "b": 100,
         "l": 50,
         "pad": 10,
         "r": 50,
         "t": 80
        },
        "plot_bgcolor": "white",
        "template": {
         "data": {
          "bar": [
           {
            "error_x": {
             "color": "#2a3f5f"
            },
            "error_y": {
             "color": "#2a3f5f"
            },
            "marker": {
             "line": {
              "color": "#E5ECF6",
              "width": 0.5
             },
             "pattern": {
              "fillmode": "overlay",
              "size": 10,
              "solidity": 0.2
             }
            },
            "type": "bar"
           }
          ],
          "barpolar": [
           {
            "marker": {
             "line": {
              "color": "#E5ECF6",
              "width": 0.5
             },
             "pattern": {
              "fillmode": "overlay",
              "size": 10,
              "solidity": 0.2
             }
            },
            "type": "barpolar"
           }
          ],
          "carpet": [
           {
            "aaxis": {
             "endlinecolor": "#2a3f5f",
             "gridcolor": "white",
             "linecolor": "white",
             "minorgridcolor": "white",
             "startlinecolor": "#2a3f5f"
            },
            "baxis": {
             "endlinecolor": "#2a3f5f",
             "gridcolor": "white",
             "linecolor": "white",
             "minorgridcolor": "white",
             "startlinecolor": "#2a3f5f"
            },
            "type": "carpet"
           }
          ],
          "choropleth": [
           {
            "colorbar": {
             "outlinewidth": 0,
             "ticks": ""
            },
            "type": "choropleth"
           }
          ],
          "contour": [
           {
            "colorbar": {
             "outlinewidth": 0,
             "ticks": ""
            },
            "colorscale": [
             [
              0,
              "#0d0887"
             ],
             [
              0.1111111111111111,
              "#46039f"
             ],
             [
              0.2222222222222222,
              "#7201a8"
             ],
             [
              0.3333333333333333,
              "#9c179e"
             ],
             [
              0.4444444444444444,
              "#bd3786"
             ],
             [
              0.5555555555555556,
              "#d8576b"
             ],
             [
              0.6666666666666666,
              "#ed7953"
             ],
             [
              0.7777777777777778,
              "#fb9f3a"
             ],
             [
              0.8888888888888888,
              "#fdca26"
             ],
             [
              1,
              "#f0f921"
             ]
            ],
            "type": "contour"
           }
          ],
          "contourcarpet": [
           {
            "colorbar": {
             "outlinewidth": 0,
             "ticks": ""
            },
            "type": "contourcarpet"
           }
          ],
          "heatmap": [
           {
            "colorbar": {
             "outlinewidth": 0,
             "ticks": ""
            },
            "colorscale": [
             [
              0,
              "#0d0887"
             ],
             [
              0.1111111111111111,
              "#46039f"
             ],
             [
              0.2222222222222222,
              "#7201a8"
             ],
             [
              0.3333333333333333,
              "#9c179e"
             ],
             [
              0.4444444444444444,
              "#bd3786"
             ],
             [
              0.5555555555555556,
              "#d8576b"
             ],
             [
              0.6666666666666666,
              "#ed7953"
             ],
             [
              0.7777777777777778,
              "#fb9f3a"
             ],
             [
              0.8888888888888888,
              "#fdca26"
             ],
             [
              1,
              "#f0f921"
             ]
            ],
            "type": "heatmap"
           }
          ],
          "histogram": [
           {
            "marker": {
             "pattern": {
              "fillmode": "overlay",
              "size": 10,
              "solidity": 0.2
             }
            },
            "type": "histogram"
           }
          ],
          "histogram2d": [
           {
            "colorbar": {
             "outlinewidth": 0,
             "ticks": ""
            },
            "colorscale": [
             [
              0,
              "#0d0887"
             ],
             [
              0.1111111111111111,
              "#46039f"
             ],
             [
              0.2222222222222222,
              "#7201a8"
             ],
             [
              0.3333333333333333,
              "#9c179e"
             ],
             [
              0.4444444444444444,
              "#bd3786"
             ],
             [
              0.5555555555555556,
              "#d8576b"
             ],
             [
              0.6666666666666666,
              "#ed7953"
             ],
             [
              0.7777777777777778,
              "#fb9f3a"
             ],
             [
              0.8888888888888888,
              "#fdca26"
             ],
             [
              1,
              "#f0f921"
             ]
            ],
            "type": "histogram2d"
           }
          ],
          "histogram2dcontour": [
           {
            "colorbar": {
             "outlinewidth": 0,
             "ticks": ""
            },
            "colorscale": [
             [
              0,
              "#0d0887"
             ],
             [
              0.1111111111111111,
              "#46039f"
             ],
             [
              0.2222222222222222,
              "#7201a8"
             ],
             [
              0.3333333333333333,
              "#9c179e"
             ],
             [
              0.4444444444444444,
              "#bd3786"
             ],
             [
              0.5555555555555556,
              "#d8576b"
             ],
             [
              0.6666666666666666,
              "#ed7953"
             ],
             [
              0.7777777777777778,
              "#fb9f3a"
             ],
             [
              0.8888888888888888,
              "#fdca26"
             ],
             [
              1,
              "#f0f921"
             ]
            ],
            "type": "histogram2dcontour"
           }
          ],
          "mesh3d": [
           {
            "colorbar": {
             "outlinewidth": 0,
             "ticks": ""
            },
            "type": "mesh3d"
           }
          ],
          "parcoords": [
           {
            "line": {
             "colorbar": {
              "outlinewidth": 0,
              "ticks": ""
             }
            },
            "type": "parcoords"
           }
          ],
          "pie": [
           {
            "automargin": true,
            "type": "pie"
           }
          ],
          "scatter": [
           {
            "fillpattern": {
             "fillmode": "overlay",
             "size": 10,
             "solidity": 0.2
            },
            "type": "scatter"
           }
          ],
          "scatter3d": [
           {
            "line": {
             "colorbar": {
              "outlinewidth": 0,
              "ticks": ""
             }
            },
            "marker": {
             "colorbar": {
              "outlinewidth": 0,
              "ticks": ""
             }
            },
            "type": "scatter3d"
           }
          ],
          "scattercarpet": [
           {
            "marker": {
             "colorbar": {
              "outlinewidth": 0,
              "ticks": ""
             }
            },
            "type": "scattercarpet"
           }
          ],
          "scattergeo": [
           {
            "marker": {
             "colorbar": {
              "outlinewidth": 0,
              "ticks": ""
             }
            },
            "type": "scattergeo"
           }
          ],
          "scattergl": [
           {
            "marker": {
             "colorbar": {
              "outlinewidth": 0,
              "ticks": ""
             }
            },
            "type": "scattergl"
           }
          ],
          "scattermap": [
           {
            "marker": {
             "colorbar": {
              "outlinewidth": 0,
              "ticks": ""
             }
            },
            "type": "scattermap"
           }
          ],
          "scattermapbox": [
           {
            "marker": {
             "colorbar": {
              "outlinewidth": 0,
              "ticks": ""
             }
            },
            "type": "scattermapbox"
           }
          ],
          "scatterpolar": [
           {
            "marker": {
             "colorbar": {
              "outlinewidth": 0,
              "ticks": ""
             }
            },
            "type": "scatterpolar"
           }
          ],
          "scatterpolargl": [
           {
            "marker": {
             "colorbar": {
              "outlinewidth": 0,
              "ticks": ""
             }
            },
            "type": "scatterpolargl"
           }
          ],
          "scatterternary": [
           {
            "marker": {
             "colorbar": {
              "outlinewidth": 0,
              "ticks": ""
             }
            },
            "type": "scatterternary"
           }
          ],
          "surface": [
           {
            "colorbar": {
             "outlinewidth": 0,
             "ticks": ""
            },
            "colorscale": [
             [
              0,
              "#0d0887"
             ],
             [
              0.1111111111111111,
              "#46039f"
             ],
             [
              0.2222222222222222,
              "#7201a8"
             ],
             [
              0.3333333333333333,
              "#9c179e"
             ],
             [
              0.4444444444444444,
              "#bd3786"
             ],
             [
              0.5555555555555556,
              "#d8576b"
             ],
             [
              0.6666666666666666,
              "#ed7953"
             ],
             [
              0.7777777777777778,
              "#fb9f3a"
             ],
             [
              0.8888888888888888,
              "#fdca26"
             ],
             [
              1,
              "#f0f921"
             ]
            ],
            "type": "surface"
           }
          ],
          "table": [
           {
            "cells": {
             "fill": {
              "color": "#EBF0F8"
             },
             "line": {
              "color": "white"
             }
            },
            "header": {
             "fill": {
              "color": "#C8D4E3"
             },
             "line": {
              "color": "white"
             }
            },
            "type": "table"
           }
          ]
         },
         "layout": {
          "annotationdefaults": {
           "arrowcolor": "#2a3f5f",
           "arrowhead": 0,
           "arrowwidth": 1
          },
          "autotypenumbers": "strict",
          "coloraxis": {
           "colorbar": {
            "outlinewidth": 0,
            "ticks": ""
           }
          },
          "colorscale": {
           "diverging": [
            [
             0,
             "#8e0152"
            ],
            [
             0.1,
             "#c51b7d"
            ],
            [
             0.2,
             "#de77ae"
            ],
            [
             0.3,
             "#f1b6da"
            ],
            [
             0.4,
             "#fde0ef"
            ],
            [
             0.5,
             "#f7f7f7"
            ],
            [
             0.6,
             "#e6f5d0"
            ],
            [
             0.7,
             "#b8e186"
            ],
            [
             0.8,
             "#7fbc41"
            ],
            [
             0.9,
             "#4d9221"
            ],
            [
             1,
             "#276419"
            ]
           ],
           "sequential": [
            [
             0,
             "#0d0887"
            ],
            [
             0.1111111111111111,
             "#46039f"
            ],
            [
             0.2222222222222222,
             "#7201a8"
            ],
            [
             0.3333333333333333,
             "#9c179e"
            ],
            [
             0.4444444444444444,
             "#bd3786"
            ],
            [
             0.5555555555555556,
             "#d8576b"
            ],
            [
             0.6666666666666666,
             "#ed7953"
            ],
            [
             0.7777777777777778,
             "#fb9f3a"
            ],
            [
             0.8888888888888888,
             "#fdca26"
            ],
            [
             1,
             "#f0f921"
            ]
           ],
           "sequentialminus": [
            [
             0,
             "#0d0887"
            ],
            [
             0.1111111111111111,
             "#46039f"
            ],
            [
             0.2222222222222222,
             "#7201a8"
            ],
            [
             0.3333333333333333,
             "#9c179e"
            ],
            [
             0.4444444444444444,
             "#bd3786"
            ],
            [
             0.5555555555555556,
             "#d8576b"
            ],
            [
             0.6666666666666666,
             "#ed7953"
            ],
            [
             0.7777777777777778,
             "#fb9f3a"
            ],
            [
             0.8888888888888888,
             "#fdca26"
            ],
            [
             1,
             "#f0f921"
            ]
           ]
          },
          "colorway": [
           "#636efa",
           "#EF553B",
           "#00cc96",
           "#ab63fa",
           "#FFA15A",
           "#19d3f3",
           "#FF6692",
           "#B6E880",
           "#FF97FF",
           "#FECB52"
          ],
          "font": {
           "color": "#2a3f5f"
          },
          "geo": {
           "bgcolor": "white",
           "lakecolor": "white",
           "landcolor": "#E5ECF6",
           "showlakes": true,
           "showland": true,
           "subunitcolor": "white"
          },
          "hoverlabel": {
           "align": "left"
          },
          "hovermode": "closest",
          "mapbox": {
           "style": "light"
          },
          "paper_bgcolor": "white",
          "plot_bgcolor": "#E5ECF6",
          "polar": {
           "angularaxis": {
            "gridcolor": "white",
            "linecolor": "white",
            "ticks": ""
           },
           "bgcolor": "#E5ECF6",
           "radialaxis": {
            "gridcolor": "white",
            "linecolor": "white",
            "ticks": ""
           }
          },
          "scene": {
           "xaxis": {
            "backgroundcolor": "#E5ECF6",
            "gridcolor": "white",
            "gridwidth": 2,
            "linecolor": "white",
            "showbackground": true,
            "ticks": "",
            "zerolinecolor": "white"
           },
           "yaxis": {
            "backgroundcolor": "#E5ECF6",
            "gridcolor": "white",
            "gridwidth": 2,
            "linecolor": "white",
            "showbackground": true,
            "ticks": "",
            "zerolinecolor": "white"
           },
           "zaxis": {
            "backgroundcolor": "#E5ECF6",
            "gridcolor": "white",
            "gridwidth": 2,
            "linecolor": "white",
            "showbackground": true,
            "ticks": "",
            "zerolinecolor": "white"
           }
          },
          "shapedefaults": {
           "line": {
            "color": "#2a3f5f"
           }
          },
          "ternary": {
           "aaxis": {
            "gridcolor": "white",
            "linecolor": "white",
            "ticks": ""
           },
           "baxis": {
            "gridcolor": "white",
            "linecolor": "white",
            "ticks": ""
           },
           "bgcolor": "#E5ECF6",
           "caxis": {
            "gridcolor": "white",
            "linecolor": "white",
            "ticks": ""
           }
          },
          "title": {
           "x": 0.05
          },
          "xaxis": {
           "automargin": true,
           "gridcolor": "white",
           "linecolor": "white",
           "ticks": "",
           "title": {
            "standoff": 15
           },
           "zerolinecolor": "white",
           "zerolinewidth": 2
          },
          "yaxis": {
           "automargin": true,
           "gridcolor": "white",
           "linecolor": "white",
           "ticks": "",
           "title": {
            "standoff": 15
           },
           "zerolinecolor": "white",
           "zerolinewidth": 2
          }
         }
        },
        "title": {
         "font": {
          "family": "Arial",
          "size": 18
         },
         "text": "<b>Median Best Fitness per Generation</b><br>Experience 2"
        },
        "width": 850,
        "xaxis": {
         "gridcolor": "lightgray",
         "title": {
          "text": "Generation"
         }
        },
        "yaxis": {
         "gridcolor": "lightgray",
         "title": {
          "text": "Fitness"
         }
        }
       }
      }
     },
     "metadata": {},
     "output_type": "display_data"
    },
    {
     "data": {
      "application/vnd.plotly.v1+json": {
       "config": {
        "plotlyServerURL": "https://plot.ly"
       },
       "data": [
        {
         "hovertemplate": "Combination: ('block_rotation_mutation', 'cyclic_crossover', 'tournament_selection')<br>Generation: %{x}<br>Fitness: %{y}<extra></extra>",
         "mode": "lines+markers",
         "name": "('block_rotation_mutation', 'cyclic_crossover', 'tournament_selection')",
         "showlegend": true,
         "type": "scatter",
         "x": {
          "bdata": "AQIDBAUGBwgJCgsMDQ4PEBESExQVFhcYGRobHB0eHyAhIiMkJSYnKCkqKywtLi8wMTIBAgMEBQYHCAkKCwwNDg8QERITFBUWFxgZGhscHR4fICEiIyQlJicoKSorLC0uLzAxMgECAwQFBgcICQoLDA0ODxAREhMUFRYXGBkaGxwdHh8gISIjJCUmJygpKissLS4vMDEyAQIDBAUGBwgJCgsMDQ4PEBESExQVFhcYGRobHB0eHyAhIiMkJSYnKCkqKywtLi8wMTIBAgMEBQYHCAkKCwwNDg8QERITFBUWFxgZGhscHR4fICEiIyQlJicoKSorLC0uLzAxMgECAwQFBgcICQoLDA0ODxAREhMUFRYXGBkaGxwdHh8gISIjJCUmJygpKissLS4vMDEyAQIDBAUGBwgJCgsMDQ4PEBESExQVFhcYGRobHB0eHyAhIiMkJSYnKCkqKywtLi8wMTIBAgMEBQYHCAkKCwwNDg8QERITFBUWFxgZGhscHR4fICEiIyQlJicoKSorLC0uLzAxMgECAwQFBgcICQoLDA0ODxAREhMUFRYXGBkaGxwdHh8gISIjJCUmJygpKissLS4vMDEyAQIDBAUGBwgJCgsMDQ4PEBESExQVFhcYGRobHB0eHyAhIiMkJSYnKCkqKywtLi8wMTIBAgMEBQYHCAkKCwwNDg8QERITFBUWFxgZGhscHR4fICEiIyQlJicoKSorLC0uLzAxMgECAwQFBgcICQoLDA0ODxAREhMUFRYXGBkaGxwdHh8gISIjJCUmJygpKissLS4vMDEy",
          "dtype": "i1"
         },
         "y": {
          "bdata": "OzsZHCWv8z9R9wFIbSL0P4bEPZY+dPQ//aTap+Ox9D/cKR2s//P0Pzj4wmSqYPU/9S1zuiym9T//eK9ambD1P4z4Tsx6sfU/9gZfmEzV9T8LYwtBDgr2P6SNI9biE/Y/6E1FKowt9j/Kq3MMyF72P8gRa/EpgPY/8Btfe2aJ9j9cxHdi1ov2P1pMbD6ujfY/WkxsPq6N9j+Ehv4JLpb2P/wYc9cSsvY/VPt0PGbg9j/biv1l9+T2P8U9lj50Afc/L/oK0owF9z+yKVd4lwv3P7IpV3iXC/c/MSWS6GUU9z9Wt3pOeh/3P7g7a7ddKPc/aJHtfD819z9oke18PzX3Pz3yBwPPPfc/jzulg/U/9z+PO6WD9T/3P487pYP1P/c/qMZLN4lB9z+OBvAWSFD3PwaGrG71XPc/GvUQje5g9z8a9RCN7mD3Pxr1EI3uYPc/GvUQje5g9z8a9RCN7mD3Pxr1EI3uYPc/GvUQje5g9z80gLdAgmL3PzSAt0CCYvc/g92wbVFm9z+D3bBtUWb3Pw==",
          "dtype": "f8"
         }
        },
        {
         "hovertemplate": "Combination: ('block_rotation_mutation', 'cyclic_crossover', 'linear_ranking_selection')<br>Generation: %{x}<br>Fitness: %{y}<extra></extra>",
         "mode": "lines+markers",
         "name": "('block_rotation_mutation', 'cyclic_crossover', 'linear_ranking_selection')",
         "showlegend": true,
         "type": "scatter",
         "x": {
          "bdata": "AQIDBAUGBwgJCgsMDQ4PEBESExQVFhcYGRobHB0eHyAhIiMkJSYnKCkqKywtLi8wMTIBAgMEBQYHCAkKCwwNDg8QERITFBUWFxgZGhscHR4fICEiIyQlJicoKSorLC0uLzAxMgECAwQFBgcICQoLDA0ODxAREhMUFRYXGBkaGxwdHh8gISIjJCUmJygpKissLS4vMDEyAQIDBAUGBwgJCgsMDQ4PEBESExQVFhcYGRobHB0eHyAhIiMkJSYnKCkqKywtLi8wMTIBAgMEBQYHCAkKCwwNDg8QERITFBUWFxgZGhscHR4fICEiIyQlJicoKSorLC0uLzAxMgECAwQFBgcICQoLDA0ODxAREhMUFRYXGBkaGxwdHh8gISIjJCUmJygpKissLS4vMDEyAQIDBAUGBwgJCgsMDQ4PEBESExQVFhcYGRobHB0eHyAhIiMkJSYnKCkqKywtLi8wMTIBAgMEBQYHCAkKCwwNDg8QERITFBUWFxgZGhscHR4fICEiIyQlJicoKSorLC0uLzAxMgECAwQFBgcICQoLDA0ODxAREhMUFRYXGBkaGxwdHh8gISIjJCUmJygpKissLS4vMDEyAQIDBAUGBwgJCgsMDQ4PEBESExQVFhcYGRobHB0eHyAhIiMkJSYnKCkqKywtLi8wMTIBAgMEBQYHCAkKCwwNDg8QERITFBUWFxgZGhscHR4fICEiIyQlJicoKSorLC0uLzAxMgECAwQFBgcICQoLDA0ODxAREhMUFRYXGBkaGxwdHh8gISIjJCUmJygpKissLS4vMDEy",
          "dtype": "i1"
         },
         "y": {
          "bdata": "Pldbsb9s8z9CPujZrHrzP5pattYXifM/rDQpBd2e8z+sNCkF3Z7zP6w0KQXdnvM/rDQpBd2e8z+sNCkF3Z7zP5ynOuRmuPM/nKc65Ga48z+cpzrkZrjzPzrulA7Wv/M/1XjpJjHI8z/VeOkmMcjzP9V46SYxyPM/wHgGDf3T8z/AeAYN/dPzP8B4Bg390/M/wHgGDf3T8z/AeAYN/dPzP8B4Bg390/M/wHgGDf3T8z/AeAYN/dPzP8B4Bg390/M/wHgGDf3T8z/AeAYN/dPzP8B4Bg390/M/PPw1WaPe8z88/DVZo97zPzz8NVmj3vM/PPw1WaPe8z+ppE5AE+HzP6mkTkAT4fM/qaROQBPh8z9oImx4euXzP2gibHh65fM/aCJseHrl8z9oImx4euXzP2gibHh65fM/aCJseHrl8z9oImx4euXzP2gibHh65fM/aCJseHrl8z9oImx4euXzP2gibHh65fM/iQyreCPz8z+JDKt4I/PzP4kMq3gj8/M/iQyreCPz8z+JDKt4I/PzPw==",
          "dtype": "f8"
         }
        },
        {
         "hovertemplate": "Combination: ('block_rotation_mutation', 'partially_mapped_crossover', 'tournament_selection')<br>Generation: %{x}<br>Fitness: %{y}<extra></extra>",
         "mode": "lines+markers",
         "name": "('block_rotation_mutation', 'partially_mapped_crossover', 'tournament_selection')",
         "showlegend": true,
         "type": "scatter",
         "x": {
          "bdata": "AQIDBAUGBwgJCgsMDQ4PEBESExQVFhcYGRobHB0eHyAhIiMkJSYnKCkqKywtLi8wMTIBAgMEBQYHCAkKCwwNDg8QERITFBUWFxgZGhscHR4fICEiIyQlJicoKSorLC0uLzAxMgECAwQFBgcICQoLDA0ODxAREhMUFRYXGBkaGxwdHh8gISIjJCUmJygpKissLS4vMDEyAQIDBAUGBwgJCgsMDQ4PEBESExQVFhcYGRobHB0eHyAhIiMkJSYnKCkqKywtLi8wMTIBAgMEBQYHCAkKCwwNDg8QERITFBUWFxgZGhscHR4fICEiIyQlJicoKSorLC0uLzAxMgECAwQFBgcICQoLDA0ODxAREhMUFRYXGBkaGxwdHh8gISIjJCUmJygpKissLS4vMDEyAQIDBAUGBwgJCgsMDQ4PEBESExQVFhcYGRobHB0eHyAhIiMkJSYnKCkqKywtLi8wMTIBAgMEBQYHCAkKCwwNDg8QERITFBUWFxgZGhscHR4fICEiIyQlJicoKSorLC0uLzAxMgECAwQFBgcICQoLDA0ODxAREhMUFRYXGBkaGxwdHh8gISIjJCUmJygpKissLS4vMDEyAQIDBAUGBwgJCgsMDQ4PEBESExQVFhcYGRobHB0eHyAhIiMkJSYnKCkqKywtLi8wMTIBAgMEBQYHCAkKCwwNDg8QERITFBUWFxgZGhscHR4fICEiIyQlJicoKSorLC0uLzAxMgECAwQFBgcICQoLDA0ODxAREhMUFRYXGBkaGxwdHh8gISIjJCUmJygpKissLS4vMDEy",
          "dtype": "i1"
         },
         "y": {
          "bdata": "X5hMFYwK9D+m7V9ZaVL0PxaMSuoE9PQ/XAhyUMJM9T+YNEbrqKr1P/f8MEJ49PU/93XgnBEl9j/z5QXYR2f2P9ZR1QRRt/Y/Fp8CYDzD9j8wgVt38xT3P3YCmggbXvc/egH20alr9z9wd9Zuu5D3P0Jg5dAi2/c/nMk329wY+D/w/nivWhn4P6JAn8iTJPg/VvZdEfwv+D98LH3ogjr4P0SjO4idafg/tOpztRV7+D+cilQYW4j4P2qfjscMlPg/ap+OxwyU+D9vnuqQm6H4P7Wmeccpuvg/BJDaxMm9+D8EkNrEyb34P662Yn/Z/fg/6SYxCKwc+T8McayL2yj5P6Y/+5EiMvk/9l0R/G9l+T/2XRH8b2X5P/ZdEfxvZfk/uCOcFrxo+T+0q5Dyk2r5P6BP5EnSdfk/l3Mprip7+T/O/GoOEIz5P3Drbp7qkPk/SrA4nPmV+T9KsDic+ZX5PwyOklfnmPk/7kJznUaa+T+1MuGX+rn5P7Uy4Zf6ufk/tTLhl/q5+T8niLoPQOr5Pw==",
          "dtype": "f8"
         }
        },
        {
         "hovertemplate": "Combination: ('block_rotation_mutation', 'partially_mapped_crossover', 'linear_ranking_selection')<br>Generation: %{x}<br>Fitness: %{y}<extra></extra>",
         "mode": "lines+markers",
         "name": "('block_rotation_mutation', 'partially_mapped_crossover', 'linear_ranking_selection')",
         "showlegend": true,
         "type": "scatter",
         "x": {
          "bdata": "AQIDBAUGBwgJCgsMDQ4PEBESExQVFhcYGRobHB0eHyAhIiMkJSYnKCkqKywtLi8wMTIBAgMEBQYHCAkKCwwNDg8QERITFBUWFxgZGhscHR4fICEiIyQlJicoKSorLC0uLzAxMgECAwQFBgcICQoLDA0ODxAREhMUFRYXGBkaGxwdHh8gISIjJCUmJygpKissLS4vMDEyAQIDBAUGBwgJCgsMDQ4PEBESExQVFhcYGRobHB0eHyAhIiMkJSYnKCkqKywtLi8wMTIBAgMEBQYHCAkKCwwNDg8QERITFBUWFxgZGhscHR4fICEiIyQlJicoKSorLC0uLzAxMgECAwQFBgcICQoLDA0ODxAREhMUFRYXGBkaGxwdHh8gISIjJCUmJygpKissLS4vMDEyAQIDBAUGBwgJCgsMDQ4PEBESExQVFhcYGRobHB0eHyAhIiMkJSYnKCkqKywtLi8wMTIBAgMEBQYHCAkKCwwNDg8QERITFBUWFxgZGhscHR4fICEiIyQlJicoKSorLC0uLzAxMgECAwQFBgcICQoLDA0ODxAREhMUFRYXGBkaGxwdHh8gISIjJCUmJygpKissLS4vMDEyAQIDBAUGBwgJCgsMDQ4PEBESExQVFhcYGRobHB0eHyAhIiMkJSYnKCkqKywtLi8wMTIBAgMEBQYHCAkKCwwNDg8QERITFBUWFxgZGhscHR4fICEiIyQlJicoKSorLC0uLzAxMgECAwQFBgcICQoLDA0ODxAREhMUFRYXGBkaGxwdHh8gISIjJCUmJygpKissLS4vMDEy",
          "dtype": "i1"
         },
         "y": {
          "bdata": "Kld4l4t48z/zk2qfjofzP/4JLlbUoPM//gkuVtSg8z/QlnMprqrzP2H9n8N8ufM/bW5MT1ji8z9tbkxPWOLzP21uTE9Y4vM/bW5MT1ji8z9tbkxPWOLzP21uTE9Y4vM/bW5MT1ji8z+tLxLacu7zP60vEtpy7vM/rS8S2nLu8z+tLxLacu7zP60vEtpy7vM/rS8S2nLu8z+tLxLacu7zP60vEtpy7vM/rS8S2nLu8z+tLxLacu7zP60vEtpy7vM/rS8S2nLu8z+tLxLacu7zP3CUvDrHAPQ/NBE2PL0S9D9GIF7XLxj0P+DW3TzVIfQ/4NbdPNUh9D/g1t081SH0P+DW3TzVIfQ/4NbdPNUh9D/g1t081SH0P+DW3TzVIfQ/4NbdPNUh9D/g1t081SH0P+DW3TzVIfQ/4NbdPNUh9D/g1t081SH0P9QmTu53KPQ/1CZO7nco9D/UJk7udyj0P9QmTu53KPQ/1CZO7nco9D/UJk7udyj0P9QmTu53KPQ/HjhnRGkv9D8eOGdEaS/0Pw==",
          "dtype": "f8"
         }
        },
        {
         "hovertemplate": "Combination: ('two_phase_shuffle_mutation', 'cyclic_crossover', 'tournament_selection')<br>Generation: %{x}<br>Fitness: %{y}<extra></extra>",
         "mode": "lines+markers",
         "name": "('two_phase_shuffle_mutation', 'cyclic_crossover', 'tournament_selection')",
         "showlegend": true,
         "type": "scatter",
         "x": {
          "bdata": "AQIDBAUGBwgJCgsMDQ4PEBESExQVFhcYGRobHB0eHyAhIiMkJSYnKCkqKywtLi8wMTIBAgMEBQYHCAkKCwwNDg8QERITFBUWFxgZGhscHR4fICEiIyQlJicoKSorLC0uLzAxMgECAwQFBgcICQoLDA0ODxAREhMUFRYXGBkaGxwdHh8gISIjJCUmJygpKissLS4vMDEyAQIDBAUGBwgJCgsMDQ4PEBESExQVFhcYGRobHB0eHyAhIiMkJSYnKCkqKywtLi8wMTIBAgMEBQYHCAkKCwwNDg8QERITFBUWFxgZGhscHR4fICEiIyQlJicoKSorLC0uLzAxMgECAwQFBgcICQoLDA0ODxAREhMUFRYXGBkaGxwdHh8gISIjJCUmJygpKissLS4vMDEyAQIDBAUGBwgJCgsMDQ4PEBESExQVFhcYGRobHB0eHyAhIiMkJSYnKCkqKywtLi8wMTIBAgMEBQYHCAkKCwwNDg8QERITFBUWFxgZGhscHR4fICEiIyQlJicoKSorLC0uLzAxMgECAwQFBgcICQoLDA0ODxAREhMUFRYXGBkaGxwdHh8gISIjJCUmJygpKissLS4vMDEyAQIDBAUGBwgJCgsMDQ4PEBESExQVFhcYGRobHB0eHyAhIiMkJSYnKCkqKywtLi8wMTIBAgMEBQYHCAkKCwwNDg8QERITFBUWFxgZGhscHR4fICEiIyQlJicoKSorLC0uLzAxMgECAwQFBgcICQoLDA0ODxAREhMUFRYXGBkaGxwdHh8gISIjJCUmJygpKissLS4vMDEy",
          "dtype": "i1"
         },
         "y": {
          "bdata": "L4Zyol0F9D9VpMLYQlD0PxjKiXYVkvQ/8OGS406p9D/w4ZLjTqn0P9R9AFKb+PQ/D2JnCp0X9T+e76fGSzf1P57vp8ZLN/U/v9TPm4pU9T+4I5wWvGj1P/EuF/GdmPU/4KY/+5Gi9T/gpj/7kaL1P+CmP/uRovU/4KY/+5Gi9T/gpj/7kaL1P3p1jgHZq/U/enWOAdmr9T/IRiBe16/1PxKgppattfU/EqCmlq219T8SoKaWrbX1P6OSOgFNxPU/o5I6AU3E9T8k1uJTAMz1PyTW4lMAzPU/JNbiUwDM9T9awARu3c31P1rABG7dzfU/VOi8xi7R9T9U6LzGLtH1P1TovMYu0fU/VOi8xi7R9T9U6LzGLtH1P1TovMYu0fU/VOi8xi7R9T9U6LzGLtH1P1TovMYu0fU/VOi8xi7R9T9U6LzGLtH1P5KRs7Cn3fU/kpGzsKfd9T+SkbOwp931P5KRs7Cn3fU/kpGzsKfd9T+E9X8O8+X1P4T1fw7z5fU/hPV/DvPl9T+E9X8O8+X1Pw==",
          "dtype": "f8"
         }
        },
        {
         "hovertemplate": "Combination: ('two_phase_shuffle_mutation', 'cyclic_crossover', 'linear_ranking_selection')<br>Generation: %{x}<br>Fitness: %{y}<extra></extra>",
         "mode": "lines+markers",
         "name": "('two_phase_shuffle_mutation', 'cyclic_crossover', 'linear_ranking_selection')",
         "showlegend": true,
         "type": "scatter",
         "x": {
          "bdata": "AQIDBAUGBwgJCgsMDQ4PEBESExQVFhcYGRobHB0eHyAhIiMkJSYnKCkqKywtLi8wMTIBAgMEBQYHCAkKCwwNDg8QERITFBUWFxgZGhscHR4fICEiIyQlJicoKSorLC0uLzAxMgECAwQFBgcICQoLDA0ODxAREhMUFRYXGBkaGxwdHh8gISIjJCUmJygpKissLS4vMDEyAQIDBAUGBwgJCgsMDQ4PEBESExQVFhcYGRobHB0eHyAhIiMkJSYnKCkqKywtLi8wMTIBAgMEBQYHCAkKCwwNDg8QERITFBUWFxgZGhscHR4fICEiIyQlJicoKSorLC0uLzAxMgECAwQFBgcICQoLDA0ODxAREhMUFRYXGBkaGxwdHh8gISIjJCUmJygpKissLS4vMDEyAQIDBAUGBwgJCgsMDQ4PEBESExQVFhcYGRobHB0eHyAhIiMkJSYnKCkqKywtLi8wMTIBAgMEBQYHCAkKCwwNDg8QERITFBUWFxgZGhscHR4fICEiIyQlJicoKSorLC0uLzAxMgECAwQFBgcICQoLDA0ODxAREhMUFRYXGBkaGxwdHh8gISIjJCUmJygpKissLS4vMDEyAQIDBAUGBwgJCgsMDQ4PEBESExQVFhcYGRobHB0eHyAhIiMkJSYnKCkqKywtLi8wMTIBAgMEBQYHCAkKCwwNDg8QERITFBUWFxgZGhscHR4fICEiIyQlJicoKSorLC0uLzAxMgECAwQFBgcICQoLDA0ODxAREhMUFRYXGBkaGxwdHh8gISIjJCUmJygpKissLS4vMDEy",
          "dtype": "i1"
         },
         "y": {
          "bdata": "qYdodAdx8z/5LM+Du7PzP96OcFrw4vM/3o5wWvDi8z/kiLX4FAD0P0zg1t08FfQ/TODW3TwV9D8urYbEPRb0P/T91HjpJvQ/9P3UeOkm9D/6m1CIgEP0P/qbUIiAQ/Q/+ptQiIBD9D/6m1CIgEP0P/qbUIiAQ/Q/+ptQiIBD9D/pDmJnCl30P+kOYmcKXfQ/rOek941v9D+s56T3jW/0P6znpPeNb/Q/rOek941v9D+s56T3jW/0P6znpPeNb/Q/YhVvZB559D9iFW9kHnn0P2IVb2QeefQ/YhVvZB559D8eG4F4XX/0Px4bgXhdf/Q/PnlYqDWN9D8+eVioNY30Pz55WKg1jfQ/6Gor9ped9D/oaiv2l530PxrdQexMofQ/Gt1B7Eyh9D8a3UHsTKH0P/Tg7qzdtvQ/9ODurN229D/04O6s3bb0P/Tg7qzdtvQ/9ODurN229D/04O6s3bb0P/Tg7qzdtvQ/9ODurN229D/04O6s3bb0P/Tg7qzdtvQ/DtsWZTbI9D8O2xZlNsj0Pw==",
          "dtype": "f8"
         }
        },
        {
         "hovertemplate": "Combination: ('two_phase_shuffle_mutation', 'partially_mapped_crossover', 'tournament_selection')<br>Generation: %{x}<br>Fitness: %{y}<extra></extra>",
         "mode": "lines+markers",
         "name": "('two_phase_shuffle_mutation', 'partially_mapped_crossover', 'tournament_selection')",
         "showlegend": true,
         "type": "scatter",
         "x": {
          "bdata": "AQIDBAUGBwgJCgsMDQ4PEBESExQVFhcYGRobHB0eHyAhIiMkJSYnKCkqKywtLi8wMTIBAgMEBQYHCAkKCwwNDg8QERITFBUWFxgZGhscHR4fICEiIyQlJicoKSorLC0uLzAxMgECAwQFBgcICQoLDA0ODxAREhMUFRYXGBkaGxwdHh8gISIjJCUmJygpKissLS4vMDEyAQIDBAUGBwgJCgsMDQ4PEBESExQVFhcYGRobHB0eHyAhIiMkJSYnKCkqKywtLi8wMTIBAgMEBQYHCAkKCwwNDg8QERITFBUWFxgZGhscHR4fICEiIyQlJicoKSorLC0uLzAxMgECAwQFBgcICQoLDA0ODxAREhMUFRYXGBkaGxwdHh8gISIjJCUmJygpKissLS4vMDEyAQIDBAUGBwgJCgsMDQ4PEBESExQVFhcYGRobHB0eHyAhIiMkJSYnKCkqKywtLi8wMTIBAgMEBQYHCAkKCwwNDg8QERITFBUWFxgZGhscHR4fICEiIyQlJicoKSorLC0uLzAxMgECAwQFBgcICQoLDA0ODxAREhMUFRYXGBkaGxwdHh8gISIjJCUmJygpKissLS4vMDEyAQIDBAUGBwgJCgsMDQ4PEBESExQVFhcYGRobHB0eHyAhIiMkJSYnKCkqKywtLi8wMTIBAgMEBQYHCAkKCwwNDg8QERITFBUWFxgZGhscHR4fICEiIyQlJicoKSorLC0uLzAxMgECAwQFBgcICQoLDA0ODxAREhMUFRYXGBkaGxwdHh8gISIjJCUmJygpKissLS4vMDEy",
          "dtype": "i1"
         },
         "y": {
          "bdata": "NCkF3V7S8z8I5ujxe1v0P0brqGqC6PQ/tqFinL8J9T/f4AuTqYL1P/1qDhDMkfU/Ece6uI3G9T9m9+Rhodb1P2U2yCQj5/U/vTrHgOw19j/2I0VkWEX2P76HS447ZfY/xJlfzQGC9j90XmOXqJ72P/xSP28q0vY//FI/byrS9j8g6j4AqQ33PzrRrkLKD/c/XqJ6a2Ar9z+KyLCKNzL3PySX/5B+O/c/sRafAmA89z9QpWYPtEL3P0Z8J2a9WPc/qHSw/s9h9z/SqSuf5Xn3Pwgbnl4pi/c/CBueXimL9z/4ksZoHZX3P5wzorQ3uPc/4GdcOBDS9z9ivrwA++j3Pzgyj/zBAPg/ODKP/MEA+D84Mo/8wQD4Pzgyj/zBAPg/BOeMKO0N+D8yIHu9+yP4PzIge737I/g/PPceLjku+D8oCvSJPEn4P26jAbwFUvg/bqMBvAVS+D+6D0BqE2f4P7oPQGoTZ/g/amXCL/Vz+D9qZcIv9XP4P2plwi/1c/g/usK7XMR3+D+2SrA4nHn4Pw==",
          "dtype": "f8"
         }
        },
        {
         "hovertemplate": "Combination: ('two_phase_shuffle_mutation', 'partially_mapped_crossover', 'linear_ranking_selection')<br>Generation: %{x}<br>Fitness: %{y}<extra></extra>",
         "mode": "lines+markers",
         "name": "('two_phase_shuffle_mutation', 'partially_mapped_crossover', 'linear_ranking_selection')",
         "showlegend": true,
         "type": "scatter",
         "x": {
          "bdata": "AQIDBAUGBwgJCgsMDQ4PEBESExQVFhcYGRobHB0eHyAhIiMkJSYnKCkqKywtLi8wMTIBAgMEBQYHCAkKCwwNDg8QERITFBUWFxgZGhscHR4fICEiIyQlJicoKSorLC0uLzAxMgECAwQFBgcICQoLDA0ODxAREhMUFRYXGBkaGxwdHh8gISIjJCUmJygpKissLS4vMDEyAQIDBAUGBwgJCgsMDQ4PEBESExQVFhcYGRobHB0eHyAhIiMkJSYnKCkqKywtLi8wMTIBAgMEBQYHCAkKCwwNDg8QERITFBUWFxgZGhscHR4fICEiIyQlJicoKSorLC0uLzAxMgECAwQFBgcICQoLDA0ODxAREhMUFRYXGBkaGxwdHh8gISIjJCUmJygpKissLS4vMDEyAQIDBAUGBwgJCgsMDQ4PEBESExQVFhcYGRobHB0eHyAhIiMkJSYnKCkqKywtLi8wMTIBAgMEBQYHCAkKCwwNDg8QERITFBUWFxgZGhscHR4fICEiIyQlJicoKSorLC0uLzAxMgECAwQFBgcICQoLDA0ODxAREhMUFRYXGBkaGxwdHh8gISIjJCUmJygpKissLS4vMDEyAQIDBAUGBwgJCgsMDQ4PEBESExQVFhcYGRobHB0eHyAhIiMkJSYnKCkqKywtLi8wMTIBAgMEBQYHCAkKCwwNDg8QERITFBUWFxgZGhscHR4fICEiIyQlJicoKSorLC0uLzAxMgECAwQFBgcICQoLDA0ODxAREhMUFRYXGBkaGxwdHh8gISIjJCUmJygpKissLS4vMDEy",
          "dtype": "i1"
         },
         "y": {
          "bdata": "bf/KSpOS8z+QcFrwoq/zPy7/If329fM/r84xIHv98z9UNUHUfQD0P1Q1QdR9APQ//DpwzogS9D+a8Ev9vCn0P/YLdsO2RfQ/9UpZhjhW9D/1SlmGOFb0P/VKWYY4VvQ/JEVkWMVb9D8kRWRYxVv0PyZYHM78avQ/Jlgczvxq9D8K9Ik8SXr0Pwr0iTxJevQ/CvSJPEl69D8K9Ik8SXr0P+scA7LXe/Q/6xwDstd79D/rHAOy13v0P+scA7LXe/Q/6xwDstd79D/rHAOy13v0P+scA7LXe/Q/6xwDstd79D/rHAOy13v0P+scA7LXe/Q/6xwDstd79D/rHAOy13v0P+scA7LXe/Q/6xwDstd79D/rHAOy13v0P+scA7LXe/Q/6xwDstd79D/rHAOy13v0P+scA7LXe/Q/6xwDstd79D/rHAOy13v0P+scA7LXe/Q/6xwDstd79D/rHAOy13v0P+scA7LXe/Q/6xwDstd79D/rHAOy13v0P+scA7LXe/Q/6xwDstd79D/rHAOy13v0Pw==",
          "dtype": "f8"
         }
        },
        {
         "hovertemplate": "Combination: ('semi_shuffle', 'cyclic_crossover', 'tournament_selection')<br>Generation: %{x}<br>Fitness: %{y}<extra></extra>",
         "mode": "lines+markers",
         "name": "('semi_shuffle', 'cyclic_crossover', 'tournament_selection')",
         "showlegend": true,
         "type": "scatter",
         "x": {
          "bdata": "AQIDBAUGBwgJCgsMDQ4PEBESExQVFhcYGRobHB0eHyAhIiMkJSYnKCkqKywtLi8wMTIBAgMEBQYHCAkKCwwNDg8QERITFBUWFxgZGhscHR4fICEiIyQlJicoKSorLC0uLzAxMgECAwQFBgcICQoLDA0ODxAREhMUFRYXGBkaGxwdHh8gISIjJCUmJygpKissLS4vMDEyAQIDBAUGBwgJCgsMDQ4PEBESExQVFhcYGRobHB0eHyAhIiMkJSYnKCkqKywtLi8wMTIBAgMEBQYHCAkKCwwNDg8QERITFBUWFxgZGhscHR4fICEiIyQlJicoKSorLC0uLzAxMgECAwQFBgcICQoLDA0ODxAREhMUFRYXGBkaGxwdHh8gISIjJCUmJygpKissLS4vMDEyAQIDBAUGBwgJCgsMDQ4PEBESExQVFhcYGRobHB0eHyAhIiMkJSYnKCkqKywtLi8wMTIBAgMEBQYHCAkKCwwNDg8QERITFBUWFxgZGhscHR4fICEiIyQlJicoKSorLC0uLzAxMgECAwQFBgcICQoLDA0ODxAREhMUFRYXGBkaGxwdHh8gISIjJCUmJygpKissLS4vMDEyAQIDBAUGBwgJCgsMDQ4PEBESExQVFhcYGRobHB0eHyAhIiMkJSYnKCkqKywtLi8wMTIBAgMEBQYHCAkKCwwNDg8QERITFBUWFxgZGhscHR4fICEiIyQlJicoKSorLC0uLzAxMgECAwQFBgcICQoLDA0ODxAREhMUFRYXGBkaGxwdHh8gISIjJCUmJygpKissLS4vMDEy",
          "dtype": "i1"
         },
         "y": {
          "bdata": "qcZLN4kB9D+zXgzlRHv0P2IQWDm0yPQ/tI6qJoj69D8ebRyxFl/1Pw4tsp3vp/U/AB3mywuw9T8S2nIuxdX1P9uK/WX35PU/s3vysFDr9T9Pkq6ZfDP2P0+Srpl8M/Y/2nIuxVVl9j/aci7FVWX2P9pyLsVVZfY/UBToE3mS9j9QFOgTeZL2P4SezarPlfY/o8wGmWTk9j9gWWlSCvr2P/yuCP63Evc//MHAc+8h9z9xVdl3RTD3P3FV2XdFMPc/cVXZd0Uw9z9xVdl3RTD3P5W3I5wWPPc/VaTC2EJQ9z9VpMLYQlD3P1WkwthCUPc/FCLgEKpU9z+hoX+Ci1X3P6Ghf4KLVfc/wXPv4ZJj9z/Bc+/hkmP3P8Fz7+GSY/c/FrzoK0hz9z8WvOgrSHP3P5SfVPt0fPc/SrVPx2OG9z9aZDvfT433P1pkO99Pjfc/WmQ730+N9z9aZDvfT433PwDjGTT0j/c/xCCwcmiR9z/EILByaJH3P/p+arx0k/c/b57qkJuh9z9WJvxSP6/3Pw==",
          "dtype": "f8"
         }
        },
        {
         "hovertemplate": "Combination: ('semi_shuffle', 'cyclic_crossover', 'linear_ranking_selection')<br>Generation: %{x}<br>Fitness: %{y}<extra></extra>",
         "mode": "lines+markers",
         "name": "('semi_shuffle', 'cyclic_crossover', 'linear_ranking_selection')",
         "showlegend": true,
         "type": "scatter",
         "x": {
          "bdata": "AQIDBAUGBwgJCgsMDQ4PEBESExQVFhcYGRobHB0eHyAhIiMkJSYnKCkqKywtLi8wMTIBAgMEBQYHCAkKCwwNDg8QERITFBUWFxgZGhscHR4fICEiIyQlJicoKSorLC0uLzAxMgECAwQFBgcICQoLDA0ODxAREhMUFRYXGBkaGxwdHh8gISIjJCUmJygpKissLS4vMDEyAQIDBAUGBwgJCgsMDQ4PEBESExQVFhcYGRobHB0eHyAhIiMkJSYnKCkqKywtLi8wMTIBAgMEBQYHCAkKCwwNDg8QERITFBUWFxgZGhscHR4fICEiIyQlJicoKSorLC0uLzAxMgECAwQFBgcICQoLDA0ODxAREhMUFRYXGBkaGxwdHh8gISIjJCUmJygpKissLS4vMDEyAQIDBAUGBwgJCgsMDQ4PEBESExQVFhcYGRobHB0eHyAhIiMkJSYnKCkqKywtLi8wMTIBAgMEBQYHCAkKCwwNDg8QERITFBUWFxgZGhscHR4fICEiIyQlJicoKSorLC0uLzAxMgECAwQFBgcICQoLDA0ODxAREhMUFRYXGBkaGxwdHh8gISIjJCUmJygpKissLS4vMDEyAQIDBAUGBwgJCgsMDQ4PEBESExQVFhcYGRobHB0eHyAhIiMkJSYnKCkqKywtLi8wMTIBAgMEBQYHCAkKCwwNDg8QERITFBUWFxgZGhscHR4fICEiIyQlJicoKSorLC0uLzAxMgECAwQFBgcICQoLDA0ODxAREhMUFRYXGBkaGxwdHh8gISIjJCUmJygpKissLS4vMDEy",
          "dtype": "i1"
         },
         "y": {
          "bdata": "LCtNSkF38z8sK01KQXfzP5dzKa4qe/M/tHHEWnyK8z9w626e6pDzPyxlGeJYl/M/LGUZ4liX8z8sZRniWJfzP7b4FADjmfM/tvgUAOOZ8z+6g9iZQqfzP8tneR7c3fM/y2d5Htzd8z/LZ3ke3N3zP8tneR7c3fM/y2d5Htzd8z/LZ3ke3N3zP8tneR7c3fM/y2d5Htzd8z80UBn/PuPzPzRQGf8+4/M/NFAZ/z7j8z80UBn/PuPzPzRQGf8+4/M/NFAZ/z7j8z80UBn/PuPzPzRQGf8+4/M/NFAZ/z7j8z80UBn/PuPzPzRQGf8+4/M/NFAZ/z7j8z80UBn/PuPzPzRQGf8+4/M/NFAZ/z7j8z80UBn/PuPzPzRQGf8+4/M/aK7TSEvl8z9ortNIS+XzP2iu00hL5fM/aK7TSEvl8z9ortNIS+XzP2iu00hL5fM/aK7TSEvl8z9ortNIS+XzP8hBCTNt//M/yEEJM23/8z/IQQkzbf/zP8hBCTNt//M/yEEJM23/8z/IQQkzbf/zPw==",
          "dtype": "f8"
         }
        },
        {
         "hovertemplate": "Combination: ('semi_shuffle', 'partially_mapped_crossover', 'tournament_selection')<br>Generation: %{x}<br>Fitness: %{y}<extra></extra>",
         "mode": "lines+markers",
         "name": "('semi_shuffle', 'partially_mapped_crossover', 'tournament_selection')",
         "showlegend": true,
         "type": "scatter",
         "x": {
          "bdata": "AQIDBAUGBwgJCgsMDQ4PEBESExQVFhcYGRobHB0eHyAhIiMkJSYnKCkqKywtLi8wMTIBAgMEBQYHCAkKCwwNDg8QERITFBUWFxgZGhscHR4fICEiIyQlJicoKSorLC0uLzAxMgECAwQFBgcICQoLDA0ODxAREhMUFRYXGBkaGxwdHh8gISIjJCUmJygpKissLS4vMDEyAQIDBAUGBwgJCgsMDQ4PEBESExQVFhcYGRobHB0eHyAhIiMkJSYnKCkqKywtLi8wMTIBAgMEBQYHCAkKCwwNDg8QERITFBUWFxgZGhscHR4fICEiIyQlJicoKSorLC0uLzAxMgECAwQFBgcICQoLDA0ODxAREhMUFRYXGBkaGxwdHh8gISIjJCUmJygpKissLS4vMDEyAQIDBAUGBwgJCgsMDQ4PEBESExQVFhcYGRobHB0eHyAhIiMkJSYnKCkqKywtLi8wMTIBAgMEBQYHCAkKCwwNDg8QERITFBUWFxgZGhscHR4fICEiIyQlJicoKSorLC0uLzAxMgECAwQFBgcICQoLDA0ODxAREhMUFRYXGBkaGxwdHh8gISIjJCUmJygpKissLS4vMDEyAQIDBAUGBwgJCgsMDQ4PEBESExQVFhcYGRobHB0eHyAhIiMkJSYnKCkqKywtLi8wMTIBAgMEBQYHCAkKCwwNDg8QERITFBUWFxgZGhscHR4fICEiIyQlJicoKSorLC0uLzAxMgECAwQFBgcICQoLDA0ODxAREhMUFRYXGBkaGxwdHh8gISIjJCUmJygpKissLS4vMDEy",
          "dtype": "i1"
         },
         "y": {
          "bdata": "e2tgqwQL9D+6SQwCK4f0P7rCu1zEN/U/7Sqk/KTa9T9qMA3DR0T2P6shcY+lj/Y/2PULdsO29j/GFoIclPD2P49TdCSXP/c/Jh5QNuWK9z9HsdzSasj3P9i7P96r1vc/Bl+YTBUM+D/QeY1dojr4PzIIrBxaZPg/xqcAGM+g+D/C9Shcj8L4PwgDz72Hy/g/HYoCfSIP+T+UfVcE/xv5Pxxfe2ZJQPk/XJTZIJNM+T8fVU0QdV/5PwAd5ssLcPk/dF5jl6ie+T8eA7LXu7/5PwIrhxbZzvk/AiuHFtnO+T/0iTxJuub5P8Oedvhr8vk/hXzQs1n1+T8GTODW3fz5P7zGLlG9Nfo/vMYuUb01+j/qYP2fwzz6P+pg/Z/DPPo/6mD9n8M8+j8v+grSjEX6P65kx0YgXvo/rmTHRiBe+j+uZMdGIF76P65kx0YgXvo/rmTHRiBe+j+uZMdGIF76P3KiXYWUX/o/9l0R/G9l+j/2XRH8b2X6P/ZdEfxvZfo/2iCTjJyF+j+c/uxHioj6Pw==",
          "dtype": "f8"
         }
        },
        {
         "hovertemplate": "Combination: ('semi_shuffle', 'partially_mapped_crossover', 'linear_ranking_selection')<br>Generation: %{x}<br>Fitness: %{y}<extra></extra>",
         "mode": "lines+markers",
         "name": "('semi_shuffle', 'partially_mapped_crossover', 'linear_ranking_selection')",
         "showlegend": true,
         "type": "scatter",
         "x": {
          "bdata": "AQIDBAUGBwgJCgsMDQ4PEBESExQVFhcYGRobHB0eHyAhIiMkJSYnKCkqKywtLi8wMTIBAgMEBQYHCAkKCwwNDg8QERITFBUWFxgZGhscHR4fICEiIyQlJicoKSorLC0uLzAxMgECAwQFBgcICQoLDA0ODxAREhMUFRYXGBkaGxwdHh8gISIjJCUmJygpKissLS4vMDEyAQIDBAUGBwgJCgsMDQ4PEBESExQVFhcYGRobHB0eHyAhIiMkJSYnKCkqKywtLi8wMTIBAgMEBQYHCAkKCwwNDg8QERITFBUWFxgZGhscHR4fICEiIyQlJicoKSorLC0uLzAxMgECAwQFBgcICQoLDA0ODxAREhMUFRYXGBkaGxwdHh8gISIjJCUmJygpKissLS4vMDEyAQIDBAUGBwgJCgsMDQ4PEBESExQVFhcYGRobHB0eHyAhIiMkJSYnKCkqKywtLi8wMTIBAgMEBQYHCAkKCwwNDg8QERITFBUWFxgZGhscHR4fICEiIyQlJicoKSorLC0uLzAxMgECAwQFBgcICQoLDA0ODxAREhMUFRYXGBkaGxwdHh8gISIjJCUmJygpKissLS4vMDEyAQIDBAUGBwgJCgsMDQ4PEBESExQVFhcYGRobHB0eHyAhIiMkJSYnKCkqKywtLi8wMTIBAgMEBQYHCAkKCwwNDg8QERITFBUWFxgZGhscHR4fICEiIyQlJicoKSorLC0uLzAxMgECAwQFBgcICQoLDA0ODxAREhMUFRYXGBkaGxwdHh8gISIjJCUmJygpKissLS4vMDEy",
          "dtype": "i1"
         },
         "y": {
          "bdata": "AJaVJqVg8z9O845TdGTzP6DDfHkBdvM/5Pc2/dmP8z/k9zb92Y/zP80eaAWGrPM/Itv5fmq88z8kYkok0cvzPyRiSiTRy/M/JGJKJNHL8z8kYkok0cvzPyRiSiTRy/M/Ap8fRgjP8z8Cnx9GCM/zPwKfH0YIz/M/Ap8fRgjP8z8Cnx9GCM/zPwKfH0YIz/M/Ap8fRgjP8z8Cnx9GCM/zPwKfH0YIz/M/Ap8fRgjP8z8Cnx9GCM/zPwKfH0YIz/M/Ap8fRgjP8z8Cnx9GCM/zPwKfH0YIz/M/Ap8fRgjP8z8Cnx9GCM/zPwKfH0YIz/M/Ap8fRgjP8z8Cnx9GCM/zPwKfH0YIz/M/Ap8fRgjP8z8Cnx9GCM/zPwKfH0YIz/M/Ap8fRgjP8z8Cnx9GCM/zPwKfH0YIz/M/Ap8fRgjP8z8Cnx9GCM/zPwKfH0YIz/M/Ap8fRgjP8z8Cnx9GCM/zPwKfH0YIz/M/Ap8fRgjP8z8Cnx9GCM/zPwKfH0YIz/M/Ap8fRgjP8z8Cnx9GCM/zPw==",
          "dtype": "f8"
         }
        }
       ],
       "layout": {
        "autosize": true,
        "height": 650,
        "legend": {
         "font": {
          "size": 11
         },
         "orientation": "h",
         "title": {
          "font": {
           "size": 12
          },
          "side": "top",
          "text": "Combination"
         },
         "y": -0.3
        },
        "margin": {
         "b": 100,
         "l": 50,
         "pad": 10,
         "r": 50,
         "t": 80
        },
        "plot_bgcolor": "white",
        "template": {
         "data": {
          "bar": [
           {
            "error_x": {
             "color": "#2a3f5f"
            },
            "error_y": {
             "color": "#2a3f5f"
            },
            "marker": {
             "line": {
              "color": "#E5ECF6",
              "width": 0.5
             },
             "pattern": {
              "fillmode": "overlay",
              "size": 10,
              "solidity": 0.2
             }
            },
            "type": "bar"
           }
          ],
          "barpolar": [
           {
            "marker": {
             "line": {
              "color": "#E5ECF6",
              "width": 0.5
             },
             "pattern": {
              "fillmode": "overlay",
              "size": 10,
              "solidity": 0.2
             }
            },
            "type": "barpolar"
           }
          ],
          "carpet": [
           {
            "aaxis": {
             "endlinecolor": "#2a3f5f",
             "gridcolor": "white",
             "linecolor": "white",
             "minorgridcolor": "white",
             "startlinecolor": "#2a3f5f"
            },
            "baxis": {
             "endlinecolor": "#2a3f5f",
             "gridcolor": "white",
             "linecolor": "white",
             "minorgridcolor": "white",
             "startlinecolor": "#2a3f5f"
            },
            "type": "carpet"
           }
          ],
          "choropleth": [
           {
            "colorbar": {
             "outlinewidth": 0,
             "ticks": ""
            },
            "type": "choropleth"
           }
          ],
          "contour": [
           {
            "colorbar": {
             "outlinewidth": 0,
             "ticks": ""
            },
            "colorscale": [
             [
              0,
              "#0d0887"
             ],
             [
              0.1111111111111111,
              "#46039f"
             ],
             [
              0.2222222222222222,
              "#7201a8"
             ],
             [
              0.3333333333333333,
              "#9c179e"
             ],
             [
              0.4444444444444444,
              "#bd3786"
             ],
             [
              0.5555555555555556,
              "#d8576b"
             ],
             [
              0.6666666666666666,
              "#ed7953"
             ],
             [
              0.7777777777777778,
              "#fb9f3a"
             ],
             [
              0.8888888888888888,
              "#fdca26"
             ],
             [
              1,
              "#f0f921"
             ]
            ],
            "type": "contour"
           }
          ],
          "contourcarpet": [
           {
            "colorbar": {
             "outlinewidth": 0,
             "ticks": ""
            },
            "type": "contourcarpet"
           }
          ],
          "heatmap": [
           {
            "colorbar": {
             "outlinewidth": 0,
             "ticks": ""
            },
            "colorscale": [
             [
              0,
              "#0d0887"
             ],
             [
              0.1111111111111111,
              "#46039f"
             ],
             [
              0.2222222222222222,
              "#7201a8"
             ],
             [
              0.3333333333333333,
              "#9c179e"
             ],
             [
              0.4444444444444444,
              "#bd3786"
             ],
             [
              0.5555555555555556,
              "#d8576b"
             ],
             [
              0.6666666666666666,
              "#ed7953"
             ],
             [
              0.7777777777777778,
              "#fb9f3a"
             ],
             [
              0.8888888888888888,
              "#fdca26"
             ],
             [
              1,
              "#f0f921"
             ]
            ],
            "type": "heatmap"
           }
          ],
          "histogram": [
           {
            "marker": {
             "pattern": {
              "fillmode": "overlay",
              "size": 10,
              "solidity": 0.2
             }
            },
            "type": "histogram"
           }
          ],
          "histogram2d": [
           {
            "colorbar": {
             "outlinewidth": 0,
             "ticks": ""
            },
            "colorscale": [
             [
              0,
              "#0d0887"
             ],
             [
              0.1111111111111111,
              "#46039f"
             ],
             [
              0.2222222222222222,
              "#7201a8"
             ],
             [
              0.3333333333333333,
              "#9c179e"
             ],
             [
              0.4444444444444444,
              "#bd3786"
             ],
             [
              0.5555555555555556,
              "#d8576b"
             ],
             [
              0.6666666666666666,
              "#ed7953"
             ],
             [
              0.7777777777777778,
              "#fb9f3a"
             ],
             [
              0.8888888888888888,
              "#fdca26"
             ],
             [
              1,
              "#f0f921"
             ]
            ],
            "type": "histogram2d"
           }
          ],
          "histogram2dcontour": [
           {
            "colorbar": {
             "outlinewidth": 0,
             "ticks": ""
            },
            "colorscale": [
             [
              0,
              "#0d0887"
             ],
             [
              0.1111111111111111,
              "#46039f"
             ],
             [
              0.2222222222222222,
              "#7201a8"
             ],
             [
              0.3333333333333333,
              "#9c179e"
             ],
             [
              0.4444444444444444,
              "#bd3786"
             ],
             [
              0.5555555555555556,
              "#d8576b"
             ],
             [
              0.6666666666666666,
              "#ed7953"
             ],
             [
              0.7777777777777778,
              "#fb9f3a"
             ],
             [
              0.8888888888888888,
              "#fdca26"
             ],
             [
              1,
              "#f0f921"
             ]
            ],
            "type": "histogram2dcontour"
           }
          ],
          "mesh3d": [
           {
            "colorbar": {
             "outlinewidth": 0,
             "ticks": ""
            },
            "type": "mesh3d"
           }
          ],
          "parcoords": [
           {
            "line": {
             "colorbar": {
              "outlinewidth": 0,
              "ticks": ""
             }
            },
            "type": "parcoords"
           }
          ],
          "pie": [
           {
            "automargin": true,
            "type": "pie"
           }
          ],
          "scatter": [
           {
            "fillpattern": {
             "fillmode": "overlay",
             "size": 10,
             "solidity": 0.2
            },
            "type": "scatter"
           }
          ],
          "scatter3d": [
           {
            "line": {
             "colorbar": {
              "outlinewidth": 0,
              "ticks": ""
             }
            },
            "marker": {
             "colorbar": {
              "outlinewidth": 0,
              "ticks": ""
             }
            },
            "type": "scatter3d"
           }
          ],
          "scattercarpet": [
           {
            "marker": {
             "colorbar": {
              "outlinewidth": 0,
              "ticks": ""
             }
            },
            "type": "scattercarpet"
           }
          ],
          "scattergeo": [
           {
            "marker": {
             "colorbar": {
              "outlinewidth": 0,
              "ticks": ""
             }
            },
            "type": "scattergeo"
           }
          ],
          "scattergl": [
           {
            "marker": {
             "colorbar": {
              "outlinewidth": 0,
              "ticks": ""
             }
            },
            "type": "scattergl"
           }
          ],
          "scattermap": [
           {
            "marker": {
             "colorbar": {
              "outlinewidth": 0,
              "ticks": ""
             }
            },
            "type": "scattermap"
           }
          ],
          "scattermapbox": [
           {
            "marker": {
             "colorbar": {
              "outlinewidth": 0,
              "ticks": ""
             }
            },
            "type": "scattermapbox"
           }
          ],
          "scatterpolar": [
           {
            "marker": {
             "colorbar": {
              "outlinewidth": 0,
              "ticks": ""
             }
            },
            "type": "scatterpolar"
           }
          ],
          "scatterpolargl": [
           {
            "marker": {
             "colorbar": {
              "outlinewidth": 0,
              "ticks": ""
             }
            },
            "type": "scatterpolargl"
           }
          ],
          "scatterternary": [
           {
            "marker": {
             "colorbar": {
              "outlinewidth": 0,
              "ticks": ""
             }
            },
            "type": "scatterternary"
           }
          ],
          "surface": [
           {
            "colorbar": {
             "outlinewidth": 0,
             "ticks": ""
            },
            "colorscale": [
             [
              0,
              "#0d0887"
             ],
             [
              0.1111111111111111,
              "#46039f"
             ],
             [
              0.2222222222222222,
              "#7201a8"
             ],
             [
              0.3333333333333333,
              "#9c179e"
             ],
             [
              0.4444444444444444,
              "#bd3786"
             ],
             [
              0.5555555555555556,
              "#d8576b"
             ],
             [
              0.6666666666666666,
              "#ed7953"
             ],
             [
              0.7777777777777778,
              "#fb9f3a"
             ],
             [
              0.8888888888888888,
              "#fdca26"
             ],
             [
              1,
              "#f0f921"
             ]
            ],
            "type": "surface"
           }
          ],
          "table": [
           {
            "cells": {
             "fill": {
              "color": "#EBF0F8"
             },
             "line": {
              "color": "white"
             }
            },
            "header": {
             "fill": {
              "color": "#C8D4E3"
             },
             "line": {
              "color": "white"
             }
            },
            "type": "table"
           }
          ]
         },
         "layout": {
          "annotationdefaults": {
           "arrowcolor": "#2a3f5f",
           "arrowhead": 0,
           "arrowwidth": 1
          },
          "autotypenumbers": "strict",
          "coloraxis": {
           "colorbar": {
            "outlinewidth": 0,
            "ticks": ""
           }
          },
          "colorscale": {
           "diverging": [
            [
             0,
             "#8e0152"
            ],
            [
             0.1,
             "#c51b7d"
            ],
            [
             0.2,
             "#de77ae"
            ],
            [
             0.3,
             "#f1b6da"
            ],
            [
             0.4,
             "#fde0ef"
            ],
            [
             0.5,
             "#f7f7f7"
            ],
            [
             0.6,
             "#e6f5d0"
            ],
            [
             0.7,
             "#b8e186"
            ],
            [
             0.8,
             "#7fbc41"
            ],
            [
             0.9,
             "#4d9221"
            ],
            [
             1,
             "#276419"
            ]
           ],
           "sequential": [
            [
             0,
             "#0d0887"
            ],
            [
             0.1111111111111111,
             "#46039f"
            ],
            [
             0.2222222222222222,
             "#7201a8"
            ],
            [
             0.3333333333333333,
             "#9c179e"
            ],
            [
             0.4444444444444444,
             "#bd3786"
            ],
            [
             0.5555555555555556,
             "#d8576b"
            ],
            [
             0.6666666666666666,
             "#ed7953"
            ],
            [
             0.7777777777777778,
             "#fb9f3a"
            ],
            [
             0.8888888888888888,
             "#fdca26"
            ],
            [
             1,
             "#f0f921"
            ]
           ],
           "sequentialminus": [
            [
             0,
             "#0d0887"
            ],
            [
             0.1111111111111111,
             "#46039f"
            ],
            [
             0.2222222222222222,
             "#7201a8"
            ],
            [
             0.3333333333333333,
             "#9c179e"
            ],
            [
             0.4444444444444444,
             "#bd3786"
            ],
            [
             0.5555555555555556,
             "#d8576b"
            ],
            [
             0.6666666666666666,
             "#ed7953"
            ],
            [
             0.7777777777777778,
             "#fb9f3a"
            ],
            [
             0.8888888888888888,
             "#fdca26"
            ],
            [
             1,
             "#f0f921"
            ]
           ]
          },
          "colorway": [
           "#636efa",
           "#EF553B",
           "#00cc96",
           "#ab63fa",
           "#FFA15A",
           "#19d3f3",
           "#FF6692",
           "#B6E880",
           "#FF97FF",
           "#FECB52"
          ],
          "font": {
           "color": "#2a3f5f"
          },
          "geo": {
           "bgcolor": "white",
           "lakecolor": "white",
           "landcolor": "#E5ECF6",
           "showlakes": true,
           "showland": true,
           "subunitcolor": "white"
          },
          "hoverlabel": {
           "align": "left"
          },
          "hovermode": "closest",
          "mapbox": {
           "style": "light"
          },
          "paper_bgcolor": "white",
          "plot_bgcolor": "#E5ECF6",
          "polar": {
           "angularaxis": {
            "gridcolor": "white",
            "linecolor": "white",
            "ticks": ""
           },
           "bgcolor": "#E5ECF6",
           "radialaxis": {
            "gridcolor": "white",
            "linecolor": "white",
            "ticks": ""
           }
          },
          "scene": {
           "xaxis": {
            "backgroundcolor": "#E5ECF6",
            "gridcolor": "white",
            "gridwidth": 2,
            "linecolor": "white",
            "showbackground": true,
            "ticks": "",
            "zerolinecolor": "white"
           },
           "yaxis": {
            "backgroundcolor": "#E5ECF6",
            "gridcolor": "white",
            "gridwidth": 2,
            "linecolor": "white",
            "showbackground": true,
            "ticks": "",
            "zerolinecolor": "white"
           },
           "zaxis": {
            "backgroundcolor": "#E5ECF6",
            "gridcolor": "white",
            "gridwidth": 2,
            "linecolor": "white",
            "showbackground": true,
            "ticks": "",
            "zerolinecolor": "white"
           }
          },
          "shapedefaults": {
           "line": {
            "color": "#2a3f5f"
           }
          },
          "ternary": {
           "aaxis": {
            "gridcolor": "white",
            "linecolor": "white",
            "ticks": ""
           },
           "baxis": {
            "gridcolor": "white",
            "linecolor": "white",
            "ticks": ""
           },
           "bgcolor": "#E5ECF6",
           "caxis": {
            "gridcolor": "white",
            "linecolor": "white",
            "ticks": ""
           }
          },
          "title": {
           "x": 0.05
          },
          "xaxis": {
           "automargin": true,
           "gridcolor": "white",
           "linecolor": "white",
           "ticks": "",
           "title": {
            "standoff": 15
           },
           "zerolinecolor": "white",
           "zerolinewidth": 2
          },
          "yaxis": {
           "automargin": true,
           "gridcolor": "white",
           "linecolor": "white",
           "ticks": "",
           "title": {
            "standoff": 15
           },
           "zerolinecolor": "white",
           "zerolinewidth": 2
          }
         }
        },
        "title": {
         "font": {
          "family": "Arial",
          "size": 18
         },
         "text": "<b>Median Best Fitness per Generation</b><br>Experience 3"
        },
        "width": 850,
        "xaxis": {
         "gridcolor": "lightgray",
         "title": {
          "text": "Generation"
         }
        },
        "yaxis": {
         "gridcolor": "lightgray",
         "title": {
          "text": "Fitness"
         }
        }
       }
      }
     },
     "metadata": {},
     "output_type": "display_data"
    }
   ],
   "source": [
    "plot_ABF_MBF(df_exp1, exp_comb='1', metric='MBF')\n",
    "plot_ABF_MBF(df_exp2, exp_comb='2', metric='MBF')\n",
    "plot_ABF_MBF(df_exp3, exp_comb='3', metric='MBF')"
   ]
  },
  {
   "cell_type": "markdown",
   "id": "ac096c5e",
   "metadata": {},
   "source": [
    "### 2.2. Inter-Run Analysis: Stability of the combination"
   ]
  },
  {
   "cell_type": "markdown",
   "id": "0f2acd1a",
   "metadata": {},
   "source": [
    "__`Step 4`__ Check ABF, STD and ABF/STD on all combinations to access stability."
   ]
  },
  {
   "cell_type": "code",
   "execution_count": 6,
   "id": "2097661d",
   "metadata": {},
   "outputs": [
    {
     "name": "stdout",
     "output_type": "stream",
     "text": [
      "Most Stable Comb: ('two_phase_shuffle_mutation', 'cyclic_crossover', 'tournament_selection')\n",
      "Least Stable Comb: ('semi_shuffle', 'partially_mapped_crossover', 'linear_ranking_selection')\n"
     ]
    },
    {
     "data": {
      "text/html": [
       "<style type=\"text/css\">\n",
       "#T_4bb65_row6_col0, #T_4bb65_row6_col1, #T_4bb65_row6_col2, #T_4bb65_row6_col3, #T_4bb65_row6_col4 {\n",
       "  background: brown;\n",
       "}\n",
       "#T_4bb65_row9_col0, #T_4bb65_row9_col1, #T_4bb65_row9_col2, #T_4bb65_row9_col3, #T_4bb65_row9_col4 {\n",
       "  background: blue;\n",
       "}\n",
       "</style>\n",
       "<table id=\"T_4bb65\">\n",
       "  <thead>\n",
       "    <tr>\n",
       "      <th class=\"blank level0\" >&nbsp;</th>\n",
       "      <th id=\"T_4bb65_level0_col0\" class=\"col_heading level0 col0\" >Combination</th>\n",
       "      <th id=\"T_4bb65_level0_col1\" class=\"col_heading level0 col1\" >ABF</th>\n",
       "      <th id=\"T_4bb65_level0_col2\" class=\"col_heading level0 col2\" >STD</th>\n",
       "      <th id=\"T_4bb65_level0_col3\" class=\"col_heading level0 col3\" >ABF/STD</th>\n",
       "      <th id=\"T_4bb65_level0_col4\" class=\"col_heading level0 col4\" >ABF^2/STD - ABF</th>\n",
       "    </tr>\n",
       "  </thead>\n",
       "  <tbody>\n",
       "    <tr>\n",
       "      <th id=\"T_4bb65_level0_row0\" class=\"row_heading level0 row0\" >0</th>\n",
       "      <td id=\"T_4bb65_row0_col0\" class=\"data row0 col0\" >('block_rotation_mutation', 'cyclic_crossover', 'linear_ranking_selection')</td>\n",
       "      <td id=\"T_4bb65_row0_col1\" class=\"data row0 col1\" >1.278492</td>\n",
       "      <td id=\"T_4bb65_row0_col2\" class=\"data row0 col2\" >0.041743</td>\n",
       "      <td id=\"T_4bb65_row0_col3\" class=\"data row0 col3\" >30.627655</td>\n",
       "      <td id=\"T_4bb65_row0_col4\" class=\"data row0 col4\" >37.878720</td>\n",
       "    </tr>\n",
       "    <tr>\n",
       "      <th id=\"T_4bb65_level0_row1\" class=\"row_heading level0 row1\" >1</th>\n",
       "      <td id=\"T_4bb65_row1_col0\" class=\"data row1 col0\" >('block_rotation_mutation', 'cyclic_crossover', 'tournament_selection')</td>\n",
       "      <td id=\"T_4bb65_row1_col1\" class=\"data row1 col1\" >1.436627</td>\n",
       "      <td id=\"T_4bb65_row1_col2\" class=\"data row1 col2\" >0.030591</td>\n",
       "      <td id=\"T_4bb65_row1_col3\" class=\"data row1 col3\" >46.962975</td>\n",
       "      <td id=\"T_4bb65_row1_col4\" class=\"data row1 col4\" >66.031651</td>\n",
       "    </tr>\n",
       "    <tr>\n",
       "      <th id=\"T_4bb65_level0_row2\" class=\"row_heading level0 row2\" >2</th>\n",
       "      <td id=\"T_4bb65_row2_col0\" class=\"data row2 col0\" >('block_rotation_mutation', 'partially_mapped_crossover', 'linear_ranking_selection')</td>\n",
       "      <td id=\"T_4bb65_row2_col1\" class=\"data row2 col1\" >1.258933</td>\n",
       "      <td id=\"T_4bb65_row2_col2\" class=\"data row2 col2\" >0.044113</td>\n",
       "      <td id=\"T_4bb65_row2_col3\" class=\"data row2 col3\" >28.538627</td>\n",
       "      <td id=\"T_4bb65_row2_col4\" class=\"data row2 col4\" >34.669277</td>\n",
       "    </tr>\n",
       "    <tr>\n",
       "      <th id=\"T_4bb65_level0_row3\" class=\"row_heading level0 row3\" >3</th>\n",
       "      <td id=\"T_4bb65_row3_col0\" class=\"data row3 col0\" >('block_rotation_mutation', 'partially_mapped_crossover', 'tournament_selection')</td>\n",
       "      <td id=\"T_4bb65_row3_col1\" class=\"data row3 col1\" >1.609877</td>\n",
       "      <td id=\"T_4bb65_row3_col2\" class=\"data row3 col2\" >0.044517</td>\n",
       "      <td id=\"T_4bb65_row3_col3\" class=\"data row3 col3\" >36.163397</td>\n",
       "      <td id=\"T_4bb65_row3_col4\" class=\"data row3 col4\" >56.608744</td>\n",
       "    </tr>\n",
       "    <tr>\n",
       "      <th id=\"T_4bb65_level0_row4\" class=\"row_heading level0 row4\" >4</th>\n",
       "      <td id=\"T_4bb65_row4_col0\" class=\"data row4 col0\" >('semi_shuffle', 'cyclic_crossover', 'linear_ranking_selection')</td>\n",
       "      <td id=\"T_4bb65_row4_col1\" class=\"data row4 col1\" >1.242853</td>\n",
       "      <td id=\"T_4bb65_row4_col2\" class=\"data row4 col2\" >0.043635</td>\n",
       "      <td id=\"T_4bb65_row4_col3\" class=\"data row4 col3\" >28.483168</td>\n",
       "      <td id=\"T_4bb65_row4_col4\" class=\"data row4 col4\" >34.157529</td>\n",
       "    </tr>\n",
       "    <tr>\n",
       "      <th id=\"T_4bb65_level0_row5\" class=\"row_heading level0 row5\" >5</th>\n",
       "      <td id=\"T_4bb65_row5_col0\" class=\"data row5 col0\" >('semi_shuffle', 'cyclic_crossover', 'tournament_selection')</td>\n",
       "      <td id=\"T_4bb65_row5_col1\" class=\"data row5 col1\" >1.427883</td>\n",
       "      <td id=\"T_4bb65_row5_col2\" class=\"data row5 col2\" >0.025023</td>\n",
       "      <td id=\"T_4bb65_row5_col3\" class=\"data row5 col3\" >57.063875</td>\n",
       "      <td id=\"T_4bb65_row5_col4\" class=\"data row5 col4\" >80.052635</td>\n",
       "    </tr>\n",
       "    <tr>\n",
       "      <th id=\"T_4bb65_level0_row6\" class=\"row_heading level0 row6\" >6</th>\n",
       "      <td id=\"T_4bb65_row6_col0\" class=\"data row6 col0\" >('semi_shuffle', 'partially_mapped_crossover', 'linear_ranking_selection')</td>\n",
       "      <td id=\"T_4bb65_row6_col1\" class=\"data row6 col1\" >1.256759</td>\n",
       "      <td id=\"T_4bb65_row6_col2\" class=\"data row6 col2\" >0.049787</td>\n",
       "      <td id=\"T_4bb65_row6_col3\" class=\"data row6 col3\" >25.242767</td>\n",
       "      <td id=\"T_4bb65_row6_col4\" class=\"data row6 col4\" >30.467324</td>\n",
       "    </tr>\n",
       "    <tr>\n",
       "      <th id=\"T_4bb65_level0_row7\" class=\"row_heading level0 row7\" >7</th>\n",
       "      <td id=\"T_4bb65_row7_col0\" class=\"data row7 col0\" >('semi_shuffle', 'partially_mapped_crossover', 'tournament_selection')</td>\n",
       "      <td id=\"T_4bb65_row7_col1\" class=\"data row7 col1\" >1.563082</td>\n",
       "      <td id=\"T_4bb65_row7_col2\" class=\"data row7 col2\" >0.049363</td>\n",
       "      <td id=\"T_4bb65_row7_col3\" class=\"data row7 col3\" >31.664938</td>\n",
       "      <td id=\"T_4bb65_row7_col4\" class=\"data row7 col4\" >47.931822</td>\n",
       "    </tr>\n",
       "    <tr>\n",
       "      <th id=\"T_4bb65_level0_row8\" class=\"row_heading level0 row8\" >8</th>\n",
       "      <td id=\"T_4bb65_row8_col0\" class=\"data row8 col0\" >('two_phase_shuffle_mutation', 'cyclic_crossover', 'linear_ranking_selection')</td>\n",
       "      <td id=\"T_4bb65_row8_col1\" class=\"data row8 col1\" >1.284225</td>\n",
       "      <td id=\"T_4bb65_row8_col2\" class=\"data row8 col2\" >0.029379</td>\n",
       "      <td id=\"T_4bb65_row8_col3\" class=\"data row8 col3\" >43.712327</td>\n",
       "      <td id=\"T_4bb65_row8_col4\" class=\"data row8 col4\" >54.852223</td>\n",
       "    </tr>\n",
       "    <tr>\n",
       "      <th id=\"T_4bb65_level0_row9\" class=\"row_heading level0 row9\" >9</th>\n",
       "      <td id=\"T_4bb65_row9_col0\" class=\"data row9 col0\" >('two_phase_shuffle_mutation', 'cyclic_crossover', 'tournament_selection')</td>\n",
       "      <td id=\"T_4bb65_row9_col1\" class=\"data row9 col1\" >1.407412</td>\n",
       "      <td id=\"T_4bb65_row9_col2\" class=\"data row9 col2\" >0.023752</td>\n",
       "      <td id=\"T_4bb65_row9_col3\" class=\"data row9 col3\" >59.255029</td>\n",
       "      <td id=\"T_4bb65_row9_col4\" class=\"data row9 col4\" >81.988807</td>\n",
       "    </tr>\n",
       "    <tr>\n",
       "      <th id=\"T_4bb65_level0_row10\" class=\"row_heading level0 row10\" >10</th>\n",
       "      <td id=\"T_4bb65_row10_col0\" class=\"data row10 col0\" >('two_phase_shuffle_mutation', 'partially_mapped_crossover', 'linear_ranking_selection')</td>\n",
       "      <td id=\"T_4bb65_row10_col1\" class=\"data row10 col1\" >1.289715</td>\n",
       "      <td id=\"T_4bb65_row10_col2\" class=\"data row10 col2\" >0.049494</td>\n",
       "      <td id=\"T_4bb65_row10_col3\" class=\"data row10 col3\" >26.058017</td>\n",
       "      <td id=\"T_4bb65_row10_col4\" class=\"data row10 col4\" >32.317692</td>\n",
       "    </tr>\n",
       "    <tr>\n",
       "      <th id=\"T_4bb65_level0_row11\" class=\"row_heading level0 row11\" >11</th>\n",
       "      <td id=\"T_4bb65_row11_col0\" class=\"data row11 col0\" >('two_phase_shuffle_mutation', 'partially_mapped_crossover', 'tournament_selection')</td>\n",
       "      <td id=\"T_4bb65_row11_col1\" class=\"data row11 col1\" >1.554284</td>\n",
       "      <td id=\"T_4bb65_row11_col2\" class=\"data row11 col2\" >0.050994</td>\n",
       "      <td id=\"T_4bb65_row11_col3\" class=\"data row11 col3\" >30.479821</td>\n",
       "      <td id=\"T_4bb65_row11_col4\" class=\"data row11 col4\" >45.820014</td>\n",
       "    </tr>\n",
       "  </tbody>\n",
       "</table>\n"
      ],
      "text/plain": [
       "<pandas.io.formats.style.Styler at 0x1c17c653cb0>"
      ]
     },
     "execution_count": 6,
     "metadata": {},
     "output_type": "execute_result"
    }
   ],
   "source": [
    "get_abf_stats(df_exp1)[0]\n"
   ]
  },
  {
   "cell_type": "code",
   "execution_count": null,
   "id": "63d37b5f",
   "metadata": {},
   "outputs": [
    {
     "name": "stdout",
     "output_type": "stream",
     "text": [
      "Most Stable Comb: ('block_rotation_mutation', 'cyclic_crossover', 'linear_ranking_selection')\n",
      "Least Stable Comb: ('semi_shuffle', 'cyclic_crossover', 'linear_ranking_selection')\n"
     ]
    },
    {
     "data": {
      "text/html": [
       "<style type=\"text/css\">\n",
       "#T_b2357_row0_col0, #T_b2357_row0_col1, #T_b2357_row0_col2, #T_b2357_row0_col3 {\n",
       "  background: blue;\n",
       "}\n",
       "#T_b2357_row4_col0, #T_b2357_row4_col1, #T_b2357_row4_col2, #T_b2357_row4_col3 {\n",
       "  background: brown;\n",
       "}\n",
       "</style>\n",
       "<table id=\"T_b2357\">\n",
       "  <thead>\n",
       "    <tr>\n",
       "      <th class=\"blank level0\" >&nbsp;</th>\n",
       "      <th id=\"T_b2357_level0_col0\" class=\"col_heading level0 col0\" >Combination</th>\n",
       "      <th id=\"T_b2357_level0_col1\" class=\"col_heading level0 col1\" >ABF</th>\n",
       "      <th id=\"T_b2357_level0_col2\" class=\"col_heading level0 col2\" >STD</th>\n",
       "      <th id=\"T_b2357_level0_col3\" class=\"col_heading level0 col3\" >ABF/STD</th>\n",
       "    </tr>\n",
       "  </thead>\n",
       "  <tbody>\n",
       "    <tr>\n",
       "      <th id=\"T_b2357_level0_row0\" class=\"row_heading level0 row0\" >0</th>\n",
       "      <td id=\"T_b2357_row0_col0\" class=\"data row0 col0\" >('block_rotation_mutation', 'cyclic_crossover', 'linear_ranking_selection')</td>\n",
       "      <td id=\"T_b2357_row0_col1\" class=\"data row0 col1\" >1.272783</td>\n",
       "      <td id=\"T_b2357_row0_col2\" class=\"data row0 col2\" >0.021282</td>\n",
       "      <td id=\"T_b2357_row0_col3\" class=\"data row0 col3\" >59.805109</td>\n",
       "    </tr>\n",
       "    <tr>\n",
       "      <th id=\"T_b2357_level0_row1\" class=\"row_heading level0 row1\" >1</th>\n",
       "      <td id=\"T_b2357_row1_col0\" class=\"data row1 col0\" >('block_rotation_mutation', 'cyclic_crossover', 'tournament_selection')</td>\n",
       "      <td id=\"T_b2357_row1_col1\" class=\"data row1 col1\" >1.394262</td>\n",
       "      <td id=\"T_b2357_row1_col2\" class=\"data row1 col2\" >0.028393</td>\n",
       "      <td id=\"T_b2357_row1_col3\" class=\"data row1 col3\" >49.105396</td>\n",
       "    </tr>\n",
       "    <tr>\n",
       "      <th id=\"T_b2357_level0_row2\" class=\"row_heading level0 row2\" >2</th>\n",
       "      <td id=\"T_b2357_row2_col0\" class=\"data row2 col0\" >('block_rotation_mutation', 'partially_mapped_crossover', 'linear_ranking_selection')</td>\n",
       "      <td id=\"T_b2357_row2_col1\" class=\"data row2 col1\" >1.272120</td>\n",
       "      <td id=\"T_b2357_row2_col2\" class=\"data row2 col2\" >0.033075</td>\n",
       "      <td id=\"T_b2357_row2_col3\" class=\"data row2 col3\" >38.461154</td>\n",
       "    </tr>\n",
       "    <tr>\n",
       "      <th id=\"T_b2357_level0_row3\" class=\"row_heading level0 row3\" >3</th>\n",
       "      <td id=\"T_b2357_row3_col0\" class=\"data row3 col0\" >('block_rotation_mutation', 'partially_mapped_crossover', 'tournament_selection')</td>\n",
       "      <td id=\"T_b2357_row3_col1\" class=\"data row3 col1\" >1.537450</td>\n",
       "      <td id=\"T_b2357_row3_col2\" class=\"data row3 col2\" >0.033670</td>\n",
       "      <td id=\"T_b2357_row3_col3\" class=\"data row3 col3\" >45.662073</td>\n",
       "    </tr>\n",
       "    <tr>\n",
       "      <th id=\"T_b2357_level0_row4\" class=\"row_heading level0 row4\" >4</th>\n",
       "      <td id=\"T_b2357_row4_col0\" class=\"data row4 col0\" >('semi_shuffle', 'cyclic_crossover', 'linear_ranking_selection')</td>\n",
       "      <td id=\"T_b2357_row4_col1\" class=\"data row4 col1\" >1.263792</td>\n",
       "      <td id=\"T_b2357_row4_col2\" class=\"data row4 col2\" >0.048971</td>\n",
       "      <td id=\"T_b2357_row4_col3\" class=\"data row4 col3\" >25.807187</td>\n",
       "    </tr>\n",
       "    <tr>\n",
       "      <th id=\"T_b2357_level0_row5\" class=\"row_heading level0 row5\" >5</th>\n",
       "      <td id=\"T_b2357_row5_col0\" class=\"data row5 col0\" >('semi_shuffle', 'cyclic_crossover', 'tournament_selection')</td>\n",
       "      <td id=\"T_b2357_row5_col1\" class=\"data row5 col1\" >1.467102</td>\n",
       "      <td id=\"T_b2357_row5_col2\" class=\"data row5 col2\" >0.029891</td>\n",
       "      <td id=\"T_b2357_row5_col3\" class=\"data row5 col3\" >49.081456</td>\n",
       "    </tr>\n",
       "    <tr>\n",
       "      <th id=\"T_b2357_level0_row6\" class=\"row_heading level0 row6\" >6</th>\n",
       "      <td id=\"T_b2357_row6_col0\" class=\"data row6 col0\" >('semi_shuffle', 'partially_mapped_crossover', 'linear_ranking_selection')</td>\n",
       "      <td id=\"T_b2357_row6_col1\" class=\"data row6 col1\" >1.243384</td>\n",
       "      <td id=\"T_b2357_row6_col2\" class=\"data row6 col2\" >0.039730</td>\n",
       "      <td id=\"T_b2357_row6_col3\" class=\"data row6 col3\" >31.295865</td>\n",
       "    </tr>\n",
       "    <tr>\n",
       "      <th id=\"T_b2357_level0_row7\" class=\"row_heading level0 row7\" >7</th>\n",
       "      <td id=\"T_b2357_row7_col0\" class=\"data row7 col0\" >('semi_shuffle', 'partially_mapped_crossover', 'tournament_selection')</td>\n",
       "      <td id=\"T_b2357_row7_col1\" class=\"data row7 col1\" >1.620897</td>\n",
       "      <td id=\"T_b2357_row7_col2\" class=\"data row7 col2\" >0.046539</td>\n",
       "      <td id=\"T_b2357_row7_col3\" class=\"data row7 col3\" >34.828884</td>\n",
       "    </tr>\n",
       "    <tr>\n",
       "      <th id=\"T_b2357_level0_row8\" class=\"row_heading level0 row8\" >8</th>\n",
       "      <td id=\"T_b2357_row8_col0\" class=\"data row8 col0\" >('two_phase_shuffle_mutation', 'cyclic_crossover', 'linear_ranking_selection')</td>\n",
       "      <td id=\"T_b2357_row8_col1\" class=\"data row8 col1\" >1.303605</td>\n",
       "      <td id=\"T_b2357_row8_col2\" class=\"data row8 col2\" >0.024813</td>\n",
       "      <td id=\"T_b2357_row8_col3\" class=\"data row8 col3\" >52.538194</td>\n",
       "    </tr>\n",
       "    <tr>\n",
       "      <th id=\"T_b2357_level0_row9\" class=\"row_heading level0 row9\" >9</th>\n",
       "      <td id=\"T_b2357_row9_col0\" class=\"data row9 col0\" >('two_phase_shuffle_mutation', 'cyclic_crossover', 'tournament_selection')</td>\n",
       "      <td id=\"T_b2357_row9_col1\" class=\"data row9 col1\" >1.362315</td>\n",
       "      <td id=\"T_b2357_row9_col2\" class=\"data row9 col2\" >0.028431</td>\n",
       "      <td id=\"T_b2357_row9_col3\" class=\"data row9 col3\" >47.916294</td>\n",
       "    </tr>\n",
       "    <tr>\n",
       "      <th id=\"T_b2357_level0_row10\" class=\"row_heading level0 row10\" >10</th>\n",
       "      <td id=\"T_b2357_row10_col0\" class=\"data row10 col0\" >('two_phase_shuffle_mutation', 'partially_mapped_crossover', 'linear_ranking_selection')</td>\n",
       "      <td id=\"T_b2357_row10_col1\" class=\"data row10 col1\" >1.279572</td>\n",
       "      <td id=\"T_b2357_row10_col2\" class=\"data row10 col2\" >0.041417</td>\n",
       "      <td id=\"T_b2357_row10_col3\" class=\"data row10 col3\" >30.894963</td>\n",
       "    </tr>\n",
       "    <tr>\n",
       "      <th id=\"T_b2357_level0_row11\" class=\"row_heading level0 row11\" >11</th>\n",
       "      <td id=\"T_b2357_row11_col0\" class=\"data row11 col0\" >('two_phase_shuffle_mutation', 'partially_mapped_crossover', 'tournament_selection')</td>\n",
       "      <td id=\"T_b2357_row11_col1\" class=\"data row11 col1\" >1.515708</td>\n",
       "      <td id=\"T_b2357_row11_col2\" class=\"data row11 col2\" >0.044054</td>\n",
       "      <td id=\"T_b2357_row11_col3\" class=\"data row11 col3\" >34.405398</td>\n",
       "    </tr>\n",
       "  </tbody>\n",
       "</table>\n"
      ],
      "text/plain": [
       "<pandas.io.formats.style.Styler at 0x2b810d52240>"
      ]
     },
     "execution_count": 4,
     "metadata": {},
     "output_type": "execute_result"
    }
   ],
   "source": [
    "get_abf_stats(df_exp2)[0]"
   ]
  },
  {
   "cell_type": "code",
   "execution_count": null,
   "id": "5bd41e87",
   "metadata": {},
   "outputs": [
    {
     "name": "stdout",
     "output_type": "stream",
     "text": [
      "Most Stable Comb: ('block_rotation_mutation', 'cyclic_crossover', 'tournament_selection')\n",
      "Least Stable Comb: ('semi_shuffle', 'partially_mapped_crossover', 'linear_ranking_selection')\n"
     ]
    },
    {
     "data": {
      "text/html": [
       "<style type=\"text/css\">\n",
       "#T_d837f_row1_col0, #T_d837f_row1_col1, #T_d837f_row1_col2, #T_d837f_row1_col3 {\n",
       "  background: blue;\n",
       "}\n",
       "#T_d837f_row6_col0, #T_d837f_row6_col1, #T_d837f_row6_col2, #T_d837f_row6_col3 {\n",
       "  background: brown;\n",
       "}\n",
       "</style>\n",
       "<table id=\"T_d837f\">\n",
       "  <thead>\n",
       "    <tr>\n",
       "      <th class=\"blank level0\" >&nbsp;</th>\n",
       "      <th id=\"T_d837f_level0_col0\" class=\"col_heading level0 col0\" >Combination</th>\n",
       "      <th id=\"T_d837f_level0_col1\" class=\"col_heading level0 col1\" >ABF</th>\n",
       "      <th id=\"T_d837f_level0_col2\" class=\"col_heading level0 col2\" >STD</th>\n",
       "      <th id=\"T_d837f_level0_col3\" class=\"col_heading level0 col3\" >ABF/STD</th>\n",
       "    </tr>\n",
       "  </thead>\n",
       "  <tbody>\n",
       "    <tr>\n",
       "      <th id=\"T_d837f_level0_row0\" class=\"row_heading level0 row0\" >0</th>\n",
       "      <td id=\"T_d837f_row0_col0\" class=\"data row0 col0\" >('block_rotation_mutation', 'cyclic_crossover', 'linear_ranking_selection')</td>\n",
       "      <td id=\"T_d837f_row0_col1\" class=\"data row0 col1\" >1.252681</td>\n",
       "      <td id=\"T_d837f_row0_col2\" class=\"data row0 col2\" >0.033109</td>\n",
       "      <td id=\"T_d837f_row0_col3\" class=\"data row0 col3\" >37.835319</td>\n",
       "    </tr>\n",
       "    <tr>\n",
       "      <th id=\"T_d837f_level0_row1\" class=\"row_heading level0 row1\" >1</th>\n",
       "      <td id=\"T_d837f_row1_col0\" class=\"data row1 col0\" >('block_rotation_mutation', 'cyclic_crossover', 'tournament_selection')</td>\n",
       "      <td id=\"T_d837f_row1_col1\" class=\"data row1 col1\" >1.470405</td>\n",
       "      <td id=\"T_d837f_row1_col2\" class=\"data row1 col2\" >0.024453</td>\n",
       "      <td id=\"T_d837f_row1_col3\" class=\"data row1 col3\" >60.132431</td>\n",
       "    </tr>\n",
       "    <tr>\n",
       "      <th id=\"T_d837f_level0_row2\" class=\"row_heading level0 row2\" >2</th>\n",
       "      <td id=\"T_d837f_row2_col0\" class=\"data row2 col0\" >('block_rotation_mutation', 'partially_mapped_crossover', 'linear_ranking_selection')</td>\n",
       "      <td id=\"T_d837f_row2_col1\" class=\"data row2 col1\" >1.268954</td>\n",
       "      <td id=\"T_d837f_row2_col2\" class=\"data row2 col2\" >0.038451</td>\n",
       "      <td id=\"T_d837f_row2_col3\" class=\"data row2 col3\" >33.001957</td>\n",
       "    </tr>\n",
       "    <tr>\n",
       "      <th id=\"T_d837f_level0_row3\" class=\"row_heading level0 row3\" >3</th>\n",
       "      <td id=\"T_d837f_row3_col0\" class=\"data row3 col0\" >('block_rotation_mutation', 'partially_mapped_crossover', 'tournament_selection')</td>\n",
       "      <td id=\"T_d837f_row3_col1\" class=\"data row3 col1\" >1.618567</td>\n",
       "      <td id=\"T_d837f_row3_col2\" class=\"data row3 col2\" >0.047021</td>\n",
       "      <td id=\"T_d837f_row3_col3\" class=\"data row3 col3\" >34.422370</td>\n",
       "    </tr>\n",
       "    <tr>\n",
       "      <th id=\"T_d837f_level0_row4\" class=\"row_heading level0 row4\" >4</th>\n",
       "      <td id=\"T_d837f_row4_col0\" class=\"data row4 col0\" >('semi_shuffle', 'cyclic_crossover', 'linear_ranking_selection')</td>\n",
       "      <td id=\"T_d837f_row4_col1\" class=\"data row4 col1\" >1.246513</td>\n",
       "      <td id=\"T_d837f_row4_col2\" class=\"data row4 col2\" >0.037457</td>\n",
       "      <td id=\"T_d837f_row4_col3\" class=\"data row4 col3\" >33.278479</td>\n",
       "    </tr>\n",
       "    <tr>\n",
       "      <th id=\"T_d837f_level0_row5\" class=\"row_heading level0 row5\" >5</th>\n",
       "      <td id=\"T_d837f_row5_col0\" class=\"data row5 col0\" >('semi_shuffle', 'cyclic_crossover', 'tournament_selection')</td>\n",
       "      <td id=\"T_d837f_row5_col1\" class=\"data row5 col1\" >1.476043</td>\n",
       "      <td id=\"T_d837f_row5_col2\" class=\"data row5 col2\" >0.029899</td>\n",
       "      <td id=\"T_d837f_row5_col3\" class=\"data row5 col3\" >49.367011</td>\n",
       "    </tr>\n",
       "    <tr>\n",
       "      <th id=\"T_d837f_level0_row6\" class=\"row_heading level0 row6\" >6</th>\n",
       "      <td id=\"T_d837f_row6_col0\" class=\"data row6 col0\" >('semi_shuffle', 'partially_mapped_crossover', 'linear_ranking_selection')</td>\n",
       "      <td id=\"T_d837f_row6_col1\" class=\"data row6 col1\" >1.243417</td>\n",
       "      <td id=\"T_d837f_row6_col2\" class=\"data row6 col2\" >0.047452</td>\n",
       "      <td id=\"T_d837f_row6_col3\" class=\"data row6 col3\" >26.203828</td>\n",
       "    </tr>\n",
       "    <tr>\n",
       "      <th id=\"T_d837f_level0_row7\" class=\"row_heading level0 row7\" >7</th>\n",
       "      <td id=\"T_d837f_row7_col0\" class=\"data row7 col0\" >('semi_shuffle', 'partially_mapped_crossover', 'tournament_selection')</td>\n",
       "      <td id=\"T_d837f_row7_col1\" class=\"data row7 col1\" >1.663101</td>\n",
       "      <td id=\"T_d837f_row7_col2\" class=\"data row7 col2\" >0.056566</td>\n",
       "      <td id=\"T_d837f_row7_col3\" class=\"data row7 col3\" >29.401202</td>\n",
       "    </tr>\n",
       "    <tr>\n",
       "      <th id=\"T_d837f_level0_row8\" class=\"row_heading level0 row8\" >8</th>\n",
       "      <td id=\"T_d837f_row8_col0\" class=\"data row8 col0\" >('two_phase_shuffle_mutation', 'cyclic_crossover', 'linear_ranking_selection')</td>\n",
       "      <td id=\"T_d837f_row8_col1\" class=\"data row8 col1\" >1.307608</td>\n",
       "      <td id=\"T_d837f_row8_col2\" class=\"data row8 col2\" >0.045268</td>\n",
       "      <td id=\"T_d837f_row8_col3\" class=\"data row8 col3\" >28.885799</td>\n",
       "    </tr>\n",
       "    <tr>\n",
       "      <th id=\"T_d837f_level0_row9\" class=\"row_heading level0 row9\" >9</th>\n",
       "      <td id=\"T_d837f_row9_col0\" class=\"data row9 col0\" >('two_phase_shuffle_mutation', 'cyclic_crossover', 'tournament_selection')</td>\n",
       "      <td id=\"T_d837f_row9_col1\" class=\"data row9 col1\" >1.380277</td>\n",
       "      <td id=\"T_d837f_row9_col2\" class=\"data row9 col2\" >0.035188</td>\n",
       "      <td id=\"T_d837f_row9_col3\" class=\"data row9 col3\" >39.225393</td>\n",
       "    </tr>\n",
       "    <tr>\n",
       "      <th id=\"T_d837f_level0_row10\" class=\"row_heading level0 row10\" >10</th>\n",
       "      <td id=\"T_d837f_row10_col0\" class=\"data row10 col0\" >('two_phase_shuffle_mutation', 'partially_mapped_crossover', 'linear_ranking_selection')</td>\n",
       "      <td id=\"T_d837f_row10_col1\" class=\"data row10 col1\" >1.287470</td>\n",
       "      <td id=\"T_d837f_row10_col2\" class=\"data row10 col2\" >0.033681</td>\n",
       "      <td id=\"T_d837f_row10_col3\" class=\"data row10 col3\" >38.225343</td>\n",
       "    </tr>\n",
       "    <tr>\n",
       "      <th id=\"T_d837f_level0_row11\" class=\"row_heading level0 row11\" >11</th>\n",
       "      <td id=\"T_d837f_row11_col0\" class=\"data row11 col0\" >('two_phase_shuffle_mutation', 'partially_mapped_crossover', 'tournament_selection')</td>\n",
       "      <td id=\"T_d837f_row11_col1\" class=\"data row11 col1\" >1.535720</td>\n",
       "      <td id=\"T_d837f_row11_col2\" class=\"data row11 col2\" >0.042600</td>\n",
       "      <td id=\"T_d837f_row11_col3\" class=\"data row11 col3\" >36.049839</td>\n",
       "    </tr>\n",
       "  </tbody>\n",
       "</table>\n"
      ],
      "text/plain": [
       "<pandas.io.formats.style.Styler at 0x2b81381f740>"
      ]
     },
     "execution_count": 6,
     "metadata": {},
     "output_type": "execute_result"
    }
   ],
   "source": [
    "get_abf_stats(df_exp3)[0]\n"
   ]
  },
  {
   "cell_type": "markdown",
   "id": "60a0c800",
   "metadata": {},
   "source": [
    "__`Step 5`__ Plot the best fitness of each run (for some combinations). Choosing to visualize the ones considered the best and least stable combination of each experiment."
   ]
  },
  {
   "cell_type": "code",
   "execution_count": null,
   "id": "5a7794a0",
   "metadata": {},
   "outputs": [
    {
     "data": {
      "application/vnd.plotly.v1+json": {
       "config": {
        "plotlyServerURL": "https://plot.ly"
       },
       "data": [
        {
         "hoverinfo": "y",
         "legendgroup": "group_BCL",
         "line": {
          "width": 1
         },
         "marker": {
          "size": 5
         },
         "name": "BCL: ('block_rotation_mutation', 'cyclic_crossover', 'linear_ranking_selection')",
         "showlegend": true,
         "type": "box",
         "x": [
          "BCL",
          "BCL",
          "BCL",
          "BCL",
          "BCL",
          "BCL",
          "BCL",
          "BCL",
          "BCL",
          "BCL",
          "BCL",
          "BCL",
          "BCL",
          "BCL",
          "BCL",
          "BCL",
          "BCL",
          "BCL",
          "BCL",
          "BCL",
          "BCL",
          "BCL",
          "BCL",
          "BCL",
          "BCL",
          "BCL",
          "BCL",
          "BCL",
          "BCL",
          "BCL"
         ],
         "y": [
          1.25671,
          1.21081,
          1.29462,
          1.3102399999999998,
          1.21504,
          1.268,
          1.2543799999999998,
          1.3052899999999998,
          1.2579600000000002,
          1.26581,
          1.2198099999999998,
          1.30114,
          1.29076,
          1.24153,
          1.34971,
          1.25924,
          1.34743,
          1.27214,
          1.24671,
          1.25919,
          1.2220000000000002,
          1.33362,
          1.22029,
          1.35433,
          1.33053,
          1.32747,
          1.27619,
          1.3030000000000002,
          1.27819,
          1.28262
         ]
        },
        {
         "hoverinfo": "y",
         "legendgroup": "group_BCT",
         "line": {
          "width": 1
         },
         "marker": {
          "size": 5
         },
         "name": "BCT: ('block_rotation_mutation', 'cyclic_crossover', 'tournament_selection')",
         "showlegend": true,
         "type": "box",
         "x": [
          "BCT",
          "BCT",
          "BCT",
          "BCT",
          "BCT",
          "BCT",
          "BCT",
          "BCT",
          "BCT",
          "BCT",
          "BCT",
          "BCT",
          "BCT",
          "BCT",
          "BCT",
          "BCT",
          "BCT",
          "BCT",
          "BCT",
          "BCT",
          "BCT",
          "BCT",
          "BCT",
          "BCT",
          "BCT",
          "BCT",
          "BCT",
          "BCT",
          "BCT",
          "BCT"
         ],
         "y": [
          1.47781,
          1.39562,
          1.42376,
          1.40314,
          1.41619,
          1.48062,
          1.3999,
          1.46976,
          1.47053,
          1.43443,
          1.44047,
          1.41919,
          1.38571,
          1.4511,
          1.40367,
          1.43662,
          1.41904,
          1.45162,
          1.44096,
          1.4211,
          1.50976,
          1.4266200000000002,
          1.39271,
          1.45762,
          1.44038,
          1.44124,
          1.42643,
          1.4259000000000002,
          1.4951,
          1.44181
         ]
        },
        {
         "hoverinfo": "y",
         "legendgroup": "group_BPL",
         "line": {
          "width": 1
         },
         "marker": {
          "size": 5
         },
         "name": "BPL: ('block_rotation_mutation', 'partially_mapped_crossover', 'linear_ranking_selection')",
         "showlegend": true,
         "type": "box",
         "x": [
          "BPL",
          "BPL",
          "BPL",
          "BPL",
          "BPL",
          "BPL",
          "BPL",
          "BPL",
          "BPL",
          "BPL",
          "BPL",
          "BPL",
          "BPL",
          "BPL",
          "BPL",
          "BPL",
          "BPL",
          "BPL",
          "BPL",
          "BPL",
          "BPL",
          "BPL",
          "BPL",
          "BPL",
          "BPL",
          "BPL",
          "BPL",
          "BPL",
          "BPL",
          "BPL"
         ],
         "y": [
          1.22824,
          1.1838099999999998,
          1.25704,
          1.25862,
          1.2287100000000002,
          1.18114,
          1.2789,
          1.3158599999999998,
          1.2247599999999998,
          1.2397600000000002,
          1.25476,
          1.27376,
          1.287,
          1.30081,
          1.31838,
          1.21671,
          1.38496,
          1.2197600000000002,
          1.25562,
          1.21171,
          1.2280000000000002,
          1.2382399999999998,
          1.25429,
          1.26271,
          1.28857,
          1.344,
          1.2741400000000005,
          1.2583799999999998,
          1.2521,
          1.24724
         ]
        },
        {
         "hoverinfo": "y",
         "legendgroup": "group_BPT",
         "line": {
          "width": 1
         },
         "marker": {
          "size": 5
         },
         "name": "BPT: ('block_rotation_mutation', 'partially_mapped_crossover', 'tournament_selection')",
         "showlegend": true,
         "type": "box",
         "x": [
          "BPT",
          "BPT",
          "BPT",
          "BPT",
          "BPT",
          "BPT",
          "BPT",
          "BPT",
          "BPT",
          "BPT",
          "BPT",
          "BPT",
          "BPT",
          "BPT",
          "BPT",
          "BPT",
          "BPT",
          "BPT",
          "BPT",
          "BPT",
          "BPT",
          "BPT",
          "BPT",
          "BPT",
          "BPT",
          "BPT",
          "BPT",
          "BPT",
          "BPT",
          "BPT"
         ],
         "y": [
          1.5900999999999998,
          1.59881,
          1.62833,
          1.6039,
          1.68676,
          1.55471,
          1.58604,
          1.58767,
          1.56662,
          1.56986,
          1.61804,
          1.59862,
          1.5538599999999998,
          1.66604,
          1.58514,
          1.7174299999999998,
          1.71753,
          1.6189999999999998,
          1.59343,
          1.55753,
          1.617,
          1.6038100000000002,
          1.57,
          1.64862,
          1.57971,
          1.6109,
          1.6209,
          1.56347,
          1.61467,
          1.66781
         ]
        },
        {
         "hoverinfo": "y",
         "legendgroup": "group_SCL",
         "line": {
          "width": 1
         },
         "marker": {
          "size": 5
         },
         "name": "SCL: ('semi_shuffle', 'cyclic_crossover', 'linear_ranking_selection')",
         "showlegend": true,
         "type": "box",
         "x": [
          "SCL",
          "SCL",
          "SCL",
          "SCL",
          "SCL",
          "SCL",
          "SCL",
          "SCL",
          "SCL",
          "SCL",
          "SCL",
          "SCL",
          "SCL",
          "SCL",
          "SCL",
          "SCL",
          "SCL",
          "SCL",
          "SCL",
          "SCL",
          "SCL",
          "SCL",
          "SCL",
          "SCL",
          "SCL",
          "SCL",
          "SCL",
          "SCL",
          "SCL",
          "SCL"
         ],
         "y": [
          1.2291,
          1.25229,
          1.25467,
          1.18114,
          1.3384300000000002,
          1.1782899999999998,
          1.24429,
          1.17362,
          1.2240000000000002,
          1.27324,
          1.13919,
          1.24504,
          1.25162,
          1.2199,
          1.27347,
          1.259,
          1.18571,
          1.2494300000000005,
          1.20033,
          1.2406700000000002,
          1.2703799999999998,
          1.30147,
          1.27496,
          1.26343,
          1.24762,
          1.2935299999999998,
          1.30114,
          1.2765700000000002,
          1.2102399999999998,
          1.2328100000000002
         ]
        },
        {
         "hoverinfo": "y",
         "legendgroup": "group_SCT",
         "line": {
          "width": 1
         },
         "marker": {
          "size": 5
         },
         "name": "SCT: ('semi_shuffle', 'cyclic_crossover', 'tournament_selection')",
         "showlegend": true,
         "type": "box",
         "x": [
          "SCT",
          "SCT",
          "SCT",
          "SCT",
          "SCT",
          "SCT",
          "SCT",
          "SCT",
          "SCT",
          "SCT",
          "SCT",
          "SCT",
          "SCT",
          "SCT",
          "SCT",
          "SCT",
          "SCT",
          "SCT",
          "SCT",
          "SCT",
          "SCT",
          "SCT",
          "SCT",
          "SCT",
          "SCT",
          "SCT",
          "SCT",
          "SCT",
          "SCT",
          "SCT"
         ],
         "y": [
          1.4501,
          1.39047,
          1.43253,
          1.40624,
          1.4009600000000002,
          1.41919,
          1.44238,
          1.45224,
          1.43981,
          1.3901,
          1.45024,
          1.40633,
          1.44138,
          1.4211899999999995,
          1.42667,
          1.43481,
          1.45153,
          1.45976,
          1.4421,
          1.41496,
          1.4051900000000002,
          1.42653,
          1.43324,
          1.40567,
          1.49381,
          1.42653,
          1.37619,
          1.40319,
          1.44167,
          1.45147
         ]
        },
        {
         "hoverinfo": "y",
         "legendgroup": "group_SPL",
         "line": {
          "width": 1
         },
         "marker": {
          "size": 5
         },
         "name": "SPL: ('semi_shuffle', 'partially_mapped_crossover', 'linear_ranking_selection')",
         "showlegend": true,
         "type": "box",
         "x": [
          "SPL",
          "SPL",
          "SPL",
          "SPL",
          "SPL",
          "SPL",
          "SPL",
          "SPL",
          "SPL",
          "SPL",
          "SPL",
          "SPL",
          "SPL",
          "SPL",
          "SPL",
          "SPL",
          "SPL",
          "SPL",
          "SPL",
          "SPL",
          "SPL",
          "SPL",
          "SPL",
          "SPL",
          "SPL",
          "SPL",
          "SPL",
          "SPL",
          "SPL",
          "SPL"
         ],
         "y": [
          1.22724,
          1.27714,
          1.31847,
          1.30633,
          1.23714,
          1.28904,
          1.22643,
          1.23819,
          1.29329,
          1.18953,
          1.24614,
          1.2829,
          1.26081,
          1.22296,
          1.32676,
          1.26347,
          1.2761,
          1.2815700000000003,
          1.2667100000000002,
          1.18481,
          1.17029,
          1.4023800000000002,
          1.23004,
          1.16862,
          1.2355699999999998,
          1.22314,
          1.3018600000000002,
          1.28571,
          1.22947,
          1.2406700000000002
         ]
        },
        {
         "hoverinfo": "y",
         "legendgroup": "group_SPT",
         "line": {
          "width": 1
         },
         "marker": {
          "size": 5
         },
         "name": "SPT: ('semi_shuffle', 'partially_mapped_crossover', 'tournament_selection')",
         "showlegend": true,
         "type": "box",
         "x": [
          "SPT",
          "SPT",
          "SPT",
          "SPT",
          "SPT",
          "SPT",
          "SPT",
          "SPT",
          "SPT",
          "SPT",
          "SPT",
          "SPT",
          "SPT",
          "SPT",
          "SPT",
          "SPT",
          "SPT",
          "SPT",
          "SPT",
          "SPT",
          "SPT",
          "SPT",
          "SPT",
          "SPT",
          "SPT",
          "SPT",
          "SPT",
          "SPT",
          "SPT",
          "SPT"
         ],
         "y": [
          1.60962,
          1.58767,
          1.5169,
          1.63376,
          1.6012399999999998,
          1.53933,
          1.54357,
          1.55333,
          1.5717599999999998,
          1.5692400000000002,
          1.5204300000000002,
          1.65319,
          1.59638,
          1.59019,
          1.5709,
          1.4756200000000002,
          1.4894699999999998,
          1.50386,
          1.5339999999999998,
          1.54696,
          1.4855699999999998,
          1.62162,
          1.495,
          1.6076199999999998,
          1.53443,
          1.53196,
          1.59462,
          1.57629,
          1.66004,
          1.5779
         ]
        },
        {
         "hoverinfo": "y",
         "legendgroup": "group_TCL",
         "line": {
          "width": 1
         },
         "marker": {
          "size": 5
         },
         "name": "TCL: ('two_phase_shuffle_mutation', 'cyclic_crossover', 'linear_ranking_selection')",
         "showlegend": true,
         "type": "box",
         "x": [
          "TCL",
          "TCL",
          "TCL",
          "TCL",
          "TCL",
          "TCL",
          "TCL",
          "TCL",
          "TCL",
          "TCL",
          "TCL",
          "TCL",
          "TCL",
          "TCL",
          "TCL",
          "TCL",
          "TCL",
          "TCL",
          "TCL",
          "TCL",
          "TCL",
          "TCL",
          "TCL",
          "TCL",
          "TCL",
          "TCL",
          "TCL",
          "TCL",
          "TCL",
          "TCL"
         ],
         "y": [
          1.3339,
          1.28733,
          1.27629,
          1.2685700000000002,
          1.2534300000000005,
          1.283,
          1.28704,
          1.2651,
          1.295,
          1.2401,
          1.28076,
          1.30471,
          1.3031,
          1.28447,
          1.28529,
          1.25429,
          1.2868600000000003,
          1.30453,
          1.3519,
          1.3186700000000002,
          1.26938,
          1.26824,
          1.2674300000000005,
          1.3581,
          1.2720000000000002,
          1.24347,
          1.25096,
          1.24386,
          1.29167,
          1.2972900000000005
         ]
        },
        {
         "hoverinfo": "y",
         "legendgroup": "group_TCT",
         "line": {
          "width": 1
         },
         "marker": {
          "size": 5
         },
         "name": "TCT: ('two_phase_shuffle_mutation', 'cyclic_crossover', 'tournament_selection')",
         "showlegend": true,
         "type": "box",
         "x": [
          "TCT",
          "TCT",
          "TCT",
          "TCT",
          "TCT",
          "TCT",
          "TCT",
          "TCT",
          "TCT",
          "TCT",
          "TCT",
          "TCT",
          "TCT",
          "TCT",
          "TCT",
          "TCT",
          "TCT",
          "TCT",
          "TCT",
          "TCT",
          "TCT",
          "TCT",
          "TCT",
          "TCT",
          "TCT",
          "TCT",
          "TCT",
          "TCT",
          "TCT",
          "TCT"
         ],
         "y": [
          1.3946200000000002,
          1.4019,
          1.42033,
          1.38643,
          1.43386,
          1.41238,
          1.38314,
          1.41757,
          1.43614,
          1.40447,
          1.42047,
          1.4071900000000002,
          1.38019,
          1.38457,
          1.36729,
          1.43304,
          1.39233,
          1.42519,
          1.4207599999999998,
          1.43724,
          1.35419,
          1.44053,
          1.38233,
          1.4491,
          1.41447,
          1.40238,
          1.40467,
          1.4346199999999998,
          1.37814,
          1.40281
         ]
        },
        {
         "hoverinfo": "y",
         "legendgroup": "group_TPL",
         "line": {
          "width": 1
         },
         "marker": {
          "size": 5
         },
         "name": "TPL: ('two_phase_shuffle_mutation', 'partially_mapped_crossover', 'linear_ranking_selection')",
         "showlegend": true,
         "type": "box",
         "x": [
          "TPL",
          "TPL",
          "TPL",
          "TPL",
          "TPL",
          "TPL",
          "TPL",
          "TPL",
          "TPL",
          "TPL",
          "TPL",
          "TPL",
          "TPL",
          "TPL",
          "TPL",
          "TPL",
          "TPL",
          "TPL",
          "TPL",
          "TPL",
          "TPL",
          "TPL",
          "TPL",
          "TPL",
          "TPL",
          "TPL",
          "TPL",
          "TPL",
          "TPL",
          "TPL"
         ],
         "y": [
          1.26557,
          1.30633,
          1.2543300000000002,
          1.24124,
          1.2306199999999998,
          1.37014,
          1.23586,
          1.24319,
          1.3171400000000002,
          1.2275300000000002,
          1.28243,
          1.33467,
          1.2476699999999998,
          1.25667,
          1.37247,
          1.35886,
          1.2926700000000002,
          1.25038,
          1.25338,
          1.27733,
          1.25457,
          1.2622399999999998,
          1.26029,
          1.38738,
          1.3586200000000002,
          1.36186,
          1.3307600000000002,
          1.29038,
          1.24324,
          1.32362
         ]
        },
        {
         "hoverinfo": "y",
         "legendgroup": "group_TPT",
         "line": {
          "width": 1
         },
         "marker": {
          "size": 5
         },
         "name": "TPT: ('two_phase_shuffle_mutation', 'partially_mapped_crossover', 'tournament_selection')",
         "showlegend": true,
         "type": "box",
         "x": [
          "TPT",
          "TPT",
          "TPT",
          "TPT",
          "TPT",
          "TPT",
          "TPT",
          "TPT",
          "TPT",
          "TPT",
          "TPT",
          "TPT",
          "TPT",
          "TPT",
          "TPT",
          "TPT",
          "TPT",
          "TPT",
          "TPT",
          "TPT",
          "TPT",
          "TPT",
          "TPT",
          "TPT",
          "TPT",
          "TPT",
          "TPT",
          "TPT",
          "TPT",
          "TPT"
         ],
         "y": [
          1.5459999999999998,
          1.56929,
          1.57433,
          1.54086,
          1.50296,
          1.62638,
          1.56162,
          1.64262,
          1.4798999999999998,
          1.5277599999999998,
          1.61062,
          1.53124,
          1.60419,
          1.57138,
          1.51271,
          1.65076,
          1.62038,
          1.56143,
          1.6601,
          1.52676,
          1.51143,
          1.5211899999999998,
          1.52604,
          1.55353,
          1.50467,
          1.494,
          1.4627100000000002,
          1.54181,
          1.53581,
          1.55604
         ]
        }
       ],
       "layout": {
        "autosize": true,
        "height": 600,
        "legend": {
         "font": {
          "size": 11
         },
         "orientation": "h",
         "title": {
          "font": {
           "size": 12
          },
          "side": "top",
          "text": "Combinations"
         },
         "y": -0.3
        },
        "margin": {
         "b": 100,
         "l": 50,
         "pad": 10,
         "r": 50,
         "t": 80
        },
        "plot_bgcolor": "white",
        "template": {
         "data": {
          "bar": [
           {
            "error_x": {
             "color": "#2a3f5f"
            },
            "error_y": {
             "color": "#2a3f5f"
            },
            "marker": {
             "line": {
              "color": "#E5ECF6",
              "width": 0.5
             },
             "pattern": {
              "fillmode": "overlay",
              "size": 10,
              "solidity": 0.2
             }
            },
            "type": "bar"
           }
          ],
          "barpolar": [
           {
            "marker": {
             "line": {
              "color": "#E5ECF6",
              "width": 0.5
             },
             "pattern": {
              "fillmode": "overlay",
              "size": 10,
              "solidity": 0.2
             }
            },
            "type": "barpolar"
           }
          ],
          "carpet": [
           {
            "aaxis": {
             "endlinecolor": "#2a3f5f",
             "gridcolor": "white",
             "linecolor": "white",
             "minorgridcolor": "white",
             "startlinecolor": "#2a3f5f"
            },
            "baxis": {
             "endlinecolor": "#2a3f5f",
             "gridcolor": "white",
             "linecolor": "white",
             "minorgridcolor": "white",
             "startlinecolor": "#2a3f5f"
            },
            "type": "carpet"
           }
          ],
          "choropleth": [
           {
            "colorbar": {
             "outlinewidth": 0,
             "ticks": ""
            },
            "type": "choropleth"
           }
          ],
          "contour": [
           {
            "colorbar": {
             "outlinewidth": 0,
             "ticks": ""
            },
            "colorscale": [
             [
              0,
              "#0d0887"
             ],
             [
              0.1111111111111111,
              "#46039f"
             ],
             [
              0.2222222222222222,
              "#7201a8"
             ],
             [
              0.3333333333333333,
              "#9c179e"
             ],
             [
              0.4444444444444444,
              "#bd3786"
             ],
             [
              0.5555555555555556,
              "#d8576b"
             ],
             [
              0.6666666666666666,
              "#ed7953"
             ],
             [
              0.7777777777777778,
              "#fb9f3a"
             ],
             [
              0.8888888888888888,
              "#fdca26"
             ],
             [
              1,
              "#f0f921"
             ]
            ],
            "type": "contour"
           }
          ],
          "contourcarpet": [
           {
            "colorbar": {
             "outlinewidth": 0,
             "ticks": ""
            },
            "type": "contourcarpet"
           }
          ],
          "heatmap": [
           {
            "colorbar": {
             "outlinewidth": 0,
             "ticks": ""
            },
            "colorscale": [
             [
              0,
              "#0d0887"
             ],
             [
              0.1111111111111111,
              "#46039f"
             ],
             [
              0.2222222222222222,
              "#7201a8"
             ],
             [
              0.3333333333333333,
              "#9c179e"
             ],
             [
              0.4444444444444444,
              "#bd3786"
             ],
             [
              0.5555555555555556,
              "#d8576b"
             ],
             [
              0.6666666666666666,
              "#ed7953"
             ],
             [
              0.7777777777777778,
              "#fb9f3a"
             ],
             [
              0.8888888888888888,
              "#fdca26"
             ],
             [
              1,
              "#f0f921"
             ]
            ],
            "type": "heatmap"
           }
          ],
          "heatmapgl": [
           {
            "colorbar": {
             "outlinewidth": 0,
             "ticks": ""
            },
            "colorscale": [
             [
              0,
              "#0d0887"
             ],
             [
              0.1111111111111111,
              "#46039f"
             ],
             [
              0.2222222222222222,
              "#7201a8"
             ],
             [
              0.3333333333333333,
              "#9c179e"
             ],
             [
              0.4444444444444444,
              "#bd3786"
             ],
             [
              0.5555555555555556,
              "#d8576b"
             ],
             [
              0.6666666666666666,
              "#ed7953"
             ],
             [
              0.7777777777777778,
              "#fb9f3a"
             ],
             [
              0.8888888888888888,
              "#fdca26"
             ],
             [
              1,
              "#f0f921"
             ]
            ],
            "type": "heatmapgl"
           }
          ],
          "histogram": [
           {
            "marker": {
             "pattern": {
              "fillmode": "overlay",
              "size": 10,
              "solidity": 0.2
             }
            },
            "type": "histogram"
           }
          ],
          "histogram2d": [
           {
            "colorbar": {
             "outlinewidth": 0,
             "ticks": ""
            },
            "colorscale": [
             [
              0,
              "#0d0887"
             ],
             [
              0.1111111111111111,
              "#46039f"
             ],
             [
              0.2222222222222222,
              "#7201a8"
             ],
             [
              0.3333333333333333,
              "#9c179e"
             ],
             [
              0.4444444444444444,
              "#bd3786"
             ],
             [
              0.5555555555555556,
              "#d8576b"
             ],
             [
              0.6666666666666666,
              "#ed7953"
             ],
             [
              0.7777777777777778,
              "#fb9f3a"
             ],
             [
              0.8888888888888888,
              "#fdca26"
             ],
             [
              1,
              "#f0f921"
             ]
            ],
            "type": "histogram2d"
           }
          ],
          "histogram2dcontour": [
           {
            "colorbar": {
             "outlinewidth": 0,
             "ticks": ""
            },
            "colorscale": [
             [
              0,
              "#0d0887"
             ],
             [
              0.1111111111111111,
              "#46039f"
             ],
             [
              0.2222222222222222,
              "#7201a8"
             ],
             [
              0.3333333333333333,
              "#9c179e"
             ],
             [
              0.4444444444444444,
              "#bd3786"
             ],
             [
              0.5555555555555556,
              "#d8576b"
             ],
             [
              0.6666666666666666,
              "#ed7953"
             ],
             [
              0.7777777777777778,
              "#fb9f3a"
             ],
             [
              0.8888888888888888,
              "#fdca26"
             ],
             [
              1,
              "#f0f921"
             ]
            ],
            "type": "histogram2dcontour"
           }
          ],
          "mesh3d": [
           {
            "colorbar": {
             "outlinewidth": 0,
             "ticks": ""
            },
            "type": "mesh3d"
           }
          ],
          "parcoords": [
           {
            "line": {
             "colorbar": {
              "outlinewidth": 0,
              "ticks": ""
             }
            },
            "type": "parcoords"
           }
          ],
          "pie": [
           {
            "automargin": true,
            "type": "pie"
           }
          ],
          "scatter": [
           {
            "fillpattern": {
             "fillmode": "overlay",
             "size": 10,
             "solidity": 0.2
            },
            "type": "scatter"
           }
          ],
          "scatter3d": [
           {
            "line": {
             "colorbar": {
              "outlinewidth": 0,
              "ticks": ""
             }
            },
            "marker": {
             "colorbar": {
              "outlinewidth": 0,
              "ticks": ""
             }
            },
            "type": "scatter3d"
           }
          ],
          "scattercarpet": [
           {
            "marker": {
             "colorbar": {
              "outlinewidth": 0,
              "ticks": ""
             }
            },
            "type": "scattercarpet"
           }
          ],
          "scattergeo": [
           {
            "marker": {
             "colorbar": {
              "outlinewidth": 0,
              "ticks": ""
             }
            },
            "type": "scattergeo"
           }
          ],
          "scattergl": [
           {
            "marker": {
             "colorbar": {
              "outlinewidth": 0,
              "ticks": ""
             }
            },
            "type": "scattergl"
           }
          ],
          "scattermapbox": [
           {
            "marker": {
             "colorbar": {
              "outlinewidth": 0,
              "ticks": ""
             }
            },
            "type": "scattermapbox"
           }
          ],
          "scatterpolar": [
           {
            "marker": {
             "colorbar": {
              "outlinewidth": 0,
              "ticks": ""
             }
            },
            "type": "scatterpolar"
           }
          ],
          "scatterpolargl": [
           {
            "marker": {
             "colorbar": {
              "outlinewidth": 0,
              "ticks": ""
             }
            },
            "type": "scatterpolargl"
           }
          ],
          "scatterternary": [
           {
            "marker": {
             "colorbar": {
              "outlinewidth": 0,
              "ticks": ""
             }
            },
            "type": "scatterternary"
           }
          ],
          "surface": [
           {
            "colorbar": {
             "outlinewidth": 0,
             "ticks": ""
            },
            "colorscale": [
             [
              0,
              "#0d0887"
             ],
             [
              0.1111111111111111,
              "#46039f"
             ],
             [
              0.2222222222222222,
              "#7201a8"
             ],
             [
              0.3333333333333333,
              "#9c179e"
             ],
             [
              0.4444444444444444,
              "#bd3786"
             ],
             [
              0.5555555555555556,
              "#d8576b"
             ],
             [
              0.6666666666666666,
              "#ed7953"
             ],
             [
              0.7777777777777778,
              "#fb9f3a"
             ],
             [
              0.8888888888888888,
              "#fdca26"
             ],
             [
              1,
              "#f0f921"
             ]
            ],
            "type": "surface"
           }
          ],
          "table": [
           {
            "cells": {
             "fill": {
              "color": "#EBF0F8"
             },
             "line": {
              "color": "white"
             }
            },
            "header": {
             "fill": {
              "color": "#C8D4E3"
             },
             "line": {
              "color": "white"
             }
            },
            "type": "table"
           }
          ]
         },
         "layout": {
          "annotationdefaults": {
           "arrowcolor": "#2a3f5f",
           "arrowhead": 0,
           "arrowwidth": 1
          },
          "autotypenumbers": "strict",
          "coloraxis": {
           "colorbar": {
            "outlinewidth": 0,
            "ticks": ""
           }
          },
          "colorscale": {
           "diverging": [
            [
             0,
             "#8e0152"
            ],
            [
             0.1,
             "#c51b7d"
            ],
            [
             0.2,
             "#de77ae"
            ],
            [
             0.3,
             "#f1b6da"
            ],
            [
             0.4,
             "#fde0ef"
            ],
            [
             0.5,
             "#f7f7f7"
            ],
            [
             0.6,
             "#e6f5d0"
            ],
            [
             0.7,
             "#b8e186"
            ],
            [
             0.8,
             "#7fbc41"
            ],
            [
             0.9,
             "#4d9221"
            ],
            [
             1,
             "#276419"
            ]
           ],
           "sequential": [
            [
             0,
             "#0d0887"
            ],
            [
             0.1111111111111111,
             "#46039f"
            ],
            [
             0.2222222222222222,
             "#7201a8"
            ],
            [
             0.3333333333333333,
             "#9c179e"
            ],
            [
             0.4444444444444444,
             "#bd3786"
            ],
            [
             0.5555555555555556,
             "#d8576b"
            ],
            [
             0.6666666666666666,
             "#ed7953"
            ],
            [
             0.7777777777777778,
             "#fb9f3a"
            ],
            [
             0.8888888888888888,
             "#fdca26"
            ],
            [
             1,
             "#f0f921"
            ]
           ],
           "sequentialminus": [
            [
             0,
             "#0d0887"
            ],
            [
             0.1111111111111111,
             "#46039f"
            ],
            [
             0.2222222222222222,
             "#7201a8"
            ],
            [
             0.3333333333333333,
             "#9c179e"
            ],
            [
             0.4444444444444444,
             "#bd3786"
            ],
            [
             0.5555555555555556,
             "#d8576b"
            ],
            [
             0.6666666666666666,
             "#ed7953"
            ],
            [
             0.7777777777777778,
             "#fb9f3a"
            ],
            [
             0.8888888888888888,
             "#fdca26"
            ],
            [
             1,
             "#f0f921"
            ]
           ]
          },
          "colorway": [
           "#636efa",
           "#EF553B",
           "#00cc96",
           "#ab63fa",
           "#FFA15A",
           "#19d3f3",
           "#FF6692",
           "#B6E880",
           "#FF97FF",
           "#FECB52"
          ],
          "font": {
           "color": "#2a3f5f"
          },
          "geo": {
           "bgcolor": "white",
           "lakecolor": "white",
           "landcolor": "#E5ECF6",
           "showlakes": true,
           "showland": true,
           "subunitcolor": "white"
          },
          "hoverlabel": {
           "align": "left"
          },
          "hovermode": "closest",
          "mapbox": {
           "style": "light"
          },
          "paper_bgcolor": "white",
          "plot_bgcolor": "#E5ECF6",
          "polar": {
           "angularaxis": {
            "gridcolor": "white",
            "linecolor": "white",
            "ticks": ""
           },
           "bgcolor": "#E5ECF6",
           "radialaxis": {
            "gridcolor": "white",
            "linecolor": "white",
            "ticks": ""
           }
          },
          "scene": {
           "xaxis": {
            "backgroundcolor": "#E5ECF6",
            "gridcolor": "white",
            "gridwidth": 2,
            "linecolor": "white",
            "showbackground": true,
            "ticks": "",
            "zerolinecolor": "white"
           },
           "yaxis": {
            "backgroundcolor": "#E5ECF6",
            "gridcolor": "white",
            "gridwidth": 2,
            "linecolor": "white",
            "showbackground": true,
            "ticks": "",
            "zerolinecolor": "white"
           },
           "zaxis": {
            "backgroundcolor": "#E5ECF6",
            "gridcolor": "white",
            "gridwidth": 2,
            "linecolor": "white",
            "showbackground": true,
            "ticks": "",
            "zerolinecolor": "white"
           }
          },
          "shapedefaults": {
           "line": {
            "color": "#2a3f5f"
           }
          },
          "ternary": {
           "aaxis": {
            "gridcolor": "white",
            "linecolor": "white",
            "ticks": ""
           },
           "baxis": {
            "gridcolor": "white",
            "linecolor": "white",
            "ticks": ""
           },
           "bgcolor": "#E5ECF6",
           "caxis": {
            "gridcolor": "white",
            "linecolor": "white",
            "ticks": ""
           }
          },
          "title": {
           "x": 0.05
          },
          "xaxis": {
           "automargin": true,
           "gridcolor": "white",
           "linecolor": "white",
           "ticks": "",
           "title": {
            "standoff": 15
           },
           "zerolinecolor": "white",
           "zerolinewidth": 2
          },
          "yaxis": {
           "automargin": true,
           "gridcolor": "white",
           "linecolor": "white",
           "ticks": "",
           "title": {
            "standoff": 15
           },
           "zerolinecolor": "white",
           "zerolinewidth": 2
          }
         }
        },
        "title": {
         "text": "<b>Best Fitness Distribution per Run</b><br>Experience:1",
         "x": 0.5,
         "xanchor": "center"
        },
        "width": 850,
        "xaxis": {
         "gridcolor": "lightgray",
         "tickvals": [
          "BCL",
          "BCT",
          "BPL",
          "BPT",
          "SCL",
          "SCT",
          "SPL",
          "SPT",
          "TCL",
          "TCT",
          "TPL",
          "TPT"
         ],
         "title": {
          "text": "Combination ID"
         },
         "type": "category"
        },
        "yaxis": {
         "gridcolor": "lightgray",
         "title": {
          "text": "Best Fitness"
         }
        }
       }
      }
     },
     "metadata": {},
     "output_type": "display_data"
    },
    {
     "data": {
      "application/vnd.plotly.v1+json": {
       "config": {
        "plotlyServerURL": "https://plot.ly"
       },
       "data": [
        {
         "hoverinfo": "y",
         "legendgroup": "group_BCL",
         "line": {
          "width": 1
         },
         "marker": {
          "size": 5
         },
         "name": "BCL: ('block_rotation_mutation', 'cyclic_crossover', 'linear_ranking_selection')",
         "showlegend": true,
         "type": "box",
         "x": [
          "BCL",
          "BCL",
          "BCL",
          "BCL",
          "BCL",
          "BCL",
          "BCL",
          "BCL",
          "BCL",
          "BCL",
          "BCL",
          "BCL",
          "BCL",
          "BCL",
          "BCL",
          "BCL",
          "BCL",
          "BCL",
          "BCL",
          "BCL",
          "BCL",
          "BCL",
          "BCL",
          "BCL",
          "BCL",
          "BCL",
          "BCL",
          "BCL",
          "BCL",
          "BCL"
         ],
         "y": [
          1.27757,
          1.30186,
          1.28314,
          1.2576699999999998,
          1.30124,
          1.2594700000000003,
          1.25147,
          1.27529,
          1.2904300000000002,
          1.27696,
          1.26462,
          1.24043,
          1.2311,
          1.26553,
          1.29147,
          1.264,
          1.30419,
          1.267,
          1.29704,
          1.2585700000000002,
          1.332,
          1.257,
          1.27653,
          1.27176,
          1.2523799999999998,
          1.27943,
          1.25096,
          1.2641,
          1.28057,
          1.25971
         ]
        },
        {
         "hoverinfo": "y",
         "legendgroup": "group_BCT",
         "line": {
          "width": 1
         },
         "marker": {
          "size": 5
         },
         "name": "BCT: ('block_rotation_mutation', 'cyclic_crossover', 'tournament_selection')",
         "showlegend": true,
         "type": "box",
         "x": [
          "BCT",
          "BCT",
          "BCT",
          "BCT",
          "BCT",
          "BCT",
          "BCT",
          "BCT",
          "BCT",
          "BCT",
          "BCT",
          "BCT",
          "BCT",
          "BCT",
          "BCT",
          "BCT",
          "BCT",
          "BCT",
          "BCT",
          "BCT",
          "BCT",
          "BCT",
          "BCT",
          "BCT",
          "BCT",
          "BCT",
          "BCT",
          "BCT",
          "BCT",
          "BCT"
         ],
         "y": [
          1.46496,
          1.41576,
          1.36671,
          1.36504,
          1.37276,
          1.4160399999999995,
          1.38214,
          1.3911000000000002,
          1.44596,
          1.38747,
          1.38757,
          1.3587599999999995,
          1.3734699999999995,
          1.41,
          1.38647,
          1.4039,
          1.41081,
          1.4,
          1.34547,
          1.34647,
          1.39938,
          1.43186,
          1.40496,
          1.3661,
          1.36253,
          1.41229,
          1.37676,
          1.41933,
          1.42047,
          1.40333
         ]
        },
        {
         "hoverinfo": "y",
         "legendgroup": "group_BPL",
         "line": {
          "width": 1
         },
         "marker": {
          "size": 5
         },
         "name": "BPL: ('block_rotation_mutation', 'partially_mapped_crossover', 'linear_ranking_selection')",
         "showlegend": true,
         "type": "box",
         "x": [
          "BPL",
          "BPL",
          "BPL",
          "BPL",
          "BPL",
          "BPL",
          "BPL",
          "BPL",
          "BPL",
          "BPL",
          "BPL",
          "BPL",
          "BPL",
          "BPL",
          "BPL",
          "BPL",
          "BPL",
          "BPL",
          "BPL",
          "BPL",
          "BPL",
          "BPL",
          "BPL",
          "BPL",
          "BPL",
          "BPL",
          "BPL",
          "BPL",
          "BPL",
          "BPL"
         ],
         "y": [
          1.32976,
          1.21467,
          1.29833,
          1.25096,
          1.27043,
          1.21804,
          1.23414,
          1.245,
          1.3006700000000002,
          1.244,
          1.28938,
          1.3294700000000002,
          1.26153,
          1.2815299999999998,
          1.2694299999999998,
          1.26347,
          1.27833,
          1.31433,
          1.2603799999999998,
          1.34419,
          1.25514,
          1.304,
          1.2639,
          1.2789,
          1.23514,
          1.22829,
          1.27167,
          1.3051,
          1.25114,
          1.27229
         ]
        },
        {
         "hoverinfo": "y",
         "legendgroup": "group_BPT",
         "line": {
          "width": 1
         },
         "marker": {
          "size": 5
         },
         "name": "BPT: ('block_rotation_mutation', 'partially_mapped_crossover', 'tournament_selection')",
         "showlegend": true,
         "type": "box",
         "x": [
          "BPT",
          "BPT",
          "BPT",
          "BPT",
          "BPT",
          "BPT",
          "BPT",
          "BPT",
          "BPT",
          "BPT",
          "BPT",
          "BPT",
          "BPT",
          "BPT",
          "BPT",
          "BPT",
          "BPT",
          "BPT",
          "BPT",
          "BPT",
          "BPT",
          "BPT",
          "BPT",
          "BPT",
          "BPT",
          "BPT",
          "BPT",
          "BPT",
          "BPT",
          "BPT"
         ],
         "y": [
          1.5259999999999998,
          1.60004,
          1.5149,
          1.5481900000000002,
          1.56547,
          1.56086,
          1.51476,
          1.5143300000000002,
          1.54024,
          1.5298600000000002,
          1.5438999999999998,
          1.5372400000000002,
          1.55996,
          1.5493799999999998,
          1.5902900000000002,
          1.53257,
          1.5144700000000002,
          1.56567,
          1.47424,
          1.51304,
          1.5621,
          1.49929,
          1.55571,
          1.61933,
          1.49924,
          1.51076,
          1.54504,
          1.4760399999999998,
          1.50653,
          1.55404
         ]
        },
        {
         "hoverinfo": "y",
         "legendgroup": "group_SCL",
         "line": {
          "width": 1
         },
         "marker": {
          "size": 5
         },
         "name": "SCL: ('semi_shuffle', 'cyclic_crossover', 'linear_ranking_selection')",
         "showlegend": true,
         "type": "box",
         "x": [
          "SCL",
          "SCL",
          "SCL",
          "SCL",
          "SCL",
          "SCL",
          "SCL",
          "SCL",
          "SCL",
          "SCL",
          "SCL",
          "SCL",
          "SCL",
          "SCL",
          "SCL",
          "SCL",
          "SCL",
          "SCL",
          "SCL",
          "SCL",
          "SCL",
          "SCL",
          "SCL",
          "SCL",
          "SCL",
          "SCL",
          "SCL",
          "SCL",
          "SCL",
          "SCL"
         ],
         "y": [
          1.25896,
          1.2951400000000002,
          1.2319600000000002,
          1.2824300000000002,
          1.3459,
          1.1709,
          1.28771,
          1.2419600000000002,
          1.2931400000000002,
          1.2999999999999998,
          1.2389,
          1.2061000000000002,
          1.3160000000000005,
          1.23267,
          1.3028099999999998,
          1.2071,
          1.29329,
          1.2021000000000002,
          1.25162,
          1.31929,
          1.16553,
          1.33529,
          1.23467,
          1.3109000000000002,
          1.26233,
          1.2047600000000005,
          1.2875299999999998,
          1.22029,
          1.28786,
          1.32662
         ]
        },
        {
         "hoverinfo": "y",
         "legendgroup": "group_SCT",
         "line": {
          "width": 1
         },
         "marker": {
          "size": 5
         },
         "name": "SCT: ('semi_shuffle', 'cyclic_crossover', 'tournament_selection')",
         "showlegend": true,
         "type": "box",
         "x": [
          "SCT",
          "SCT",
          "SCT",
          "SCT",
          "SCT",
          "SCT",
          "SCT",
          "SCT",
          "SCT",
          "SCT",
          "SCT",
          "SCT",
          "SCT",
          "SCT",
          "SCT",
          "SCT",
          "SCT",
          "SCT",
          "SCT",
          "SCT",
          "SCT",
          "SCT",
          "SCT",
          "SCT",
          "SCT",
          "SCT",
          "SCT",
          "SCT",
          "SCT",
          "SCT"
         ],
         "y": [
          1.45724,
          1.5203800000000005,
          1.4278999999999995,
          1.4721,
          1.43953,
          1.48467,
          1.4288999999999998,
          1.46396,
          1.48524,
          1.4604700000000002,
          1.4501,
          1.4411,
          1.4566199999999998,
          1.50653,
          1.45638,
          1.42696,
          1.44019,
          1.46253,
          1.46267,
          1.46076,
          1.50053,
          1.40924,
          1.5431,
          1.47338,
          1.49024,
          1.45167,
          1.46438,
          1.49996,
          1.47567,
          1.50067
         ]
        },
        {
         "hoverinfo": "y",
         "legendgroup": "group_SPL",
         "line": {
          "width": 1
         },
         "marker": {
          "size": 5
         },
         "name": "SPL: ('semi_shuffle', 'partially_mapped_crossover', 'linear_ranking_selection')",
         "showlegend": true,
         "type": "box",
         "x": [
          "SPL",
          "SPL",
          "SPL",
          "SPL",
          "SPL",
          "SPL",
          "SPL",
          "SPL",
          "SPL",
          "SPL",
          "SPL",
          "SPL",
          "SPL",
          "SPL",
          "SPL",
          "SPL",
          "SPL",
          "SPL",
          "SPL",
          "SPL",
          "SPL",
          "SPL",
          "SPL",
          "SPL",
          "SPL",
          "SPL",
          "SPL",
          "SPL",
          "SPL",
          "SPL"
         ],
         "y": [
          1.26029,
          1.251,
          1.3169,
          1.25124,
          1.2299600000000002,
          1.26753,
          1.30133,
          1.2028599999999998,
          1.19324,
          1.1776699999999998,
          1.23067,
          1.21524,
          1.24147,
          1.2354699999999998,
          1.20304,
          1.19462,
          1.25404,
          1.20571,
          1.25176,
          1.30457,
          1.18257,
          1.30004,
          1.28929,
          1.3020000000000005,
          1.2094299999999998,
          1.2765700000000002,
          1.23381,
          1.20457,
          1.26967,
          1.24496
         ]
        },
        {
         "hoverinfo": "y",
         "legendgroup": "group_SPT",
         "line": {
          "width": 1
         },
         "marker": {
          "size": 5
         },
         "name": "SPT: ('semi_shuffle', 'partially_mapped_crossover', 'tournament_selection')",
         "showlegend": true,
         "type": "box",
         "x": [
          "SPT",
          "SPT",
          "SPT",
          "SPT",
          "SPT",
          "SPT",
          "SPT",
          "SPT",
          "SPT",
          "SPT",
          "SPT",
          "SPT",
          "SPT",
          "SPT",
          "SPT",
          "SPT",
          "SPT",
          "SPT",
          "SPT",
          "SPT",
          "SPT",
          "SPT",
          "SPT",
          "SPT",
          "SPT",
          "SPT",
          "SPT",
          "SPT",
          "SPT",
          "SPT"
         ],
         "y": [
          1.63938,
          1.60153,
          1.57919,
          1.6039,
          1.63671,
          1.56476,
          1.59004,
          1.68843,
          1.60053,
          1.6273799999999998,
          1.57081,
          1.55176,
          1.59367,
          1.5758100000000002,
          1.66971,
          1.64738,
          1.6141,
          1.61886,
          1.643,
          1.58724,
          1.66962,
          1.66038,
          1.67857,
          1.61219,
          1.64229,
          1.7082400000000002,
          1.61862,
          1.72371,
          1.53138,
          1.57771
         ]
        },
        {
         "hoverinfo": "y",
         "legendgroup": "group_TCL",
         "line": {
          "width": 1
         },
         "marker": {
          "size": 5
         },
         "name": "TCL: ('two_phase_shuffle_mutation', 'cyclic_crossover', 'linear_ranking_selection')",
         "showlegend": true,
         "type": "box",
         "x": [
          "TCL",
          "TCL",
          "TCL",
          "TCL",
          "TCL",
          "TCL",
          "TCL",
          "TCL",
          "TCL",
          "TCL",
          "TCL",
          "TCL",
          "TCL",
          "TCL",
          "TCL",
          "TCL",
          "TCL",
          "TCL",
          "TCL",
          "TCL",
          "TCL",
          "TCL",
          "TCL",
          "TCL",
          "TCL",
          "TCL",
          "TCL",
          "TCL",
          "TCL",
          "TCL"
         ],
         "y": [
          1.32571,
          1.28986,
          1.2821900000000002,
          1.3339,
          1.27886,
          1.29557,
          1.31457,
          1.2777600000000002,
          1.30729,
          1.3019599999999998,
          1.31643,
          1.29162,
          1.2936200000000002,
          1.28047,
          1.32143,
          1.31843,
          1.27914,
          1.2576200000000002,
          1.33629,
          1.25896,
          1.28333,
          1.3052900000000005,
          1.31062,
          1.33076,
          1.30733,
          1.3381,
          1.3088099999999998,
          1.36971,
          1.30504,
          1.28747
         ]
        },
        {
         "hoverinfo": "y",
         "legendgroup": "group_TCT",
         "line": {
          "width": 1
         },
         "marker": {
          "size": 5
         },
         "name": "TCT: ('two_phase_shuffle_mutation', 'cyclic_crossover', 'tournament_selection')",
         "showlegend": true,
         "type": "box",
         "x": [
          "TCT",
          "TCT",
          "TCT",
          "TCT",
          "TCT",
          "TCT",
          "TCT",
          "TCT",
          "TCT",
          "TCT",
          "TCT",
          "TCT",
          "TCT",
          "TCT",
          "TCT",
          "TCT",
          "TCT",
          "TCT",
          "TCT",
          "TCT",
          "TCT",
          "TCT",
          "TCT",
          "TCT",
          "TCT",
          "TCT",
          "TCT",
          "TCT",
          "TCT",
          "TCT"
         ],
         "y": [
          1.40143,
          1.3633799999999998,
          1.34276,
          1.3229,
          1.34304,
          1.39962,
          1.34443,
          1.34271,
          1.3559,
          1.34186,
          1.39604,
          1.33833,
          1.33324,
          1.4228999999999998,
          1.35386,
          1.34181,
          1.35947,
          1.39262,
          1.3673300000000002,
          1.37757,
          1.34157,
          1.36938,
          1.3247600000000002,
          1.3414700000000002,
          1.35033,
          1.40667,
          1.34429,
          1.38443,
          1.4218100000000002,
          1.34353
         ]
        },
        {
         "hoverinfo": "y",
         "legendgroup": "group_TPL",
         "line": {
          "width": 1
         },
         "marker": {
          "size": 5
         },
         "name": "TPL: ('two_phase_shuffle_mutation', 'partially_mapped_crossover', 'linear_ranking_selection')",
         "showlegend": true,
         "type": "box",
         "x": [
          "TPL",
          "TPL",
          "TPL",
          "TPL",
          "TPL",
          "TPL",
          "TPL",
          "TPL",
          "TPL",
          "TPL",
          "TPL",
          "TPL",
          "TPL",
          "TPL",
          "TPL",
          "TPL",
          "TPL",
          "TPL",
          "TPL",
          "TPL",
          "TPL",
          "TPL",
          "TPL",
          "TPL",
          "TPL",
          "TPL",
          "TPL",
          "TPL",
          "TPL",
          "TPL"
         ],
         "y": [
          1.273,
          1.3638600000000003,
          1.28776,
          1.25424,
          1.24696,
          1.22738,
          1.26519,
          1.23486,
          1.2780000000000002,
          1.23781,
          1.34924,
          1.2900999999999998,
          1.30829,
          1.27619,
          1.24729,
          1.279,
          1.28557,
          1.2572900000000002,
          1.2307100000000002,
          1.26062,
          1.3649600000000002,
          1.27947,
          1.25853,
          1.2299000000000002,
          1.32738,
          1.28462,
          1.28681,
          1.22738,
          1.36943,
          1.30533
         ]
        },
        {
         "hoverinfo": "y",
         "legendgroup": "group_TPT",
         "line": {
          "width": 1
         },
         "marker": {
          "size": 5
         },
         "name": "TPT: ('two_phase_shuffle_mutation', 'partially_mapped_crossover', 'tournament_selection')",
         "showlegend": true,
         "type": "box",
         "x": [
          "TPT",
          "TPT",
          "TPT",
          "TPT",
          "TPT",
          "TPT",
          "TPT",
          "TPT",
          "TPT",
          "TPT",
          "TPT",
          "TPT",
          "TPT",
          "TPT",
          "TPT",
          "TPT",
          "TPT",
          "TPT",
          "TPT",
          "TPT",
          "TPT",
          "TPT",
          "TPT",
          "TPT",
          "TPT",
          "TPT",
          "TPT",
          "TPT",
          "TPT",
          "TPT"
         ],
         "y": [
          1.52153,
          1.45053,
          1.454,
          1.5957600000000003,
          1.49167,
          1.56033,
          1.57214,
          1.49904,
          1.5211899999999998,
          1.5009,
          1.55896,
          1.5341,
          1.50243,
          1.4685700000000002,
          1.48681,
          1.47257,
          1.5398999999999998,
          1.4709600000000005,
          1.5341,
          1.48776,
          1.52847,
          1.49104,
          1.576,
          1.5650400000000002,
          1.43538,
          1.4701,
          1.58819,
          1.48596,
          1.54824,
          1.55957
         ]
        }
       ],
       "layout": {
        "autosize": true,
        "height": 600,
        "legend": {
         "font": {
          "size": 11
         },
         "orientation": "h",
         "title": {
          "font": {
           "size": 12
          },
          "side": "top",
          "text": "Combinations"
         },
         "y": -0.3
        },
        "margin": {
         "b": 100,
         "l": 50,
         "pad": 10,
         "r": 50,
         "t": 80
        },
        "plot_bgcolor": "white",
        "template": {
         "data": {
          "bar": [
           {
            "error_x": {
             "color": "#2a3f5f"
            },
            "error_y": {
             "color": "#2a3f5f"
            },
            "marker": {
             "line": {
              "color": "#E5ECF6",
              "width": 0.5
             },
             "pattern": {
              "fillmode": "overlay",
              "size": 10,
              "solidity": 0.2
             }
            },
            "type": "bar"
           }
          ],
          "barpolar": [
           {
            "marker": {
             "line": {
              "color": "#E5ECF6",
              "width": 0.5
             },
             "pattern": {
              "fillmode": "overlay",
              "size": 10,
              "solidity": 0.2
             }
            },
            "type": "barpolar"
           }
          ],
          "carpet": [
           {
            "aaxis": {
             "endlinecolor": "#2a3f5f",
             "gridcolor": "white",
             "linecolor": "white",
             "minorgridcolor": "white",
             "startlinecolor": "#2a3f5f"
            },
            "baxis": {
             "endlinecolor": "#2a3f5f",
             "gridcolor": "white",
             "linecolor": "white",
             "minorgridcolor": "white",
             "startlinecolor": "#2a3f5f"
            },
            "type": "carpet"
           }
          ],
          "choropleth": [
           {
            "colorbar": {
             "outlinewidth": 0,
             "ticks": ""
            },
            "type": "choropleth"
           }
          ],
          "contour": [
           {
            "colorbar": {
             "outlinewidth": 0,
             "ticks": ""
            },
            "colorscale": [
             [
              0,
              "#0d0887"
             ],
             [
              0.1111111111111111,
              "#46039f"
             ],
             [
              0.2222222222222222,
              "#7201a8"
             ],
             [
              0.3333333333333333,
              "#9c179e"
             ],
             [
              0.4444444444444444,
              "#bd3786"
             ],
             [
              0.5555555555555556,
              "#d8576b"
             ],
             [
              0.6666666666666666,
              "#ed7953"
             ],
             [
              0.7777777777777778,
              "#fb9f3a"
             ],
             [
              0.8888888888888888,
              "#fdca26"
             ],
             [
              1,
              "#f0f921"
             ]
            ],
            "type": "contour"
           }
          ],
          "contourcarpet": [
           {
            "colorbar": {
             "outlinewidth": 0,
             "ticks": ""
            },
            "type": "contourcarpet"
           }
          ],
          "heatmap": [
           {
            "colorbar": {
             "outlinewidth": 0,
             "ticks": ""
            },
            "colorscale": [
             [
              0,
              "#0d0887"
             ],
             [
              0.1111111111111111,
              "#46039f"
             ],
             [
              0.2222222222222222,
              "#7201a8"
             ],
             [
              0.3333333333333333,
              "#9c179e"
             ],
             [
              0.4444444444444444,
              "#bd3786"
             ],
             [
              0.5555555555555556,
              "#d8576b"
             ],
             [
              0.6666666666666666,
              "#ed7953"
             ],
             [
              0.7777777777777778,
              "#fb9f3a"
             ],
             [
              0.8888888888888888,
              "#fdca26"
             ],
             [
              1,
              "#f0f921"
             ]
            ],
            "type": "heatmap"
           }
          ],
          "heatmapgl": [
           {
            "colorbar": {
             "outlinewidth": 0,
             "ticks": ""
            },
            "colorscale": [
             [
              0,
              "#0d0887"
             ],
             [
              0.1111111111111111,
              "#46039f"
             ],
             [
              0.2222222222222222,
              "#7201a8"
             ],
             [
              0.3333333333333333,
              "#9c179e"
             ],
             [
              0.4444444444444444,
              "#bd3786"
             ],
             [
              0.5555555555555556,
              "#d8576b"
             ],
             [
              0.6666666666666666,
              "#ed7953"
             ],
             [
              0.7777777777777778,
              "#fb9f3a"
             ],
             [
              0.8888888888888888,
              "#fdca26"
             ],
             [
              1,
              "#f0f921"
             ]
            ],
            "type": "heatmapgl"
           }
          ],
          "histogram": [
           {
            "marker": {
             "pattern": {
              "fillmode": "overlay",
              "size": 10,
              "solidity": 0.2
             }
            },
            "type": "histogram"
           }
          ],
          "histogram2d": [
           {
            "colorbar": {
             "outlinewidth": 0,
             "ticks": ""
            },
            "colorscale": [
             [
              0,
              "#0d0887"
             ],
             [
              0.1111111111111111,
              "#46039f"
             ],
             [
              0.2222222222222222,
              "#7201a8"
             ],
             [
              0.3333333333333333,
              "#9c179e"
             ],
             [
              0.4444444444444444,
              "#bd3786"
             ],
             [
              0.5555555555555556,
              "#d8576b"
             ],
             [
              0.6666666666666666,
              "#ed7953"
             ],
             [
              0.7777777777777778,
              "#fb9f3a"
             ],
             [
              0.8888888888888888,
              "#fdca26"
             ],
             [
              1,
              "#f0f921"
             ]
            ],
            "type": "histogram2d"
           }
          ],
          "histogram2dcontour": [
           {
            "colorbar": {
             "outlinewidth": 0,
             "ticks": ""
            },
            "colorscale": [
             [
              0,
              "#0d0887"
             ],
             [
              0.1111111111111111,
              "#46039f"
             ],
             [
              0.2222222222222222,
              "#7201a8"
             ],
             [
              0.3333333333333333,
              "#9c179e"
             ],
             [
              0.4444444444444444,
              "#bd3786"
             ],
             [
              0.5555555555555556,
              "#d8576b"
             ],
             [
              0.6666666666666666,
              "#ed7953"
             ],
             [
              0.7777777777777778,
              "#fb9f3a"
             ],
             [
              0.8888888888888888,
              "#fdca26"
             ],
             [
              1,
              "#f0f921"
             ]
            ],
            "type": "histogram2dcontour"
           }
          ],
          "mesh3d": [
           {
            "colorbar": {
             "outlinewidth": 0,
             "ticks": ""
            },
            "type": "mesh3d"
           }
          ],
          "parcoords": [
           {
            "line": {
             "colorbar": {
              "outlinewidth": 0,
              "ticks": ""
             }
            },
            "type": "parcoords"
           }
          ],
          "pie": [
           {
            "automargin": true,
            "type": "pie"
           }
          ],
          "scatter": [
           {
            "fillpattern": {
             "fillmode": "overlay",
             "size": 10,
             "solidity": 0.2
            },
            "type": "scatter"
           }
          ],
          "scatter3d": [
           {
            "line": {
             "colorbar": {
              "outlinewidth": 0,
              "ticks": ""
             }
            },
            "marker": {
             "colorbar": {
              "outlinewidth": 0,
              "ticks": ""
             }
            },
            "type": "scatter3d"
           }
          ],
          "scattercarpet": [
           {
            "marker": {
             "colorbar": {
              "outlinewidth": 0,
              "ticks": ""
             }
            },
            "type": "scattercarpet"
           }
          ],
          "scattergeo": [
           {
            "marker": {
             "colorbar": {
              "outlinewidth": 0,
              "ticks": ""
             }
            },
            "type": "scattergeo"
           }
          ],
          "scattergl": [
           {
            "marker": {
             "colorbar": {
              "outlinewidth": 0,
              "ticks": ""
             }
            },
            "type": "scattergl"
           }
          ],
          "scattermapbox": [
           {
            "marker": {
             "colorbar": {
              "outlinewidth": 0,
              "ticks": ""
             }
            },
            "type": "scattermapbox"
           }
          ],
          "scatterpolar": [
           {
            "marker": {
             "colorbar": {
              "outlinewidth": 0,
              "ticks": ""
             }
            },
            "type": "scatterpolar"
           }
          ],
          "scatterpolargl": [
           {
            "marker": {
             "colorbar": {
              "outlinewidth": 0,
              "ticks": ""
             }
            },
            "type": "scatterpolargl"
           }
          ],
          "scatterternary": [
           {
            "marker": {
             "colorbar": {
              "outlinewidth": 0,
              "ticks": ""
             }
            },
            "type": "scatterternary"
           }
          ],
          "surface": [
           {
            "colorbar": {
             "outlinewidth": 0,
             "ticks": ""
            },
            "colorscale": [
             [
              0,
              "#0d0887"
             ],
             [
              0.1111111111111111,
              "#46039f"
             ],
             [
              0.2222222222222222,
              "#7201a8"
             ],
             [
              0.3333333333333333,
              "#9c179e"
             ],
             [
              0.4444444444444444,
              "#bd3786"
             ],
             [
              0.5555555555555556,
              "#d8576b"
             ],
             [
              0.6666666666666666,
              "#ed7953"
             ],
             [
              0.7777777777777778,
              "#fb9f3a"
             ],
             [
              0.8888888888888888,
              "#fdca26"
             ],
             [
              1,
              "#f0f921"
             ]
            ],
            "type": "surface"
           }
          ],
          "table": [
           {
            "cells": {
             "fill": {
              "color": "#EBF0F8"
             },
             "line": {
              "color": "white"
             }
            },
            "header": {
             "fill": {
              "color": "#C8D4E3"
             },
             "line": {
              "color": "white"
             }
            },
            "type": "table"
           }
          ]
         },
         "layout": {
          "annotationdefaults": {
           "arrowcolor": "#2a3f5f",
           "arrowhead": 0,
           "arrowwidth": 1
          },
          "autotypenumbers": "strict",
          "coloraxis": {
           "colorbar": {
            "outlinewidth": 0,
            "ticks": ""
           }
          },
          "colorscale": {
           "diverging": [
            [
             0,
             "#8e0152"
            ],
            [
             0.1,
             "#c51b7d"
            ],
            [
             0.2,
             "#de77ae"
            ],
            [
             0.3,
             "#f1b6da"
            ],
            [
             0.4,
             "#fde0ef"
            ],
            [
             0.5,
             "#f7f7f7"
            ],
            [
             0.6,
             "#e6f5d0"
            ],
            [
             0.7,
             "#b8e186"
            ],
            [
             0.8,
             "#7fbc41"
            ],
            [
             0.9,
             "#4d9221"
            ],
            [
             1,
             "#276419"
            ]
           ],
           "sequential": [
            [
             0,
             "#0d0887"
            ],
            [
             0.1111111111111111,
             "#46039f"
            ],
            [
             0.2222222222222222,
             "#7201a8"
            ],
            [
             0.3333333333333333,
             "#9c179e"
            ],
            [
             0.4444444444444444,
             "#bd3786"
            ],
            [
             0.5555555555555556,
             "#d8576b"
            ],
            [
             0.6666666666666666,
             "#ed7953"
            ],
            [
             0.7777777777777778,
             "#fb9f3a"
            ],
            [
             0.8888888888888888,
             "#fdca26"
            ],
            [
             1,
             "#f0f921"
            ]
           ],
           "sequentialminus": [
            [
             0,
             "#0d0887"
            ],
            [
             0.1111111111111111,
             "#46039f"
            ],
            [
             0.2222222222222222,
             "#7201a8"
            ],
            [
             0.3333333333333333,
             "#9c179e"
            ],
            [
             0.4444444444444444,
             "#bd3786"
            ],
            [
             0.5555555555555556,
             "#d8576b"
            ],
            [
             0.6666666666666666,
             "#ed7953"
            ],
            [
             0.7777777777777778,
             "#fb9f3a"
            ],
            [
             0.8888888888888888,
             "#fdca26"
            ],
            [
             1,
             "#f0f921"
            ]
           ]
          },
          "colorway": [
           "#636efa",
           "#EF553B",
           "#00cc96",
           "#ab63fa",
           "#FFA15A",
           "#19d3f3",
           "#FF6692",
           "#B6E880",
           "#FF97FF",
           "#FECB52"
          ],
          "font": {
           "color": "#2a3f5f"
          },
          "geo": {
           "bgcolor": "white",
           "lakecolor": "white",
           "landcolor": "#E5ECF6",
           "showlakes": true,
           "showland": true,
           "subunitcolor": "white"
          },
          "hoverlabel": {
           "align": "left"
          },
          "hovermode": "closest",
          "mapbox": {
           "style": "light"
          },
          "paper_bgcolor": "white",
          "plot_bgcolor": "#E5ECF6",
          "polar": {
           "angularaxis": {
            "gridcolor": "white",
            "linecolor": "white",
            "ticks": ""
           },
           "bgcolor": "#E5ECF6",
           "radialaxis": {
            "gridcolor": "white",
            "linecolor": "white",
            "ticks": ""
           }
          },
          "scene": {
           "xaxis": {
            "backgroundcolor": "#E5ECF6",
            "gridcolor": "white",
            "gridwidth": 2,
            "linecolor": "white",
            "showbackground": true,
            "ticks": "",
            "zerolinecolor": "white"
           },
           "yaxis": {
            "backgroundcolor": "#E5ECF6",
            "gridcolor": "white",
            "gridwidth": 2,
            "linecolor": "white",
            "showbackground": true,
            "ticks": "",
            "zerolinecolor": "white"
           },
           "zaxis": {
            "backgroundcolor": "#E5ECF6",
            "gridcolor": "white",
            "gridwidth": 2,
            "linecolor": "white",
            "showbackground": true,
            "ticks": "",
            "zerolinecolor": "white"
           }
          },
          "shapedefaults": {
           "line": {
            "color": "#2a3f5f"
           }
          },
          "ternary": {
           "aaxis": {
            "gridcolor": "white",
            "linecolor": "white",
            "ticks": ""
           },
           "baxis": {
            "gridcolor": "white",
            "linecolor": "white",
            "ticks": ""
           },
           "bgcolor": "#E5ECF6",
           "caxis": {
            "gridcolor": "white",
            "linecolor": "white",
            "ticks": ""
           }
          },
          "title": {
           "x": 0.05
          },
          "xaxis": {
           "automargin": true,
           "gridcolor": "white",
           "linecolor": "white",
           "ticks": "",
           "title": {
            "standoff": 15
           },
           "zerolinecolor": "white",
           "zerolinewidth": 2
          },
          "yaxis": {
           "automargin": true,
           "gridcolor": "white",
           "linecolor": "white",
           "ticks": "",
           "title": {
            "standoff": 15
           },
           "zerolinecolor": "white",
           "zerolinewidth": 2
          }
         }
        },
        "title": {
         "text": "<b>Best Fitness Distribution per Run</b><br>Experience:2",
         "x": 0.5,
         "xanchor": "center"
        },
        "width": 850,
        "xaxis": {
         "gridcolor": "lightgray",
         "tickvals": [
          "BCL",
          "BCT",
          "BPL",
          "BPT",
          "SCL",
          "SCT",
          "SPL",
          "SPT",
          "TCL",
          "TCT",
          "TPL",
          "TPT"
         ],
         "title": {
          "text": "Combination ID"
         },
         "type": "category"
        },
        "yaxis": {
         "gridcolor": "lightgray",
         "title": {
          "text": "Best Fitness"
         }
        }
       }
      }
     },
     "metadata": {},
     "output_type": "display_data"
    },
    {
     "data": {
      "application/vnd.plotly.v1+json": {
       "config": {
        "plotlyServerURL": "https://plot.ly"
       },
       "data": [
        {
         "hoverinfo": "y",
         "legendgroup": "group_BCL",
         "line": {
          "width": 1
         },
         "marker": {
          "size": 5
         },
         "name": "BCL: ('block_rotation_mutation', 'cyclic_crossover', 'linear_ranking_selection')",
         "showlegend": true,
         "type": "box",
         "x": [
          "BCL",
          "BCL",
          "BCL",
          "BCL",
          "BCL",
          "BCL",
          "BCL",
          "BCL",
          "BCL",
          "BCL",
          "BCL",
          "BCL",
          "BCL",
          "BCL",
          "BCL",
          "BCL",
          "BCL",
          "BCL",
          "BCL",
          "BCL",
          "BCL",
          "BCL",
          "BCL",
          "BCL",
          "BCL",
          "BCL",
          "BCL",
          "BCL",
          "BCL",
          "BCL"
         ],
         "y": [
          1.2809,
          1.22643,
          1.28853,
          1.21524,
          1.30814,
          1.28357,
          1.23704,
          1.2049999999999998,
          1.2679,
          1.27238,
          1.22386,
          1.22829,
          1.3210000000000002,
          1.25547,
          1.21962,
          1.20453,
          1.30443,
          1.24362,
          1.2423799999999998,
          1.25519,
          1.2549,
          1.2827100000000002,
          1.2392900000000002,
          1.2501000000000002,
          1.20433,
          1.26147,
          1.24343,
          1.2281,
          1.22447,
          1.3081
         ]
        },
        {
         "hoverinfo": "y",
         "legendgroup": "group_BCT",
         "line": {
          "width": 1
         },
         "marker": {
          "size": 5
         },
         "name": "BCT: ('block_rotation_mutation', 'cyclic_crossover', 'tournament_selection')",
         "showlegend": true,
         "type": "box",
         "x": [
          "BCT",
          "BCT",
          "BCT",
          "BCT",
          "BCT",
          "BCT",
          "BCT",
          "BCT",
          "BCT",
          "BCT",
          "BCT",
          "BCT",
          "BCT",
          "BCT",
          "BCT",
          "BCT",
          "BCT",
          "BCT",
          "BCT",
          "BCT",
          "BCT",
          "BCT",
          "BCT",
          "BCT",
          "BCT",
          "BCT",
          "BCT",
          "BCT",
          "BCT",
          "BCT"
         ],
         "y": [
          1.4231,
          1.4196700000000002,
          1.46047,
          1.49081,
          1.45653,
          1.51124,
          1.45304,
          1.4560400000000002,
          1.46124,
          1.48347,
          1.51096,
          1.48267,
          1.45567,
          1.50967,
          1.5069,
          1.45314,
          1.46567,
          1.45153,
          1.4589,
          1.4631,
          1.43953,
          1.46186,
          1.4831,
          1.48833,
          1.5064700000000002,
          1.47953,
          1.48104,
          1.48571,
          1.45853,
          1.45424
         ]
        },
        {
         "hoverinfo": "y",
         "legendgroup": "group_BPL",
         "line": {
          "width": 1
         },
         "marker": {
          "size": 5
         },
         "name": "BPL: ('block_rotation_mutation', 'partially_mapped_crossover', 'linear_ranking_selection')",
         "showlegend": true,
         "type": "box",
         "x": [
          "BPL",
          "BPL",
          "BPL",
          "BPL",
          "BPL",
          "BPL",
          "BPL",
          "BPL",
          "BPL",
          "BPL",
          "BPL",
          "BPL",
          "BPL",
          "BPL",
          "BPL",
          "BPL",
          "BPL",
          "BPL",
          "BPL",
          "BPL",
          "BPL",
          "BPL",
          "BPL",
          "BPL",
          "BPL",
          "BPL",
          "BPL",
          "BPL",
          "BPL",
          "BPL"
         ],
         "y": [
          1.24619,
          1.24524,
          1.21738,
          1.26576,
          1.31804,
          1.35276,
          1.29519,
          1.27062,
          1.32214,
          1.29176,
          1.30524,
          1.23604,
          1.29119,
          1.27643,
          1.2161399999999998,
          1.25762,
          1.2589,
          1.29362,
          1.2259,
          1.24567,
          1.311,
          1.26229,
          1.22881,
          1.25419,
          1.21853,
          1.2393299999999998,
          1.23596,
          1.26496,
          1.3608600000000002,
          1.26086
         ]
        },
        {
         "hoverinfo": "y",
         "legendgroup": "group_BPT",
         "line": {
          "width": 1
         },
         "marker": {
          "size": 5
         },
         "name": "BPT: ('block_rotation_mutation', 'partially_mapped_crossover', 'tournament_selection')",
         "showlegend": true,
         "type": "box",
         "x": [
          "BPT",
          "BPT",
          "BPT",
          "BPT",
          "BPT",
          "BPT",
          "BPT",
          "BPT",
          "BPT",
          "BPT",
          "BPT",
          "BPT",
          "BPT",
          "BPT",
          "BPT",
          "BPT",
          "BPT",
          "BPT",
          "BPT",
          "BPT",
          "BPT",
          "BPT",
          "BPT",
          "BPT",
          "BPT",
          "BPT",
          "BPT",
          "BPT",
          "BPT",
          "BPT"
         ],
         "y": [
          1.6702899999999998,
          1.65196,
          1.66319,
          1.5693799999999998,
          1.63596,
          1.624,
          1.5997599999999998,
          1.64314,
          1.5609,
          1.6751,
          1.53681,
          1.69204,
          1.61538,
          1.56686,
          1.5984699999999998,
          1.6490399999999998,
          1.57971,
          1.7103800000000002,
          1.5930000000000002,
          1.65281,
          1.7051,
          1.55414,
          1.58053,
          1.57424,
          1.63233,
          1.5999,
          1.63167,
          1.5561,
          1.6343800000000002,
          1.6004299999999998
         ]
        },
        {
         "hoverinfo": "y",
         "legendgroup": "group_SCL",
         "line": {
          "width": 1
         },
         "marker": {
          "size": 5
         },
         "name": "SCL: ('semi_shuffle', 'cyclic_crossover', 'linear_ranking_selection')",
         "showlegend": true,
         "type": "box",
         "x": [
          "SCL",
          "SCL",
          "SCL",
          "SCL",
          "SCL",
          "SCL",
          "SCL",
          "SCL",
          "SCL",
          "SCL",
          "SCL",
          "SCL",
          "SCL",
          "SCL",
          "SCL",
          "SCL",
          "SCL",
          "SCL",
          "SCL",
          "SCL",
          "SCL",
          "SCL",
          "SCL",
          "SCL",
          "SCL",
          "SCL",
          "SCL",
          "SCL",
          "SCL",
          "SCL"
         ],
         "y": [
          1.17833,
          1.2159,
          1.25429,
          1.2469599999999998,
          1.2284700000000002,
          1.22533,
          1.1893300000000002,
          1.25276,
          1.2900999999999998,
          1.3161900000000002,
          1.30281,
          1.2658600000000002,
          1.2993300000000003,
          1.20329,
          1.2315299999999998,
          1.22314,
          1.19943,
          1.26896,
          1.28986,
          1.2400000000000002,
          1.25786,
          1.26453,
          1.2319,
          1.22076,
          1.2581400000000005,
          1.18657,
          1.31071,
          1.25686,
          1.2683799999999998,
          1.21781
         ]
        },
        {
         "hoverinfo": "y",
         "legendgroup": "group_SCT",
         "line": {
          "width": 1
         },
         "marker": {
          "size": 5
         },
         "name": "SCT: ('semi_shuffle', 'cyclic_crossover', 'tournament_selection')",
         "showlegend": true,
         "type": "box",
         "x": [
          "SCT",
          "SCT",
          "SCT",
          "SCT",
          "SCT",
          "SCT",
          "SCT",
          "SCT",
          "SCT",
          "SCT",
          "SCT",
          "SCT",
          "SCT",
          "SCT",
          "SCT",
          "SCT",
          "SCT",
          "SCT",
          "SCT",
          "SCT",
          "SCT",
          "SCT",
          "SCT",
          "SCT",
          "SCT",
          "SCT",
          "SCT",
          "SCT",
          "SCT",
          "SCT"
         ],
         "y": [
          1.45496,
          1.4513299999999998,
          1.48176,
          1.47281,
          1.39653,
          1.48996,
          1.46562,
          1.46367,
          1.55753,
          1.48053,
          1.48596,
          1.4641,
          1.48047,
          1.46981,
          1.5151,
          1.4721,
          1.48724,
          1.48881,
          1.48967,
          1.44324,
          1.5021,
          1.4801,
          1.46467,
          1.45619,
          1.47381,
          1.40867,
          1.5145300000000002,
          1.4882400000000002,
          1.49996,
          1.48181
         ]
        },
        {
         "hoverinfo": "y",
         "legendgroup": "group_SPL",
         "line": {
          "width": 1
         },
         "marker": {
          "size": 5
         },
         "name": "SPL: ('semi_shuffle', 'partially_mapped_crossover', 'linear_ranking_selection')",
         "showlegend": true,
         "type": "box",
         "x": [
          "SPL",
          "SPL",
          "SPL",
          "SPL",
          "SPL",
          "SPL",
          "SPL",
          "SPL",
          "SPL",
          "SPL",
          "SPL",
          "SPL",
          "SPL",
          "SPL",
          "SPL",
          "SPL",
          "SPL",
          "SPL",
          "SPL",
          "SPL",
          "SPL",
          "SPL",
          "SPL",
          "SPL",
          "SPL",
          "SPL",
          "SPL",
          "SPL",
          "SPL",
          "SPL"
         ],
         "y": [
          1.3334700000000002,
          1.253,
          1.22538,
          1.23662,
          1.20024,
          1.2428600000000003,
          1.35129,
          1.21129,
          1.242,
          1.28519,
          1.23819,
          1.15957,
          1.21219,
          1.26167,
          1.2905700000000002,
          1.27653,
          1.2254300000000002,
          1.17353,
          1.2734300000000005,
          1.20629,
          1.19204,
          1.18762,
          1.2484300000000002,
          1.2379,
          1.2091,
          1.2111900000000002,
          1.23886,
          1.32029,
          1.32796,
          1.2303799999999998
         ]
        },
        {
         "hoverinfo": "y",
         "legendgroup": "group_SPT",
         "line": {
          "width": 1
         },
         "marker": {
          "size": 5
         },
         "name": "SPT: ('semi_shuffle', 'partially_mapped_crossover', 'tournament_selection')",
         "showlegend": true,
         "type": "box",
         "x": [
          "SPT",
          "SPT",
          "SPT",
          "SPT",
          "SPT",
          "SPT",
          "SPT",
          "SPT",
          "SPT",
          "SPT",
          "SPT",
          "SPT",
          "SPT",
          "SPT",
          "SPT",
          "SPT",
          "SPT",
          "SPT",
          "SPT",
          "SPT",
          "SPT",
          "SPT",
          "SPT",
          "SPT",
          "SPT",
          "SPT",
          "SPT",
          "SPT",
          "SPT",
          "SPT"
         ],
         "y": [
          1.66247,
          1.59881,
          1.6212399999999998,
          1.62724,
          1.66043,
          1.70804,
          1.6842400000000002,
          1.76414,
          1.70957,
          1.73343,
          1.59314,
          1.75686,
          1.6801,
          1.6346699999999998,
          1.69119,
          1.61653,
          1.63524,
          1.60704,
          1.64329,
          1.62976,
          1.61214,
          1.74053,
          1.5671,
          1.7016699999999998,
          1.74138,
          1.6562400000000002,
          1.58129,
          1.71486,
          1.59771,
          1.72267
         ]
        },
        {
         "hoverinfo": "y",
         "legendgroup": "group_TCL",
         "line": {
          "width": 1
         },
         "marker": {
          "size": 5
         },
         "name": "TCL: ('two_phase_shuffle_mutation', 'cyclic_crossover', 'linear_ranking_selection')",
         "showlegend": true,
         "type": "box",
         "x": [
          "TCL",
          "TCL",
          "TCL",
          "TCL",
          "TCL",
          "TCL",
          "TCL",
          "TCL",
          "TCL",
          "TCL",
          "TCL",
          "TCL",
          "TCL",
          "TCL",
          "TCL",
          "TCL",
          "TCL",
          "TCL",
          "TCL",
          "TCL",
          "TCL",
          "TCL",
          "TCL",
          "TCL",
          "TCL",
          "TCL",
          "TCL",
          "TCL",
          "TCL",
          "TCL"
         ],
         "y": [
          1.29143,
          1.3397100000000002,
          1.2999,
          1.31086,
          1.28733,
          1.3669,
          1.33729,
          1.40204,
          1.2555299999999998,
          1.3233799999999998,
          1.286,
          1.32119,
          1.24971,
          1.434,
          1.2651400000000002,
          1.29786,
          1.2785700000000002,
          1.33819,
          1.26424,
          1.28214,
          1.36347,
          1.31457,
          1.2759,
          1.27057,
          1.28162,
          1.36319,
          1.30238,
          1.30486,
          1.28604,
          1.2342400000000002
         ]
        },
        {
         "hoverinfo": "y",
         "legendgroup": "group_TCT",
         "line": {
          "width": 1
         },
         "marker": {
          "size": 5
         },
         "name": "TCT: ('two_phase_shuffle_mutation', 'cyclic_crossover', 'tournament_selection')",
         "showlegend": true,
         "type": "box",
         "x": [
          "TCT",
          "TCT",
          "TCT",
          "TCT",
          "TCT",
          "TCT",
          "TCT",
          "TCT",
          "TCT",
          "TCT",
          "TCT",
          "TCT",
          "TCT",
          "TCT",
          "TCT",
          "TCT",
          "TCT",
          "TCT",
          "TCT",
          "TCT",
          "TCT",
          "TCT",
          "TCT",
          "TCT",
          "TCT",
          "TCT",
          "TCT",
          "TCT",
          "TCT",
          "TCT"
         ],
         "y": [
          1.36938,
          1.45286,
          1.34133,
          1.3826200000000002,
          1.339,
          1.34919,
          1.40347,
          1.34643,
          1.3619,
          1.3507600000000002,
          1.3679,
          1.3826199999999995,
          1.35671,
          1.36047,
          1.43396,
          1.43581,
          1.38024,
          1.4413299999999998,
          1.34243,
          1.35557,
          1.40296,
          1.44762,
          1.3776199999999998,
          1.3329,
          1.36271,
          1.357,
          1.39186,
          1.3919,
          1.42443,
          1.3653300000000002
         ]
        },
        {
         "hoverinfo": "y",
         "legendgroup": "group_TPL",
         "line": {
          "width": 1
         },
         "marker": {
          "size": 5
         },
         "name": "TPL: ('two_phase_shuffle_mutation', 'partially_mapped_crossover', 'linear_ranking_selection')",
         "showlegend": true,
         "type": "box",
         "x": [
          "TPL",
          "TPL",
          "TPL",
          "TPL",
          "TPL",
          "TPL",
          "TPL",
          "TPL",
          "TPL",
          "TPL",
          "TPL",
          "TPL",
          "TPL",
          "TPL",
          "TPL",
          "TPL",
          "TPL",
          "TPL",
          "TPL",
          "TPL",
          "TPL",
          "TPL",
          "TPL",
          "TPL",
          "TPL",
          "TPL",
          "TPL",
          "TPL",
          "TPL",
          "TPL"
         ],
         "y": [
          1.24262,
          1.30367,
          1.27181,
          1.28047,
          1.35081,
          1.3268999999999995,
          1.28,
          1.3189,
          1.31857,
          1.2654299999999998,
          1.264,
          1.22947,
          1.29562,
          1.25619,
          1.25414,
          1.273,
          1.28157,
          1.3579,
          1.2599000000000002,
          1.29286,
          1.2792400000000002,
          1.2481399999999998,
          1.3245299999999998,
          1.27029,
          1.2931,
          1.27004,
          1.35447,
          1.25381,
          1.28819,
          1.31847
         ]
        },
        {
         "hoverinfo": "y",
         "legendgroup": "group_TPT",
         "line": {
          "width": 1
         },
         "marker": {
          "size": 5
         },
         "name": "TPT: ('two_phase_shuffle_mutation', 'partially_mapped_crossover', 'tournament_selection')",
         "showlegend": true,
         "type": "box",
         "x": [
          "TPT",
          "TPT",
          "TPT",
          "TPT",
          "TPT",
          "TPT",
          "TPT",
          "TPT",
          "TPT",
          "TPT",
          "TPT",
          "TPT",
          "TPT",
          "TPT",
          "TPT",
          "TPT",
          "TPT",
          "TPT",
          "TPT",
          "TPT",
          "TPT",
          "TPT",
          "TPT",
          "TPT",
          "TPT",
          "TPT",
          "TPT",
          "TPT",
          "TPT",
          "TPT"
         ],
         "y": [
          1.5844299999999998,
          1.50114,
          1.63019,
          1.60719,
          1.5277599999999998,
          1.57467,
          1.51633,
          1.4742400000000002,
          1.48438,
          1.57762,
          1.52257,
          1.57586,
          1.52886,
          1.4999000000000002,
          1.53253,
          1.51133,
          1.53119,
          1.48504,
          1.52976,
          1.53796,
          1.53314,
          1.52962,
          1.51229,
          1.5899,
          1.54843,
          1.51124,
          1.4666199999999998,
          1.47571,
          1.6065699999999998,
          1.56514
         ]
        }
       ],
       "layout": {
        "autosize": true,
        "height": 600,
        "legend": {
         "font": {
          "size": 11
         },
         "orientation": "h",
         "title": {
          "font": {
           "size": 12
          },
          "side": "top",
          "text": "Combinations"
         },
         "y": -0.3
        },
        "margin": {
         "b": 100,
         "l": 50,
         "pad": 10,
         "r": 50,
         "t": 80
        },
        "plot_bgcolor": "white",
        "template": {
         "data": {
          "bar": [
           {
            "error_x": {
             "color": "#2a3f5f"
            },
            "error_y": {
             "color": "#2a3f5f"
            },
            "marker": {
             "line": {
              "color": "#E5ECF6",
              "width": 0.5
             },
             "pattern": {
              "fillmode": "overlay",
              "size": 10,
              "solidity": 0.2
             }
            },
            "type": "bar"
           }
          ],
          "barpolar": [
           {
            "marker": {
             "line": {
              "color": "#E5ECF6",
              "width": 0.5
             },
             "pattern": {
              "fillmode": "overlay",
              "size": 10,
              "solidity": 0.2
             }
            },
            "type": "barpolar"
           }
          ],
          "carpet": [
           {
            "aaxis": {
             "endlinecolor": "#2a3f5f",
             "gridcolor": "white",
             "linecolor": "white",
             "minorgridcolor": "white",
             "startlinecolor": "#2a3f5f"
            },
            "baxis": {
             "endlinecolor": "#2a3f5f",
             "gridcolor": "white",
             "linecolor": "white",
             "minorgridcolor": "white",
             "startlinecolor": "#2a3f5f"
            },
            "type": "carpet"
           }
          ],
          "choropleth": [
           {
            "colorbar": {
             "outlinewidth": 0,
             "ticks": ""
            },
            "type": "choropleth"
           }
          ],
          "contour": [
           {
            "colorbar": {
             "outlinewidth": 0,
             "ticks": ""
            },
            "colorscale": [
             [
              0,
              "#0d0887"
             ],
             [
              0.1111111111111111,
              "#46039f"
             ],
             [
              0.2222222222222222,
              "#7201a8"
             ],
             [
              0.3333333333333333,
              "#9c179e"
             ],
             [
              0.4444444444444444,
              "#bd3786"
             ],
             [
              0.5555555555555556,
              "#d8576b"
             ],
             [
              0.6666666666666666,
              "#ed7953"
             ],
             [
              0.7777777777777778,
              "#fb9f3a"
             ],
             [
              0.8888888888888888,
              "#fdca26"
             ],
             [
              1,
              "#f0f921"
             ]
            ],
            "type": "contour"
           }
          ],
          "contourcarpet": [
           {
            "colorbar": {
             "outlinewidth": 0,
             "ticks": ""
            },
            "type": "contourcarpet"
           }
          ],
          "heatmap": [
           {
            "colorbar": {
             "outlinewidth": 0,
             "ticks": ""
            },
            "colorscale": [
             [
              0,
              "#0d0887"
             ],
             [
              0.1111111111111111,
              "#46039f"
             ],
             [
              0.2222222222222222,
              "#7201a8"
             ],
             [
              0.3333333333333333,
              "#9c179e"
             ],
             [
              0.4444444444444444,
              "#bd3786"
             ],
             [
              0.5555555555555556,
              "#d8576b"
             ],
             [
              0.6666666666666666,
              "#ed7953"
             ],
             [
              0.7777777777777778,
              "#fb9f3a"
             ],
             [
              0.8888888888888888,
              "#fdca26"
             ],
             [
              1,
              "#f0f921"
             ]
            ],
            "type": "heatmap"
           }
          ],
          "heatmapgl": [
           {
            "colorbar": {
             "outlinewidth": 0,
             "ticks": ""
            },
            "colorscale": [
             [
              0,
              "#0d0887"
             ],
             [
              0.1111111111111111,
              "#46039f"
             ],
             [
              0.2222222222222222,
              "#7201a8"
             ],
             [
              0.3333333333333333,
              "#9c179e"
             ],
             [
              0.4444444444444444,
              "#bd3786"
             ],
             [
              0.5555555555555556,
              "#d8576b"
             ],
             [
              0.6666666666666666,
              "#ed7953"
             ],
             [
              0.7777777777777778,
              "#fb9f3a"
             ],
             [
              0.8888888888888888,
              "#fdca26"
             ],
             [
              1,
              "#f0f921"
             ]
            ],
            "type": "heatmapgl"
           }
          ],
          "histogram": [
           {
            "marker": {
             "pattern": {
              "fillmode": "overlay",
              "size": 10,
              "solidity": 0.2
             }
            },
            "type": "histogram"
           }
          ],
          "histogram2d": [
           {
            "colorbar": {
             "outlinewidth": 0,
             "ticks": ""
            },
            "colorscale": [
             [
              0,
              "#0d0887"
             ],
             [
              0.1111111111111111,
              "#46039f"
             ],
             [
              0.2222222222222222,
              "#7201a8"
             ],
             [
              0.3333333333333333,
              "#9c179e"
             ],
             [
              0.4444444444444444,
              "#bd3786"
             ],
             [
              0.5555555555555556,
              "#d8576b"
             ],
             [
              0.6666666666666666,
              "#ed7953"
             ],
             [
              0.7777777777777778,
              "#fb9f3a"
             ],
             [
              0.8888888888888888,
              "#fdca26"
             ],
             [
              1,
              "#f0f921"
             ]
            ],
            "type": "histogram2d"
           }
          ],
          "histogram2dcontour": [
           {
            "colorbar": {
             "outlinewidth": 0,
             "ticks": ""
            },
            "colorscale": [
             [
              0,
              "#0d0887"
             ],
             [
              0.1111111111111111,
              "#46039f"
             ],
             [
              0.2222222222222222,
              "#7201a8"
             ],
             [
              0.3333333333333333,
              "#9c179e"
             ],
             [
              0.4444444444444444,
              "#bd3786"
             ],
             [
              0.5555555555555556,
              "#d8576b"
             ],
             [
              0.6666666666666666,
              "#ed7953"
             ],
             [
              0.7777777777777778,
              "#fb9f3a"
             ],
             [
              0.8888888888888888,
              "#fdca26"
             ],
             [
              1,
              "#f0f921"
             ]
            ],
            "type": "histogram2dcontour"
           }
          ],
          "mesh3d": [
           {
            "colorbar": {
             "outlinewidth": 0,
             "ticks": ""
            },
            "type": "mesh3d"
           }
          ],
          "parcoords": [
           {
            "line": {
             "colorbar": {
              "outlinewidth": 0,
              "ticks": ""
             }
            },
            "type": "parcoords"
           }
          ],
          "pie": [
           {
            "automargin": true,
            "type": "pie"
           }
          ],
          "scatter": [
           {
            "fillpattern": {
             "fillmode": "overlay",
             "size": 10,
             "solidity": 0.2
            },
            "type": "scatter"
           }
          ],
          "scatter3d": [
           {
            "line": {
             "colorbar": {
              "outlinewidth": 0,
              "ticks": ""
             }
            },
            "marker": {
             "colorbar": {
              "outlinewidth": 0,
              "ticks": ""
             }
            },
            "type": "scatter3d"
           }
          ],
          "scattercarpet": [
           {
            "marker": {
             "colorbar": {
              "outlinewidth": 0,
              "ticks": ""
             }
            },
            "type": "scattercarpet"
           }
          ],
          "scattergeo": [
           {
            "marker": {
             "colorbar": {
              "outlinewidth": 0,
              "ticks": ""
             }
            },
            "type": "scattergeo"
           }
          ],
          "scattergl": [
           {
            "marker": {
             "colorbar": {
              "outlinewidth": 0,
              "ticks": ""
             }
            },
            "type": "scattergl"
           }
          ],
          "scattermapbox": [
           {
            "marker": {
             "colorbar": {
              "outlinewidth": 0,
              "ticks": ""
             }
            },
            "type": "scattermapbox"
           }
          ],
          "scatterpolar": [
           {
            "marker": {
             "colorbar": {
              "outlinewidth": 0,
              "ticks": ""
             }
            },
            "type": "scatterpolar"
           }
          ],
          "scatterpolargl": [
           {
            "marker": {
             "colorbar": {
              "outlinewidth": 0,
              "ticks": ""
             }
            },
            "type": "scatterpolargl"
           }
          ],
          "scatterternary": [
           {
            "marker": {
             "colorbar": {
              "outlinewidth": 0,
              "ticks": ""
             }
            },
            "type": "scatterternary"
           }
          ],
          "surface": [
           {
            "colorbar": {
             "outlinewidth": 0,
             "ticks": ""
            },
            "colorscale": [
             [
              0,
              "#0d0887"
             ],
             [
              0.1111111111111111,
              "#46039f"
             ],
             [
              0.2222222222222222,
              "#7201a8"
             ],
             [
              0.3333333333333333,
              "#9c179e"
             ],
             [
              0.4444444444444444,
              "#bd3786"
             ],
             [
              0.5555555555555556,
              "#d8576b"
             ],
             [
              0.6666666666666666,
              "#ed7953"
             ],
             [
              0.7777777777777778,
              "#fb9f3a"
             ],
             [
              0.8888888888888888,
              "#fdca26"
             ],
             [
              1,
              "#f0f921"
             ]
            ],
            "type": "surface"
           }
          ],
          "table": [
           {
            "cells": {
             "fill": {
              "color": "#EBF0F8"
             },
             "line": {
              "color": "white"
             }
            },
            "header": {
             "fill": {
              "color": "#C8D4E3"
             },
             "line": {
              "color": "white"
             }
            },
            "type": "table"
           }
          ]
         },
         "layout": {
          "annotationdefaults": {
           "arrowcolor": "#2a3f5f",
           "arrowhead": 0,
           "arrowwidth": 1
          },
          "autotypenumbers": "strict",
          "coloraxis": {
           "colorbar": {
            "outlinewidth": 0,
            "ticks": ""
           }
          },
          "colorscale": {
           "diverging": [
            [
             0,
             "#8e0152"
            ],
            [
             0.1,
             "#c51b7d"
            ],
            [
             0.2,
             "#de77ae"
            ],
            [
             0.3,
             "#f1b6da"
            ],
            [
             0.4,
             "#fde0ef"
            ],
            [
             0.5,
             "#f7f7f7"
            ],
            [
             0.6,
             "#e6f5d0"
            ],
            [
             0.7,
             "#b8e186"
            ],
            [
             0.8,
             "#7fbc41"
            ],
            [
             0.9,
             "#4d9221"
            ],
            [
             1,
             "#276419"
            ]
           ],
           "sequential": [
            [
             0,
             "#0d0887"
            ],
            [
             0.1111111111111111,
             "#46039f"
            ],
            [
             0.2222222222222222,
             "#7201a8"
            ],
            [
             0.3333333333333333,
             "#9c179e"
            ],
            [
             0.4444444444444444,
             "#bd3786"
            ],
            [
             0.5555555555555556,
             "#d8576b"
            ],
            [
             0.6666666666666666,
             "#ed7953"
            ],
            [
             0.7777777777777778,
             "#fb9f3a"
            ],
            [
             0.8888888888888888,
             "#fdca26"
            ],
            [
             1,
             "#f0f921"
            ]
           ],
           "sequentialminus": [
            [
             0,
             "#0d0887"
            ],
            [
             0.1111111111111111,
             "#46039f"
            ],
            [
             0.2222222222222222,
             "#7201a8"
            ],
            [
             0.3333333333333333,
             "#9c179e"
            ],
            [
             0.4444444444444444,
             "#bd3786"
            ],
            [
             0.5555555555555556,
             "#d8576b"
            ],
            [
             0.6666666666666666,
             "#ed7953"
            ],
            [
             0.7777777777777778,
             "#fb9f3a"
            ],
            [
             0.8888888888888888,
             "#fdca26"
            ],
            [
             1,
             "#f0f921"
            ]
           ]
          },
          "colorway": [
           "#636efa",
           "#EF553B",
           "#00cc96",
           "#ab63fa",
           "#FFA15A",
           "#19d3f3",
           "#FF6692",
           "#B6E880",
           "#FF97FF",
           "#FECB52"
          ],
          "font": {
           "color": "#2a3f5f"
          },
          "geo": {
           "bgcolor": "white",
           "lakecolor": "white",
           "landcolor": "#E5ECF6",
           "showlakes": true,
           "showland": true,
           "subunitcolor": "white"
          },
          "hoverlabel": {
           "align": "left"
          },
          "hovermode": "closest",
          "mapbox": {
           "style": "light"
          },
          "paper_bgcolor": "white",
          "plot_bgcolor": "#E5ECF6",
          "polar": {
           "angularaxis": {
            "gridcolor": "white",
            "linecolor": "white",
            "ticks": ""
           },
           "bgcolor": "#E5ECF6",
           "radialaxis": {
            "gridcolor": "white",
            "linecolor": "white",
            "ticks": ""
           }
          },
          "scene": {
           "xaxis": {
            "backgroundcolor": "#E5ECF6",
            "gridcolor": "white",
            "gridwidth": 2,
            "linecolor": "white",
            "showbackground": true,
            "ticks": "",
            "zerolinecolor": "white"
           },
           "yaxis": {
            "backgroundcolor": "#E5ECF6",
            "gridcolor": "white",
            "gridwidth": 2,
            "linecolor": "white",
            "showbackground": true,
            "ticks": "",
            "zerolinecolor": "white"
           },
           "zaxis": {
            "backgroundcolor": "#E5ECF6",
            "gridcolor": "white",
            "gridwidth": 2,
            "linecolor": "white",
            "showbackground": true,
            "ticks": "",
            "zerolinecolor": "white"
           }
          },
          "shapedefaults": {
           "line": {
            "color": "#2a3f5f"
           }
          },
          "ternary": {
           "aaxis": {
            "gridcolor": "white",
            "linecolor": "white",
            "ticks": ""
           },
           "baxis": {
            "gridcolor": "white",
            "linecolor": "white",
            "ticks": ""
           },
           "bgcolor": "#E5ECF6",
           "caxis": {
            "gridcolor": "white",
            "linecolor": "white",
            "ticks": ""
           }
          },
          "title": {
           "x": 0.05
          },
          "xaxis": {
           "automargin": true,
           "gridcolor": "white",
           "linecolor": "white",
           "ticks": "",
           "title": {
            "standoff": 15
           },
           "zerolinecolor": "white",
           "zerolinewidth": 2
          },
          "yaxis": {
           "automargin": true,
           "gridcolor": "white",
           "linecolor": "white",
           "ticks": "",
           "title": {
            "standoff": 15
           },
           "zerolinecolor": "white",
           "zerolinewidth": 2
          }
         }
        },
        "title": {
         "text": "<b>Best Fitness Distribution per Run</b><br>Experience:3",
         "x": 0.5,
         "xanchor": "center"
        },
        "width": 850,
        "xaxis": {
         "gridcolor": "lightgray",
         "tickvals": [
          "BCL",
          "BCT",
          "BPL",
          "BPT",
          "SCL",
          "SCT",
          "SPL",
          "SPT",
          "TCL",
          "TCT",
          "TPL",
          "TPT"
         ],
         "title": {
          "text": "Combination ID"
         },
         "type": "category"
        },
        "yaxis": {
         "gridcolor": "lightgray",
         "title": {
          "text": "Best Fitness"
         }
        }
       }
      }
     },
     "metadata": {},
     "output_type": "display_data"
    }
   ],
   "source": [
    "plot_BF_inter_run_boxplot(df_exp1, exp_comb='1')\n",
    "plot_BF_inter_run_boxplot(df_exp2, exp_comb='2')\n",
    "plot_BF_inter_run_boxplot(df_exp3, exp_comb='3')"
   ]
  },
  {
   "cell_type": "code",
   "execution_count": null,
   "id": "642f527e",
   "metadata": {},
   "outputs": [],
   "source": [
    "#only plot those of interest\n",
    "plot_BF_inter_run(df_exp1, ['TCT', 'SPL'], '1')\n",
    "plot_BF_inter_run(df_exp2, ['BPL', 'SPL'], '2')\n",
    "plot_BF_inter_run(df_exp3, ['BCT', 'SPL'], '3')"
   ]
  },
  {
   "cell_type": "markdown",
   "id": "c7160bc7",
   "metadata": {},
   "source": [
    "### 2.3. Between Experiments: Comparison of probabilities"
   ]
  },
  {
   "cell_type": "markdown",
   "id": "2c8b496e",
   "metadata": {},
   "source": [
    "__`Step 6`__ Scatter the final results of each combination per experiment, and for each experiment by combination.\n"
   ]
  },
  {
   "cell_type": "code",
   "execution_count": null,
   "id": "a2b50312",
   "metadata": {},
   "outputs": [
    {
     "data": {
      "application/vnd.plotly.v1+json": {
       "config": {
        "plotlyServerURL": "https://plot.ly"
       },
       "data": [
        {
         "hovertemplate": [
          "<b>Combination ID</b>: %{x}<br><b>Combination</b>: ('block_rotation_mutation', 'cyclic_crossover', 'linear_ranking_selection')<br><b>Fitness</b>: %{y:.3f}<br><b>Experiment</b>: Probability of Mutation: 0.1<br><extra></extra>",
          "<b>Combination ID</b>: %{x}<br><b>Combination</b>: ('block_rotation_mutation', 'cyclic_crossover', 'tournament_selection')<br><b>Fitness</b>: %{y:.3f}<br><b>Experiment</b>: Probability of Mutation: 0.1<br><extra></extra>",
          "<b>Combination ID</b>: %{x}<br><b>Combination</b>: ('block_rotation_mutation', 'partially_mapped_crossover', 'linear_ranking_selection')<br><b>Fitness</b>: %{y:.3f}<br><b>Experiment</b>: Probability of Mutation: 0.1<br><extra></extra>",
          "<b>Combination ID</b>: %{x}<br><b>Combination</b>: ('block_rotation_mutation', 'partially_mapped_crossover', 'tournament_selection')<br><b>Fitness</b>: %{y:.3f}<br><b>Experiment</b>: Probability of Mutation: 0.1<br><extra></extra>",
          "<b>Combination ID</b>: %{x}<br><b>Combination</b>: ('semi_shuffle', 'cyclic_crossover', 'linear_ranking_selection')<br><b>Fitness</b>: %{y:.3f}<br><b>Experiment</b>: Probability of Mutation: 0.1<br><extra></extra>",
          "<b>Combination ID</b>: %{x}<br><b>Combination</b>: ('semi_shuffle', 'cyclic_crossover', 'tournament_selection')<br><b>Fitness</b>: %{y:.3f}<br><b>Experiment</b>: Probability of Mutation: 0.1<br><extra></extra>",
          "<b>Combination ID</b>: %{x}<br><b>Combination</b>: ('semi_shuffle', 'partially_mapped_crossover', 'linear_ranking_selection')<br><b>Fitness</b>: %{y:.3f}<br><b>Experiment</b>: Probability of Mutation: 0.1<br><extra></extra>",
          "<b>Combination ID</b>: %{x}<br><b>Combination</b>: ('semi_shuffle', 'partially_mapped_crossover', 'tournament_selection')<br><b>Fitness</b>: %{y:.3f}<br><b>Experiment</b>: Probability of Mutation: 0.1<br><extra></extra>",
          "<b>Combination ID</b>: %{x}<br><b>Combination</b>: ('two_phase_shuffle_mutation', 'cyclic_crossover', 'linear_ranking_selection')<br><b>Fitness</b>: %{y:.3f}<br><b>Experiment</b>: Probability of Mutation: 0.1<br><extra></extra>",
          "<b>Combination ID</b>: %{x}<br><b>Combination</b>: ('two_phase_shuffle_mutation', 'cyclic_crossover', 'tournament_selection')<br><b>Fitness</b>: %{y:.3f}<br><b>Experiment</b>: Probability of Mutation: 0.1<br><extra></extra>",
          "<b>Combination ID</b>: %{x}<br><b>Combination</b>: ('two_phase_shuffle_mutation', 'partially_mapped_crossover', 'linear_ranking_selection')<br><b>Fitness</b>: %{y:.3f}<br><b>Experiment</b>: Probability of Mutation: 0.1<br><extra></extra>",
          "<b>Combination ID</b>: %{x}<br><b>Combination</b>: ('two_phase_shuffle_mutation', 'partially_mapped_crossover', 'tournament_selection')<br><b>Fitness</b>: %{y:.3f}<br><b>Experiment</b>: Probability of Mutation: 0.1<br><extra></extra>"
         ],
         "marker": {
          "size": 10
         },
         "mode": "markers",
         "name": "Probability of Mutation: 0.1",
         "type": "scatter",
         "x": [
          "BCL",
          "BCT",
          "BPL",
          "BPT",
          "SCL",
          "SCT",
          "SPL",
          "SPT",
          "TCL",
          "TCT",
          "TPL",
          "TPT"
         ],
         "y": [
          1.35433,
          1.50976,
          1.38496,
          1.71753,
          1.3384300000000002,
          1.49381,
          1.4023800000000002,
          1.66004,
          1.3581,
          1.4491,
          1.38738,
          1.6601
         ]
        },
        {
         "hovertemplate": [
          "<b>Combination ID</b>: %{x}<br><b>Combination</b>: ('block_rotation_mutation', 'cyclic_crossover', 'linear_ranking_selection')<br><b>Fitness</b>: %{y:.3f}<br><b>Experiment</b>: Probability of Mutation: 0.2<br><extra></extra>",
          "<b>Combination ID</b>: %{x}<br><b>Combination</b>: ('block_rotation_mutation', 'cyclic_crossover', 'tournament_selection')<br><b>Fitness</b>: %{y:.3f}<br><b>Experiment</b>: Probability of Mutation: 0.2<br><extra></extra>",
          "<b>Combination ID</b>: %{x}<br><b>Combination</b>: ('block_rotation_mutation', 'partially_mapped_crossover', 'linear_ranking_selection')<br><b>Fitness</b>: %{y:.3f}<br><b>Experiment</b>: Probability of Mutation: 0.2<br><extra></extra>",
          "<b>Combination ID</b>: %{x}<br><b>Combination</b>: ('block_rotation_mutation', 'partially_mapped_crossover', 'tournament_selection')<br><b>Fitness</b>: %{y:.3f}<br><b>Experiment</b>: Probability of Mutation: 0.2<br><extra></extra>",
          "<b>Combination ID</b>: %{x}<br><b>Combination</b>: ('semi_shuffle', 'cyclic_crossover', 'linear_ranking_selection')<br><b>Fitness</b>: %{y:.3f}<br><b>Experiment</b>: Probability of Mutation: 0.2<br><extra></extra>",
          "<b>Combination ID</b>: %{x}<br><b>Combination</b>: ('semi_shuffle', 'cyclic_crossover', 'tournament_selection')<br><b>Fitness</b>: %{y:.3f}<br><b>Experiment</b>: Probability of Mutation: 0.2<br><extra></extra>",
          "<b>Combination ID</b>: %{x}<br><b>Combination</b>: ('semi_shuffle', 'partially_mapped_crossover', 'linear_ranking_selection')<br><b>Fitness</b>: %{y:.3f}<br><b>Experiment</b>: Probability of Mutation: 0.2<br><extra></extra>",
          "<b>Combination ID</b>: %{x}<br><b>Combination</b>: ('semi_shuffle', 'partially_mapped_crossover', 'tournament_selection')<br><b>Fitness</b>: %{y:.3f}<br><b>Experiment</b>: Probability of Mutation: 0.2<br><extra></extra>",
          "<b>Combination ID</b>: %{x}<br><b>Combination</b>: ('two_phase_shuffle_mutation', 'cyclic_crossover', 'linear_ranking_selection')<br><b>Fitness</b>: %{y:.3f}<br><b>Experiment</b>: Probability of Mutation: 0.2<br><extra></extra>",
          "<b>Combination ID</b>: %{x}<br><b>Combination</b>: ('two_phase_shuffle_mutation', 'cyclic_crossover', 'tournament_selection')<br><b>Fitness</b>: %{y:.3f}<br><b>Experiment</b>: Probability of Mutation: 0.2<br><extra></extra>",
          "<b>Combination ID</b>: %{x}<br><b>Combination</b>: ('two_phase_shuffle_mutation', 'partially_mapped_crossover', 'linear_ranking_selection')<br><b>Fitness</b>: %{y:.3f}<br><b>Experiment</b>: Probability of Mutation: 0.2<br><extra></extra>",
          "<b>Combination ID</b>: %{x}<br><b>Combination</b>: ('two_phase_shuffle_mutation', 'partially_mapped_crossover', 'tournament_selection')<br><b>Fitness</b>: %{y:.3f}<br><b>Experiment</b>: Probability of Mutation: 0.2<br><extra></extra>"
         ],
         "marker": {
          "size": 10
         },
         "mode": "markers",
         "name": "Probability of Mutation: 0.2",
         "type": "scatter",
         "x": [
          "BCL",
          "BCT",
          "BPL",
          "BPT",
          "SCL",
          "SCT",
          "SPL",
          "SPT",
          "TCL",
          "TCT",
          "TPL",
          "TPT"
         ],
         "y": [
          1.332,
          1.46496,
          1.34419,
          1.61933,
          1.3459,
          1.5431,
          1.3169,
          1.72371,
          1.36971,
          1.4228999999999998,
          1.36943,
          1.5957600000000003
         ]
        },
        {
         "hovertemplate": [
          "<b>Combination ID</b>: %{x}<br><b>Combination</b>: ('block_rotation_mutation', 'cyclic_crossover', 'linear_ranking_selection')<br><b>Fitness</b>: %{y:.3f}<br><b>Experiment</b>: Probability of Mutation: 0.3<br><extra></extra>",
          "<b>Combination ID</b>: %{x}<br><b>Combination</b>: ('block_rotation_mutation', 'cyclic_crossover', 'tournament_selection')<br><b>Fitness</b>: %{y:.3f}<br><b>Experiment</b>: Probability of Mutation: 0.3<br><extra></extra>",
          "<b>Combination ID</b>: %{x}<br><b>Combination</b>: ('block_rotation_mutation', 'partially_mapped_crossover', 'linear_ranking_selection')<br><b>Fitness</b>: %{y:.3f}<br><b>Experiment</b>: Probability of Mutation: 0.3<br><extra></extra>",
          "<b>Combination ID</b>: %{x}<br><b>Combination</b>: ('block_rotation_mutation', 'partially_mapped_crossover', 'tournament_selection')<br><b>Fitness</b>: %{y:.3f}<br><b>Experiment</b>: Probability of Mutation: 0.3<br><extra></extra>",
          "<b>Combination ID</b>: %{x}<br><b>Combination</b>: ('semi_shuffle', 'cyclic_crossover', 'linear_ranking_selection')<br><b>Fitness</b>: %{y:.3f}<br><b>Experiment</b>: Probability of Mutation: 0.3<br><extra></extra>",
          "<b>Combination ID</b>: %{x}<br><b>Combination</b>: ('semi_shuffle', 'cyclic_crossover', 'tournament_selection')<br><b>Fitness</b>: %{y:.3f}<br><b>Experiment</b>: Probability of Mutation: 0.3<br><extra></extra>",
          "<b>Combination ID</b>: %{x}<br><b>Combination</b>: ('semi_shuffle', 'partially_mapped_crossover', 'linear_ranking_selection')<br><b>Fitness</b>: %{y:.3f}<br><b>Experiment</b>: Probability of Mutation: 0.3<br><extra></extra>",
          "<b>Combination ID</b>: %{x}<br><b>Combination</b>: ('semi_shuffle', 'partially_mapped_crossover', 'tournament_selection')<br><b>Fitness</b>: %{y:.3f}<br><b>Experiment</b>: Probability of Mutation: 0.3<br><extra></extra>",
          "<b>Combination ID</b>: %{x}<br><b>Combination</b>: ('two_phase_shuffle_mutation', 'cyclic_crossover', 'linear_ranking_selection')<br><b>Fitness</b>: %{y:.3f}<br><b>Experiment</b>: Probability of Mutation: 0.3<br><extra></extra>",
          "<b>Combination ID</b>: %{x}<br><b>Combination</b>: ('two_phase_shuffle_mutation', 'cyclic_crossover', 'tournament_selection')<br><b>Fitness</b>: %{y:.3f}<br><b>Experiment</b>: Probability of Mutation: 0.3<br><extra></extra>",
          "<b>Combination ID</b>: %{x}<br><b>Combination</b>: ('two_phase_shuffle_mutation', 'partially_mapped_crossover', 'linear_ranking_selection')<br><b>Fitness</b>: %{y:.3f}<br><b>Experiment</b>: Probability of Mutation: 0.3<br><extra></extra>",
          "<b>Combination ID</b>: %{x}<br><b>Combination</b>: ('two_phase_shuffle_mutation', 'partially_mapped_crossover', 'tournament_selection')<br><b>Fitness</b>: %{y:.3f}<br><b>Experiment</b>: Probability of Mutation: 0.3<br><extra></extra>"
         ],
         "marker": {
          "size": 10
         },
         "mode": "markers",
         "name": "Probability of Mutation: 0.3",
         "type": "scatter",
         "x": [
          "BCL",
          "BCT",
          "BPL",
          "BPT",
          "SCL",
          "SCT",
          "SPL",
          "SPT",
          "TCL",
          "TCT",
          "TPL",
          "TPT"
         ],
         "y": [
          1.3210000000000002,
          1.51124,
          1.3608600000000002,
          1.7103800000000002,
          1.3161900000000002,
          1.55753,
          1.35129,
          1.76414,
          1.434,
          1.45286,
          1.3579,
          1.63019
         ]
        }
       ],
       "layout": {
        "height": 600,
        "legend": {
         "orientation": "h",
         "x": 1,
         "xanchor": "right",
         "y": 1.02,
         "yanchor": "bottom"
        },
        "margin": {
         "b": 80,
         "l": 50,
         "pad": 10,
         "r": 50,
         "t": 80
        },
        "plot_bgcolor": "white",
        "template": {
         "data": {
          "bar": [
           {
            "error_x": {
             "color": "#2a3f5f"
            },
            "error_y": {
             "color": "#2a3f5f"
            },
            "marker": {
             "line": {
              "color": "#E5ECF6",
              "width": 0.5
             },
             "pattern": {
              "fillmode": "overlay",
              "size": 10,
              "solidity": 0.2
             }
            },
            "type": "bar"
           }
          ],
          "barpolar": [
           {
            "marker": {
             "line": {
              "color": "#E5ECF6",
              "width": 0.5
             },
             "pattern": {
              "fillmode": "overlay",
              "size": 10,
              "solidity": 0.2
             }
            },
            "type": "barpolar"
           }
          ],
          "carpet": [
           {
            "aaxis": {
             "endlinecolor": "#2a3f5f",
             "gridcolor": "white",
             "linecolor": "white",
             "minorgridcolor": "white",
             "startlinecolor": "#2a3f5f"
            },
            "baxis": {
             "endlinecolor": "#2a3f5f",
             "gridcolor": "white",
             "linecolor": "white",
             "minorgridcolor": "white",
             "startlinecolor": "#2a3f5f"
            },
            "type": "carpet"
           }
          ],
          "choropleth": [
           {
            "colorbar": {
             "outlinewidth": 0,
             "ticks": ""
            },
            "type": "choropleth"
           }
          ],
          "contour": [
           {
            "colorbar": {
             "outlinewidth": 0,
             "ticks": ""
            },
            "colorscale": [
             [
              0,
              "#0d0887"
             ],
             [
              0.1111111111111111,
              "#46039f"
             ],
             [
              0.2222222222222222,
              "#7201a8"
             ],
             [
              0.3333333333333333,
              "#9c179e"
             ],
             [
              0.4444444444444444,
              "#bd3786"
             ],
             [
              0.5555555555555556,
              "#d8576b"
             ],
             [
              0.6666666666666666,
              "#ed7953"
             ],
             [
              0.7777777777777778,
              "#fb9f3a"
             ],
             [
              0.8888888888888888,
              "#fdca26"
             ],
             [
              1,
              "#f0f921"
             ]
            ],
            "type": "contour"
           }
          ],
          "contourcarpet": [
           {
            "colorbar": {
             "outlinewidth": 0,
             "ticks": ""
            },
            "type": "contourcarpet"
           }
          ],
          "heatmap": [
           {
            "colorbar": {
             "outlinewidth": 0,
             "ticks": ""
            },
            "colorscale": [
             [
              0,
              "#0d0887"
             ],
             [
              0.1111111111111111,
              "#46039f"
             ],
             [
              0.2222222222222222,
              "#7201a8"
             ],
             [
              0.3333333333333333,
              "#9c179e"
             ],
             [
              0.4444444444444444,
              "#bd3786"
             ],
             [
              0.5555555555555556,
              "#d8576b"
             ],
             [
              0.6666666666666666,
              "#ed7953"
             ],
             [
              0.7777777777777778,
              "#fb9f3a"
             ],
             [
              0.8888888888888888,
              "#fdca26"
             ],
             [
              1,
              "#f0f921"
             ]
            ],
            "type": "heatmap"
           }
          ],
          "heatmapgl": [
           {
            "colorbar": {
             "outlinewidth": 0,
             "ticks": ""
            },
            "colorscale": [
             [
              0,
              "#0d0887"
             ],
             [
              0.1111111111111111,
              "#46039f"
             ],
             [
              0.2222222222222222,
              "#7201a8"
             ],
             [
              0.3333333333333333,
              "#9c179e"
             ],
             [
              0.4444444444444444,
              "#bd3786"
             ],
             [
              0.5555555555555556,
              "#d8576b"
             ],
             [
              0.6666666666666666,
              "#ed7953"
             ],
             [
              0.7777777777777778,
              "#fb9f3a"
             ],
             [
              0.8888888888888888,
              "#fdca26"
             ],
             [
              1,
              "#f0f921"
             ]
            ],
            "type": "heatmapgl"
           }
          ],
          "histogram": [
           {
            "marker": {
             "pattern": {
              "fillmode": "overlay",
              "size": 10,
              "solidity": 0.2
             }
            },
            "type": "histogram"
           }
          ],
          "histogram2d": [
           {
            "colorbar": {
             "outlinewidth": 0,
             "ticks": ""
            },
            "colorscale": [
             [
              0,
              "#0d0887"
             ],
             [
              0.1111111111111111,
              "#46039f"
             ],
             [
              0.2222222222222222,
              "#7201a8"
             ],
             [
              0.3333333333333333,
              "#9c179e"
             ],
             [
              0.4444444444444444,
              "#bd3786"
             ],
             [
              0.5555555555555556,
              "#d8576b"
             ],
             [
              0.6666666666666666,
              "#ed7953"
             ],
             [
              0.7777777777777778,
              "#fb9f3a"
             ],
             [
              0.8888888888888888,
              "#fdca26"
             ],
             [
              1,
              "#f0f921"
             ]
            ],
            "type": "histogram2d"
           }
          ],
          "histogram2dcontour": [
           {
            "colorbar": {
             "outlinewidth": 0,
             "ticks": ""
            },
            "colorscale": [
             [
              0,
              "#0d0887"
             ],
             [
              0.1111111111111111,
              "#46039f"
             ],
             [
              0.2222222222222222,
              "#7201a8"
             ],
             [
              0.3333333333333333,
              "#9c179e"
             ],
             [
              0.4444444444444444,
              "#bd3786"
             ],
             [
              0.5555555555555556,
              "#d8576b"
             ],
             [
              0.6666666666666666,
              "#ed7953"
             ],
             [
              0.7777777777777778,
              "#fb9f3a"
             ],
             [
              0.8888888888888888,
              "#fdca26"
             ],
             [
              1,
              "#f0f921"
             ]
            ],
            "type": "histogram2dcontour"
           }
          ],
          "mesh3d": [
           {
            "colorbar": {
             "outlinewidth": 0,
             "ticks": ""
            },
            "type": "mesh3d"
           }
          ],
          "parcoords": [
           {
            "line": {
             "colorbar": {
              "outlinewidth": 0,
              "ticks": ""
             }
            },
            "type": "parcoords"
           }
          ],
          "pie": [
           {
            "automargin": true,
            "type": "pie"
           }
          ],
          "scatter": [
           {
            "fillpattern": {
             "fillmode": "overlay",
             "size": 10,
             "solidity": 0.2
            },
            "type": "scatter"
           }
          ],
          "scatter3d": [
           {
            "line": {
             "colorbar": {
              "outlinewidth": 0,
              "ticks": ""
             }
            },
            "marker": {
             "colorbar": {
              "outlinewidth": 0,
              "ticks": ""
             }
            },
            "type": "scatter3d"
           }
          ],
          "scattercarpet": [
           {
            "marker": {
             "colorbar": {
              "outlinewidth": 0,
              "ticks": ""
             }
            },
            "type": "scattercarpet"
           }
          ],
          "scattergeo": [
           {
            "marker": {
             "colorbar": {
              "outlinewidth": 0,
              "ticks": ""
             }
            },
            "type": "scattergeo"
           }
          ],
          "scattergl": [
           {
            "marker": {
             "colorbar": {
              "outlinewidth": 0,
              "ticks": ""
             }
            },
            "type": "scattergl"
           }
          ],
          "scattermapbox": [
           {
            "marker": {
             "colorbar": {
              "outlinewidth": 0,
              "ticks": ""
             }
            },
            "type": "scattermapbox"
           }
          ],
          "scatterpolar": [
           {
            "marker": {
             "colorbar": {
              "outlinewidth": 0,
              "ticks": ""
             }
            },
            "type": "scatterpolar"
           }
          ],
          "scatterpolargl": [
           {
            "marker": {
             "colorbar": {
              "outlinewidth": 0,
              "ticks": ""
             }
            },
            "type": "scatterpolargl"
           }
          ],
          "scatterternary": [
           {
            "marker": {
             "colorbar": {
              "outlinewidth": 0,
              "ticks": ""
             }
            },
            "type": "scatterternary"
           }
          ],
          "surface": [
           {
            "colorbar": {
             "outlinewidth": 0,
             "ticks": ""
            },
            "colorscale": [
             [
              0,
              "#0d0887"
             ],
             [
              0.1111111111111111,
              "#46039f"
             ],
             [
              0.2222222222222222,
              "#7201a8"
             ],
             [
              0.3333333333333333,
              "#9c179e"
             ],
             [
              0.4444444444444444,
              "#bd3786"
             ],
             [
              0.5555555555555556,
              "#d8576b"
             ],
             [
              0.6666666666666666,
              "#ed7953"
             ],
             [
              0.7777777777777778,
              "#fb9f3a"
             ],
             [
              0.8888888888888888,
              "#fdca26"
             ],
             [
              1,
              "#f0f921"
             ]
            ],
            "type": "surface"
           }
          ],
          "table": [
           {
            "cells": {
             "fill": {
              "color": "#EBF0F8"
             },
             "line": {
              "color": "white"
             }
            },
            "header": {
             "fill": {
              "color": "#C8D4E3"
             },
             "line": {
              "color": "white"
             }
            },
            "type": "table"
           }
          ]
         },
         "layout": {
          "annotationdefaults": {
           "arrowcolor": "#2a3f5f",
           "arrowhead": 0,
           "arrowwidth": 1
          },
          "autotypenumbers": "strict",
          "coloraxis": {
           "colorbar": {
            "outlinewidth": 0,
            "ticks": ""
           }
          },
          "colorscale": {
           "diverging": [
            [
             0,
             "#8e0152"
            ],
            [
             0.1,
             "#c51b7d"
            ],
            [
             0.2,
             "#de77ae"
            ],
            [
             0.3,
             "#f1b6da"
            ],
            [
             0.4,
             "#fde0ef"
            ],
            [
             0.5,
             "#f7f7f7"
            ],
            [
             0.6,
             "#e6f5d0"
            ],
            [
             0.7,
             "#b8e186"
            ],
            [
             0.8,
             "#7fbc41"
            ],
            [
             0.9,
             "#4d9221"
            ],
            [
             1,
             "#276419"
            ]
           ],
           "sequential": [
            [
             0,
             "#0d0887"
            ],
            [
             0.1111111111111111,
             "#46039f"
            ],
            [
             0.2222222222222222,
             "#7201a8"
            ],
            [
             0.3333333333333333,
             "#9c179e"
            ],
            [
             0.4444444444444444,
             "#bd3786"
            ],
            [
             0.5555555555555556,
             "#d8576b"
            ],
            [
             0.6666666666666666,
             "#ed7953"
            ],
            [
             0.7777777777777778,
             "#fb9f3a"
            ],
            [
             0.8888888888888888,
             "#fdca26"
            ],
            [
             1,
             "#f0f921"
            ]
           ],
           "sequentialminus": [
            [
             0,
             "#0d0887"
            ],
            [
             0.1111111111111111,
             "#46039f"
            ],
            [
             0.2222222222222222,
             "#7201a8"
            ],
            [
             0.3333333333333333,
             "#9c179e"
            ],
            [
             0.4444444444444444,
             "#bd3786"
            ],
            [
             0.5555555555555556,
             "#d8576b"
            ],
            [
             0.6666666666666666,
             "#ed7953"
            ],
            [
             0.7777777777777778,
             "#fb9f3a"
            ],
            [
             0.8888888888888888,
             "#fdca26"
            ],
            [
             1,
             "#f0f921"
            ]
           ]
          },
          "colorway": [
           "#636efa",
           "#EF553B",
           "#00cc96",
           "#ab63fa",
           "#FFA15A",
           "#19d3f3",
           "#FF6692",
           "#B6E880",
           "#FF97FF",
           "#FECB52"
          ],
          "font": {
           "color": "#2a3f5f"
          },
          "geo": {
           "bgcolor": "white",
           "lakecolor": "white",
           "landcolor": "#E5ECF6",
           "showlakes": true,
           "showland": true,
           "subunitcolor": "white"
          },
          "hoverlabel": {
           "align": "left"
          },
          "hovermode": "closest",
          "mapbox": {
           "style": "light"
          },
          "paper_bgcolor": "white",
          "plot_bgcolor": "#E5ECF6",
          "polar": {
           "angularaxis": {
            "gridcolor": "white",
            "linecolor": "white",
            "ticks": ""
           },
           "bgcolor": "#E5ECF6",
           "radialaxis": {
            "gridcolor": "white",
            "linecolor": "white",
            "ticks": ""
           }
          },
          "scene": {
           "xaxis": {
            "backgroundcolor": "#E5ECF6",
            "gridcolor": "white",
            "gridwidth": 2,
            "linecolor": "white",
            "showbackground": true,
            "ticks": "",
            "zerolinecolor": "white"
           },
           "yaxis": {
            "backgroundcolor": "#E5ECF6",
            "gridcolor": "white",
            "gridwidth": 2,
            "linecolor": "white",
            "showbackground": true,
            "ticks": "",
            "zerolinecolor": "white"
           },
           "zaxis": {
            "backgroundcolor": "#E5ECF6",
            "gridcolor": "white",
            "gridwidth": 2,
            "linecolor": "white",
            "showbackground": true,
            "ticks": "",
            "zerolinecolor": "white"
           }
          },
          "shapedefaults": {
           "line": {
            "color": "#2a3f5f"
           }
          },
          "ternary": {
           "aaxis": {
            "gridcolor": "white",
            "linecolor": "white",
            "ticks": ""
           },
           "baxis": {
            "gridcolor": "white",
            "linecolor": "white",
            "ticks": ""
           },
           "bgcolor": "#E5ECF6",
           "caxis": {
            "gridcolor": "white",
            "linecolor": "white",
            "ticks": ""
           }
          },
          "title": {
           "x": 0.05
          },
          "xaxis": {
           "automargin": true,
           "gridcolor": "white",
           "linecolor": "white",
           "ticks": "",
           "title": {
            "standoff": 15
           },
           "zerolinecolor": "white",
           "zerolinewidth": 2
          },
          "yaxis": {
           "automargin": true,
           "gridcolor": "white",
           "linecolor": "white",
           "ticks": "",
           "title": {
            "standoff": 15
           },
           "zerolinecolor": "white",
           "zerolinewidth": 2
          }
         }
        },
        "title": {
         "text": "<b>Best Fitness per Combination Across Experiments</b>"
        },
        "width": 900,
        "xaxis": {
         "gridcolor": "lightgray",
         "tickmode": "array",
         "ticktext": [
          "BCT",
          "BCL",
          "BPT",
          "BPL",
          "TCT",
          "TCL",
          "TPT",
          "TPL",
          "SCT",
          "SCL",
          "SPT",
          "SPL"
         ],
         "tickvals": [
          "BCT",
          "BCL",
          "BPT",
          "BPL",
          "TCT",
          "TCL",
          "TPT",
          "TPL",
          "SCT",
          "SCL",
          "SPT",
          "SPL"
         ],
         "title": {
          "text": "Combination ID"
         },
         "type": "category"
        },
        "yaxis": {
         "gridcolor": "lightgray",
         "title": {
          "text": "Best Fitness"
         }
        }
       }
      }
     },
     "metadata": {},
     "output_type": "display_data"
    }
   ],
   "source": [
    "exp_bf_per_comb({'exp1': 'Probability of Mutation: 0.1', 'exp2': 'Probability of Mutation: 0.2', 'exp3': 'Probability of Mutation: 0.3'})"
   ]
  },
  {
   "cell_type": "code",
   "execution_count": null,
   "id": "9e84c89a",
   "metadata": {},
   "outputs": [
    {
     "data": {
      "application/vnd.plotly.v1+json": {
       "config": {
        "plotlyServerURL": "https://plot.ly"
       },
       "data": [
        {
         "hovertemplate": "<b>Exp</b>: %{x}<br><b>Comb</b>: %{meta[1]}<br><b>Fitness</b>: %{y:.3f}<extra></extra>",
         "line": {
          "color": "gray",
          "width": 1
         },
         "marker": {
          "line": {
           "color": "DarkSlateGrey",
           "width": 1
          },
          "size": 10
         },
         "meta": [
          "BCT",
          "('block_rotation_mutation', 'cyclic_crossover', 'tournament_selection')"
         ],
         "mode": "lines+markers",
         "name": "Comb BCT",
         "showlegend": false,
         "type": "scatter",
         "x": [
          "Probability of Mutation: 0.1",
          "Probability of Mutation: 0.2",
          "Mut: 0.3"
         ],
         "y": [
          1.50976,
          1.46496,
          1.51124
         ]
        },
        {
         "hovertemplate": "<b>Exp</b>: %{x}<br><b>Comb</b>: %{meta[1]}<br><b>Fitness</b>: %{y:.3f}<extra></extra>",
         "marker": {
          "line": {
           "color": "DarkSlateGrey",
           "width": 1
          },
          "size": 10
         },
         "meta": [
          "BCT",
          "('block_rotation_mutation', 'cyclic_crossover', 'tournament_selection')"
         ],
         "mode": "markers",
         "name": "Comb BCT",
         "showlegend": false,
         "type": "scatter",
         "x": [
          "Probability of Mutation: 0.1",
          "Probability of Mutation: 0.2",
          "Mut: 0.3"
         ],
         "y": [
          1.50976,
          1.46496,
          1.51124
         ]
        },
        {
         "hovertemplate": "<b>Exp</b>: %{x}<br><b>Comb</b>: %{meta[1]}<br><b>Fitness</b>: %{y:.3f}<extra></extra>",
         "line": {
          "color": "gray",
          "width": 1
         },
         "marker": {
          "line": {
           "color": "DarkSlateGrey",
           "width": 1
          },
          "size": 10
         },
         "meta": [
          "BCL",
          "('block_rotation_mutation', 'cyclic_crossover', 'linear_ranking_selection')"
         ],
         "mode": "lines+markers",
         "name": "Comb BCL",
         "showlegend": false,
         "type": "scatter",
         "x": [
          "Probability of Mutation: 0.1",
          "Probability of Mutation: 0.2",
          "Mut: 0.3"
         ],
         "y": [
          1.35433,
          1.332,
          1.3210000000000002
         ]
        },
        {
         "hovertemplate": "<b>Exp</b>: %{x}<br><b>Comb</b>: %{meta[1]}<br><b>Fitness</b>: %{y:.3f}<extra></extra>",
         "marker": {
          "line": {
           "color": "DarkSlateGrey",
           "width": 1
          },
          "size": 10
         },
         "meta": [
          "BCL",
          "('block_rotation_mutation', 'cyclic_crossover', 'linear_ranking_selection')"
         ],
         "mode": "markers",
         "name": "Comb BCL",
         "showlegend": false,
         "type": "scatter",
         "x": [
          "Probability of Mutation: 0.1",
          "Probability of Mutation: 0.2",
          "Mut: 0.3"
         ],
         "y": [
          1.35433,
          1.332,
          1.3210000000000002
         ]
        },
        {
         "hovertemplate": "<b>Exp</b>: %{x}<br><b>Comb</b>: %{meta[1]}<br><b>Fitness</b>: %{y:.3f}<extra></extra>",
         "line": {
          "color": "gray",
          "width": 1
         },
         "marker": {
          "line": {
           "color": "DarkSlateGrey",
           "width": 1
          },
          "size": 10
         },
         "meta": [
          "BPT",
          "('block_rotation_mutation', 'partially_mapped_crossover', 'tournament_selection')"
         ],
         "mode": "lines+markers",
         "name": "Comb BPT",
         "showlegend": false,
         "type": "scatter",
         "x": [
          "Probability of Mutation: 0.1",
          "Probability of Mutation: 0.2",
          "Mut: 0.3"
         ],
         "y": [
          1.71753,
          1.61933,
          1.7103800000000002
         ]
        },
        {
         "hovertemplate": "<b>Exp</b>: %{x}<br><b>Comb</b>: %{meta[1]}<br><b>Fitness</b>: %{y:.3f}<extra></extra>",
         "marker": {
          "line": {
           "color": "DarkSlateGrey",
           "width": 1
          },
          "size": 10
         },
         "meta": [
          "BPT",
          "('block_rotation_mutation', 'partially_mapped_crossover', 'tournament_selection')"
         ],
         "mode": "markers",
         "name": "Comb BPT",
         "showlegend": false,
         "type": "scatter",
         "x": [
          "Probability of Mutation: 0.1",
          "Probability of Mutation: 0.2",
          "Mut: 0.3"
         ],
         "y": [
          1.71753,
          1.61933,
          1.7103800000000002
         ]
        },
        {
         "hovertemplate": "<b>Exp</b>: %{x}<br><b>Comb</b>: %{meta[1]}<br><b>Fitness</b>: %{y:.3f}<extra></extra>",
         "line": {
          "color": "gray",
          "width": 1
         },
         "marker": {
          "line": {
           "color": "DarkSlateGrey",
           "width": 1
          },
          "size": 10
         },
         "meta": [
          "BPL",
          "('block_rotation_mutation', 'partially_mapped_crossover', 'linear_ranking_selection')"
         ],
         "mode": "lines+markers",
         "name": "Comb BPL",
         "showlegend": false,
         "type": "scatter",
         "x": [
          "Probability of Mutation: 0.1",
          "Probability of Mutation: 0.2",
          "Mut: 0.3"
         ],
         "y": [
          1.38496,
          1.34419,
          1.3608600000000002
         ]
        },
        {
         "hovertemplate": "<b>Exp</b>: %{x}<br><b>Comb</b>: %{meta[1]}<br><b>Fitness</b>: %{y:.3f}<extra></extra>",
         "marker": {
          "line": {
           "color": "DarkSlateGrey",
           "width": 1
          },
          "size": 10
         },
         "meta": [
          "BPL",
          "('block_rotation_mutation', 'partially_mapped_crossover', 'linear_ranking_selection')"
         ],
         "mode": "markers",
         "name": "Comb BPL",
         "showlegend": false,
         "type": "scatter",
         "x": [
          "Probability of Mutation: 0.1",
          "Probability of Mutation: 0.2",
          "Mut: 0.3"
         ],
         "y": [
          1.38496,
          1.34419,
          1.3608600000000002
         ]
        },
        {
         "hovertemplate": "<b>Exp</b>: %{x}<br><b>Comb</b>: %{meta[1]}<br><b>Fitness</b>: %{y:.3f}<extra></extra>",
         "line": {
          "color": "gray",
          "width": 1
         },
         "marker": {
          "line": {
           "color": "DarkSlateGrey",
           "width": 1
          },
          "size": 10
         },
         "meta": [
          "TCT",
          "('two_phase_shuffle_mutation', 'cyclic_crossover', 'tournament_selection')"
         ],
         "mode": "lines+markers",
         "name": "Comb TCT",
         "showlegend": false,
         "type": "scatter",
         "x": [
          "Probability of Mutation: 0.1",
          "Probability of Mutation: 0.2",
          "Mut: 0.3"
         ],
         "y": [
          1.4491,
          1.4228999999999998,
          1.45286
         ]
        },
        {
         "hovertemplate": "<b>Exp</b>: %{x}<br><b>Comb</b>: %{meta[1]}<br><b>Fitness</b>: %{y:.3f}<extra></extra>",
         "marker": {
          "line": {
           "color": "DarkSlateGrey",
           "width": 1
          },
          "size": 10
         },
         "meta": [
          "TCT",
          "('two_phase_shuffle_mutation', 'cyclic_crossover', 'tournament_selection')"
         ],
         "mode": "markers",
         "name": "Comb TCT",
         "showlegend": false,
         "type": "scatter",
         "x": [
          "Probability of Mutation: 0.1",
          "Probability of Mutation: 0.2",
          "Mut: 0.3"
         ],
         "y": [
          1.4491,
          1.4228999999999998,
          1.45286
         ]
        },
        {
         "hovertemplate": "<b>Exp</b>: %{x}<br><b>Comb</b>: %{meta[1]}<br><b>Fitness</b>: %{y:.3f}<extra></extra>",
         "line": {
          "color": "gray",
          "width": 1
         },
         "marker": {
          "line": {
           "color": "DarkSlateGrey",
           "width": 1
          },
          "size": 10
         },
         "meta": [
          "TCL",
          "('two_phase_shuffle_mutation', 'cyclic_crossover', 'linear_ranking_selection')"
         ],
         "mode": "lines+markers",
         "name": "Comb TCL",
         "showlegend": false,
         "type": "scatter",
         "x": [
          "Probability of Mutation: 0.1",
          "Probability of Mutation: 0.2",
          "Mut: 0.3"
         ],
         "y": [
          1.3581,
          1.36971,
          1.434
         ]
        },
        {
         "hovertemplate": "<b>Exp</b>: %{x}<br><b>Comb</b>: %{meta[1]}<br><b>Fitness</b>: %{y:.3f}<extra></extra>",
         "marker": {
          "line": {
           "color": "DarkSlateGrey",
           "width": 1
          },
          "size": 10
         },
         "meta": [
          "TCL",
          "('two_phase_shuffle_mutation', 'cyclic_crossover', 'linear_ranking_selection')"
         ],
         "mode": "markers",
         "name": "Comb TCL",
         "showlegend": false,
         "type": "scatter",
         "x": [
          "Probability of Mutation: 0.1",
          "Probability of Mutation: 0.2",
          "Mut: 0.3"
         ],
         "y": [
          1.3581,
          1.36971,
          1.434
         ]
        },
        {
         "hovertemplate": "<b>Exp</b>: %{x}<br><b>Comb</b>: %{meta[1]}<br><b>Fitness</b>: %{y:.3f}<extra></extra>",
         "line": {
          "color": "gray",
          "width": 1
         },
         "marker": {
          "line": {
           "color": "DarkSlateGrey",
           "width": 1
          },
          "size": 10
         },
         "meta": [
          "TPT",
          "('two_phase_shuffle_mutation', 'partially_mapped_crossover', 'tournament_selection')"
         ],
         "mode": "lines+markers",
         "name": "Comb TPT",
         "showlegend": false,
         "type": "scatter",
         "x": [
          "Probability of Mutation: 0.1",
          "Probability of Mutation: 0.2",
          "Mut: 0.3"
         ],
         "y": [
          1.6601,
          1.5957600000000003,
          1.63019
         ]
        },
        {
         "hovertemplate": "<b>Exp</b>: %{x}<br><b>Comb</b>: %{meta[1]}<br><b>Fitness</b>: %{y:.3f}<extra></extra>",
         "marker": {
          "line": {
           "color": "DarkSlateGrey",
           "width": 1
          },
          "size": 10
         },
         "meta": [
          "TPT",
          "('two_phase_shuffle_mutation', 'partially_mapped_crossover', 'tournament_selection')"
         ],
         "mode": "markers",
         "name": "Comb TPT",
         "showlegend": false,
         "type": "scatter",
         "x": [
          "Probability of Mutation: 0.1",
          "Probability of Mutation: 0.2",
          "Mut: 0.3"
         ],
         "y": [
          1.6601,
          1.5957600000000003,
          1.63019
         ]
        },
        {
         "hovertemplate": "<b>Exp</b>: %{x}<br><b>Comb</b>: %{meta[1]}<br><b>Fitness</b>: %{y:.3f}<extra></extra>",
         "line": {
          "color": "gray",
          "width": 1
         },
         "marker": {
          "line": {
           "color": "DarkSlateGrey",
           "width": 1
          },
          "size": 10
         },
         "meta": [
          "TPL",
          "('two_phase_shuffle_mutation', 'partially_mapped_crossover', 'linear_ranking_selection')"
         ],
         "mode": "lines+markers",
         "name": "Comb TPL",
         "showlegend": false,
         "type": "scatter",
         "x": [
          "Probability of Mutation: 0.1",
          "Probability of Mutation: 0.2",
          "Mut: 0.3"
         ],
         "y": [
          1.38738,
          1.36943,
          1.3579
         ]
        },
        {
         "hovertemplate": "<b>Exp</b>: %{x}<br><b>Comb</b>: %{meta[1]}<br><b>Fitness</b>: %{y:.3f}<extra></extra>",
         "marker": {
          "line": {
           "color": "DarkSlateGrey",
           "width": 1
          },
          "size": 10
         },
         "meta": [
          "TPL",
          "('two_phase_shuffle_mutation', 'partially_mapped_crossover', 'linear_ranking_selection')"
         ],
         "mode": "markers",
         "name": "Comb TPL",
         "showlegend": false,
         "type": "scatter",
         "x": [
          "Probability of Mutation: 0.1",
          "Probability of Mutation: 0.2",
          "Mut: 0.3"
         ],
         "y": [
          1.38738,
          1.36943,
          1.3579
         ]
        },
        {
         "hovertemplate": "<b>Exp</b>: %{x}<br><b>Comb</b>: %{meta[1]}<br><b>Fitness</b>: %{y:.3f}<extra></extra>",
         "line": {
          "color": "gray",
          "width": 1
         },
         "marker": {
          "line": {
           "color": "DarkSlateGrey",
           "width": 1
          },
          "size": 10
         },
         "meta": [
          "SCT",
          "('semi_shuffle', 'cyclic_crossover', 'tournament_selection')"
         ],
         "mode": "lines+markers",
         "name": "Comb SCT",
         "showlegend": false,
         "type": "scatter",
         "x": [
          "Probability of Mutation: 0.1",
          "Probability of Mutation: 0.2",
          "Mut: 0.3"
         ],
         "y": [
          1.49381,
          1.5431,
          1.55753
         ]
        },
        {
         "hovertemplate": "<b>Exp</b>: %{x}<br><b>Comb</b>: %{meta[1]}<br><b>Fitness</b>: %{y:.3f}<extra></extra>",
         "marker": {
          "line": {
           "color": "DarkSlateGrey",
           "width": 1
          },
          "size": 10
         },
         "meta": [
          "SCT",
          "('semi_shuffle', 'cyclic_crossover', 'tournament_selection')"
         ],
         "mode": "markers",
         "name": "Comb SCT",
         "showlegend": false,
         "type": "scatter",
         "x": [
          "Probability of Mutation: 0.1",
          "Probability of Mutation: 0.2",
          "Mut: 0.3"
         ],
         "y": [
          1.49381,
          1.5431,
          1.55753
         ]
        },
        {
         "hovertemplate": "<b>Exp</b>: %{x}<br><b>Comb</b>: %{meta[1]}<br><b>Fitness</b>: %{y:.3f}<extra></extra>",
         "line": {
          "color": "gray",
          "width": 1
         },
         "marker": {
          "line": {
           "color": "DarkSlateGrey",
           "width": 1
          },
          "size": 10
         },
         "meta": [
          "SCL",
          "('semi_shuffle', 'cyclic_crossover', 'linear_ranking_selection')"
         ],
         "mode": "lines+markers",
         "name": "Comb SCL",
         "showlegend": false,
         "type": "scatter",
         "x": [
          "Probability of Mutation: 0.1",
          "Probability of Mutation: 0.2",
          "Mut: 0.3"
         ],
         "y": [
          1.3384300000000002,
          1.3459,
          1.3161900000000002
         ]
        },
        {
         "hovertemplate": "<b>Exp</b>: %{x}<br><b>Comb</b>: %{meta[1]}<br><b>Fitness</b>: %{y:.3f}<extra></extra>",
         "marker": {
          "line": {
           "color": "DarkSlateGrey",
           "width": 1
          },
          "size": 10
         },
         "meta": [
          "SCL",
          "('semi_shuffle', 'cyclic_crossover', 'linear_ranking_selection')"
         ],
         "mode": "markers",
         "name": "Comb SCL",
         "showlegend": false,
         "type": "scatter",
         "x": [
          "Probability of Mutation: 0.1",
          "Probability of Mutation: 0.2",
          "Mut: 0.3"
         ],
         "y": [
          1.3384300000000002,
          1.3459,
          1.3161900000000002
         ]
        },
        {
         "hovertemplate": "<b>Exp</b>: %{x}<br><b>Comb</b>: %{meta[1]}<br><b>Fitness</b>: %{y:.3f}<extra></extra>",
         "line": {
          "color": "gray",
          "width": 1
         },
         "marker": {
          "line": {
           "color": "DarkSlateGrey",
           "width": 1
          },
          "size": 10
         },
         "meta": [
          "SPT",
          "('semi_shuffle', 'partially_mapped_crossover', 'tournament_selection')"
         ],
         "mode": "lines+markers",
         "name": "Comb SPT",
         "showlegend": false,
         "type": "scatter",
         "x": [
          "Probability of Mutation: 0.1",
          "Probability of Mutation: 0.2",
          "Mut: 0.3"
         ],
         "y": [
          1.66004,
          1.72371,
          1.76414
         ]
        },
        {
         "hovertemplate": "<b>Exp</b>: %{x}<br><b>Comb</b>: %{meta[1]}<br><b>Fitness</b>: %{y:.3f}<extra></extra>",
         "marker": {
          "line": {
           "color": "DarkSlateGrey",
           "width": 1
          },
          "size": 10
         },
         "meta": [
          "SPT",
          "('semi_shuffle', 'partially_mapped_crossover', 'tournament_selection')"
         ],
         "mode": "markers",
         "name": "Comb SPT",
         "showlegend": false,
         "type": "scatter",
         "x": [
          "Probability of Mutation: 0.1",
          "Probability of Mutation: 0.2",
          "Mut: 0.3"
         ],
         "y": [
          1.66004,
          1.72371,
          1.76414
         ]
        },
        {
         "hovertemplate": "<b>Exp</b>: %{x}<br><b>Comb</b>: %{meta[1]}<br><b>Fitness</b>: %{y:.3f}<extra></extra>",
         "line": {
          "color": "gray",
          "width": 1
         },
         "marker": {
          "line": {
           "color": "DarkSlateGrey",
           "width": 1
          },
          "size": 10
         },
         "meta": [
          "SPL",
          "('semi_shuffle', 'partially_mapped_crossover', 'linear_ranking_selection')"
         ],
         "mode": "lines+markers",
         "name": "Comb SPL",
         "showlegend": false,
         "type": "scatter",
         "x": [
          "Probability of Mutation: 0.1",
          "Probability of Mutation: 0.2",
          "Mut: 0.3"
         ],
         "y": [
          1.4023800000000002,
          1.3169,
          1.35129
         ]
        },
        {
         "hovertemplate": "<b>Exp</b>: %{x}<br><b>Comb</b>: %{meta[1]}<br><b>Fitness</b>: %{y:.3f}<extra></extra>",
         "marker": {
          "line": {
           "color": "DarkSlateGrey",
           "width": 1
          },
          "size": 10
         },
         "meta": [
          "SPL",
          "('semi_shuffle', 'partially_mapped_crossover', 'linear_ranking_selection')"
         ],
         "mode": "markers",
         "name": "Comb SPL",
         "showlegend": false,
         "type": "scatter",
         "x": [
          "Probability of Mutation: 0.1",
          "Probability of Mutation: 0.2",
          "Mut: 0.3"
         ],
         "y": [
          1.4023800000000002,
          1.3169,
          1.35129
         ]
        }
       ],
       "layout": {
        "legend": {
         "orientation": "h",
         "title": {
          "text": "Combinations"
         },
         "xanchor": "right",
         "y": 1.02,
         "yanchor": "bottom"
        },
        "plot_bgcolor": "white",
        "showlegend": true,
        "template": {
         "data": {
          "bar": [
           {
            "error_x": {
             "color": "#2a3f5f"
            },
            "error_y": {
             "color": "#2a3f5f"
            },
            "marker": {
             "line": {
              "color": "#E5ECF6",
              "width": 0.5
             },
             "pattern": {
              "fillmode": "overlay",
              "size": 10,
              "solidity": 0.2
             }
            },
            "type": "bar"
           }
          ],
          "barpolar": [
           {
            "marker": {
             "line": {
              "color": "#E5ECF6",
              "width": 0.5
             },
             "pattern": {
              "fillmode": "overlay",
              "size": 10,
              "solidity": 0.2
             }
            },
            "type": "barpolar"
           }
          ],
          "carpet": [
           {
            "aaxis": {
             "endlinecolor": "#2a3f5f",
             "gridcolor": "white",
             "linecolor": "white",
             "minorgridcolor": "white",
             "startlinecolor": "#2a3f5f"
            },
            "baxis": {
             "endlinecolor": "#2a3f5f",
             "gridcolor": "white",
             "linecolor": "white",
             "minorgridcolor": "white",
             "startlinecolor": "#2a3f5f"
            },
            "type": "carpet"
           }
          ],
          "choropleth": [
           {
            "colorbar": {
             "outlinewidth": 0,
             "ticks": ""
            },
            "type": "choropleth"
           }
          ],
          "contour": [
           {
            "colorbar": {
             "outlinewidth": 0,
             "ticks": ""
            },
            "colorscale": [
             [
              0,
              "#0d0887"
             ],
             [
              0.1111111111111111,
              "#46039f"
             ],
             [
              0.2222222222222222,
              "#7201a8"
             ],
             [
              0.3333333333333333,
              "#9c179e"
             ],
             [
              0.4444444444444444,
              "#bd3786"
             ],
             [
              0.5555555555555556,
              "#d8576b"
             ],
             [
              0.6666666666666666,
              "#ed7953"
             ],
             [
              0.7777777777777778,
              "#fb9f3a"
             ],
             [
              0.8888888888888888,
              "#fdca26"
             ],
             [
              1,
              "#f0f921"
             ]
            ],
            "type": "contour"
           }
          ],
          "contourcarpet": [
           {
            "colorbar": {
             "outlinewidth": 0,
             "ticks": ""
            },
            "type": "contourcarpet"
           }
          ],
          "heatmap": [
           {
            "colorbar": {
             "outlinewidth": 0,
             "ticks": ""
            },
            "colorscale": [
             [
              0,
              "#0d0887"
             ],
             [
              0.1111111111111111,
              "#46039f"
             ],
             [
              0.2222222222222222,
              "#7201a8"
             ],
             [
              0.3333333333333333,
              "#9c179e"
             ],
             [
              0.4444444444444444,
              "#bd3786"
             ],
             [
              0.5555555555555556,
              "#d8576b"
             ],
             [
              0.6666666666666666,
              "#ed7953"
             ],
             [
              0.7777777777777778,
              "#fb9f3a"
             ],
             [
              0.8888888888888888,
              "#fdca26"
             ],
             [
              1,
              "#f0f921"
             ]
            ],
            "type": "heatmap"
           }
          ],
          "heatmapgl": [
           {
            "colorbar": {
             "outlinewidth": 0,
             "ticks": ""
            },
            "colorscale": [
             [
              0,
              "#0d0887"
             ],
             [
              0.1111111111111111,
              "#46039f"
             ],
             [
              0.2222222222222222,
              "#7201a8"
             ],
             [
              0.3333333333333333,
              "#9c179e"
             ],
             [
              0.4444444444444444,
              "#bd3786"
             ],
             [
              0.5555555555555556,
              "#d8576b"
             ],
             [
              0.6666666666666666,
              "#ed7953"
             ],
             [
              0.7777777777777778,
              "#fb9f3a"
             ],
             [
              0.8888888888888888,
              "#fdca26"
             ],
             [
              1,
              "#f0f921"
             ]
            ],
            "type": "heatmapgl"
           }
          ],
          "histogram": [
           {
            "marker": {
             "pattern": {
              "fillmode": "overlay",
              "size": 10,
              "solidity": 0.2
             }
            },
            "type": "histogram"
           }
          ],
          "histogram2d": [
           {
            "colorbar": {
             "outlinewidth": 0,
             "ticks": ""
            },
            "colorscale": [
             [
              0,
              "#0d0887"
             ],
             [
              0.1111111111111111,
              "#46039f"
             ],
             [
              0.2222222222222222,
              "#7201a8"
             ],
             [
              0.3333333333333333,
              "#9c179e"
             ],
             [
              0.4444444444444444,
              "#bd3786"
             ],
             [
              0.5555555555555556,
              "#d8576b"
             ],
             [
              0.6666666666666666,
              "#ed7953"
             ],
             [
              0.7777777777777778,
              "#fb9f3a"
             ],
             [
              0.8888888888888888,
              "#fdca26"
             ],
             [
              1,
              "#f0f921"
             ]
            ],
            "type": "histogram2d"
           }
          ],
          "histogram2dcontour": [
           {
            "colorbar": {
             "outlinewidth": 0,
             "ticks": ""
            },
            "colorscale": [
             [
              0,
              "#0d0887"
             ],
             [
              0.1111111111111111,
              "#46039f"
             ],
             [
              0.2222222222222222,
              "#7201a8"
             ],
             [
              0.3333333333333333,
              "#9c179e"
             ],
             [
              0.4444444444444444,
              "#bd3786"
             ],
             [
              0.5555555555555556,
              "#d8576b"
             ],
             [
              0.6666666666666666,
              "#ed7953"
             ],
             [
              0.7777777777777778,
              "#fb9f3a"
             ],
             [
              0.8888888888888888,
              "#fdca26"
             ],
             [
              1,
              "#f0f921"
             ]
            ],
            "type": "histogram2dcontour"
           }
          ],
          "mesh3d": [
           {
            "colorbar": {
             "outlinewidth": 0,
             "ticks": ""
            },
            "type": "mesh3d"
           }
          ],
          "parcoords": [
           {
            "line": {
             "colorbar": {
              "outlinewidth": 0,
              "ticks": ""
             }
            },
            "type": "parcoords"
           }
          ],
          "pie": [
           {
            "automargin": true,
            "type": "pie"
           }
          ],
          "scatter": [
           {
            "fillpattern": {
             "fillmode": "overlay",
             "size": 10,
             "solidity": 0.2
            },
            "type": "scatter"
           }
          ],
          "scatter3d": [
           {
            "line": {
             "colorbar": {
              "outlinewidth": 0,
              "ticks": ""
             }
            },
            "marker": {
             "colorbar": {
              "outlinewidth": 0,
              "ticks": ""
             }
            },
            "type": "scatter3d"
           }
          ],
          "scattercarpet": [
           {
            "marker": {
             "colorbar": {
              "outlinewidth": 0,
              "ticks": ""
             }
            },
            "type": "scattercarpet"
           }
          ],
          "scattergeo": [
           {
            "marker": {
             "colorbar": {
              "outlinewidth": 0,
              "ticks": ""
             }
            },
            "type": "scattergeo"
           }
          ],
          "scattergl": [
           {
            "marker": {
             "colorbar": {
              "outlinewidth": 0,
              "ticks": ""
             }
            },
            "type": "scattergl"
           }
          ],
          "scattermapbox": [
           {
            "marker": {
             "colorbar": {
              "outlinewidth": 0,
              "ticks": ""
             }
            },
            "type": "scattermapbox"
           }
          ],
          "scatterpolar": [
           {
            "marker": {
             "colorbar": {
              "outlinewidth": 0,
              "ticks": ""
             }
            },
            "type": "scatterpolar"
           }
          ],
          "scatterpolargl": [
           {
            "marker": {
             "colorbar": {
              "outlinewidth": 0,
              "ticks": ""
             }
            },
            "type": "scatterpolargl"
           }
          ],
          "scatterternary": [
           {
            "marker": {
             "colorbar": {
              "outlinewidth": 0,
              "ticks": ""
             }
            },
            "type": "scatterternary"
           }
          ],
          "surface": [
           {
            "colorbar": {
             "outlinewidth": 0,
             "ticks": ""
            },
            "colorscale": [
             [
              0,
              "#0d0887"
             ],
             [
              0.1111111111111111,
              "#46039f"
             ],
             [
              0.2222222222222222,
              "#7201a8"
             ],
             [
              0.3333333333333333,
              "#9c179e"
             ],
             [
              0.4444444444444444,
              "#bd3786"
             ],
             [
              0.5555555555555556,
              "#d8576b"
             ],
             [
              0.6666666666666666,
              "#ed7953"
             ],
             [
              0.7777777777777778,
              "#fb9f3a"
             ],
             [
              0.8888888888888888,
              "#fdca26"
             ],
             [
              1,
              "#f0f921"
             ]
            ],
            "type": "surface"
           }
          ],
          "table": [
           {
            "cells": {
             "fill": {
              "color": "#EBF0F8"
             },
             "line": {
              "color": "white"
             }
            },
            "header": {
             "fill": {
              "color": "#C8D4E3"
             },
             "line": {
              "color": "white"
             }
            },
            "type": "table"
           }
          ]
         },
         "layout": {
          "annotationdefaults": {
           "arrowcolor": "#2a3f5f",
           "arrowhead": 0,
           "arrowwidth": 1
          },
          "autotypenumbers": "strict",
          "coloraxis": {
           "colorbar": {
            "outlinewidth": 0,
            "ticks": ""
           }
          },
          "colorscale": {
           "diverging": [
            [
             0,
             "#8e0152"
            ],
            [
             0.1,
             "#c51b7d"
            ],
            [
             0.2,
             "#de77ae"
            ],
            [
             0.3,
             "#f1b6da"
            ],
            [
             0.4,
             "#fde0ef"
            ],
            [
             0.5,
             "#f7f7f7"
            ],
            [
             0.6,
             "#e6f5d0"
            ],
            [
             0.7,
             "#b8e186"
            ],
            [
             0.8,
             "#7fbc41"
            ],
            [
             0.9,
             "#4d9221"
            ],
            [
             1,
             "#276419"
            ]
           ],
           "sequential": [
            [
             0,
             "#0d0887"
            ],
            [
             0.1111111111111111,
             "#46039f"
            ],
            [
             0.2222222222222222,
             "#7201a8"
            ],
            [
             0.3333333333333333,
             "#9c179e"
            ],
            [
             0.4444444444444444,
             "#bd3786"
            ],
            [
             0.5555555555555556,
             "#d8576b"
            ],
            [
             0.6666666666666666,
             "#ed7953"
            ],
            [
             0.7777777777777778,
             "#fb9f3a"
            ],
            [
             0.8888888888888888,
             "#fdca26"
            ],
            [
             1,
             "#f0f921"
            ]
           ],
           "sequentialminus": [
            [
             0,
             "#0d0887"
            ],
            [
             0.1111111111111111,
             "#46039f"
            ],
            [
             0.2222222222222222,
             "#7201a8"
            ],
            [
             0.3333333333333333,
             "#9c179e"
            ],
            [
             0.4444444444444444,
             "#bd3786"
            ],
            [
             0.5555555555555556,
             "#d8576b"
            ],
            [
             0.6666666666666666,
             "#ed7953"
            ],
            [
             0.7777777777777778,
             "#fb9f3a"
            ],
            [
             0.8888888888888888,
             "#fdca26"
            ],
            [
             1,
             "#f0f921"
            ]
           ]
          },
          "colorway": [
           "#636efa",
           "#EF553B",
           "#00cc96",
           "#ab63fa",
           "#FFA15A",
           "#19d3f3",
           "#FF6692",
           "#B6E880",
           "#FF97FF",
           "#FECB52"
          ],
          "font": {
           "color": "#2a3f5f"
          },
          "geo": {
           "bgcolor": "white",
           "lakecolor": "white",
           "landcolor": "#E5ECF6",
           "showlakes": true,
           "showland": true,
           "subunitcolor": "white"
          },
          "hoverlabel": {
           "align": "left"
          },
          "hovermode": "closest",
          "mapbox": {
           "style": "light"
          },
          "paper_bgcolor": "white",
          "plot_bgcolor": "#E5ECF6",
          "polar": {
           "angularaxis": {
            "gridcolor": "white",
            "linecolor": "white",
            "ticks": ""
           },
           "bgcolor": "#E5ECF6",
           "radialaxis": {
            "gridcolor": "white",
            "linecolor": "white",
            "ticks": ""
           }
          },
          "scene": {
           "xaxis": {
            "backgroundcolor": "#E5ECF6",
            "gridcolor": "white",
            "gridwidth": 2,
            "linecolor": "white",
            "showbackground": true,
            "ticks": "",
            "zerolinecolor": "white"
           },
           "yaxis": {
            "backgroundcolor": "#E5ECF6",
            "gridcolor": "white",
            "gridwidth": 2,
            "linecolor": "white",
            "showbackground": true,
            "ticks": "",
            "zerolinecolor": "white"
           },
           "zaxis": {
            "backgroundcolor": "#E5ECF6",
            "gridcolor": "white",
            "gridwidth": 2,
            "linecolor": "white",
            "showbackground": true,
            "ticks": "",
            "zerolinecolor": "white"
           }
          },
          "shapedefaults": {
           "line": {
            "color": "#2a3f5f"
           }
          },
          "ternary": {
           "aaxis": {
            "gridcolor": "white",
            "linecolor": "white",
            "ticks": ""
           },
           "baxis": {
            "gridcolor": "white",
            "linecolor": "white",
            "ticks": ""
           },
           "bgcolor": "#E5ECF6",
           "caxis": {
            "gridcolor": "white",
            "linecolor": "white",
            "ticks": ""
           }
          },
          "title": {
           "x": 0.05
          },
          "xaxis": {
           "automargin": true,
           "gridcolor": "white",
           "linecolor": "white",
           "ticks": "",
           "title": {
            "standoff": 15
           },
           "zerolinecolor": "white",
           "zerolinewidth": 2
          },
          "yaxis": {
           "automargin": true,
           "gridcolor": "white",
           "linecolor": "white",
           "ticks": "",
           "title": {
            "standoff": 15
           },
           "zerolinecolor": "white",
           "zerolinewidth": 2
          }
         }
        },
        "title": {
         "text": "<b>Fitness of all Combinations per Experiments</b>"
        },
        "xaxis": {
         "gridcolor": "lightgray",
         "range": [
          -0.5,
          2.5
         ],
         "showgrid": true,
         "ticktext": [
          "Probability of Mutation: 0.1",
          "Probability of Mutation: 0.2",
          "Mut: 0.3"
         ],
         "tickvals": [
          0,
          1,
          2
         ],
         "title": {
          "text": "Experiments"
         }
        },
        "yaxis": {
         "gridcolor": "lightgray",
         "title": {
          "text": "Fitness Value"
         }
        }
       }
      }
     },
     "metadata": {},
     "output_type": "display_data"
    }
   ],
   "source": [
    "comb_bf_per_exp({'exp1': 'Probability of Mutation: 0.1', 'exp2': 'Probability of Mutation: 0.2', 'exp3': 'Mut: 0.3'})"
   ]
  },
  {
   "cell_type": "markdown",
   "id": "3a899995",
   "metadata": {},
   "source": [
    "__`Step 7`__ For each combination, plot the different experiments (with different probabilities), along with standart deviation."
   ]
  },
  {
   "cell_type": "code",
   "execution_count": null,
   "id": "7fb1ab38",
   "metadata": {},
   "outputs": [
    {
     "data": {
      "application/vnd.plotly.v1+json": {
       "config": {
        "plotlyServerURL": "https://plot.ly"
       },
       "data": [
        {
         "hovertemplate": "Experience: Probability of Mutation: 0.1<br>Generation: %{x}<br>Fitness: %{y}<extra></extra>",
         "mode": "lines+markers",
         "name": "Probability of Mutation: 0.1",
         "showlegend": true,
         "type": "scatter",
         "x": [
          1,
          2,
          3,
          4,
          5,
          6,
          7,
          8,
          9,
          10,
          11,
          12,
          13,
          14,
          15,
          16,
          17,
          18,
          19,
          20,
          21,
          22,
          23,
          24,
          25,
          26,
          27,
          28,
          29,
          30,
          31,
          32,
          33,
          34,
          35,
          36,
          37,
          38,
          39,
          40,
          41,
          42,
          43,
          44,
          45,
          46,
          47,
          48,
          49,
          50,
          1,
          2,
          3,
          4,
          5,
          6,
          7,
          8,
          9,
          10,
          11,
          12,
          13,
          14,
          15,
          16,
          17,
          18,
          19,
          20,
          21,
          22,
          23,
          24,
          25,
          26,
          27,
          28,
          29,
          30,
          31,
          32,
          33,
          34,
          35,
          36,
          37,
          38,
          39,
          40,
          41,
          42,
          43,
          44,
          45,
          46,
          47,
          48,
          49,
          50,
          1,
          2,
          3,
          4,
          5,
          6,
          7,
          8,
          9,
          10,
          11,
          12,
          13,
          14,
          15,
          16,
          17,
          18,
          19,
          20,
          21,
          22,
          23,
          24,
          25,
          26,
          27,
          28,
          29,
          30,
          31,
          32,
          33,
          34,
          35,
          36,
          37,
          38,
          39,
          40,
          41,
          42,
          43,
          44,
          45,
          46,
          47,
          48,
          49,
          50
         ],
         "y": [
          1.253255,
          1.28505,
          1.3024,
          1.3120500000000002,
          1.3447850000000001,
          1.3729999999999998,
          1.385215,
          1.4025500000000002,
          1.41353,
          1.4271449999999999,
          1.437475,
          1.449,
          1.455265,
          1.4651200000000002,
          1.4751400000000001,
          1.48374,
          1.4876650000000002,
          1.5002849999999999,
          1.50345,
          1.5088149999999998,
          1.52405,
          1.52405,
          1.5260949999999998,
          1.5267849999999998,
          1.5267849999999998,
          1.530285,
          1.5334699999999999,
          1.53941,
          1.557855,
          1.55971,
          1.55971,
          1.560855,
          1.560855,
          1.566215,
          1.56876,
          1.569665,
          1.5735700000000001,
          1.580425,
          1.580425,
          1.584875,
          1.584875,
          1.584875,
          1.586855,
          1.587765,
          1.587765,
          1.58836,
          1.58836,
          1.59586,
          1.59855,
          1.6013100000000002
         ]
        },
        {
         "line": {
          "width": 0
         },
         "mode": "lines",
         "name": "+1 std Train",
         "showlegend": false,
         "type": "scatter",
         "x": [
          1,
          2,
          3,
          4,
          5,
          6,
          7,
          8,
          9,
          10,
          11,
          12,
          13,
          14,
          15,
          16,
          17,
          18,
          19,
          20,
          21,
          22,
          23,
          24,
          25,
          26,
          27,
          28,
          29,
          30,
          31,
          32,
          33,
          34,
          35,
          36,
          37,
          38,
          39,
          40,
          41,
          42,
          43,
          44,
          45,
          46,
          47,
          48,
          49,
          50,
          1,
          2,
          3,
          4,
          5,
          6,
          7,
          8,
          9,
          10,
          11,
          12,
          13,
          14,
          15,
          16,
          17,
          18,
          19,
          20,
          21,
          22,
          23,
          24,
          25,
          26,
          27,
          28,
          29,
          30,
          31,
          32,
          33,
          34,
          35,
          36,
          37,
          38,
          39,
          40,
          41,
          42,
          43,
          44,
          45,
          46,
          47,
          48,
          49,
          50,
          1,
          2,
          3,
          4,
          5,
          6,
          7,
          8,
          9,
          10,
          11,
          12,
          13,
          14,
          15,
          16,
          17,
          18,
          19,
          20,
          21,
          22,
          23,
          24,
          25,
          26,
          27,
          28,
          29,
          30,
          31,
          32,
          33,
          34,
          35,
          36,
          37,
          38,
          39,
          40,
          41,
          42,
          43,
          44,
          45,
          46,
          47,
          48,
          49,
          50
         ],
         "y": [
          1.2883491573288302,
          1.3210831790925703,
          1.3491666949340817,
          1.3537987770899431,
          1.403803827605723,
          1.4270423529780327,
          1.4339394624817754,
          1.445425521651597,
          1.4570942537226772,
          1.4701360099182736,
          1.48112321951445,
          1.493376258446135,
          1.4981125244272084,
          1.5074390712476584,
          1.5142110767424715,
          1.5233398182975049,
          1.5219046398711458,
          1.536954059487232,
          1.5437676260704176,
          1.5495175562810997,
          1.5643349240161688,
          1.5624370230841669,
          1.563378792603751,
          1.565472840266455,
          1.5691750760995322,
          1.5729802534711472,
          1.575753228511235,
          1.5807397737283522,
          1.597935177175429,
          1.6031111166178724,
          1.603668212080456,
          1.6048238055356283,
          1.607072507242896,
          1.6084411788780808,
          1.6113663415616075,
          1.6105038994189012,
          1.6160108493799543,
          1.6253387101984806,
          1.625547377363848,
          1.6302327925543374,
          1.6321632514448636,
          1.6320207730934038,
          1.6339111700743798,
          1.633005288935732,
          1.6331932840449028,
          1.6321140803286083,
          1.632110440549506,
          1.6407560465914341,
          1.6432394031783462,
          1.6458267524569163
         ]
        },
        {
         "fill": "tonexty",
         "fillcolor": "rgba(0,0,255,0.1)",
         "line": {
          "width": 0
         },
         "mode": "lines",
         "name": "-1 std Train",
         "showlegend": false,
         "type": "scatter",
         "x": [
          1,
          2,
          3,
          4,
          5,
          6,
          7,
          8,
          9,
          10,
          11,
          12,
          13,
          14,
          15,
          16,
          17,
          18,
          19,
          20,
          21,
          22,
          23,
          24,
          25,
          26,
          27,
          28,
          29,
          30,
          31,
          32,
          33,
          34,
          35,
          36,
          37,
          38,
          39,
          40,
          41,
          42,
          43,
          44,
          45,
          46,
          47,
          48,
          49,
          50,
          1,
          2,
          3,
          4,
          5,
          6,
          7,
          8,
          9,
          10,
          11,
          12,
          13,
          14,
          15,
          16,
          17,
          18,
          19,
          20,
          21,
          22,
          23,
          24,
          25,
          26,
          27,
          28,
          29,
          30,
          31,
          32,
          33,
          34,
          35,
          36,
          37,
          38,
          39,
          40,
          41,
          42,
          43,
          44,
          45,
          46,
          47,
          48,
          49,
          50,
          1,
          2,
          3,
          4,
          5,
          6,
          7,
          8,
          9,
          10,
          11,
          12,
          13,
          14,
          15,
          16,
          17,
          18,
          19,
          20,
          21,
          22,
          23,
          24,
          25,
          26,
          27,
          28,
          29,
          30,
          31,
          32,
          33,
          34,
          35,
          36,
          37,
          38,
          39,
          40,
          41,
          42,
          43,
          44,
          45,
          46,
          47,
          48,
          49,
          50
         ],
         "y": [
          1.2181608426711699,
          1.2490168209074297,
          1.2556333050659183,
          1.2703012229100572,
          1.2857661723942773,
          1.3189576470219668,
          1.3364905375182248,
          1.3596744783484034,
          1.3699657462773227,
          1.3841539900817261,
          1.3938267804855502,
          1.4046237415538652,
          1.4124174755727916,
          1.422800928752342,
          1.4360689232575288,
          1.4441401817024953,
          1.4534253601288547,
          1.4636159405127678,
          1.4631323739295823,
          1.4681124437189,
          1.483765075983831,
          1.485662976915833,
          1.4888112073962485,
          1.4880971597335446,
          1.4843949239004675,
          1.4875897465288526,
          1.4911867714887648,
          1.4980802262716477,
          1.5177748228245709,
          1.5163088833821274,
          1.515751787919544,
          1.516886194464372,
          1.5146374927571042,
          1.523988821121919,
          1.5261536584383923,
          1.528826100581099,
          1.531129150620046,
          1.5355112898015193,
          1.535302622636152,
          1.5395172074456627,
          1.5375867485551364,
          1.5377292269065963,
          1.53979882992562,
          1.5425247110642681,
          1.5423367159550974,
          1.5446059196713917,
          1.544609559450494,
          1.550963953408566,
          1.5538605968216537,
          1.5567932475430841
         ]
        },
        {
         "hovertemplate": "Experience: Probability of Mutation: 0.2<br>Generation: %{x}<br>Fitness: %{y}<extra></extra>",
         "mode": "lines+markers",
         "name": "Probability of Mutation: 0.2",
         "showlegend": true,
         "type": "scatter",
         "x": [
          1,
          2,
          3,
          4,
          5,
          6,
          7,
          8,
          9,
          10,
          11,
          12,
          13,
          14,
          15,
          16,
          17,
          18,
          19,
          20,
          21,
          22,
          23,
          24,
          25,
          26,
          27,
          28,
          29,
          30,
          31,
          32,
          33,
          34,
          35,
          36,
          37,
          38,
          39,
          40,
          41,
          42,
          43,
          44,
          45,
          46,
          47,
          48,
          49,
          50,
          1,
          2,
          3,
          4,
          5,
          6,
          7,
          8,
          9,
          10,
          11,
          12,
          13,
          14,
          15,
          16,
          17,
          18,
          19,
          20,
          21,
          22,
          23,
          24,
          25,
          26,
          27,
          28,
          29,
          30,
          31,
          32,
          33,
          34,
          35,
          36,
          37,
          38,
          39,
          40,
          41,
          42,
          43,
          44,
          45,
          46,
          47,
          48,
          49,
          50,
          1,
          2,
          3,
          4,
          5,
          6,
          7,
          8,
          9,
          10,
          11,
          12,
          13,
          14,
          15,
          16,
          17,
          18,
          19,
          20,
          21,
          22,
          23,
          24,
          25,
          26,
          27,
          28,
          29,
          30,
          31,
          32,
          33,
          34,
          35,
          36,
          37,
          38,
          39,
          40,
          41,
          42,
          43,
          44,
          45,
          46,
          47,
          48,
          49,
          50
         ],
         "y": [
          1.229875,
          1.25943,
          1.286645,
          1.30364,
          1.3230250000000003,
          1.34057,
          1.36176,
          1.37388,
          1.390455,
          1.395885,
          1.399335,
          1.4011200000000001,
          1.4077350000000002,
          1.4077350000000002,
          1.4185699999999999,
          1.435375,
          1.44376,
          1.44376,
          1.4567100000000002,
          1.4630450000000002,
          1.4630450000000002,
          1.4637600000000002,
          1.4637600000000002,
          1.46743,
          1.46743,
          1.47045,
          1.472405,
          1.472405,
          1.4764499999999998,
          1.4841,
          1.4841,
          1.4841,
          1.4841,
          1.4841,
          1.4870999999999999,
          1.4870999999999999,
          1.4939550000000001,
          1.495975,
          1.5066950000000001,
          1.508745,
          1.51191,
          1.51191,
          1.513595,
          1.5144,
          1.5144000000000002,
          1.5203799999999998,
          1.52793,
          1.531285,
          1.5349050000000002,
          1.5387400000000002
         ]
        },
        {
         "line": {
          "width": 0
         },
         "mode": "lines",
         "name": "+1 std Train",
         "showlegend": false,
         "type": "scatter",
         "x": [
          1,
          2,
          3,
          4,
          5,
          6,
          7,
          8,
          9,
          10,
          11,
          12,
          13,
          14,
          15,
          16,
          17,
          18,
          19,
          20,
          21,
          22,
          23,
          24,
          25,
          26,
          27,
          28,
          29,
          30,
          31,
          32,
          33,
          34,
          35,
          36,
          37,
          38,
          39,
          40,
          41,
          42,
          43,
          44,
          45,
          46,
          47,
          48,
          49,
          50,
          1,
          2,
          3,
          4,
          5,
          6,
          7,
          8,
          9,
          10,
          11,
          12,
          13,
          14,
          15,
          16,
          17,
          18,
          19,
          20,
          21,
          22,
          23,
          24,
          25,
          26,
          27,
          28,
          29,
          30,
          31,
          32,
          33,
          34,
          35,
          36,
          37,
          38,
          39,
          40,
          41,
          42,
          43,
          44,
          45,
          46,
          47,
          48,
          49,
          50,
          1,
          2,
          3,
          4,
          5,
          6,
          7,
          8,
          9,
          10,
          11,
          12,
          13,
          14,
          15,
          16,
          17,
          18,
          19,
          20,
          21,
          22,
          23,
          24,
          25,
          26,
          27,
          28,
          29,
          30,
          31,
          32,
          33,
          34,
          35,
          36,
          37,
          38,
          39,
          40,
          41,
          42,
          43,
          44,
          45,
          46,
          47,
          48,
          49,
          50
         ],
         "y": [
          1.2656998343772994,
          1.2928019956932715,
          1.3205483830407703,
          1.3389724217362342,
          1.361128476869444,
          1.3769996227212031,
          1.3970046651967016,
          1.4150753102187978,
          1.4300375635361324,
          1.4341665628757094,
          1.4436449860426908,
          1.444214206145761,
          1.4500608865710218,
          1.4477137993759222,
          1.4650339935295347,
          1.4814319432208716,
          1.4872354073289,
          1.4889277794896205,
          1.5011796405298108,
          1.5059033616273338,
          1.5077322714218093,
          1.5058850404263255,
          1.5019687183121535,
          1.5072962774901237,
          1.507332623687252,
          1.5129275459223601,
          1.513842109317865,
          1.5129415637830013,
          1.5169472629130447,
          1.5241875286723623,
          1.5235684122439384,
          1.5216090984533301,
          1.5216090984533301,
          1.5205786585837386,
          1.5280875778055718,
          1.52745631589533,
          1.5328185329009116,
          1.5335704627382847,
          1.5443537499090536,
          1.5433662762452596,
          1.5449921633036683,
          1.5450174904258667,
          1.5451049457186998,
          1.5457317557758896,
          1.546974473688641,
          1.5556975566073394,
          1.5640838318170767,
          1.5674838081041478,
          1.5686954523276289,
          1.5724101676494229
         ]
        },
        {
         "fill": "tonexty",
         "fillcolor": "rgba(0,0,255,0.1)",
         "line": {
          "width": 0
         },
         "mode": "lines",
         "name": "-1 std Train",
         "showlegend": false,
         "type": "scatter",
         "x": [
          1,
          2,
          3,
          4,
          5,
          6,
          7,
          8,
          9,
          10,
          11,
          12,
          13,
          14,
          15,
          16,
          17,
          18,
          19,
          20,
          21,
          22,
          23,
          24,
          25,
          26,
          27,
          28,
          29,
          30,
          31,
          32,
          33,
          34,
          35,
          36,
          37,
          38,
          39,
          40,
          41,
          42,
          43,
          44,
          45,
          46,
          47,
          48,
          49,
          50,
          1,
          2,
          3,
          4,
          5,
          6,
          7,
          8,
          9,
          10,
          11,
          12,
          13,
          14,
          15,
          16,
          17,
          18,
          19,
          20,
          21,
          22,
          23,
          24,
          25,
          26,
          27,
          28,
          29,
          30,
          31,
          32,
          33,
          34,
          35,
          36,
          37,
          38,
          39,
          40,
          41,
          42,
          43,
          44,
          45,
          46,
          47,
          48,
          49,
          50,
          1,
          2,
          3,
          4,
          5,
          6,
          7,
          8,
          9,
          10,
          11,
          12,
          13,
          14,
          15,
          16,
          17,
          18,
          19,
          20,
          21,
          22,
          23,
          24,
          25,
          26,
          27,
          28,
          29,
          30,
          31,
          32,
          33,
          34,
          35,
          36,
          37,
          38,
          39,
          40,
          41,
          42,
          43,
          44,
          45,
          46,
          47,
          48,
          49,
          50
         ],
         "y": [
          1.1940501656227007,
          1.2260580043067286,
          1.2527416169592298,
          1.2683075782637656,
          1.2849215231305566,
          1.304140377278797,
          1.3265153348032985,
          1.3326846897812021,
          1.3508724364638676,
          1.3576034371242907,
          1.3550250139573092,
          1.3580257938542393,
          1.3654091134289785,
          1.3677562006240782,
          1.372106006470465,
          1.3893180567791286,
          1.4002845926710998,
          1.3985922205103793,
          1.4122403594701896,
          1.4201866383726665,
          1.418357728578191,
          1.4216349595736748,
          1.4255512816878468,
          1.4275637225098763,
          1.427527376312748,
          1.42797245407764,
          1.430967890682135,
          1.4318684362169987,
          1.435952737086955,
          1.4440124713276377,
          1.4446315877560616,
          1.4465909015466698,
          1.4465909015466698,
          1.4476213414162613,
          1.446112422194428,
          1.4467436841046697,
          1.4550914670990887,
          1.4583795372617154,
          1.4690362500909466,
          1.4741237237547404,
          1.4788278366963319,
          1.4788025095741335,
          1.4820850542813002,
          1.4830682442241103,
          1.4818255263113593,
          1.4850624433926602,
          1.4917761681829234,
          1.4950861918958522,
          1.5011145476723715,
          1.5050698323505776
         ]
        },
        {
         "hovertemplate": "Experience: Mut: 0.3<br>Generation: %{x}<br>Fitness: %{y}<extra></extra>",
         "mode": "lines+markers",
         "name": "Mut: 0.3",
         "showlegend": true,
         "type": "scatter",
         "x": [
          1,
          2,
          3,
          4,
          5,
          6,
          7,
          8,
          9,
          10,
          11,
          12,
          13,
          14,
          15,
          16,
          17,
          18,
          19,
          20,
          21,
          22,
          23,
          24,
          25,
          26,
          27,
          28,
          29,
          30,
          31,
          32,
          33,
          34,
          35,
          36,
          37,
          38,
          39,
          40,
          41,
          42,
          43,
          44,
          45,
          46,
          47,
          48,
          49,
          50,
          1,
          2,
          3,
          4,
          5,
          6,
          7,
          8,
          9,
          10,
          11,
          12,
          13,
          14,
          15,
          16,
          17,
          18,
          19,
          20,
          21,
          22,
          23,
          24,
          25,
          26,
          27,
          28,
          29,
          30,
          31,
          32,
          33,
          34,
          35,
          36,
          37,
          38,
          39,
          40,
          41,
          42,
          43,
          44,
          45,
          46,
          47,
          48,
          49,
          50,
          1,
          2,
          3,
          4,
          5,
          6,
          7,
          8,
          9,
          10,
          11,
          12,
          13,
          14,
          15,
          16,
          17,
          18,
          19,
          20,
          21,
          22,
          23,
          24,
          25,
          26,
          27,
          28,
          29,
          30,
          31,
          32,
          33,
          34,
          35,
          36,
          37,
          38,
          39,
          40,
          41,
          42,
          43,
          44,
          45,
          46,
          47,
          48,
          49,
          50
         ],
         "y": [
          1.252575,
          1.27012,
          1.3095750000000002,
          1.3312400000000002,
          1.354165,
          1.3721849999999998,
          1.38405,
          1.400215,
          1.4197549999999999,
          1.4226649999999998,
          1.442615,
          1.4604750000000002,
          1.4637850000000001,
          1.472835,
          1.491,
          1.5060700000000002,
          1.5061900000000001,
          1.5089299999999999,
          1.5117150000000001,
          1.514285,
          1.525785,
          1.5300500000000001,
          1.53329,
          1.5361449999999999,
          1.5361449999999999,
          1.539455,
          1.54545,
          1.546335,
          1.546335,
          1.561975,
          1.5695,
          1.5724749999999998,
          1.5747399999999998,
          1.587265,
          1.587265,
          1.587265,
          1.58807,
          1.58852,
          1.591265,
          1.59257,
          1.596695,
          1.59788,
          1.5991149999999998,
          1.5991149999999998,
          1.5998299999999999,
          1.600165,
          1.607905,
          1.607905,
          1.607905,
          1.61969
         ]
        },
        {
         "line": {
          "width": 0
         },
         "mode": "lines",
         "name": "+1 std Train",
         "showlegend": false,
         "type": "scatter",
         "x": [
          1,
          2,
          3,
          4,
          5,
          6,
          7,
          8,
          9,
          10,
          11,
          12,
          13,
          14,
          15,
          16,
          17,
          18,
          19,
          20,
          21,
          22,
          23,
          24,
          25,
          26,
          27,
          28,
          29,
          30,
          31,
          32,
          33,
          34,
          35,
          36,
          37,
          38,
          39,
          40,
          41,
          42,
          43,
          44,
          45,
          46,
          47,
          48,
          49,
          50,
          1,
          2,
          3,
          4,
          5,
          6,
          7,
          8,
          9,
          10,
          11,
          12,
          13,
          14,
          15,
          16,
          17,
          18,
          19,
          20,
          21,
          22,
          23,
          24,
          25,
          26,
          27,
          28,
          29,
          30,
          31,
          32,
          33,
          34,
          35,
          36,
          37,
          38,
          39,
          40,
          41,
          42,
          43,
          44,
          45,
          46,
          47,
          48,
          49,
          50,
          1,
          2,
          3,
          4,
          5,
          6,
          7,
          8,
          9,
          10,
          11,
          12,
          13,
          14,
          15,
          16,
          17,
          18,
          19,
          20,
          21,
          22,
          23,
          24,
          25,
          26,
          27,
          28,
          29,
          30,
          31,
          32,
          33,
          34,
          35,
          36,
          37,
          38,
          39,
          40,
          41,
          42,
          43,
          44,
          45,
          46,
          47,
          48,
          49,
          50
         ],
         "y": [
          1.2898762525520797,
          1.3065658355156906,
          1.3506896429434554,
          1.3726281335720123,
          1.3972793997066986,
          1.4127571337979594,
          1.422650016212551,
          1.4414173910825518,
          1.464412860380823,
          1.4608386212541484,
          1.4804899631614707,
          1.5028586626096296,
          1.5078056538267361,
          1.5153554016333037,
          1.5334354461858068,
          1.544905373448952,
          1.5440301503544922,
          1.546835394478553,
          1.5527589568738456,
          1.5542882767925073,
          1.5656572063497294,
          1.5693884619138463,
          1.5765003493829095,
          1.5781722440497088,
          1.5779934735999257,
          1.5846058591382217,
          1.587231123149207,
          1.5882414539250784,
          1.5855784412471632,
          1.6036325113192127,
          1.6091513242578641,
          1.611047252800322,
          1.6130902352957757,
          1.6259799556536536,
          1.6256296178527625,
          1.6256483207026295,
          1.628948631757531,
          1.6293112603680469,
          1.638133743406515,
          1.6380168095108187,
          1.6452962516323384,
          1.6459312921411775,
          1.64545403357477,
          1.6456574206751093,
          1.646199935450442,
          1.648059678730415,
          1.6546560150900922,
          1.6552542515130975,
          1.6552542515130975,
          1.6667107788501867
         ]
        },
        {
         "fill": "tonexty",
         "fillcolor": "rgba(0,0,255,0.1)",
         "line": {
          "width": 0
         },
         "mode": "lines",
         "name": "-1 std Train",
         "showlegend": false,
         "type": "scatter",
         "x": [
          1,
          2,
          3,
          4,
          5,
          6,
          7,
          8,
          9,
          10,
          11,
          12,
          13,
          14,
          15,
          16,
          17,
          18,
          19,
          20,
          21,
          22,
          23,
          24,
          25,
          26,
          27,
          28,
          29,
          30,
          31,
          32,
          33,
          34,
          35,
          36,
          37,
          38,
          39,
          40,
          41,
          42,
          43,
          44,
          45,
          46,
          47,
          48,
          49,
          50,
          1,
          2,
          3,
          4,
          5,
          6,
          7,
          8,
          9,
          10,
          11,
          12,
          13,
          14,
          15,
          16,
          17,
          18,
          19,
          20,
          21,
          22,
          23,
          24,
          25,
          26,
          27,
          28,
          29,
          30,
          31,
          32,
          33,
          34,
          35,
          36,
          37,
          38,
          39,
          40,
          41,
          42,
          43,
          44,
          45,
          46,
          47,
          48,
          49,
          50,
          1,
          2,
          3,
          4,
          5,
          6,
          7,
          8,
          9,
          10,
          11,
          12,
          13,
          14,
          15,
          16,
          17,
          18,
          19,
          20,
          21,
          22,
          23,
          24,
          25,
          26,
          27,
          28,
          29,
          30,
          31,
          32,
          33,
          34,
          35,
          36,
          37,
          38,
          39,
          40,
          41,
          42,
          43,
          44,
          45,
          46,
          47,
          48,
          49,
          50
         ],
         "y": [
          1.2152737474479203,
          1.2336741644843092,
          1.268460357056545,
          1.289851866427988,
          1.3110506002933016,
          1.3316128662020401,
          1.345449983787449,
          1.3590126089174481,
          1.3750971396191767,
          1.3844913787458513,
          1.4047400368385292,
          1.4180913373903707,
          1.419764346173264,
          1.430314598366696,
          1.4485645538141934,
          1.4672346265510485,
          1.468349849645508,
          1.4710246055214469,
          1.4706710431261547,
          1.474281723207493,
          1.4859127936502705,
          1.490711538086154,
          1.4900796506170906,
          1.494117755950291,
          1.494296526400074,
          1.4943041408617783,
          1.503668876850793,
          1.5044285460749216,
          1.5070915587528368,
          1.520317488680787,
          1.5298486757421357,
          1.5339027471996778,
          1.536389764704224,
          1.5485500443463462,
          1.5489003821472374,
          1.5488816792973703,
          1.5471913682424692,
          1.547728739631953,
          1.5443962565934848,
          1.5471231904891813,
          1.5480937483676616,
          1.5498287078588224,
          1.5527759664252296,
          1.5525725793248903,
          1.5534600645495578,
          1.5522703212695852,
          1.5611539849099076,
          1.5605557484869024,
          1.5605557484869024,
          1.5726692211498134
         ]
        }
       ],
       "layout": {
        "autosize": true,
        "height": 650,
        "legend": {
         "font": {
          "size": 11
         },
         "orientation": "h",
         "title": {
          "font": {
           "size": 12
          },
          "side": "top",
          "text": "Experience"
         },
         "y": -0.3
        },
        "margin": {
         "b": 100,
         "l": 50,
         "pad": 10,
         "r": 50,
         "t": 80
        },
        "plot_bgcolor": "white",
        "template": {
         "data": {
          "bar": [
           {
            "error_x": {
             "color": "#2a3f5f"
            },
            "error_y": {
             "color": "#2a3f5f"
            },
            "marker": {
             "line": {
              "color": "#E5ECF6",
              "width": 0.5
             },
             "pattern": {
              "fillmode": "overlay",
              "size": 10,
              "solidity": 0.2
             }
            },
            "type": "bar"
           }
          ],
          "barpolar": [
           {
            "marker": {
             "line": {
              "color": "#E5ECF6",
              "width": 0.5
             },
             "pattern": {
              "fillmode": "overlay",
              "size": 10,
              "solidity": 0.2
             }
            },
            "type": "barpolar"
           }
          ],
          "carpet": [
           {
            "aaxis": {
             "endlinecolor": "#2a3f5f",
             "gridcolor": "white",
             "linecolor": "white",
             "minorgridcolor": "white",
             "startlinecolor": "#2a3f5f"
            },
            "baxis": {
             "endlinecolor": "#2a3f5f",
             "gridcolor": "white",
             "linecolor": "white",
             "minorgridcolor": "white",
             "startlinecolor": "#2a3f5f"
            },
            "type": "carpet"
           }
          ],
          "choropleth": [
           {
            "colorbar": {
             "outlinewidth": 0,
             "ticks": ""
            },
            "type": "choropleth"
           }
          ],
          "contour": [
           {
            "colorbar": {
             "outlinewidth": 0,
             "ticks": ""
            },
            "colorscale": [
             [
              0,
              "#0d0887"
             ],
             [
              0.1111111111111111,
              "#46039f"
             ],
             [
              0.2222222222222222,
              "#7201a8"
             ],
             [
              0.3333333333333333,
              "#9c179e"
             ],
             [
              0.4444444444444444,
              "#bd3786"
             ],
             [
              0.5555555555555556,
              "#d8576b"
             ],
             [
              0.6666666666666666,
              "#ed7953"
             ],
             [
              0.7777777777777778,
              "#fb9f3a"
             ],
             [
              0.8888888888888888,
              "#fdca26"
             ],
             [
              1,
              "#f0f921"
             ]
            ],
            "type": "contour"
           }
          ],
          "contourcarpet": [
           {
            "colorbar": {
             "outlinewidth": 0,
             "ticks": ""
            },
            "type": "contourcarpet"
           }
          ],
          "heatmap": [
           {
            "colorbar": {
             "outlinewidth": 0,
             "ticks": ""
            },
            "colorscale": [
             [
              0,
              "#0d0887"
             ],
             [
              0.1111111111111111,
              "#46039f"
             ],
             [
              0.2222222222222222,
              "#7201a8"
             ],
             [
              0.3333333333333333,
              "#9c179e"
             ],
             [
              0.4444444444444444,
              "#bd3786"
             ],
             [
              0.5555555555555556,
              "#d8576b"
             ],
             [
              0.6666666666666666,
              "#ed7953"
             ],
             [
              0.7777777777777778,
              "#fb9f3a"
             ],
             [
              0.8888888888888888,
              "#fdca26"
             ],
             [
              1,
              "#f0f921"
             ]
            ],
            "type": "heatmap"
           }
          ],
          "heatmapgl": [
           {
            "colorbar": {
             "outlinewidth": 0,
             "ticks": ""
            },
            "colorscale": [
             [
              0,
              "#0d0887"
             ],
             [
              0.1111111111111111,
              "#46039f"
             ],
             [
              0.2222222222222222,
              "#7201a8"
             ],
             [
              0.3333333333333333,
              "#9c179e"
             ],
             [
              0.4444444444444444,
              "#bd3786"
             ],
             [
              0.5555555555555556,
              "#d8576b"
             ],
             [
              0.6666666666666666,
              "#ed7953"
             ],
             [
              0.7777777777777778,
              "#fb9f3a"
             ],
             [
              0.8888888888888888,
              "#fdca26"
             ],
             [
              1,
              "#f0f921"
             ]
            ],
            "type": "heatmapgl"
           }
          ],
          "histogram": [
           {
            "marker": {
             "pattern": {
              "fillmode": "overlay",
              "size": 10,
              "solidity": 0.2
             }
            },
            "type": "histogram"
           }
          ],
          "histogram2d": [
           {
            "colorbar": {
             "outlinewidth": 0,
             "ticks": ""
            },
            "colorscale": [
             [
              0,
              "#0d0887"
             ],
             [
              0.1111111111111111,
              "#46039f"
             ],
             [
              0.2222222222222222,
              "#7201a8"
             ],
             [
              0.3333333333333333,
              "#9c179e"
             ],
             [
              0.4444444444444444,
              "#bd3786"
             ],
             [
              0.5555555555555556,
              "#d8576b"
             ],
             [
              0.6666666666666666,
              "#ed7953"
             ],
             [
              0.7777777777777778,
              "#fb9f3a"
             ],
             [
              0.8888888888888888,
              "#fdca26"
             ],
             [
              1,
              "#f0f921"
             ]
            ],
            "type": "histogram2d"
           }
          ],
          "histogram2dcontour": [
           {
            "colorbar": {
             "outlinewidth": 0,
             "ticks": ""
            },
            "colorscale": [
             [
              0,
              "#0d0887"
             ],
             [
              0.1111111111111111,
              "#46039f"
             ],
             [
              0.2222222222222222,
              "#7201a8"
             ],
             [
              0.3333333333333333,
              "#9c179e"
             ],
             [
              0.4444444444444444,
              "#bd3786"
             ],
             [
              0.5555555555555556,
              "#d8576b"
             ],
             [
              0.6666666666666666,
              "#ed7953"
             ],
             [
              0.7777777777777778,
              "#fb9f3a"
             ],
             [
              0.8888888888888888,
              "#fdca26"
             ],
             [
              1,
              "#f0f921"
             ]
            ],
            "type": "histogram2dcontour"
           }
          ],
          "mesh3d": [
           {
            "colorbar": {
             "outlinewidth": 0,
             "ticks": ""
            },
            "type": "mesh3d"
           }
          ],
          "parcoords": [
           {
            "line": {
             "colorbar": {
              "outlinewidth": 0,
              "ticks": ""
             }
            },
            "type": "parcoords"
           }
          ],
          "pie": [
           {
            "automargin": true,
            "type": "pie"
           }
          ],
          "scatter": [
           {
            "fillpattern": {
             "fillmode": "overlay",
             "size": 10,
             "solidity": 0.2
            },
            "type": "scatter"
           }
          ],
          "scatter3d": [
           {
            "line": {
             "colorbar": {
              "outlinewidth": 0,
              "ticks": ""
             }
            },
            "marker": {
             "colorbar": {
              "outlinewidth": 0,
              "ticks": ""
             }
            },
            "type": "scatter3d"
           }
          ],
          "scattercarpet": [
           {
            "marker": {
             "colorbar": {
              "outlinewidth": 0,
              "ticks": ""
             }
            },
            "type": "scattercarpet"
           }
          ],
          "scattergeo": [
           {
            "marker": {
             "colorbar": {
              "outlinewidth": 0,
              "ticks": ""
             }
            },
            "type": "scattergeo"
           }
          ],
          "scattergl": [
           {
            "marker": {
             "colorbar": {
              "outlinewidth": 0,
              "ticks": ""
             }
            },
            "type": "scattergl"
           }
          ],
          "scattermapbox": [
           {
            "marker": {
             "colorbar": {
              "outlinewidth": 0,
              "ticks": ""
             }
            },
            "type": "scattermapbox"
           }
          ],
          "scatterpolar": [
           {
            "marker": {
             "colorbar": {
              "outlinewidth": 0,
              "ticks": ""
             }
            },
            "type": "scatterpolar"
           }
          ],
          "scatterpolargl": [
           {
            "marker": {
             "colorbar": {
              "outlinewidth": 0,
              "ticks": ""
             }
            },
            "type": "scatterpolargl"
           }
          ],
          "scatterternary": [
           {
            "marker": {
             "colorbar": {
              "outlinewidth": 0,
              "ticks": ""
             }
            },
            "type": "scatterternary"
           }
          ],
          "surface": [
           {
            "colorbar": {
             "outlinewidth": 0,
             "ticks": ""
            },
            "colorscale": [
             [
              0,
              "#0d0887"
             ],
             [
              0.1111111111111111,
              "#46039f"
             ],
             [
              0.2222222222222222,
              "#7201a8"
             ],
             [
              0.3333333333333333,
              "#9c179e"
             ],
             [
              0.4444444444444444,
              "#bd3786"
             ],
             [
              0.5555555555555556,
              "#d8576b"
             ],
             [
              0.6666666666666666,
              "#ed7953"
             ],
             [
              0.7777777777777778,
              "#fb9f3a"
             ],
             [
              0.8888888888888888,
              "#fdca26"
             ],
             [
              1,
              "#f0f921"
             ]
            ],
            "type": "surface"
           }
          ],
          "table": [
           {
            "cells": {
             "fill": {
              "color": "#EBF0F8"
             },
             "line": {
              "color": "white"
             }
            },
            "header": {
             "fill": {
              "color": "#C8D4E3"
             },
             "line": {
              "color": "white"
             }
            },
            "type": "table"
           }
          ]
         },
         "layout": {
          "annotationdefaults": {
           "arrowcolor": "#2a3f5f",
           "arrowhead": 0,
           "arrowwidth": 1
          },
          "autotypenumbers": "strict",
          "coloraxis": {
           "colorbar": {
            "outlinewidth": 0,
            "ticks": ""
           }
          },
          "colorscale": {
           "diverging": [
            [
             0,
             "#8e0152"
            ],
            [
             0.1,
             "#c51b7d"
            ],
            [
             0.2,
             "#de77ae"
            ],
            [
             0.3,
             "#f1b6da"
            ],
            [
             0.4,
             "#fde0ef"
            ],
            [
             0.5,
             "#f7f7f7"
            ],
            [
             0.6,
             "#e6f5d0"
            ],
            [
             0.7,
             "#b8e186"
            ],
            [
             0.8,
             "#7fbc41"
            ],
            [
             0.9,
             "#4d9221"
            ],
            [
             1,
             "#276419"
            ]
           ],
           "sequential": [
            [
             0,
             "#0d0887"
            ],
            [
             0.1111111111111111,
             "#46039f"
            ],
            [
             0.2222222222222222,
             "#7201a8"
            ],
            [
             0.3333333333333333,
             "#9c179e"
            ],
            [
             0.4444444444444444,
             "#bd3786"
            ],
            [
             0.5555555555555556,
             "#d8576b"
            ],
            [
             0.6666666666666666,
             "#ed7953"
            ],
            [
             0.7777777777777778,
             "#fb9f3a"
            ],
            [
             0.8888888888888888,
             "#fdca26"
            ],
            [
             1,
             "#f0f921"
            ]
           ],
           "sequentialminus": [
            [
             0,
             "#0d0887"
            ],
            [
             0.1111111111111111,
             "#46039f"
            ],
            [
             0.2222222222222222,
             "#7201a8"
            ],
            [
             0.3333333333333333,
             "#9c179e"
            ],
            [
             0.4444444444444444,
             "#bd3786"
            ],
            [
             0.5555555555555556,
             "#d8576b"
            ],
            [
             0.6666666666666666,
             "#ed7953"
            ],
            [
             0.7777777777777778,
             "#fb9f3a"
            ],
            [
             0.8888888888888888,
             "#fdca26"
            ],
            [
             1,
             "#f0f921"
            ]
           ]
          },
          "colorway": [
           "#636efa",
           "#EF553B",
           "#00cc96",
           "#ab63fa",
           "#FFA15A",
           "#19d3f3",
           "#FF6692",
           "#B6E880",
           "#FF97FF",
           "#FECB52"
          ],
          "font": {
           "color": "#2a3f5f"
          },
          "geo": {
           "bgcolor": "white",
           "lakecolor": "white",
           "landcolor": "#E5ECF6",
           "showlakes": true,
           "showland": true,
           "subunitcolor": "white"
          },
          "hoverlabel": {
           "align": "left"
          },
          "hovermode": "closest",
          "mapbox": {
           "style": "light"
          },
          "paper_bgcolor": "white",
          "plot_bgcolor": "#E5ECF6",
          "polar": {
           "angularaxis": {
            "gridcolor": "white",
            "linecolor": "white",
            "ticks": ""
           },
           "bgcolor": "#E5ECF6",
           "radialaxis": {
            "gridcolor": "white",
            "linecolor": "white",
            "ticks": ""
           }
          },
          "scene": {
           "xaxis": {
            "backgroundcolor": "#E5ECF6",
            "gridcolor": "white",
            "gridwidth": 2,
            "linecolor": "white",
            "showbackground": true,
            "ticks": "",
            "zerolinecolor": "white"
           },
           "yaxis": {
            "backgroundcolor": "#E5ECF6",
            "gridcolor": "white",
            "gridwidth": 2,
            "linecolor": "white",
            "showbackground": true,
            "ticks": "",
            "zerolinecolor": "white"
           },
           "zaxis": {
            "backgroundcolor": "#E5ECF6",
            "gridcolor": "white",
            "gridwidth": 2,
            "linecolor": "white",
            "showbackground": true,
            "ticks": "",
            "zerolinecolor": "white"
           }
          },
          "shapedefaults": {
           "line": {
            "color": "#2a3f5f"
           }
          },
          "ternary": {
           "aaxis": {
            "gridcolor": "white",
            "linecolor": "white",
            "ticks": ""
           },
           "baxis": {
            "gridcolor": "white",
            "linecolor": "white",
            "ticks": ""
           },
           "bgcolor": "#E5ECF6",
           "caxis": {
            "gridcolor": "white",
            "linecolor": "white",
            "ticks": ""
           }
          },
          "title": {
           "x": 0.05
          },
          "xaxis": {
           "automargin": true,
           "gridcolor": "white",
           "linecolor": "white",
           "ticks": "",
           "title": {
            "standoff": 15
           },
           "zerolinecolor": "white",
           "zerolinewidth": 2
          },
          "yaxis": {
           "automargin": true,
           "gridcolor": "white",
           "linecolor": "white",
           "ticks": "",
           "title": {
            "standoff": 15
           },
           "zerolinecolor": "white",
           "zerolinewidth": 2
          }
         }
        },
        "title": {
         "font": {
          "family": "Arial",
          "size": 18
         },
         "text": "<b>Median Best Fitness per Generation</b><br>Combination ('block_rotation_mutation', 'partially_mapped_crossover', 'tournament_selection')"
        },
        "width": 850,
        "xaxis": {
         "gridcolor": "lightgray",
         "title": {
          "text": "Generation"
         }
        },
        "yaxis": {
         "gridcolor": "lightgray",
         "title": {
          "text": "Fitness"
         }
        }
       }
      }
     },
     "metadata": {},
     "output_type": "display_data"
    },
    {
     "data": {
      "application/vnd.plotly.v1+json": {
       "config": {
        "plotlyServerURL": "https://plot.ly"
       },
       "data": [
        {
         "hovertemplate": "Experience: Probability of Mutation: 0.1<br>Generation: %{x}<br>Fitness: %{y}<extra></extra>",
         "mode": "lines+markers",
         "name": "Probability of Mutation: 0.1",
         "showlegend": true,
         "type": "scatter",
         "x": [
          1,
          2,
          3,
          4,
          5,
          6,
          7,
          8,
          9,
          10,
          11,
          12,
          13,
          14,
          15,
          16,
          17,
          18,
          19,
          20,
          21,
          22,
          23,
          24,
          25,
          26,
          27,
          28,
          29,
          30,
          31,
          32,
          33,
          34,
          35,
          36,
          37,
          38,
          39,
          40,
          41,
          42,
          43,
          44,
          45,
          46,
          47,
          48,
          49,
          50,
          1,
          2,
          3,
          4,
          5,
          6,
          7,
          8,
          9,
          10,
          11,
          12,
          13,
          14,
          15,
          16,
          17,
          18,
          19,
          20,
          21,
          22,
          23,
          24,
          25,
          26,
          27,
          28,
          29,
          30,
          31,
          32,
          33,
          34,
          35,
          36,
          37,
          38,
          39,
          40,
          41,
          42,
          43,
          44,
          45,
          46,
          47,
          48,
          49,
          50,
          1,
          2,
          3,
          4,
          5,
          6,
          7,
          8,
          9,
          10,
          11,
          12,
          13,
          14,
          15,
          16,
          17,
          18,
          19,
          20,
          21,
          22,
          23,
          24,
          25,
          26,
          27,
          28,
          29,
          30,
          31,
          32,
          33,
          34,
          35,
          36,
          37,
          38,
          39,
          40,
          41,
          42,
          43,
          44,
          45,
          46,
          47,
          48,
          49,
          50
         ],
         "y": [
          1.2144750000000002,
          1.2156650000000002,
          1.218665,
          1.23031,
          1.2353550000000002,
          1.2375699999999998,
          1.2375699999999998,
          1.23814,
          1.23895,
          1.23895,
          1.23895,
          1.23895,
          1.23895,
          1.23895,
          1.23895,
          1.23895,
          1.239595,
          1.239595,
          1.239595,
          1.241145,
          1.241145,
          1.241145,
          1.241145,
          1.241145,
          1.2422149999999998,
          1.2422149999999998,
          1.2422149999999998,
          1.2422149999999998,
          1.2422149999999998,
          1.244885,
          1.244885,
          1.244885,
          1.244885,
          1.244885,
          1.244885,
          1.244885,
          1.25031,
          1.253835,
          1.253835,
          1.253835,
          1.253835,
          1.253835,
          1.2549549999999998,
          1.25519,
          1.25519,
          1.25519,
          1.25519,
          1.25519,
          1.25519,
          1.25519
         ]
        },
        {
         "line": {
          "width": 0
         },
         "mode": "lines",
         "name": "+1 std Train",
         "showlegend": false,
         "type": "scatter",
         "x": [
          1,
          2,
          3,
          4,
          5,
          6,
          7,
          8,
          9,
          10,
          11,
          12,
          13,
          14,
          15,
          16,
          17,
          18,
          19,
          20,
          21,
          22,
          23,
          24,
          25,
          26,
          27,
          28,
          29,
          30,
          31,
          32,
          33,
          34,
          35,
          36,
          37,
          38,
          39,
          40,
          41,
          42,
          43,
          44,
          45,
          46,
          47,
          48,
          49,
          50,
          1,
          2,
          3,
          4,
          5,
          6,
          7,
          8,
          9,
          10,
          11,
          12,
          13,
          14,
          15,
          16,
          17,
          18,
          19,
          20,
          21,
          22,
          23,
          24,
          25,
          26,
          27,
          28,
          29,
          30,
          31,
          32,
          33,
          34,
          35,
          36,
          37,
          38,
          39,
          40,
          41,
          42,
          43,
          44,
          45,
          46,
          47,
          48,
          49,
          50,
          1,
          2,
          3,
          4,
          5,
          6,
          7,
          8,
          9,
          10,
          11,
          12,
          13,
          14,
          15,
          16,
          17,
          18,
          19,
          20,
          21,
          22,
          23,
          24,
          25,
          26,
          27,
          28,
          29,
          30,
          31,
          32,
          33,
          34,
          35,
          36,
          37,
          38,
          39,
          40,
          41,
          42,
          43,
          44,
          45,
          46,
          47,
          48,
          49,
          50
         ],
         "y": [
          1.24174857185911,
          1.2443932287802535,
          1.248079910707905,
          1.2578455890590265,
          1.2625452919964202,
          1.268789947093993,
          1.268789947093993,
          1.2693518544823899,
          1.269967922792602,
          1.2755705738983385,
          1.2755705738983385,
          1.2755705738983385,
          1.2760380858723952,
          1.2760380858723952,
          1.2760380858723952,
          1.2760380858723952,
          1.2767811928106,
          1.2767811928106,
          1.2767811928106,
          1.2792183469705545,
          1.2796976572633971,
          1.2796976572633971,
          1.2796976572633971,
          1.2796976572633971,
          1.2795549039902352,
          1.2795549039902352,
          1.282994958121212,
          1.282711428870511,
          1.282711428870511,
          1.2886319407285065,
          1.2886319407285065,
          1.2886319407285065,
          1.2886319407285065,
          1.2886319407285065,
          1.2886319407285065,
          1.2886319407285065,
          1.2936261555908697,
          1.2970887390596892,
          1.2970887390596892,
          1.296708948985476,
          1.296708948985476,
          1.296708948985476,
          1.2991725928164655,
          1.2993032875386914,
          1.2993032875386914,
          1.2993032875386914,
          1.2993032875386914,
          1.2993032875386914,
          1.2993032875386914,
          1.2993032875386914
         ]
        },
        {
         "fill": "tonexty",
         "fillcolor": "rgba(0,0,255,0.1)",
         "line": {
          "width": 0
         },
         "mode": "lines",
         "name": "-1 std Train",
         "showlegend": false,
         "type": "scatter",
         "x": [
          1,
          2,
          3,
          4,
          5,
          6,
          7,
          8,
          9,
          10,
          11,
          12,
          13,
          14,
          15,
          16,
          17,
          18,
          19,
          20,
          21,
          22,
          23,
          24,
          25,
          26,
          27,
          28,
          29,
          30,
          31,
          32,
          33,
          34,
          35,
          36,
          37,
          38,
          39,
          40,
          41,
          42,
          43,
          44,
          45,
          46,
          47,
          48,
          49,
          50,
          1,
          2,
          3,
          4,
          5,
          6,
          7,
          8,
          9,
          10,
          11,
          12,
          13,
          14,
          15,
          16,
          17,
          18,
          19,
          20,
          21,
          22,
          23,
          24,
          25,
          26,
          27,
          28,
          29,
          30,
          31,
          32,
          33,
          34,
          35,
          36,
          37,
          38,
          39,
          40,
          41,
          42,
          43,
          44,
          45,
          46,
          47,
          48,
          49,
          50,
          1,
          2,
          3,
          4,
          5,
          6,
          7,
          8,
          9,
          10,
          11,
          12,
          13,
          14,
          15,
          16,
          17,
          18,
          19,
          20,
          21,
          22,
          23,
          24,
          25,
          26,
          27,
          28,
          29,
          30,
          31,
          32,
          33,
          34,
          35,
          36,
          37,
          38,
          39,
          40,
          41,
          42,
          43,
          44,
          45,
          46,
          47,
          48,
          49,
          50
         ],
         "y": [
          1.1872014281408905,
          1.186936771219747,
          1.1892500892920952,
          1.2027744109409735,
          1.2081647080035802,
          1.2063500529060067,
          1.2063500529060067,
          1.2069281455176102,
          1.207932077207398,
          1.2023294261016615,
          1.2023294261016615,
          1.2023294261016615,
          1.2018619141276048,
          1.2018619141276048,
          1.2018619141276048,
          1.2018619141276048,
          1.2024088071894,
          1.2024088071894,
          1.2024088071894,
          1.2030716530294454,
          1.2025923427366028,
          1.2025923427366028,
          1.2025923427366028,
          1.2025923427366028,
          1.2048750960097645,
          1.2048750960097645,
          1.2014350418787878,
          1.2017185711294887,
          1.2017185711294887,
          1.2011380592714935,
          1.2011380592714935,
          1.2011380592714935,
          1.2011380592714935,
          1.2011380592714935,
          1.2011380592714935,
          1.2011380592714935,
          1.2069938444091304,
          1.2105812609403108,
          1.2105812609403108,
          1.2109610510145241,
          1.2109610510145241,
          1.2109610510145241,
          1.2107374071835342,
          1.2110767124613087,
          1.2110767124613087,
          1.2110767124613087,
          1.2110767124613087,
          1.2110767124613087,
          1.2110767124613087,
          1.2110767124613087
         ]
        },
        {
         "hovertemplate": "Experience: Probability of Mutation: 0.2<br>Generation: %{x}<br>Fitness: %{y}<extra></extra>",
         "mode": "lines+markers",
         "name": "Probability of Mutation: 0.2",
         "showlegend": true,
         "type": "scatter",
         "x": [
          1,
          2,
          3,
          4,
          5,
          6,
          7,
          8,
          9,
          10,
          11,
          12,
          13,
          14,
          15,
          16,
          17,
          18,
          19,
          20,
          21,
          22,
          23,
          24,
          25,
          26,
          27,
          28,
          29,
          30,
          31,
          32,
          33,
          34,
          35,
          36,
          37,
          38,
          39,
          40,
          41,
          42,
          43,
          44,
          45,
          46,
          47,
          48,
          49,
          50,
          1,
          2,
          3,
          4,
          5,
          6,
          7,
          8,
          9,
          10,
          11,
          12,
          13,
          14,
          15,
          16,
          17,
          18,
          19,
          20,
          21,
          22,
          23,
          24,
          25,
          26,
          27,
          28,
          29,
          30,
          31,
          32,
          33,
          34,
          35,
          36,
          37,
          38,
          39,
          40,
          41,
          42,
          43,
          44,
          45,
          46,
          47,
          48,
          49,
          50,
          1,
          2,
          3,
          4,
          5,
          6,
          7,
          8,
          9,
          10,
          11,
          12,
          13,
          14,
          15,
          16,
          17,
          18,
          19,
          20,
          21,
          22,
          23,
          24,
          25,
          26,
          27,
          28,
          29,
          30,
          31,
          32,
          33,
          34,
          35,
          36,
          37,
          38,
          39,
          40,
          41,
          42,
          43,
          44,
          45,
          46,
          47,
          48,
          49,
          50
         ],
         "y": [
          1.2189050000000001,
          1.231785,
          1.2344050000000002,
          1.2377150000000001,
          1.24343,
          1.24807,
          1.25495,
          1.261925,
          1.261925,
          1.261925,
          1.261925,
          1.2625000000000002,
          1.2625000000000002,
          1.2625000000000002,
          1.2625000000000002,
          1.2625000000000002,
          1.2625000000000002,
          1.2625000000000002,
          1.2625000000000002,
          1.2636850000000002,
          1.2636850000000002,
          1.2636850000000002,
          1.2636850000000002,
          1.2636850000000002,
          1.2636850000000002,
          1.2636850000000002,
          1.2636850000000002,
          1.2636850000000002,
          1.2636850000000002,
          1.2636850000000002,
          1.2636850000000002,
          1.2636850000000002,
          1.2636850000000002,
          1.2636850000000002,
          1.2636850000000002,
          1.2636850000000002,
          1.2636850000000002,
          1.2636850000000002,
          1.266665,
          1.26993,
          1.26993,
          1.26993,
          1.26993,
          1.26993,
          1.26993,
          1.26993,
          1.26993,
          1.26993,
          1.26993,
          1.26993
         ]
        },
        {
         "line": {
          "width": 0
         },
         "mode": "lines",
         "name": "+1 std Train",
         "showlegend": false,
         "type": "scatter",
         "x": [
          1,
          2,
          3,
          4,
          5,
          6,
          7,
          8,
          9,
          10,
          11,
          12,
          13,
          14,
          15,
          16,
          17,
          18,
          19,
          20,
          21,
          22,
          23,
          24,
          25,
          26,
          27,
          28,
          29,
          30,
          31,
          32,
          33,
          34,
          35,
          36,
          37,
          38,
          39,
          40,
          41,
          42,
          43,
          44,
          45,
          46,
          47,
          48,
          49,
          50,
          1,
          2,
          3,
          4,
          5,
          6,
          7,
          8,
          9,
          10,
          11,
          12,
          13,
          14,
          15,
          16,
          17,
          18,
          19,
          20,
          21,
          22,
          23,
          24,
          25,
          26,
          27,
          28,
          29,
          30,
          31,
          32,
          33,
          34,
          35,
          36,
          37,
          38,
          39,
          40,
          41,
          42,
          43,
          44,
          45,
          46,
          47,
          48,
          49,
          50,
          1,
          2,
          3,
          4,
          5,
          6,
          7,
          8,
          9,
          10,
          11,
          12,
          13,
          14,
          15,
          16,
          17,
          18,
          19,
          20,
          21,
          22,
          23,
          24,
          25,
          26,
          27,
          28,
          29,
          30,
          31,
          32,
          33,
          34,
          35,
          36,
          37,
          38,
          39,
          40,
          41,
          42,
          43,
          44,
          45,
          46,
          47,
          48,
          49,
          50
         ],
         "y": [
          1.2586552828385804,
          1.2660423650508892,
          1.2652251315682634,
          1.270834728044583,
          1.2763128937745525,
          1.281645072768042,
          1.2870332371456985,
          1.2953207293091789,
          1.2953207293091789,
          1.2953207293091789,
          1.2953207293091789,
          1.294872010013264,
          1.294872010013264,
          1.294872010013264,
          1.2948680200286444,
          1.2948680200286444,
          1.2948680200286444,
          1.2948680200286444,
          1.2948680200286444,
          1.2965943845679875,
          1.2965943845679875,
          1.2965943845679875,
          1.2965943845679875,
          1.2965943845679875,
          1.295673643108626,
          1.2961573093865615,
          1.2961573093865615,
          1.2961573093865615,
          1.2961573093865615,
          1.2961573093865615,
          1.2961573093865615,
          1.2961573093865615,
          1.2961573093865615,
          1.2961573093865615,
          1.2961842438886406,
          1.2961842438886406,
          1.2961842438886406,
          1.2961842438886406,
          1.300090502413714,
          1.3029102698942694,
          1.3029102698942694,
          1.3029102698942694,
          1.3029102698942694,
          1.3029102698942694,
          1.3029102698942694,
          1.3028545652638892,
          1.3030054595436404,
          1.3030054595436404,
          1.3030054595436404,
          1.3030054595436404
         ]
        },
        {
         "fill": "tonexty",
         "fillcolor": "rgba(0,0,255,0.1)",
         "line": {
          "width": 0
         },
         "mode": "lines",
         "name": "-1 std Train",
         "showlegend": false,
         "type": "scatter",
         "x": [
          1,
          2,
          3,
          4,
          5,
          6,
          7,
          8,
          9,
          10,
          11,
          12,
          13,
          14,
          15,
          16,
          17,
          18,
          19,
          20,
          21,
          22,
          23,
          24,
          25,
          26,
          27,
          28,
          29,
          30,
          31,
          32,
          33,
          34,
          35,
          36,
          37,
          38,
          39,
          40,
          41,
          42,
          43,
          44,
          45,
          46,
          47,
          48,
          49,
          50,
          1,
          2,
          3,
          4,
          5,
          6,
          7,
          8,
          9,
          10,
          11,
          12,
          13,
          14,
          15,
          16,
          17,
          18,
          19,
          20,
          21,
          22,
          23,
          24,
          25,
          26,
          27,
          28,
          29,
          30,
          31,
          32,
          33,
          34,
          35,
          36,
          37,
          38,
          39,
          40,
          41,
          42,
          43,
          44,
          45,
          46,
          47,
          48,
          49,
          50,
          1,
          2,
          3,
          4,
          5,
          6,
          7,
          8,
          9,
          10,
          11,
          12,
          13,
          14,
          15,
          16,
          17,
          18,
          19,
          20,
          21,
          22,
          23,
          24,
          25,
          26,
          27,
          28,
          29,
          30,
          31,
          32,
          33,
          34,
          35,
          36,
          37,
          38,
          39,
          40,
          41,
          42,
          43,
          44,
          45,
          46,
          47,
          48,
          49,
          50
         ],
         "y": [
          1.1791547171614198,
          1.1975276349491106,
          1.203584868431737,
          1.2045952719554172,
          1.2105471062254476,
          1.214494927231958,
          1.2228667628543015,
          1.228529270690821,
          1.228529270690821,
          1.228529270690821,
          1.228529270690821,
          1.2301279899867363,
          1.2301279899867363,
          1.2301279899867363,
          1.230131979971356,
          1.230131979971356,
          1.230131979971356,
          1.230131979971356,
          1.230131979971356,
          1.2307756154320129,
          1.2307756154320129,
          1.2307756154320129,
          1.2307756154320129,
          1.2307756154320129,
          1.2316963568913744,
          1.2312126906134389,
          1.2312126906134389,
          1.2312126906134389,
          1.2312126906134389,
          1.2312126906134389,
          1.2312126906134389,
          1.2312126906134389,
          1.2312126906134389,
          1.2312126906134389,
          1.2311857561113597,
          1.2311857561113597,
          1.2311857561113597,
          1.2311857561113597,
          1.233239497586286,
          1.2369497301057306,
          1.2369497301057306,
          1.2369497301057306,
          1.2369497301057306,
          1.2369497301057306,
          1.2369497301057306,
          1.2370054347361108,
          1.2368545404563596,
          1.2368545404563596,
          1.2368545404563596,
          1.2368545404563596
         ]
        },
        {
         "hovertemplate": "Experience: Mut: 0.3<br>Generation: %{x}<br>Fitness: %{y}<extra></extra>",
         "mode": "lines+markers",
         "name": "Mut: 0.3",
         "showlegend": true,
         "type": "scatter",
         "x": [
          1,
          2,
          3,
          4,
          5,
          6,
          7,
          8,
          9,
          10,
          11,
          12,
          13,
          14,
          15,
          16,
          17,
          18,
          19,
          20,
          21,
          22,
          23,
          24,
          25,
          26,
          27,
          28,
          29,
          30,
          31,
          32,
          33,
          34,
          35,
          36,
          37,
          38,
          39,
          40,
          41,
          42,
          43,
          44,
          45,
          46,
          47,
          48,
          49,
          50,
          1,
          2,
          3,
          4,
          5,
          6,
          7,
          8,
          9,
          10,
          11,
          12,
          13,
          14,
          15,
          16,
          17,
          18,
          19,
          20,
          21,
          22,
          23,
          24,
          25,
          26,
          27,
          28,
          29,
          30,
          31,
          32,
          33,
          34,
          35,
          36,
          37,
          38,
          39,
          40,
          41,
          42,
          43,
          44,
          45,
          46,
          47,
          48,
          49,
          50,
          1,
          2,
          3,
          4,
          5,
          6,
          7,
          8,
          9,
          10,
          11,
          12,
          13,
          14,
          15,
          16,
          17,
          18,
          19,
          20,
          21,
          22,
          23,
          24,
          25,
          26,
          27,
          28,
          29,
          30,
          31,
          32,
          33,
          34,
          35,
          36,
          37,
          38,
          39,
          40,
          41,
          42,
          43,
          44,
          45,
          46,
          47,
          48,
          49,
          50
         ],
         "y": [
          1.21693,
          1.220595,
          1.2267649999999999,
          1.2267649999999999,
          1.2291699999999999,
          1.232785,
          1.2427599999999999,
          1.2427599999999999,
          1.2427599999999999,
          1.2427599999999999,
          1.2427599999999999,
          1.2427599999999999,
          1.2427599999999999,
          1.245715,
          1.245715,
          1.245715,
          1.245715,
          1.245715,
          1.245715,
          1.245715,
          1.245715,
          1.245715,
          1.245715,
          1.245715,
          1.245715,
          1.245715,
          1.25019,
          1.254575,
          1.2559049999999998,
          1.25826,
          1.25826,
          1.25826,
          1.25826,
          1.25826,
          1.25826,
          1.25826,
          1.25826,
          1.25826,
          1.25826,
          1.25826,
          1.25826,
          1.2598799999999999,
          1.2598799999999999,
          1.2598799999999999,
          1.2598799999999999,
          1.2598799999999999,
          1.2598799999999999,
          1.2598799999999999,
          1.2615750000000001,
          1.2615750000000001
         ]
        },
        {
         "line": {
          "width": 0
         },
         "mode": "lines",
         "name": "+1 std Train",
         "showlegend": false,
         "type": "scatter",
         "x": [
          1,
          2,
          3,
          4,
          5,
          6,
          7,
          8,
          9,
          10,
          11,
          12,
          13,
          14,
          15,
          16,
          17,
          18,
          19,
          20,
          21,
          22,
          23,
          24,
          25,
          26,
          27,
          28,
          29,
          30,
          31,
          32,
          33,
          34,
          35,
          36,
          37,
          38,
          39,
          40,
          41,
          42,
          43,
          44,
          45,
          46,
          47,
          48,
          49,
          50,
          1,
          2,
          3,
          4,
          5,
          6,
          7,
          8,
          9,
          10,
          11,
          12,
          13,
          14,
          15,
          16,
          17,
          18,
          19,
          20,
          21,
          22,
          23,
          24,
          25,
          26,
          27,
          28,
          29,
          30,
          31,
          32,
          33,
          34,
          35,
          36,
          37,
          38,
          39,
          40,
          41,
          42,
          43,
          44,
          45,
          46,
          47,
          48,
          49,
          50,
          1,
          2,
          3,
          4,
          5,
          6,
          7,
          8,
          9,
          10,
          11,
          12,
          13,
          14,
          15,
          16,
          17,
          18,
          19,
          20,
          21,
          22,
          23,
          24,
          25,
          26,
          27,
          28,
          29,
          30,
          31,
          32,
          33,
          34,
          35,
          36,
          37,
          38,
          39,
          40,
          41,
          42,
          43,
          44,
          45,
          46,
          47,
          48,
          49,
          50
         ],
         "y": [
          1.2558215108619664,
          1.2603143607210887,
          1.2591792430734234,
          1.2592345234717535,
          1.2620593050586566,
          1.2655107982683211,
          1.2742936637142177,
          1.2742936637142177,
          1.274874218537882,
          1.274874218537882,
          1.2809227425895207,
          1.2809227425895207,
          1.2809227425895207,
          1.2828412556720965,
          1.2828119867475396,
          1.2828119867475396,
          1.2828119867475396,
          1.2828119867475396,
          1.2828119867475396,
          1.2828119867475396,
          1.2828119867475396,
          1.2828119867475396,
          1.2824078962713712,
          1.2823964873302407,
          1.2823964873302407,
          1.2851862040766984,
          1.2912729607210727,
          1.2957112527825336,
          1.2971006144873274,
          1.2988751963534289,
          1.2975105546399057,
          1.2975105546399057,
          1.2975105546399057,
          1.2975105546399057,
          1.2975105546399057,
          1.2975105546399057,
          1.2975105546399057,
          1.2975105546399057,
          1.2975105546399057,
          1.2975105546399057,
          1.2975105546399057,
          1.29900178165677,
          1.29900178165677,
          1.29900178165677,
          1.29900178165677,
          1.29900178165677,
          1.2998215588941713,
          1.2998215588941713,
          1.3000258710811154,
          1.3000258710811154
         ]
        },
        {
         "fill": "tonexty",
         "fillcolor": "rgba(0,0,255,0.1)",
         "line": {
          "width": 0
         },
         "mode": "lines",
         "name": "-1 std Train",
         "showlegend": false,
         "type": "scatter",
         "x": [
          1,
          2,
          3,
          4,
          5,
          6,
          7,
          8,
          9,
          10,
          11,
          12,
          13,
          14,
          15,
          16,
          17,
          18,
          19,
          20,
          21,
          22,
          23,
          24,
          25,
          26,
          27,
          28,
          29,
          30,
          31,
          32,
          33,
          34,
          35,
          36,
          37,
          38,
          39,
          40,
          41,
          42,
          43,
          44,
          45,
          46,
          47,
          48,
          49,
          50,
          1,
          2,
          3,
          4,
          5,
          6,
          7,
          8,
          9,
          10,
          11,
          12,
          13,
          14,
          15,
          16,
          17,
          18,
          19,
          20,
          21,
          22,
          23,
          24,
          25,
          26,
          27,
          28,
          29,
          30,
          31,
          32,
          33,
          34,
          35,
          36,
          37,
          38,
          39,
          40,
          41,
          42,
          43,
          44,
          45,
          46,
          47,
          48,
          49,
          50,
          1,
          2,
          3,
          4,
          5,
          6,
          7,
          8,
          9,
          10,
          11,
          12,
          13,
          14,
          15,
          16,
          17,
          18,
          19,
          20,
          21,
          22,
          23,
          24,
          25,
          26,
          27,
          28,
          29,
          30,
          31,
          32,
          33,
          34,
          35,
          36,
          37,
          38,
          39,
          40,
          41,
          42,
          43,
          44,
          45,
          46,
          47,
          48,
          49,
          50
         ],
         "y": [
          1.1780384891380338,
          1.1808756392789115,
          1.1943507569265763,
          1.1942954765282463,
          1.1962806949413431,
          1.200059201731679,
          1.211226336285782,
          1.211226336285782,
          1.2106457814621177,
          1.2106457814621177,
          1.204597257410479,
          1.204597257410479,
          1.204597257410479,
          1.2085887443279033,
          1.2086180132524602,
          1.2086180132524602,
          1.2086180132524602,
          1.2086180132524602,
          1.2086180132524602,
          1.2086180132524602,
          1.2086180132524602,
          1.2086180132524602,
          1.2090221037286286,
          1.2090335126697591,
          1.2090335126697591,
          1.2062437959233014,
          1.2091070392789272,
          1.2134387472174664,
          1.2147093855126723,
          1.217644803646571,
          1.2190094453600941,
          1.2190094453600941,
          1.2190094453600941,
          1.2190094453600941,
          1.2190094453600941,
          1.2190094453600941,
          1.2190094453600941,
          1.2190094453600941,
          1.2190094453600941,
          1.2190094453600941,
          1.2190094453600941,
          1.2207582183432297,
          1.2207582183432297,
          1.2207582183432297,
          1.2207582183432297,
          1.2207582183432297,
          1.2199384411058285,
          1.2199384411058285,
          1.2231241289188848,
          1.2231241289188848
         ]
        }
       ],
       "layout": {
        "autosize": true,
        "height": 650,
        "legend": {
         "font": {
          "size": 11
         },
         "orientation": "h",
         "title": {
          "font": {
           "size": 12
          },
          "side": "top",
          "text": "Experience"
         },
         "y": -0.3
        },
        "margin": {
         "b": 100,
         "l": 50,
         "pad": 10,
         "r": 50,
         "t": 80
        },
        "plot_bgcolor": "white",
        "template": {
         "data": {
          "bar": [
           {
            "error_x": {
             "color": "#2a3f5f"
            },
            "error_y": {
             "color": "#2a3f5f"
            },
            "marker": {
             "line": {
              "color": "#E5ECF6",
              "width": 0.5
             },
             "pattern": {
              "fillmode": "overlay",
              "size": 10,
              "solidity": 0.2
             }
            },
            "type": "bar"
           }
          ],
          "barpolar": [
           {
            "marker": {
             "line": {
              "color": "#E5ECF6",
              "width": 0.5
             },
             "pattern": {
              "fillmode": "overlay",
              "size": 10,
              "solidity": 0.2
             }
            },
            "type": "barpolar"
           }
          ],
          "carpet": [
           {
            "aaxis": {
             "endlinecolor": "#2a3f5f",
             "gridcolor": "white",
             "linecolor": "white",
             "minorgridcolor": "white",
             "startlinecolor": "#2a3f5f"
            },
            "baxis": {
             "endlinecolor": "#2a3f5f",
             "gridcolor": "white",
             "linecolor": "white",
             "minorgridcolor": "white",
             "startlinecolor": "#2a3f5f"
            },
            "type": "carpet"
           }
          ],
          "choropleth": [
           {
            "colorbar": {
             "outlinewidth": 0,
             "ticks": ""
            },
            "type": "choropleth"
           }
          ],
          "contour": [
           {
            "colorbar": {
             "outlinewidth": 0,
             "ticks": ""
            },
            "colorscale": [
             [
              0,
              "#0d0887"
             ],
             [
              0.1111111111111111,
              "#46039f"
             ],
             [
              0.2222222222222222,
              "#7201a8"
             ],
             [
              0.3333333333333333,
              "#9c179e"
             ],
             [
              0.4444444444444444,
              "#bd3786"
             ],
             [
              0.5555555555555556,
              "#d8576b"
             ],
             [
              0.6666666666666666,
              "#ed7953"
             ],
             [
              0.7777777777777778,
              "#fb9f3a"
             ],
             [
              0.8888888888888888,
              "#fdca26"
             ],
             [
              1,
              "#f0f921"
             ]
            ],
            "type": "contour"
           }
          ],
          "contourcarpet": [
           {
            "colorbar": {
             "outlinewidth": 0,
             "ticks": ""
            },
            "type": "contourcarpet"
           }
          ],
          "heatmap": [
           {
            "colorbar": {
             "outlinewidth": 0,
             "ticks": ""
            },
            "colorscale": [
             [
              0,
              "#0d0887"
             ],
             [
              0.1111111111111111,
              "#46039f"
             ],
             [
              0.2222222222222222,
              "#7201a8"
             ],
             [
              0.3333333333333333,
              "#9c179e"
             ],
             [
              0.4444444444444444,
              "#bd3786"
             ],
             [
              0.5555555555555556,
              "#d8576b"
             ],
             [
              0.6666666666666666,
              "#ed7953"
             ],
             [
              0.7777777777777778,
              "#fb9f3a"
             ],
             [
              0.8888888888888888,
              "#fdca26"
             ],
             [
              1,
              "#f0f921"
             ]
            ],
            "type": "heatmap"
           }
          ],
          "heatmapgl": [
           {
            "colorbar": {
             "outlinewidth": 0,
             "ticks": ""
            },
            "colorscale": [
             [
              0,
              "#0d0887"
             ],
             [
              0.1111111111111111,
              "#46039f"
             ],
             [
              0.2222222222222222,
              "#7201a8"
             ],
             [
              0.3333333333333333,
              "#9c179e"
             ],
             [
              0.4444444444444444,
              "#bd3786"
             ],
             [
              0.5555555555555556,
              "#d8576b"
             ],
             [
              0.6666666666666666,
              "#ed7953"
             ],
             [
              0.7777777777777778,
              "#fb9f3a"
             ],
             [
              0.8888888888888888,
              "#fdca26"
             ],
             [
              1,
              "#f0f921"
             ]
            ],
            "type": "heatmapgl"
           }
          ],
          "histogram": [
           {
            "marker": {
             "pattern": {
              "fillmode": "overlay",
              "size": 10,
              "solidity": 0.2
             }
            },
            "type": "histogram"
           }
          ],
          "histogram2d": [
           {
            "colorbar": {
             "outlinewidth": 0,
             "ticks": ""
            },
            "colorscale": [
             [
              0,
              "#0d0887"
             ],
             [
              0.1111111111111111,
              "#46039f"
             ],
             [
              0.2222222222222222,
              "#7201a8"
             ],
             [
              0.3333333333333333,
              "#9c179e"
             ],
             [
              0.4444444444444444,
              "#bd3786"
             ],
             [
              0.5555555555555556,
              "#d8576b"
             ],
             [
              0.6666666666666666,
              "#ed7953"
             ],
             [
              0.7777777777777778,
              "#fb9f3a"
             ],
             [
              0.8888888888888888,
              "#fdca26"
             ],
             [
              1,
              "#f0f921"
             ]
            ],
            "type": "histogram2d"
           }
          ],
          "histogram2dcontour": [
           {
            "colorbar": {
             "outlinewidth": 0,
             "ticks": ""
            },
            "colorscale": [
             [
              0,
              "#0d0887"
             ],
             [
              0.1111111111111111,
              "#46039f"
             ],
             [
              0.2222222222222222,
              "#7201a8"
             ],
             [
              0.3333333333333333,
              "#9c179e"
             ],
             [
              0.4444444444444444,
              "#bd3786"
             ],
             [
              0.5555555555555556,
              "#d8576b"
             ],
             [
              0.6666666666666666,
              "#ed7953"
             ],
             [
              0.7777777777777778,
              "#fb9f3a"
             ],
             [
              0.8888888888888888,
              "#fdca26"
             ],
             [
              1,
              "#f0f921"
             ]
            ],
            "type": "histogram2dcontour"
           }
          ],
          "mesh3d": [
           {
            "colorbar": {
             "outlinewidth": 0,
             "ticks": ""
            },
            "type": "mesh3d"
           }
          ],
          "parcoords": [
           {
            "line": {
             "colorbar": {
              "outlinewidth": 0,
              "ticks": ""
             }
            },
            "type": "parcoords"
           }
          ],
          "pie": [
           {
            "automargin": true,
            "type": "pie"
           }
          ],
          "scatter": [
           {
            "fillpattern": {
             "fillmode": "overlay",
             "size": 10,
             "solidity": 0.2
            },
            "type": "scatter"
           }
          ],
          "scatter3d": [
           {
            "line": {
             "colorbar": {
              "outlinewidth": 0,
              "ticks": ""
             }
            },
            "marker": {
             "colorbar": {
              "outlinewidth": 0,
              "ticks": ""
             }
            },
            "type": "scatter3d"
           }
          ],
          "scattercarpet": [
           {
            "marker": {
             "colorbar": {
              "outlinewidth": 0,
              "ticks": ""
             }
            },
            "type": "scattercarpet"
           }
          ],
          "scattergeo": [
           {
            "marker": {
             "colorbar": {
              "outlinewidth": 0,
              "ticks": ""
             }
            },
            "type": "scattergeo"
           }
          ],
          "scattergl": [
           {
            "marker": {
             "colorbar": {
              "outlinewidth": 0,
              "ticks": ""
             }
            },
            "type": "scattergl"
           }
          ],
          "scattermapbox": [
           {
            "marker": {
             "colorbar": {
              "outlinewidth": 0,
              "ticks": ""
             }
            },
            "type": "scattermapbox"
           }
          ],
          "scatterpolar": [
           {
            "marker": {
             "colorbar": {
              "outlinewidth": 0,
              "ticks": ""
             }
            },
            "type": "scatterpolar"
           }
          ],
          "scatterpolargl": [
           {
            "marker": {
             "colorbar": {
              "outlinewidth": 0,
              "ticks": ""
             }
            },
            "type": "scatterpolargl"
           }
          ],
          "scatterternary": [
           {
            "marker": {
             "colorbar": {
              "outlinewidth": 0,
              "ticks": ""
             }
            },
            "type": "scatterternary"
           }
          ],
          "surface": [
           {
            "colorbar": {
             "outlinewidth": 0,
             "ticks": ""
            },
            "colorscale": [
             [
              0,
              "#0d0887"
             ],
             [
              0.1111111111111111,
              "#46039f"
             ],
             [
              0.2222222222222222,
              "#7201a8"
             ],
             [
              0.3333333333333333,
              "#9c179e"
             ],
             [
              0.4444444444444444,
              "#bd3786"
             ],
             [
              0.5555555555555556,
              "#d8576b"
             ],
             [
              0.6666666666666666,
              "#ed7953"
             ],
             [
              0.7777777777777778,
              "#fb9f3a"
             ],
             [
              0.8888888888888888,
              "#fdca26"
             ],
             [
              1,
              "#f0f921"
             ]
            ],
            "type": "surface"
           }
          ],
          "table": [
           {
            "cells": {
             "fill": {
              "color": "#EBF0F8"
             },
             "line": {
              "color": "white"
             }
            },
            "header": {
             "fill": {
              "color": "#C8D4E3"
             },
             "line": {
              "color": "white"
             }
            },
            "type": "table"
           }
          ]
         },
         "layout": {
          "annotationdefaults": {
           "arrowcolor": "#2a3f5f",
           "arrowhead": 0,
           "arrowwidth": 1
          },
          "autotypenumbers": "strict",
          "coloraxis": {
           "colorbar": {
            "outlinewidth": 0,
            "ticks": ""
           }
          },
          "colorscale": {
           "diverging": [
            [
             0,
             "#8e0152"
            ],
            [
             0.1,
             "#c51b7d"
            ],
            [
             0.2,
             "#de77ae"
            ],
            [
             0.3,
             "#f1b6da"
            ],
            [
             0.4,
             "#fde0ef"
            ],
            [
             0.5,
             "#f7f7f7"
            ],
            [
             0.6,
             "#e6f5d0"
            ],
            [
             0.7,
             "#b8e186"
            ],
            [
             0.8,
             "#7fbc41"
            ],
            [
             0.9,
             "#4d9221"
            ],
            [
             1,
             "#276419"
            ]
           ],
           "sequential": [
            [
             0,
             "#0d0887"
            ],
            [
             0.1111111111111111,
             "#46039f"
            ],
            [
             0.2222222222222222,
             "#7201a8"
            ],
            [
             0.3333333333333333,
             "#9c179e"
            ],
            [
             0.4444444444444444,
             "#bd3786"
            ],
            [
             0.5555555555555556,
             "#d8576b"
            ],
            [
             0.6666666666666666,
             "#ed7953"
            ],
            [
             0.7777777777777778,
             "#fb9f3a"
            ],
            [
             0.8888888888888888,
             "#fdca26"
            ],
            [
             1,
             "#f0f921"
            ]
           ],
           "sequentialminus": [
            [
             0,
             "#0d0887"
            ],
            [
             0.1111111111111111,
             "#46039f"
            ],
            [
             0.2222222222222222,
             "#7201a8"
            ],
            [
             0.3333333333333333,
             "#9c179e"
            ],
            [
             0.4444444444444444,
             "#bd3786"
            ],
            [
             0.5555555555555556,
             "#d8576b"
            ],
            [
             0.6666666666666666,
             "#ed7953"
            ],
            [
             0.7777777777777778,
             "#fb9f3a"
            ],
            [
             0.8888888888888888,
             "#fdca26"
            ],
            [
             1,
             "#f0f921"
            ]
           ]
          },
          "colorway": [
           "#636efa",
           "#EF553B",
           "#00cc96",
           "#ab63fa",
           "#FFA15A",
           "#19d3f3",
           "#FF6692",
           "#B6E880",
           "#FF97FF",
           "#FECB52"
          ],
          "font": {
           "color": "#2a3f5f"
          },
          "geo": {
           "bgcolor": "white",
           "lakecolor": "white",
           "landcolor": "#E5ECF6",
           "showlakes": true,
           "showland": true,
           "subunitcolor": "white"
          },
          "hoverlabel": {
           "align": "left"
          },
          "hovermode": "closest",
          "mapbox": {
           "style": "light"
          },
          "paper_bgcolor": "white",
          "plot_bgcolor": "#E5ECF6",
          "polar": {
           "angularaxis": {
            "gridcolor": "white",
            "linecolor": "white",
            "ticks": ""
           },
           "bgcolor": "#E5ECF6",
           "radialaxis": {
            "gridcolor": "white",
            "linecolor": "white",
            "ticks": ""
           }
          },
          "scene": {
           "xaxis": {
            "backgroundcolor": "#E5ECF6",
            "gridcolor": "white",
            "gridwidth": 2,
            "linecolor": "white",
            "showbackground": true,
            "ticks": "",
            "zerolinecolor": "white"
           },
           "yaxis": {
            "backgroundcolor": "#E5ECF6",
            "gridcolor": "white",
            "gridwidth": 2,
            "linecolor": "white",
            "showbackground": true,
            "ticks": "",
            "zerolinecolor": "white"
           },
           "zaxis": {
            "backgroundcolor": "#E5ECF6",
            "gridcolor": "white",
            "gridwidth": 2,
            "linecolor": "white",
            "showbackground": true,
            "ticks": "",
            "zerolinecolor": "white"
           }
          },
          "shapedefaults": {
           "line": {
            "color": "#2a3f5f"
           }
          },
          "ternary": {
           "aaxis": {
            "gridcolor": "white",
            "linecolor": "white",
            "ticks": ""
           },
           "baxis": {
            "gridcolor": "white",
            "linecolor": "white",
            "ticks": ""
           },
           "bgcolor": "#E5ECF6",
           "caxis": {
            "gridcolor": "white",
            "linecolor": "white",
            "ticks": ""
           }
          },
          "title": {
           "x": 0.05
          },
          "xaxis": {
           "automargin": true,
           "gridcolor": "white",
           "linecolor": "white",
           "ticks": "",
           "title": {
            "standoff": 15
           },
           "zerolinecolor": "white",
           "zerolinewidth": 2
          },
          "yaxis": {
           "automargin": true,
           "gridcolor": "white",
           "linecolor": "white",
           "ticks": "",
           "title": {
            "standoff": 15
           },
           "zerolinecolor": "white",
           "zerolinewidth": 2
          }
         }
        },
        "title": {
         "font": {
          "family": "Arial",
          "size": 18
         },
         "text": "<b>Median Best Fitness per Generation</b><br>Combination ('block_rotation_mutation', 'partially_mapped_crossover', 'linear_ranking_selection')"
        },
        "width": 850,
        "xaxis": {
         "gridcolor": "lightgray",
         "title": {
          "text": "Generation"
         }
        },
        "yaxis": {
         "gridcolor": "lightgray",
         "title": {
          "text": "Fitness"
         }
        }
       }
      }
     },
     "metadata": {},
     "output_type": "display_data"
    }
   ],
   "source": [
    "# Checking only the combinations that had the best fitness and most stability for each experiment\n",
    "\n",
    "comb_between_exp(df_exps = {'exp1': 'Probability of Mutation: 0.1', 'exp2': 'Probability of Mutation: 0.2',\n",
    "                            'exp3': 'Mut: 0.3'\n",
    "                            }, comb_ids=['BPT', 'BPL'],\n",
    "                            metric='MBF',\n",
    "                            std=True\n",
    "                            )#,'TPT', 'SPT', 'BPL', 'TPL', 'SPL'])"
   ]
  },
  {
   "cell_type": "markdown",
   "id": "b8c47a6d",
   "metadata": {},
   "source": [
    "### 2.4. Plotting all together (per Combination+Experiment)"
   ]
  },
  {
   "cell_type": "markdown",
   "id": "9be85b8d",
   "metadata": {},
   "source": [
    "__`Step 8`__ By selecting x best combinations of each experiment, plot them all together, so we can have a full picture of combinations and their experiment (where it was only changed probabilities)."
   ]
  },
  {
   "cell_type": "code",
   "execution_count": 1,
   "id": "47b31807",
   "metadata": {},
   "outputs": [],
   "source": [
    "import pandas as pd\n",
    "from library.performance_analysis import *"
   ]
  },
  {
   "cell_type": "code",
   "execution_count": 5,
   "id": "807fc576",
   "metadata": {},
   "outputs": [
    {
     "data": {
      "application/vnd.plotly.v1+json": {
       "config": {
        "plotlyServerURL": "https://plot.ly"
       },
       "data": [
        {
         "hovertemplate": "Combination: ('block_rotation_mutation', 'partially_mapped_crossover', 'tournament_selection')<br>Experiment: exp1<br>Generation: %{x}<br>Fitness: %{y}<extra></extra>",
         "line": {
          "color": "#636EFA"
         },
         "mode": "lines+markers",
         "name": "Comb BPT: ('block_rotation_mutation', 'partially_mapped_crossover', 'tournament_selection'),<br>exp1: Prob Mut 0.1",
         "type": "scatter",
         "x": {
          "bdata": "AQIDBAUGBwgJCgsMDQ4PEBESExQVFhcYGRobHB0eHyAhIiMkJSYnKCkqKywtLi8wMTI=",
          "dtype": "i1"
         },
         "y": {
          "bdata": "k8ZoHVUN9D/ImLuWkI/0P2b35GGh1vQ/BHgLJCj+9D/5a7JGPYT1PyqHFtnO9/U/ttsuNNcp9j+qE9BE2HD2P1mjHqLRnfY/Emba/pXV9j/kFB3J5f/2P8l2vp8aL/c/DTfg88NI9z/GckurIXH3P9JXkGYsmvc/zEV8J2a99z8idqbQec33P6jeGtgqAfg/PL1SliEO+D+GbYsyGyT4PzSAt0CCYvg/NIC3QIJi+D8IbTmX4mr4P65fsBu2bfg/rl+wG7Zt+D8j88gfDHz4P5pattYXifg/bypSYWyh+D+wj05d+ez4PxToE3mS9Pg/FOgTeZL0+D/wxKwXQ/n4P/DErBdD+fg/ARO4dTcP+T8LXvQVpBn5Pz7QCgxZHfk/sHd/vFct+T8ofoy5a0n5Pyh+jLlrSfk/z/dT46Vb+T/P91PjpVv5P8/3U+OlW/k/wOeHEcJj+T8svMtFfGf5Pyy8y0V8Z/k/mWTkLOxp+T+ZZOQs7Gn5P7jpz36kiPk/MlUwKqmT+T/KHww89575Pw==",
          "dtype": "f8"
         }
        },
        {
         "line": {
          "color": "#636EFA",
          "width": 0
         },
         "mode": "lines",
         "showlegend": false,
         "type": "scatter",
         "x": {
          "bdata": "AQIDBAUGBwgJCgsMDQ4PEBESExQVFhcYGRobHB0eHyAhIiMkJSYnKCkqKywtLi8wMTI=",
          "dtype": "i1"
         },
         "y": {
          "bdata": "XOeIARSd9D8K+ZcdKCP1PzaC+dAvlvU/JXUP6Cip9T8qD5kA+3X2P7jCwFwq1fY/Rdl8gWrx9j/xwQSDdiD3P9TabhBCUPc/rVU0Vq2F9z+aktJCrrL3P0di6oDe5Pc/KUmi1kT49z95intueB74PwiZ3WQ1Ovg/koTEkplf+D8hCf6tuFn4P807zyNdl/g/OImprkWz+D/y4czr0sr4P889qg6EB/k/KUzD9r3/+D+l4xd7mQP5P8+Huz8tDPk/m7sYU1cb+T8PmZ5X7Sr5P85acARJNvk/OWX6ybVK+T/+ivF5JJH5Pxalm9dXpvk/W1PI/5+o+T914gm6W635PxuLTqmRtvk//iJN0Sy8+T/HHa4SKMj5P75aobyfxPk/4RZBMS7b+T/QmtMpYwH6P1EFfvc9Avo/vTMO+24V+j/5BKs2Vx36P8pCbdDBHPo/7J0ACoAk+j+0yGInyiD6P61Q8EePIfo/zKNlpyMd+j+r7FnWHx36P/8wjWmJQPo/lGSCZrVK+j8S88puTlX6Pw==",
          "dtype": "f8"
         }
        },
        {
         "fill": "tonexty",
         "fillcolor": "rgba(99,110,250,0.15)",
         "line": {
          "color": "#636EFA",
          "width": 0
         },
         "mode": "lines",
         "showlegend": false,
         "type": "scatter",
         "x": {
          "bdata": "AQIDBAUGBwgJCgsMDQ4PEBESExQVFhcYGRobHB0eHyAhIiMkJSYnKCkqKywtLi8wMTI=",
          "dtype": "i1"
         },
         "y": {
          "bdata": "yqVIOZZ98z+GON8P+fvzP5Zs0PISF/Q/43oHYCdT9D/IyMuMf5L0P5xLbFVzGvU/J97g5kNi9T9jZZsGOsH1P95rzjNh6/U/d3aAp34l9j8ul2dPHU32P0uLkr5WefY/8SQeEUOZ9j8TWxvoysP2P5wWQ2gj+vY/Bgc0vDIb9z8j407zOkH3P4OBZoz4avc/QPH7ff1o9z8a+Ul5Y333P5nCxHKAvfc/P7SrikbF9z9r9lqzK9L3P403pfc+z/c/wQNI5BTA9z83TfPnKs33P2Za/Kjm2/c/pe+p+CL49z9ilKtAzkj4PxIrjBrNQvg/zXxf8oRA+D9rp091KkX4P8X+Cob0O/g/BAMjGkJi+D9PnjoZIGv4P75FdFsSdvg/f9i9R4F/+D+AYUVJdJH4P//2mnuZkPg/4buZy9yh+D+l6vyP9Jn4P9SsOvaJmvg/lDEPGQSj+D+krzRkLq74P6snp0Nprfg/ZiVjsrS2+D+H3G6DuLb4P3GiEpS/0Pg/0EXe7Zzc+D+CTE0JoOj4Pw==",
          "dtype": "f8"
         }
        },
        {
         "hovertemplate": "Combination: ('block_rotation_mutation', 'partially_mapped_crossover', 'tournament_selection')<br>Experiment: exp2<br>Generation: %{x}<br>Fitness: %{y}<extra></extra>",
         "line": {
          "color": "#EF553B"
         },
         "mode": "lines+markers",
         "name": "Comb BPT: ('block_rotation_mutation', 'partially_mapped_crossover', 'tournament_selection'),<br>exp2: Prob Mut 0.2",
         "type": "scatter",
         "x": {
          "bdata": "AQIDBAUGBwgJCgsMDQ4PEBESExQVFhcYGRobHB0eHyAhIiMkJSYnKCkqKywtLi8wMTI=",
          "dtype": "i1"
         },
         "y": {
          "bdata": "IbByaJGt8z/YnlkSoCb0P6D9SBEZlvQ/eR7cnbXb9D98pSxDHCv1P8L6P4f5cvU/7wOQ2sTJ9T9BDkqYafv1P3P0+L1NP/Y/oaF/gotV9j/dXtIYrWP2PyZYHM78avY/9vOmIhWG9j/286YiFYb2PzRj0XR2svY/nu+nxkv39j8LXvQVpBn3Pwte9BWkGfc/PBkcJa9O9z+cOLnfoWj3P5w4ud+haPc/XhYTm49r9z9eFhObj2v3P1+1MuGXevc/X7Uy4Zd69z+Cc0aU9ob3P1d4l4v4jvc/V3iXi/iO9z8A3gIJip/3P8nlP6Tfvvc/yeU/pN++9z/J5T+k3773P8nlP6Tfvvc/yeU/pN++9z8IG55eKcv3Pwgbnl4py/c/giGrWz3n9z86I0p7g+/3P16/YDdsG/g/aw4QzNEj+D//7EeKyDD4P//sR4rIMPg/1jkGZK83+D+X/5B++zr4P5j/kH77Ovg/MuGX+nlT+D+KPEm6ZnL4P46vPbMkgPg/WHiXi/iO+D+uwJDVrZ74Pw==",
          "dtype": "f8"
         }
        },
        {
         "line": {
          "color": "#EF553B",
          "width": 0
         },
         "mode": "lines",
         "showlegend": false,
         "type": "scatter",
         "x": {
          "bdata": "AQIDBAUGBwgJCgsMDQ4PEBESExQVFhcYGRobHB0eHyAhIiMkJSYnKCkqKywtLi8wMTI=",
          "dtype": "i1"
         },
         "y": {
          "bdata": "+D8zeE5A9D9TTDslUa/0P/QhX1f3IPU/E6aZWG5s9T/X71ynLsf1PwwSo8EwCPY/dhFWkCFa9j/HRCwCJqT2PwIHdxFv4fY/HhZJo1jy9j9bZyF8Kxn3P8oI/VqAG/c/OYBQC3Mz9z+QmeTx1Sn3P1LNG3zHcPc/SyI2+/Gz9z/S5L5at8v3P5s4cO+l0vc/9/FX8dQE+D+GA5IfLhj4P2QWzt+rH/g/1KqC6RoY+D90QMxZEAj4P/E9k7PiHfg/1OMu0Age+D/kQ6+D8zT4PwY/7YCyOPg/PFCTNgI1+D/qfT9+akX4P9jmSXYSY/g/2+Z8RYlg+D8WczLIglj4PxZzMsiCWPg/ps2ZSUpU+D+hlMH1C3P4P+dsrQh2cPg/oDHYuWyG+D8KKXkugYn4P5IHFUestfg/JZAj1qCx+D/hct+zSbj4P5AIkkJkuPg/p/6r9r+4+D8/I7c4Ubv4PxnVQ05owPg/tYcBHyPk+D8UtZ3EfAb5P9YRzeZpFPk/9RgSZ2AZ+T8APF+Qlyj5Pw==",
          "dtype": "f8"
         }
        },
        {
         "fill": "tonexty",
         "fillcolor": "rgba(239,85,59,0.15)",
         "line": {
          "color": "#EF553B",
          "width": 0
         },
         "mode": "lines",
         "showlegend": false,
         "type": "scatter",
         "x": {
          "bdata": "AQIDBAUGBwgJCgsMDQ4PEBESExQVFhcYGRobHB0eHyAhIiMkJSYnKCkqKywtLi8wMTI=",
          "dtype": "i1"
         },
         "y": {
          "bdata": "SiCyWNQa8z9d8Xf/7p3zP0zZMss6C/Q/35Ye4/xK9D8hW/zeCY/0P3jj3EzC3fQ/aPbJJGg59T+712curVL1P+ThemosnfU/JC22Yb649T9fVoO1Lq71P4KnO0F5uvU/s2f9ObfY9T9cTmlTVOL1Pxb5hm0l9PU/8bwZkqU69j9E1ynRkGf2P3uDeDyiYPY/gUDgWImY9j+ybeCfFbn2P9RapN+XsfY/6IGjTAS/9j9I7FncDs/2P80s0g5N1/Y/6oY28ibX9j8go92k+dj2P6ixQZY+5fY/cqCb4O7o9j8WPsaTqfn2P7rkNdKsGvc/t+QCAzYd9z98WE2APCX3P3xYTYA8Jfc/7P3l/nQp9z9voXrHRiP3PynJjrTcJfc/ZBF+/Q1I9z9qHRvIhVX3Pyp3rCcsgfc/sYz8wQKW9z8dZ7BgR6n3P27R/dEsqfc/BXVg0Z629z/v22rEpbr3Pxcq3q6Otfc/rzou1tDC9z8AxPSvUN73P0ZNrn/f6/c/u9ccsJAE+D9cRcIaxBT4Pw==",
          "dtype": "f8"
         }
        },
        {
         "hovertemplate": "Combination: ('block_rotation_mutation', 'partially_mapped_crossover', 'tournament_selection')<br>Experiment: exp3<br>Generation: %{x}<br>Fitness: %{y}<extra></extra>",
         "line": {
          "color": "#00CC96"
         },
         "mode": "lines+markers",
         "name": "Comb BPT: ('block_rotation_mutation', 'partially_mapped_crossover', 'tournament_selection'),<br>exp3: Customized Prob Muts",
         "type": "scatter",
         "x": {
          "bdata": "AQIDBAUGBwgJCgsMDQ4PEBESExQVFhcYGRobHB0eHyAhIiMkJSYnKCkqKywtLi8wMTI=",
          "dtype": "i1"
         },
         "y": {
          "bdata": "X5hMFYwK9D+m7V9ZaVL0PxaMSuoE9PQ/XAhyUMJM9T+YNEbrqKr1P/f8MEJ49PU/93XgnBEl9j/z5QXYR2f2P9ZR1QRRt/Y/Fp8CYDzD9j8wgVt38xT3P3YCmggbXvc/egH20alr9z9wd9Zuu5D3P0Jg5dAi2/c/nMk329wY+D/w/nivWhn4P6JAn8iTJPg/VvZdEfwv+D98LH3ogjr4P0SjO4idafg/tOpztRV7+D+cilQYW4j4P2qfjscMlPg/ap+OxwyU+D9vnuqQm6H4P7Wmeccpuvg/BJDaxMm9+D8EkNrEyb34P662Yn/Z/fg/6SYxCKwc+T8McayL2yj5P6Y/+5EiMvk/9l0R/G9l+T/2XRH8b2X5P/ZdEfxvZfk/uCOcFrxo+T+0q5Dyk2r5P6BP5EnSdfk/l3Mprip7+T/O/GoOEIz5P3Drbp7qkPk/SrA4nPmV+T9KsDic+ZX5PwyOklfnmPk/7kJznUaa+T+1MuGX+rn5P7Uy4Zf6ufk/tTLhl/q5+T8niLoPQOr5Pw==",
          "dtype": "f8"
         }
        },
        {
         "line": {
          "color": "#00CC96",
          "width": 0
         },
         "mode": "lines",
         "showlegend": false,
         "type": "scatter",
         "x": {
          "bdata": "AQIDBAUGBwgJCgsMDQ4PEBESExQVFhcYGRobHB0eHyAhIiMkJSYnKCkqKywtLi8wMTI=",
          "dtype": "i1"
         },
         "y": {
          "bdata": "TpIJSFWj9D/dxdmTsef0PxbPN75snPU/Vi706kj29T8m1tGkQVv2P5ylbTmnmvY/o5bUqSzD9j/9XKmuCxD3P9XW8i08bvc/JFNwUZhf9z8vW10+FrD3P9KyZoa1C/g/QI4+0vgf+D/PTz1O5T74P8ZSPpvziPg/8Qtmsu63+D/W93z1WLT4P1FKeXjWv/g/A4KlxhnY+D+KFFZiXd74Pw1NIJLuDPk/QjxqEzcc+T/4tituWDn5P/hf+okxQPk/JJymFXY/+T9Ax2Csi1r5PzboUXZMZfk/vifs3m9p+T84Y+Z/h175P6OxbpB6qPk/uQqAdRW/+T+PaPF72cb5PxF64bQ3z/k/Wr7XjgME+j+vYsEzlAL6PxtxQ9CnAvo/YDPEcCwQ+j+ZkCSvqBH6Pwl7ZrrLNfo/DFsyHVE1+j9h4I8pIlP6P55Z8wy8Vfo/FmbUm8dT+j9KgiPgnFT6P8n9Vr7VVvo/7A1g03Ne+j/pEO+VeHn6P/cEzeHre/o/9wTN4et7+j/61fDr2Kr6Pw==",
          "dtype": "f8"
         }
        },
        {
         "fill": "tonexty",
         "fillcolor": "rgba(0,204,150,0.15)",
         "line": {
          "color": "#00CC96",
          "width": 0
         },
         "mode": "lines",
         "showlegend": false,
         "type": "scatter",
         "x": {
          "bdata": "AQIDBAUGBwgJCgsMDQ4PEBESExQVFhcYGRobHB0eHyAhIiMkJSYnKCkqKywtLi8wMTI=",
          "dtype": "i1"
         },
         "y": {
          "bdata": "cJ6P4sJx8z9vFeYeIb3zPxZJXRadS/Q/YuLvtTuj9D8Kk7oxEPr0P1JU9EpJTvU/S1Xsj/aG9T/pbmIBhL71P9fMt9tlAPY/COuUbuAm9j8xp1mw0Hn2PxpSzYqAsPY/tHSt0Vq39j8Rn2+PkeL2P75tjAZSLfc/R4cJBMt59z8KBnVpXH73P/M2xRhRifc/qWoWXN6H9z9uRKRuqJb3P3v5Vn5Mxvc/Jpl9V/TZ9z9AXn3CXdf3P9zeIgXo5/c/sKJ2eaPo9z+edXR1q+j3PzRloRgHD/g/SvjIqiMS+D/QvM4JDB34P7m7Vm44U/g/GUPimkJ6+D+JeWeb3Yr4PzsFFW8Nlfg/kv1KadzG+D89WWHES8j4P9FK3yc4yPg/EBR0vEvB+D/Pxvw1f8P4PzckYtnYtfg/IowgPwTB+D87GUbz/cT4P0J96i8ZzPg/fvqcnCvY+D9K3k1YVtf4P08ezvD42vg/8HeGZxnW+D+BVNOZfPr4P3Ng9U0J+Pg/c2D1TQn4+D9UOoQzpyn5Pw==",
          "dtype": "f8"
         }
        },
        {
         "hovertemplate": "Combination: ('semi_shuffle', 'partially_mapped_crossover', 'tournament_selection')<br>Experiment: exp1<br>Generation: %{x}<br>Fitness: %{y}<extra></extra>",
         "line": {
          "color": "#AB63FA"
         },
         "mode": "lines+markers",
         "name": "Comb SPT: ('semi_shuffle', 'partially_mapped_crossover', 'tournament_selection'),<br>exp1: Prob Mut 0.1",
         "type": "scatter",
         "x": {
          "bdata": "AQIDBAUGBwgJCgsMDQ4PEBESExQVFhcYGRobHB0eHyAhIiMkJSYnKCkqKywtLi8wMTI=",
          "dtype": "i1"
         },
         "y": {
          "bdata": "cjPcgM/P8z9QATCeQYP0P2TMXUvIB/U/2JlC5zV29T9aqDXNOw72P6AVGLK6VfY/66hqgqh79j9+dOrKZ7n2P7IpV3iXC/c/GjT0T3Ax9z/Mr+YAwVz3P9aVz/I8ePc/+nlTkQqj9z/XVuwvu+f3P+AVwf9W8vc/Pzp15bP89z/YZI16iAb4P4JWYMjqFvg/SKeufJYn+D8IlE25wjv4P0jhehSuR/g/SOF6FK5H+D/6ljldFlP4P/qWOV0WU/g/+pY5XRZT+D/6ljldFlP4P0x/9iNFZPg/eLRxxFp8+D9u2LYos4H4P27Ytiizgfg/bti2KLOB+D/8471qZYL4P/zjvWplgvg//OO9amWC+D9kQPZ694f4P38TChFwiPg/cHfWbruQ+D9CeLRxxJr4P0J4tHHEmvg/Qni0ccSa+D+ATdaoh6j4P6n7AKQ2sfg/hs5r7BLV+D+atn9lpQn5P5q2f2WlCfk/mrZ/ZaUJ+T+atn9lpQn5P5q2f2WlCfk/mrZ/ZaUJ+T875Ga4AR/5Pw==",
          "dtype": "f8"
         }
        },
        {
         "line": {
          "color": "#AB63FA",
          "width": 0
         },
         "mode": "lines",
         "showlegend": false,
         "type": "scatter",
         "x": {
          "bdata": "AQIDBAUGBwgJCgsMDQ4PEBESExQVFhcYGRobHB0eHyAhIiMkJSYnKCkqKywtLi8wMTI=",
          "dtype": "i1"
         },
         "y": {
          "bdata": "QPbpyvyJ9D9Pj8WgmAv1P0mmTKa2rfU/juKEfWUc9j/eS8MsiJ/2Pywp6eCT1/Y/xNOJSBIO9z800csROF33P5Ockxx5sPc/s99pWQTg9z8PUsinAPv3P86qNNZ3Ivg//08oK3Nh+D9xw0nwP634P3qFyxbjwPg/lKbOwGvP+D+p+x+SY+T4P2MzhOJs7/g/DRsalEAE+T9UFq8cQBL5PxWzVRNJGvk/+G1Fp1QX+T8sSQCfdRn5P6QwWn+/Hfk/vo57oGMb+T/CgfUZNR75P/Y+cyHlLvk/gHiH+i1B+T/p8KBCXEz5PwpjTonVTPk/FtFtAi1R+T/vMr1YDVX5PycTUijjWPk/Vjr+IQ5Z+T+ku444k175Py+d7DmsYvk/96gx3g9t+T8KrlJVXnT5P+h+Q1B5ePk/+lHZSlN2+T9ubV2vi4T5PyTvA6xmjPk/kBFZQz6w+T8OywzqA+b5P6abnn8C6/k/ppuefwLr+T+mm55/Auv5P0tj41+K3vk/mMbUvCjU+T8aBNPGMun5Pw==",
          "dtype": "f8"
         }
        },
        {
         "fill": "tonexty",
         "fillcolor": "rgba(171,99,250,0.15)",
         "line": {
          "color": "#AB63FA",
          "width": 0
         },
         "mode": "lines",
         "showlegend": false,
         "type": "scatter",
         "x": {
          "bdata": "AQIDBAUGBwgJCgsMDQ4PEBESExQVFhcYGRobHB0eHyAhIiMkJSYnKCkqKywtLi8wMTI=",
          "dtype": "i1"
         },
         "y": {
          "bdata": "pHDONqIV8z9Rc5qb6vrzP3/ybvDZYfQ/IlEAUQbQ9D/WBKht73z1PxQCR4Ph0/U/En5LvD7p9T/IFwmElxX2P9G2GtS1ZvY/gYh+RtyC9j+JDQVagb72P96Aag8CzvY/9aN+96Hk9j896o5vNiL3P0amtujKI/c/6s0bCvwp9z8HzvpirSj3P6F5PK5oPvc/gzNDZexK9z+8EexVRWX3P3sPoBUTdfc/mFSwgQd49z/I5HIbt4z3P1D9GDttiPc/Np/3GcmK9z8yrH2g94f3P6K/eSalmfc/cPBbjoe39z/zv8wOCrf3P9JNH8iQtvc/xt//Tjmy9z8Jlb58va/3P9G0Ka3nq/c/oo19s7yr9z8kxV29W7H3P8+JJ+gzrvc/6UV7/2a09z96QhaOKsH3P5xxJZMPvfc/ip6PmDW/9z+SLU+ig8z3Py4I/psG1vc/fIt+lef59z8movLgRi34P47RYEtIKPg/jtFgS0go+D+O0WBLSCj4P+kJHGvANPg/nKYqDiI/+D9cxPqp0FT4Pw==",
          "dtype": "f8"
         }
        },
        {
         "hovertemplate": "Combination: ('semi_shuffle', 'partially_mapped_crossover', 'tournament_selection')<br>Experiment: exp2<br>Generation: %{x}<br>Fitness: %{y}<extra></extra>",
         "line": {
          "color": "#FFA15A"
         },
         "mode": "lines+markers",
         "name": "Comb SPT: ('semi_shuffle', 'partially_mapped_crossover', 'tournament_selection'),<br>exp2: Prob Mut 0.2",
         "type": "scatter",
         "x": {
          "bdata": "AQIDBAUGBwgJCgsMDQ4PEBESExQVFhcYGRobHB0eHyAhIiMkJSYnKCkqKywtLi8wMTI=",
          "dtype": "i1"
         },
         "y": {
          "bdata": "oKaWrfUF9D+sHFpkO9/0P6cFL/oKEvU/AvG6fsGu9T82cXK/QxH2P6n7AKQ2cfY/+KV+3lSk9j80UBn/PuP2P820/SsrDfc/4iNiSiRR9z8Ebt3NU133P5/leXB3lvc/845TdCTX9z+WkA96Niv4P3PcKR2sP/g/+kSeJF1z+D8dA7LXu7/4P5qZmZmZ2fg/xy5RvTXw+D/HLlG9NfD4P6jGSzeJQfk/sp3vp8ZL+T9angd3Z235P7sKKT+pdvk/skY9RKN7+T+yRj1Eo3v5PyJnYU87fPk/TS1b64uE+T9NLVvri4T5P00tW+uLhPk/TS1b64uE+T9NLVvri4T5P00tW+uLhPk/GeJYF7eR+T8Z4lgXt5H5PxniWBe3kfk//JEiMqyi+T+GrG71nLT5P4i6D0Bq0/k/iLoPQGrT+T+Iug9AatP5P4i6D0Bq0/k/iLoPQGrT+T+Iug9AatP5P4i6D0Bq0/k/1LfM6bLY+T/Ut8zpstj5Pz8AqU2c3Pk/PwCpTZzc+T8/AKlNnNz5Pw==",
          "dtype": "f8"
         }
        },
        {
         "line": {
          "color": "#FFA15A",
          "width": 0
         },
         "mode": "lines",
         "showlegend": false,
         "type": "scatter",
         "x": {
          "bdata": "AQIDBAUGBwgJCgsMDQ4PEBESExQVFhcYGRobHB0eHyAhIiMkJSYnKCkqKywtLi8wMTI=",
          "dtype": "i1"
         },
         "y": {
          "bdata": "7QddFrjP9D/Yr9LRN5v1P9AC9rWdqfU/1kezzTp19j98088NLeD2P4HU+DR1HPc/SYokGjFC9z+OUkL16Xf3PwvsO452t/c/QbvtJDgB+D+JC7VD4h/4P2dvmsXLTPg/LTkCu6SB+D9NKNF/H9f4P+9mVCs/8vg/jLTXHScr+T9o/9CGYXf5P8I9JQ2Pn/k/yFukgNGv+T94NQLraLb5P+mmvgSoDPo/DkBHjzEL+j8nn4NUzTX6P8yPIcTqOPo/8+JWfTVA+j8y2P2gbDT6P3EwhhnrM/o/WKw6x3E++j9DqkZ7GT/6P99x0IcBOvo/cXsxh7E/+j8UZ9E4VUP6P79njdxFQvo//rKhZIVO+j/daur1f0b6P8+Jc8MCSvo/Zkesj7la+j8xYtuK72v6P2h5SAizi/o/EThz8YKN+j9K/wUcBJH6PxHn5jPLj/o/3ou/AruH+j/ei78Cu4f6P4PPMVU9kvo/HHw8kF6X+j/y5fCbuJj6Pw+Z8hysm/o/EKvgeSmc+j+pOJbWO5v6Pw==",
          "dtype": "f8"
         }
        },
        {
         "fill": "tonexty",
         "fillcolor": "rgba(255,161,90,0.15)",
         "line": {
          "color": "#FFA15A",
          "width": 0
         },
         "mode": "lines",
         "showlegend": false,
         "type": "scatter",
         "x": {
          "bdata": "AQIDBAUGBwgJCgsMDQ4PEBESExQVFhcYGRobHB0eHyAhIiMkJSYnKCkqKywtLi8wMTI=",
          "dtype": "i1"
         },
         "y": {
          "bdata": "U0XQRDM88z+AieH2PiP0P34IaD54evQ/LprCL0jo9D/wDhVxWkL1P9EiCRP4xfU/p8HYongG9j/aTfAIlE72P499v8nfYvY/g4zWbxCh9j9/0AVYxZr2P9dbWRsj4PY/ueSkLaQs9z/f+E10TX/3P/dR/w4Zjfc/aNVkK5O79z/SBpMoFgj4P3L1DSakE/g/xgH++Zkw+D8WKKCPAir4P2fm2Glqdvg/VvuXwFuM+D+NnYuZAaX4P6qFMLpntPg/caojCxG3+D8ytXzn2cL4P9OdPIWLxPg/Qq57D6bK+D9XsG9b/sn4P7vo5U4Wz/g/Kd+ET2bJ+D+G8+SdwsX4P9vyKPrRxvg/NBEQyujU+D9VWcc47tz4P2M6Pmtr2fg/ktyY1J7q+D/b9gFgSv34P6j71nchG/k//zysjlEZ+T/GdRlk0BX5P/+NOEwJF/k/MulffRkf+T8y6V99GR/5P42l7SqXFPk/jPNcQwca+T+2iag3rRj5P29nX36MHfk/blVxIQ8d+T/Vx7vE/B35Pw==",
          "dtype": "f8"
         }
        },
        {
         "hovertemplate": "Combination: ('semi_shuffle', 'partially_mapped_crossover', 'tournament_selection')<br>Experiment: exp3<br>Generation: %{x}<br>Fitness: %{y}<extra></extra>",
         "line": {
          "color": "#19D3F3"
         },
         "mode": "lines+markers",
         "name": "Comb SPT: ('semi_shuffle', 'partially_mapped_crossover', 'tournament_selection'),<br>exp3: Customized Prob Muts",
         "type": "scatter",
         "x": {
          "bdata": "AQIDBAUGBwgJCgsMDQ4PEBESExQVFhcYGRobHB0eHyAhIiMkJSYnKCkqKywtLi8wMTI=",
          "dtype": "i1"
         },
         "y": {
          "bdata": "e2tgqwQL9D+6SQwCK4f0P7rCu1zEN/U/7Sqk/KTa9T9qMA3DR0T2P6shcY+lj/Y/2PULdsO29j/GFoIclPD2P49TdCSXP/c/Jh5QNuWK9z9HsdzSasj3P9i7P96r1vc/Bl+YTBUM+D/QeY1dojr4PzIIrBxaZPg/xqcAGM+g+D/C9Shcj8L4PwgDz72Hy/g/HYoCfSIP+T+UfVcE/xv5Pxxfe2ZJQPk/XJTZIJNM+T8fVU0QdV/5PwAd5ssLcPk/dF5jl6ie+T8eA7LXu7/5PwIrhxbZzvk/AiuHFtnO+T/0iTxJuub5P8Oedvhr8vk/hXzQs1n1+T8GTODW3fz5P7zGLlG9Nfo/vMYuUb01+j/qYP2fwzz6P+pg/Z/DPPo/6mD9n8M8+j8v+grSjEX6P65kx0YgXvo/rmTHRiBe+j+uZMdGIF76P65kx0YgXvo/rmTHRiBe+j+uZMdGIF76P3KiXYWUX/o/9l0R/G9l+j/2XRH8b2X6P/ZdEfxvZfo/2iCTjJyF+j+c/uxHioj6Pw==",
          "dtype": "f8"
         }
        },
        {
         "line": {
          "color": "#19D3F3",
          "width": 0
         },
         "mode": "lines",
         "showlegend": false,
         "type": "scatter",
         "x": {
          "bdata": "AQIDBAUGBwgJCgsMDQ4PEBESExQVFhcYGRobHB0eHyAhIiMkJSYnKCkqKywtLi8wMTI=",
          "dtype": "i1"
         },
         "y": {
          "bdata": "sjMsBQa39D+pWjPIKD71P0YD0FkWBvY/EZiE3O2Q9j8vm1JTHvn2PxCGAkRmMPc/BHrSK2pY9z/31leFrpv3PxpaEvLazvc/dvdKNXAE+D+7E/0jvVj4P8msahhYafg/T/4yEDyi+D9XdOD1Bdr4Pzoz+ACzA/k/Iuay/Y89+T/vTTi25WP5P1LJTTm1dvk/X8aBIbG4+T8PvKcGw9T5P4QxQkZv+Pk/qKQObFIN+j/F9i6NGSP6Py9aCzTWMPo/e/ktVY1m+j+YRZb9Hp36P1AENminqfo/G6uiAVKt+j/i8o5JXcz6P+qQEaM62/o/XzmbWJrY+j/hk7JVnd/6P/J+sLU0Bvs/ez/0ybcS+z/NLhsnmhT7P9HLj4ULJfs/w9IihkQs+z/8Aw/iPzb7PxHJqwegSvs/ueFWEFxI+z9j+e5fOkj7P3lc+m18Tvs/ttrnfWNO+z+k/4QFAUz7P8qCZZlyRvs/Q2JeuyhP+z8CpryD6E/7P4HCu9egTvs/Ms6nahdq+z+OfVvBO3D7Pw==",
          "dtype": "f8"
         }
        },
        {
         "fill": "tonexty",
         "fillcolor": "rgba(25,211,243,0.15)",
         "line": {
          "color": "#19D3F3",
          "width": 0
         },
         "mode": "lines",
         "showlegend": false,
         "type": "scatter",
         "x": {
          "bdata": "AQIDBAUGBwgJCgsMDQ4PEBESExQVFhcYGRobHB0eHyAhIiMkJSYnKCkqKywtLi8wMTI=",
          "dtype": "i1"
         },
         "y": {
          "bdata": "RKOUUQNf8z/LOOU7LdDzPy6Cp19yafQ/yb3DHFwk9T+lxccycY/1P0a939rk7vU/rHFFwBwV9j+VVqyzeUX2PwRN1lZTsPY/1kRVN1oR9z/TTryBGDj3P+fKFKT/Q/c/vb/9iO519z9JfzrFPpv3PyrdXzgBxfc/amlOMg4E+D+VnRkCOSH4P748UEJaIPg/202D2JNl+D8ZPwcCO2P4P7SMtIYjiPg/EISk1dOL+D95s2uT0Jv4P9HfwGNBr/g/bcOY2cPW+D+kwM2xWOL4P7RR2MQK9Pg/6aprK2Dw+D8GIepIFwH5P5ys202dCfk/q78FDxkS+T8rBA5YHhr5P4YOrexFZfk//U1p2MJY+T8Hk98Y7WT5PwP2arp7VPk/Ee/XuUJN+T9i8AbC2VT5P0sA44Wgcfk/o+c3feRz+T/5z58tBnT5P+NslB/Ebfk/pu6mD91t+T+4yQmIP3D5PxrCVXG2ePk/qVnEPLd7+T/qFWZ093r5P2v5ZiA/fPk/gnN+riGh+T+qf37O2KD5Pw==",
          "dtype": "f8"
         }
        }
       ],
       "layout": {
        "height": 650,
        "legend": {
         "font": {
          "size": 11
         },
         "orientation": "h",
         "title": {
          "font": {
           "size": 12
          },
          "side": "top",
          "text": "Combination & Experiment"
         },
         "y": -0.3
        },
        "margin": {
         "b": 100,
         "l": 50,
         "pad": 10,
         "r": 50,
         "t": 80
        },
        "plot_bgcolor": "white",
        "template": {
         "data": {
          "bar": [
           {
            "error_x": {
             "color": "#2a3f5f"
            },
            "error_y": {
             "color": "#2a3f5f"
            },
            "marker": {
             "line": {
              "color": "#E5ECF6",
              "width": 0.5
             },
             "pattern": {
              "fillmode": "overlay",
              "size": 10,
              "solidity": 0.2
             }
            },
            "type": "bar"
           }
          ],
          "barpolar": [
           {
            "marker": {
             "line": {
              "color": "#E5ECF6",
              "width": 0.5
             },
             "pattern": {
              "fillmode": "overlay",
              "size": 10,
              "solidity": 0.2
             }
            },
            "type": "barpolar"
           }
          ],
          "carpet": [
           {
            "aaxis": {
             "endlinecolor": "#2a3f5f",
             "gridcolor": "white",
             "linecolor": "white",
             "minorgridcolor": "white",
             "startlinecolor": "#2a3f5f"
            },
            "baxis": {
             "endlinecolor": "#2a3f5f",
             "gridcolor": "white",
             "linecolor": "white",
             "minorgridcolor": "white",
             "startlinecolor": "#2a3f5f"
            },
            "type": "carpet"
           }
          ],
          "choropleth": [
           {
            "colorbar": {
             "outlinewidth": 0,
             "ticks": ""
            },
            "type": "choropleth"
           }
          ],
          "contour": [
           {
            "colorbar": {
             "outlinewidth": 0,
             "ticks": ""
            },
            "colorscale": [
             [
              0,
              "#0d0887"
             ],
             [
              0.1111111111111111,
              "#46039f"
             ],
             [
              0.2222222222222222,
              "#7201a8"
             ],
             [
              0.3333333333333333,
              "#9c179e"
             ],
             [
              0.4444444444444444,
              "#bd3786"
             ],
             [
              0.5555555555555556,
              "#d8576b"
             ],
             [
              0.6666666666666666,
              "#ed7953"
             ],
             [
              0.7777777777777778,
              "#fb9f3a"
             ],
             [
              0.8888888888888888,
              "#fdca26"
             ],
             [
              1,
              "#f0f921"
             ]
            ],
            "type": "contour"
           }
          ],
          "contourcarpet": [
           {
            "colorbar": {
             "outlinewidth": 0,
             "ticks": ""
            },
            "type": "contourcarpet"
           }
          ],
          "heatmap": [
           {
            "colorbar": {
             "outlinewidth": 0,
             "ticks": ""
            },
            "colorscale": [
             [
              0,
              "#0d0887"
             ],
             [
              0.1111111111111111,
              "#46039f"
             ],
             [
              0.2222222222222222,
              "#7201a8"
             ],
             [
              0.3333333333333333,
              "#9c179e"
             ],
             [
              0.4444444444444444,
              "#bd3786"
             ],
             [
              0.5555555555555556,
              "#d8576b"
             ],
             [
              0.6666666666666666,
              "#ed7953"
             ],
             [
              0.7777777777777778,
              "#fb9f3a"
             ],
             [
              0.8888888888888888,
              "#fdca26"
             ],
             [
              1,
              "#f0f921"
             ]
            ],
            "type": "heatmap"
           }
          ],
          "histogram": [
           {
            "marker": {
             "pattern": {
              "fillmode": "overlay",
              "size": 10,
              "solidity": 0.2
             }
            },
            "type": "histogram"
           }
          ],
          "histogram2d": [
           {
            "colorbar": {
             "outlinewidth": 0,
             "ticks": ""
            },
            "colorscale": [
             [
              0,
              "#0d0887"
             ],
             [
              0.1111111111111111,
              "#46039f"
             ],
             [
              0.2222222222222222,
              "#7201a8"
             ],
             [
              0.3333333333333333,
              "#9c179e"
             ],
             [
              0.4444444444444444,
              "#bd3786"
             ],
             [
              0.5555555555555556,
              "#d8576b"
             ],
             [
              0.6666666666666666,
              "#ed7953"
             ],
             [
              0.7777777777777778,
              "#fb9f3a"
             ],
             [
              0.8888888888888888,
              "#fdca26"
             ],
             [
              1,
              "#f0f921"
             ]
            ],
            "type": "histogram2d"
           }
          ],
          "histogram2dcontour": [
           {
            "colorbar": {
             "outlinewidth": 0,
             "ticks": ""
            },
            "colorscale": [
             [
              0,
              "#0d0887"
             ],
             [
              0.1111111111111111,
              "#46039f"
             ],
             [
              0.2222222222222222,
              "#7201a8"
             ],
             [
              0.3333333333333333,
              "#9c179e"
             ],
             [
              0.4444444444444444,
              "#bd3786"
             ],
             [
              0.5555555555555556,
              "#d8576b"
             ],
             [
              0.6666666666666666,
              "#ed7953"
             ],
             [
              0.7777777777777778,
              "#fb9f3a"
             ],
             [
              0.8888888888888888,
              "#fdca26"
             ],
             [
              1,
              "#f0f921"
             ]
            ],
            "type": "histogram2dcontour"
           }
          ],
          "mesh3d": [
           {
            "colorbar": {
             "outlinewidth": 0,
             "ticks": ""
            },
            "type": "mesh3d"
           }
          ],
          "parcoords": [
           {
            "line": {
             "colorbar": {
              "outlinewidth": 0,
              "ticks": ""
             }
            },
            "type": "parcoords"
           }
          ],
          "pie": [
           {
            "automargin": true,
            "type": "pie"
           }
          ],
          "scatter": [
           {
            "fillpattern": {
             "fillmode": "overlay",
             "size": 10,
             "solidity": 0.2
            },
            "type": "scatter"
           }
          ],
          "scatter3d": [
           {
            "line": {
             "colorbar": {
              "outlinewidth": 0,
              "ticks": ""
             }
            },
            "marker": {
             "colorbar": {
              "outlinewidth": 0,
              "ticks": ""
             }
            },
            "type": "scatter3d"
           }
          ],
          "scattercarpet": [
           {
            "marker": {
             "colorbar": {
              "outlinewidth": 0,
              "ticks": ""
             }
            },
            "type": "scattercarpet"
           }
          ],
          "scattergeo": [
           {
            "marker": {
             "colorbar": {
              "outlinewidth": 0,
              "ticks": ""
             }
            },
            "type": "scattergeo"
           }
          ],
          "scattergl": [
           {
            "marker": {
             "colorbar": {
              "outlinewidth": 0,
              "ticks": ""
             }
            },
            "type": "scattergl"
           }
          ],
          "scattermap": [
           {
            "marker": {
             "colorbar": {
              "outlinewidth": 0,
              "ticks": ""
             }
            },
            "type": "scattermap"
           }
          ],
          "scattermapbox": [
           {
            "marker": {
             "colorbar": {
              "outlinewidth": 0,
              "ticks": ""
             }
            },
            "type": "scattermapbox"
           }
          ],
          "scatterpolar": [
           {
            "marker": {
             "colorbar": {
              "outlinewidth": 0,
              "ticks": ""
             }
            },
            "type": "scatterpolar"
           }
          ],
          "scatterpolargl": [
           {
            "marker": {
             "colorbar": {
              "outlinewidth": 0,
              "ticks": ""
             }
            },
            "type": "scatterpolargl"
           }
          ],
          "scatterternary": [
           {
            "marker": {
             "colorbar": {
              "outlinewidth": 0,
              "ticks": ""
             }
            },
            "type": "scatterternary"
           }
          ],
          "surface": [
           {
            "colorbar": {
             "outlinewidth": 0,
             "ticks": ""
            },
            "colorscale": [
             [
              0,
              "#0d0887"
             ],
             [
              0.1111111111111111,
              "#46039f"
             ],
             [
              0.2222222222222222,
              "#7201a8"
             ],
             [
              0.3333333333333333,
              "#9c179e"
             ],
             [
              0.4444444444444444,
              "#bd3786"
             ],
             [
              0.5555555555555556,
              "#d8576b"
             ],
             [
              0.6666666666666666,
              "#ed7953"
             ],
             [
              0.7777777777777778,
              "#fb9f3a"
             ],
             [
              0.8888888888888888,
              "#fdca26"
             ],
             [
              1,
              "#f0f921"
             ]
            ],
            "type": "surface"
           }
          ],
          "table": [
           {
            "cells": {
             "fill": {
              "color": "#EBF0F8"
             },
             "line": {
              "color": "white"
             }
            },
            "header": {
             "fill": {
              "color": "#C8D4E3"
             },
             "line": {
              "color": "white"
             }
            },
            "type": "table"
           }
          ]
         },
         "layout": {
          "annotationdefaults": {
           "arrowcolor": "#2a3f5f",
           "arrowhead": 0,
           "arrowwidth": 1
          },
          "autotypenumbers": "strict",
          "coloraxis": {
           "colorbar": {
            "outlinewidth": 0,
            "ticks": ""
           }
          },
          "colorscale": {
           "diverging": [
            [
             0,
             "#8e0152"
            ],
            [
             0.1,
             "#c51b7d"
            ],
            [
             0.2,
             "#de77ae"
            ],
            [
             0.3,
             "#f1b6da"
            ],
            [
             0.4,
             "#fde0ef"
            ],
            [
             0.5,
             "#f7f7f7"
            ],
            [
             0.6,
             "#e6f5d0"
            ],
            [
             0.7,
             "#b8e186"
            ],
            [
             0.8,
             "#7fbc41"
            ],
            [
             0.9,
             "#4d9221"
            ],
            [
             1,
             "#276419"
            ]
           ],
           "sequential": [
            [
             0,
             "#0d0887"
            ],
            [
             0.1111111111111111,
             "#46039f"
            ],
            [
             0.2222222222222222,
             "#7201a8"
            ],
            [
             0.3333333333333333,
             "#9c179e"
            ],
            [
             0.4444444444444444,
             "#bd3786"
            ],
            [
             0.5555555555555556,
             "#d8576b"
            ],
            [
             0.6666666666666666,
             "#ed7953"
            ],
            [
             0.7777777777777778,
             "#fb9f3a"
            ],
            [
             0.8888888888888888,
             "#fdca26"
            ],
            [
             1,
             "#f0f921"
            ]
           ],
           "sequentialminus": [
            [
             0,
             "#0d0887"
            ],
            [
             0.1111111111111111,
             "#46039f"
            ],
            [
             0.2222222222222222,
             "#7201a8"
            ],
            [
             0.3333333333333333,
             "#9c179e"
            ],
            [
             0.4444444444444444,
             "#bd3786"
            ],
            [
             0.5555555555555556,
             "#d8576b"
            ],
            [
             0.6666666666666666,
             "#ed7953"
            ],
            [
             0.7777777777777778,
             "#fb9f3a"
            ],
            [
             0.8888888888888888,
             "#fdca26"
            ],
            [
             1,
             "#f0f921"
            ]
           ]
          },
          "colorway": [
           "#636efa",
           "#EF553B",
           "#00cc96",
           "#ab63fa",
           "#FFA15A",
           "#19d3f3",
           "#FF6692",
           "#B6E880",
           "#FF97FF",
           "#FECB52"
          ],
          "font": {
           "color": "#2a3f5f"
          },
          "geo": {
           "bgcolor": "white",
           "lakecolor": "white",
           "landcolor": "#E5ECF6",
           "showlakes": true,
           "showland": true,
           "subunitcolor": "white"
          },
          "hoverlabel": {
           "align": "left"
          },
          "hovermode": "closest",
          "mapbox": {
           "style": "light"
          },
          "paper_bgcolor": "white",
          "plot_bgcolor": "#E5ECF6",
          "polar": {
           "angularaxis": {
            "gridcolor": "white",
            "linecolor": "white",
            "ticks": ""
           },
           "bgcolor": "#E5ECF6",
           "radialaxis": {
            "gridcolor": "white",
            "linecolor": "white",
            "ticks": ""
           }
          },
          "scene": {
           "xaxis": {
            "backgroundcolor": "#E5ECF6",
            "gridcolor": "white",
            "gridwidth": 2,
            "linecolor": "white",
            "showbackground": true,
            "ticks": "",
            "zerolinecolor": "white"
           },
           "yaxis": {
            "backgroundcolor": "#E5ECF6",
            "gridcolor": "white",
            "gridwidth": 2,
            "linecolor": "white",
            "showbackground": true,
            "ticks": "",
            "zerolinecolor": "white"
           },
           "zaxis": {
            "backgroundcolor": "#E5ECF6",
            "gridcolor": "white",
            "gridwidth": 2,
            "linecolor": "white",
            "showbackground": true,
            "ticks": "",
            "zerolinecolor": "white"
           }
          },
          "shapedefaults": {
           "line": {
            "color": "#2a3f5f"
           }
          },
          "ternary": {
           "aaxis": {
            "gridcolor": "white",
            "linecolor": "white",
            "ticks": ""
           },
           "baxis": {
            "gridcolor": "white",
            "linecolor": "white",
            "ticks": ""
           },
           "bgcolor": "#E5ECF6",
           "caxis": {
            "gridcolor": "white",
            "linecolor": "white",
            "ticks": ""
           }
          },
          "title": {
           "x": 0.05
          },
          "xaxis": {
           "automargin": true,
           "gridcolor": "white",
           "linecolor": "white",
           "ticks": "",
           "title": {
            "standoff": 15
           },
           "zerolinecolor": "white",
           "zerolinewidth": 2
          },
          "yaxis": {
           "automargin": true,
           "gridcolor": "white",
           "linecolor": "white",
           "ticks": "",
           "title": {
            "standoff": 15
           },
           "zerolinecolor": "white",
           "zerolinewidth": 2
          }
         }
        },
        "title": {
         "font": {
          "family": "Arial",
          "size": 18
         },
         "text": "Best fitness along the generation from the <b>2</b> best of each experiment"
        },
        "width": 850,
        "xaxis": {
         "gridcolor": "lightgray",
         "title": {
          "text": "Generation"
         }
        },
        "yaxis": {
         "gridcolor": "lightgray",
         "title": {
          "text": "Fitness"
         }
        }
       }
      }
     },
     "metadata": {},
     "output_type": "display_data"
    }
   ],
   "source": [
    "plot_Xbest_per_exp(Xbest=2, df_exps={'exp1': 'Prob Mut 0.1', 'exp2': 'Prob Mut 0.2', 'exp3': 'Customized Prob Muts'}, std=True)"
   ]
  },
  {
   "cell_type": "code",
   "execution_count": 191,
   "id": "c25973dc",
   "metadata": {},
   "outputs": [
    {
     "data": {
      "application/vnd.plotly.v1+json": {
       "config": {
        "plotlyServerURL": "https://plot.ly"
       },
       "data": [
        {
         "hoverinfo": "y",
         "legendgroup": "group_('block_rotation_mutation', 'partially_mapped_crossover', 'tournament_selection')",
         "line": {
          "width": 1
         },
         "marker": {
          "size": 5
         },
         "name": "Comb BPT: ('block_rotation_mutation', 'partially_mapped_crossover', 'tournament_selection'),<br>exp1: Prob Mut 0.1",
         "showlegend": true,
         "type": "box",
         "y": [
          1.257492,
          1.280939,
          1.3056803333333336,
          1.3260666666666665,
          1.3574746666666668,
          1.3769153333333333,
          1.390142,
          1.410805,
          1.4202389999999998,
          1.427352,
          1.4360023333333334,
          1.4417996666666668,
          1.4458823333333333,
          1.4577846666666665,
          1.4721203333333333,
          1.4801933333333332,
          1.4882816666666667,
          1.4981026666666668,
          1.5051326666666667,
          1.5072713333333332,
          1.5174293333333333,
          1.5183803333333332,
          1.5219776666666667,
          1.523995,
          1.5271599999999999,
          1.53047,
          1.5326906666666666,
          1.5378063333333332,
          1.546059,
          1.5526873333333335,
          1.553919,
          1.5539953333333334,
          1.5601903333333333,
          1.5701163333333334,
          1.5734003333333333,
          1.5765066666666667,
          1.5792093333333335,
          1.5840850000000002,
          1.584217,
          1.5857883333333334,
          1.5876583333333334,
          1.5930363333333335,
          1.594054,
          1.5972286666666666,
          1.5976253333333332,
          1.5999183333333336,
          1.5999899999999998,
          1.6063293333333335,
          1.6093343333333332,
          1.609877
         ]
        },
        {
         "hoverinfo": "y",
         "legendgroup": "group_('block_rotation_mutation', 'partially_mapped_crossover', 'tournament_selection')",
         "line": {
          "width": 1
         },
         "marker": {
          "size": 5
         },
         "name": "Comb BPT: ('block_rotation_mutation', 'partially_mapped_crossover', 'tournament_selection'),<br>exp2: Prob Mut 0.2",
         "showlegend": true,
         "type": "box",
         "y": [
          1.2341393333333335,
          1.2714,
          1.2833066666666668,
          1.3012453333333334,
          1.3281743333333333,
          1.3475143333333333,
          1.357896,
          1.3747823333333333,
          1.3872453333333332,
          1.397857,
          1.407017,
          1.4105263333333333,
          1.4174746666666667,
          1.4207793333333332,
          1.4337446666666667,
          1.4431313333333333,
          1.447893,
          1.4518716666666667,
          1.4561723333333334,
          1.460328,
          1.4616326666666666,
          1.4649103333333333,
          1.4696063333333336,
          1.4723286666666666,
          1.4730076666666667,
          1.476576,
          1.478163,
          1.4804836666666668,
          1.48442,
          1.4882903333333333,
          1.4890773333333334,
          1.4932156666666667,
          1.4932156666666667,
          1.494697,
          1.5001663333333333,
          1.5022186666666668,
          1.5064236666666666,
          1.5078043333333333,
          1.5099263333333333,
          1.5128903333333334,
          1.5173123333333334,
          1.5173713333333334,
          1.5197063333333334,
          1.520152,
          1.5222346666666666,
          1.5255756666666669,
          1.5283736666666667,
          1.5331656666666666,
          1.5368893333333333,
          1.5374496666666666
         ]
        },
        {
         "hoverinfo": "y",
         "legendgroup": "group_('block_rotation_mutation', 'partially_mapped_crossover', 'tournament_selection')",
         "line": {
          "width": 1
         },
         "marker": {
          "size": 5
         },
         "name": "Comb BPT: ('block_rotation_mutation', 'partially_mapped_crossover', 'tournament_selection'),<br>exp3: Customized Prob Muts",
         "showlegend": true,
         "type": "box",
         "y": [
          1.2504416666666667,
          1.2750033333333335,
          1.3070933333333334,
          1.3357383333333332,
          1.3563800000000001,
          1.3693126666666666,
          1.3909196666666666,
          1.4070563333333332,
          1.4236639999999998,
          1.432747,
          1.44669,
          1.462443,
          1.4695043333333333,
          1.4776296666666666,
          1.4910763333333332,
          1.502889666666667,
          1.5100973333333334,
          1.5117926666666668,
          1.519982,
          1.5258809999999998,
          1.5300556666666667,
          1.5344493333333333,
          1.538406,
          1.540627,
          1.5441456666666666,
          1.5482346666666666,
          1.5538936666666667,
          1.5572376666666665,
          1.5600313333333333,
          1.563793,
          1.5681686666666665,
          1.5732963333333332,
          1.5757109999999999,
          1.5799953333333334,
          1.5802573333333332,
          1.5811223333333333,
          1.5853936666666668,
          1.585495,
          1.5928246666666666,
          1.5952753333333334,
          1.5986946666666666,
          1.6003716666666667,
          1.6045653333333334,
          1.6064313333333333,
          1.6075203333333334,
          1.6112810000000002,
          1.6129286666666667,
          1.6139953333333332,
          1.6139953333333332,
          1.6185666666666667
         ]
        },
        {
         "hoverinfo": "y",
         "legendgroup": "group_('semi_shuffle', 'partially_mapped_crossover', 'tournament_selection')",
         "line": {
          "width": 1
         },
         "marker": {
          "size": 5
         },
         "name": "Comb SPT: ('semi_shuffle', 'partially_mapped_crossover', 'tournament_selection'),<br>exp1: Prob Mut 0.1",
         "showlegend": true,
         "type": "box",
         "y": [
          1.243322,
          1.282267,
          1.3227013333333335,
          1.345267,
          1.3733593333333334,
          1.3954116666666667,
          1.4078183333333334,
          1.4287670000000001,
          1.4377336666666667,
          1.4482513333333336,
          1.4599346666666666,
          1.4682929999999998,
          1.4771243333333333,
          1.4872793333333334,
          1.4918223333333331,
          1.4947493333333335,
          1.4992886666666665,
          1.505662,
          1.5086236666666666,
          1.5127650000000001,
          1.515404,
          1.5175343333333333,
          1.5232729999999999,
          1.5247406666666667,
          1.5268836666666668,
          1.5287806666666666,
          1.5299,
          1.5326456666666668,
          1.5366106666666668,
          1.5367056666666665,
          1.5380786666666666,
          1.5389753333333334,
          1.5396896666666666,
          1.540071,
          1.540833,
          1.541349,
          1.5446346666666666,
          1.5470713333333335,
          1.5488493333333333,
          1.549976,
          1.5513966666666665,
          1.5529126666666666,
          1.5550633333333332,
          1.5564363333333333,
          1.5571266666666665,
          1.5571266666666665,
          1.5571266666666665,
          1.5586470000000001,
          1.5612346666666668,
          1.5630823333333335
         ]
        },
        {
         "hoverinfo": "y",
         "legendgroup": "group_('semi_shuffle', 'partially_mapped_crossover', 'tournament_selection')",
         "line": {
          "width": 1
         },
         "marker": {
          "size": 5
         },
         "name": "Comb SPT: ('semi_shuffle', 'partially_mapped_crossover', 'tournament_selection'),<br>exp2: Prob Mut 0.2",
         "showlegend": true,
         "type": "box",
         "y": [
          1.2521483333333334,
          1.2970283333333334,
          1.3207946666666668,
          1.3532153333333334,
          1.3780026666666667,
          1.4028260000000001,
          1.4186923333333332,
          1.4317369999999998,
          1.4449476666666667,
          1.4602906666666666,
          1.472087,
          1.483049,
          1.4971376666666667,
          1.5071253333333334,
          1.515668,
          1.5265533333333332,
          1.5380263333333335,
          1.5449393333333332,
          1.55266,
          1.5573216666666667,
          1.562442,
          1.5696800000000002,
          1.5738403333333333,
          1.5754306666666666,
          1.5775216666666667,
          1.5830046666666666,
          1.5842283333333333,
          1.5868806666666666,
          1.5875869999999999,
          1.5911996666666668,
          1.5944583333333333,
          1.599264,
          1.5995876666666669,
          1.6014450000000002,
          1.6037623333333333,
          1.6049763333333333,
          1.6059286666666668,
          1.6087643333333332,
          1.6112006666666665,
          1.613893,
          1.614717,
          1.6149263333333332,
          1.6166973333333334,
          1.6166973333333334,
          1.6179890000000001,
          1.6191526666666667,
          1.619667,
          1.6203336666666668,
          1.6204763333333332,
          1.6208966666666667
         ]
        },
        {
         "hoverinfo": "y",
         "legendgroup": "group_('semi_shuffle', 'partially_mapped_crossover', 'tournament_selection')",
         "line": {
          "width": 1
         },
         "marker": {
          "size": 5
         },
         "name": "Comb SPT: ('semi_shuffle', 'partially_mapped_crossover', 'tournament_selection'),<br>exp3: Customized Prob Muts",
         "showlegend": true,
         "type": "box",
         "y": [
          1.2529683333333332,
          1.2884296666666666,
          1.3350173333333333,
          1.368574,
          1.388471,
          1.406298,
          1.4204626666666667,
          1.4355476666666669,
          1.452649,
          1.4694456666666667,
          1.4878500000000001,
          1.498971,
          1.5077896666666668,
          1.5208493333333335,
          1.5281693333333335,
          1.5380413333333334,
          1.5489996666666668,
          1.5549836666666665,
          1.5611503333333334,
          1.5662226666666668,
          1.5731670000000002,
          1.5804893333333332,
          1.5853236666666668,
          1.5894736666666667,
          1.5947689999999999,
          1.601296,
          1.6036733333333333,
          1.6056166666666667,
          1.6115216666666667,
          1.6151766666666667,
          1.6175810000000002,
          1.6197303333333333,
          1.6255323333333334,
          1.6291116666666667,
          1.6328696666666667,
          1.6360196666666666,
          1.637442,
          1.6383543333333332,
          1.6422693333333334,
          1.6446136666666669,
          1.6469230000000001,
          1.6485340000000002,
          1.6497819999999999,
          1.6540636666666666,
          1.6561890000000001,
          1.658213,
          1.659251,
          1.6596083333333334,
          1.6616243333333334,
          1.6631006666666666
         ]
        },
        {
         "hoverinfo": "y",
         "legendgroup": "group_('two_phase_shuffle_mutation', 'partially_mapped_crossover', 'tournament_selection')",
         "line": {
          "width": 1
         },
         "marker": {
          "size": 5
         },
         "name": "Comb TPT: ('two_phase_shuffle_mutation', 'partially_mapped_crossover', 'tournament_selection'),<br>exp1: Prob Mut 0.1",
         "showlegend": true,
         "type": "box",
         "y": [
          1.2536823333333333,
          1.278942,
          1.2994643333333333,
          1.329151,
          1.349673,
          1.3577096666666668,
          1.373102,
          1.3853083333333334,
          1.3906553333333334,
          1.3961376666666667,
          1.407735,
          1.418367,
          1.4209323333333332,
          1.4282153333333334,
          1.4329356666666666,
          1.4448696666666667,
          1.4479013333333333,
          1.454572,
          1.4567629999999998,
          1.4598626666666665,
          1.4675553333333333,
          1.472025,
          1.4746853333333334,
          1.482692,
          1.4851670000000001,
          1.4893299999999998,
          1.4926193333333333,
          1.4986623333333333,
          1.499386,
          1.5033526666666668,
          1.5083053333333334,
          1.511856,
          1.5127083333333333,
          1.5183103333333332,
          1.519604,
          1.5214393333333334,
          1.5220756666666666,
          1.525101,
          1.528199,
          1.5309006666666667,
          1.5330373333333334,
          1.5345003333333334,
          1.5360516666666666,
          1.5360516666666666,
          1.5378643333333335,
          1.5478943333333333,
          1.5500336666666668,
          1.550894,
          1.5521793333333334,
          1.554284
         ]
        },
        {
         "hoverinfo": "y",
         "legendgroup": "group_('two_phase_shuffle_mutation', 'partially_mapped_crossover', 'tournament_selection')",
         "line": {
          "width": 1
         },
         "marker": {
          "size": 5
         },
         "name": "Comb TPT: ('two_phase_shuffle_mutation', 'partially_mapped_crossover', 'tournament_selection'),<br>exp2: Prob Mut 0.2",
         "showlegend": true,
         "type": "box",
         "y": [
          1.2512913333333333,
          1.2663576666666667,
          1.284863,
          1.3021763333333332,
          1.3085893333333334,
          1.3226026666666668,
          1.3385633333333333,
          1.349524,
          1.3603910000000001,
          1.3675086666666667,
          1.3751606666666667,
          1.3800653333333335,
          1.3882823333333334,
          1.3948536666666667,
          1.399552666666667,
          1.4078833333333334,
          1.4173026666666668,
          1.4274440000000002,
          1.4314536666666666,
          1.4331186666666667,
          1.4361573333333335,
          1.4446653333333335,
          1.4476633333333335,
          1.4516126666666667,
          1.4552443333333334,
          1.4607633333333332,
          1.4642493333333335,
          1.4672020000000001,
          1.4688116666666666,
          1.4737223333333334,
          1.4737223333333334,
          1.4755096666666667,
          1.4756763333333334,
          1.4763193333333333,
          1.4808273333333333,
          1.4822573333333333,
          1.4832940000000001,
          1.488376,
          1.4929473333333334,
          1.4932123333333334,
          1.4978533333333333,
          1.498417,
          1.5000153333333333,
          1.502896,
          1.506079,
          1.508766,
          1.5092756666666667,
          1.5100746666666667,
          1.5100746666666667,
          1.515708
         ]
        },
        {
         "hoverinfo": "y",
         "legendgroup": "group_('two_phase_shuffle_mutation', 'partially_mapped_crossover', 'tournament_selection')",
         "line": {
          "width": 1
         },
         "marker": {
          "size": 5
         },
         "name": "Comb TPT: ('two_phase_shuffle_mutation', 'partially_mapped_crossover', 'tournament_selection'),<br>exp3: Customized Prob Muts",
         "showlegend": true,
         "type": "box",
         "y": [
          1.2432753333333333,
          1.2808920000000001,
          1.304311,
          1.322007,
          1.3400756666666667,
          1.3487110000000002,
          1.3642043333333334,
          1.3720696666666667,
          1.3804903333333334,
          1.3924103333333335,
          1.4002123333333334,
          1.4050203333333333,
          1.4078663333333334,
          1.417679666666667,
          1.4258093333333335,
          1.4299456666666666,
          1.4406713333333334,
          1.4437396666666666,
          1.4461443333333333,
          1.4469316666666667,
          1.4504563333333336,
          1.453626,
          1.457075,
          1.4646553333333334,
          1.4687363333333332,
          1.4764143333333335,
          1.478384,
          1.478384,
          1.4800266666666666,
          1.4869093333333334,
          1.4920173333333333,
          1.4944806666666668,
          1.4972,
          1.5047963333333334,
          1.506428,
          1.5074453333333333,
          1.5093183333333333,
          1.5129546666666667,
          1.5129546666666667,
          1.5155836666666667,
          1.522555,
          1.5262076666666669,
          1.5262076666666669,
          1.5287466666666667,
          1.5288343333333332,
          1.5302870000000002,
          1.5302870000000002,
          1.5316253333333334,
          1.534454,
          1.5357203333333334
         ]
        }
       ],
       "layout": {
        "height": 650,
        "legend": {
         "font": {
          "size": 11
         },
         "orientation": "h",
         "title": {
          "font": {
           "size": 12
          },
          "side": "top",
          "text": "Combination & Experiment"
         },
         "y": -0.3
        },
        "margin": {
         "b": 100,
         "l": 50,
         "pad": 10,
         "r": 50,
         "t": 80
        },
        "plot_bgcolor": "white",
        "template": {
         "data": {
          "bar": [
           {
            "error_x": {
             "color": "#2a3f5f"
            },
            "error_y": {
             "color": "#2a3f5f"
            },
            "marker": {
             "line": {
              "color": "#E5ECF6",
              "width": 0.5
             },
             "pattern": {
              "fillmode": "overlay",
              "size": 10,
              "solidity": 0.2
             }
            },
            "type": "bar"
           }
          ],
          "barpolar": [
           {
            "marker": {
             "line": {
              "color": "#E5ECF6",
              "width": 0.5
             },
             "pattern": {
              "fillmode": "overlay",
              "size": 10,
              "solidity": 0.2
             }
            },
            "type": "barpolar"
           }
          ],
          "carpet": [
           {
            "aaxis": {
             "endlinecolor": "#2a3f5f",
             "gridcolor": "white",
             "linecolor": "white",
             "minorgridcolor": "white",
             "startlinecolor": "#2a3f5f"
            },
            "baxis": {
             "endlinecolor": "#2a3f5f",
             "gridcolor": "white",
             "linecolor": "white",
             "minorgridcolor": "white",
             "startlinecolor": "#2a3f5f"
            },
            "type": "carpet"
           }
          ],
          "choropleth": [
           {
            "colorbar": {
             "outlinewidth": 0,
             "ticks": ""
            },
            "type": "choropleth"
           }
          ],
          "contour": [
           {
            "colorbar": {
             "outlinewidth": 0,
             "ticks": ""
            },
            "colorscale": [
             [
              0,
              "#0d0887"
             ],
             [
              0.1111111111111111,
              "#46039f"
             ],
             [
              0.2222222222222222,
              "#7201a8"
             ],
             [
              0.3333333333333333,
              "#9c179e"
             ],
             [
              0.4444444444444444,
              "#bd3786"
             ],
             [
              0.5555555555555556,
              "#d8576b"
             ],
             [
              0.6666666666666666,
              "#ed7953"
             ],
             [
              0.7777777777777778,
              "#fb9f3a"
             ],
             [
              0.8888888888888888,
              "#fdca26"
             ],
             [
              1,
              "#f0f921"
             ]
            ],
            "type": "contour"
           }
          ],
          "contourcarpet": [
           {
            "colorbar": {
             "outlinewidth": 0,
             "ticks": ""
            },
            "type": "contourcarpet"
           }
          ],
          "heatmap": [
           {
            "colorbar": {
             "outlinewidth": 0,
             "ticks": ""
            },
            "colorscale": [
             [
              0,
              "#0d0887"
             ],
             [
              0.1111111111111111,
              "#46039f"
             ],
             [
              0.2222222222222222,
              "#7201a8"
             ],
             [
              0.3333333333333333,
              "#9c179e"
             ],
             [
              0.4444444444444444,
              "#bd3786"
             ],
             [
              0.5555555555555556,
              "#d8576b"
             ],
             [
              0.6666666666666666,
              "#ed7953"
             ],
             [
              0.7777777777777778,
              "#fb9f3a"
             ],
             [
              0.8888888888888888,
              "#fdca26"
             ],
             [
              1,
              "#f0f921"
             ]
            ],
            "type": "heatmap"
           }
          ],
          "heatmapgl": [
           {
            "colorbar": {
             "outlinewidth": 0,
             "ticks": ""
            },
            "colorscale": [
             [
              0,
              "#0d0887"
             ],
             [
              0.1111111111111111,
              "#46039f"
             ],
             [
              0.2222222222222222,
              "#7201a8"
             ],
             [
              0.3333333333333333,
              "#9c179e"
             ],
             [
              0.4444444444444444,
              "#bd3786"
             ],
             [
              0.5555555555555556,
              "#d8576b"
             ],
             [
              0.6666666666666666,
              "#ed7953"
             ],
             [
              0.7777777777777778,
              "#fb9f3a"
             ],
             [
              0.8888888888888888,
              "#fdca26"
             ],
             [
              1,
              "#f0f921"
             ]
            ],
            "type": "heatmapgl"
           }
          ],
          "histogram": [
           {
            "marker": {
             "pattern": {
              "fillmode": "overlay",
              "size": 10,
              "solidity": 0.2
             }
            },
            "type": "histogram"
           }
          ],
          "histogram2d": [
           {
            "colorbar": {
             "outlinewidth": 0,
             "ticks": ""
            },
            "colorscale": [
             [
              0,
              "#0d0887"
             ],
             [
              0.1111111111111111,
              "#46039f"
             ],
             [
              0.2222222222222222,
              "#7201a8"
             ],
             [
              0.3333333333333333,
              "#9c179e"
             ],
             [
              0.4444444444444444,
              "#bd3786"
             ],
             [
              0.5555555555555556,
              "#d8576b"
             ],
             [
              0.6666666666666666,
              "#ed7953"
             ],
             [
              0.7777777777777778,
              "#fb9f3a"
             ],
             [
              0.8888888888888888,
              "#fdca26"
             ],
             [
              1,
              "#f0f921"
             ]
            ],
            "type": "histogram2d"
           }
          ],
          "histogram2dcontour": [
           {
            "colorbar": {
             "outlinewidth": 0,
             "ticks": ""
            },
            "colorscale": [
             [
              0,
              "#0d0887"
             ],
             [
              0.1111111111111111,
              "#46039f"
             ],
             [
              0.2222222222222222,
              "#7201a8"
             ],
             [
              0.3333333333333333,
              "#9c179e"
             ],
             [
              0.4444444444444444,
              "#bd3786"
             ],
             [
              0.5555555555555556,
              "#d8576b"
             ],
             [
              0.6666666666666666,
              "#ed7953"
             ],
             [
              0.7777777777777778,
              "#fb9f3a"
             ],
             [
              0.8888888888888888,
              "#fdca26"
             ],
             [
              1,
              "#f0f921"
             ]
            ],
            "type": "histogram2dcontour"
           }
          ],
          "mesh3d": [
           {
            "colorbar": {
             "outlinewidth": 0,
             "ticks": ""
            },
            "type": "mesh3d"
           }
          ],
          "parcoords": [
           {
            "line": {
             "colorbar": {
              "outlinewidth": 0,
              "ticks": ""
             }
            },
            "type": "parcoords"
           }
          ],
          "pie": [
           {
            "automargin": true,
            "type": "pie"
           }
          ],
          "scatter": [
           {
            "fillpattern": {
             "fillmode": "overlay",
             "size": 10,
             "solidity": 0.2
            },
            "type": "scatter"
           }
          ],
          "scatter3d": [
           {
            "line": {
             "colorbar": {
              "outlinewidth": 0,
              "ticks": ""
             }
            },
            "marker": {
             "colorbar": {
              "outlinewidth": 0,
              "ticks": ""
             }
            },
            "type": "scatter3d"
           }
          ],
          "scattercarpet": [
           {
            "marker": {
             "colorbar": {
              "outlinewidth": 0,
              "ticks": ""
             }
            },
            "type": "scattercarpet"
           }
          ],
          "scattergeo": [
           {
            "marker": {
             "colorbar": {
              "outlinewidth": 0,
              "ticks": ""
             }
            },
            "type": "scattergeo"
           }
          ],
          "scattergl": [
           {
            "marker": {
             "colorbar": {
              "outlinewidth": 0,
              "ticks": ""
             }
            },
            "type": "scattergl"
           }
          ],
          "scattermapbox": [
           {
            "marker": {
             "colorbar": {
              "outlinewidth": 0,
              "ticks": ""
             }
            },
            "type": "scattermapbox"
           }
          ],
          "scatterpolar": [
           {
            "marker": {
             "colorbar": {
              "outlinewidth": 0,
              "ticks": ""
             }
            },
            "type": "scatterpolar"
           }
          ],
          "scatterpolargl": [
           {
            "marker": {
             "colorbar": {
              "outlinewidth": 0,
              "ticks": ""
             }
            },
            "type": "scatterpolargl"
           }
          ],
          "scatterternary": [
           {
            "marker": {
             "colorbar": {
              "outlinewidth": 0,
              "ticks": ""
             }
            },
            "type": "scatterternary"
           }
          ],
          "surface": [
           {
            "colorbar": {
             "outlinewidth": 0,
             "ticks": ""
            },
            "colorscale": [
             [
              0,
              "#0d0887"
             ],
             [
              0.1111111111111111,
              "#46039f"
             ],
             [
              0.2222222222222222,
              "#7201a8"
             ],
             [
              0.3333333333333333,
              "#9c179e"
             ],
             [
              0.4444444444444444,
              "#bd3786"
             ],
             [
              0.5555555555555556,
              "#d8576b"
             ],
             [
              0.6666666666666666,
              "#ed7953"
             ],
             [
              0.7777777777777778,
              "#fb9f3a"
             ],
             [
              0.8888888888888888,
              "#fdca26"
             ],
             [
              1,
              "#f0f921"
             ]
            ],
            "type": "surface"
           }
          ],
          "table": [
           {
            "cells": {
             "fill": {
              "color": "#EBF0F8"
             },
             "line": {
              "color": "white"
             }
            },
            "header": {
             "fill": {
              "color": "#C8D4E3"
             },
             "line": {
              "color": "white"
             }
            },
            "type": "table"
           }
          ]
         },
         "layout": {
          "annotationdefaults": {
           "arrowcolor": "#2a3f5f",
           "arrowhead": 0,
           "arrowwidth": 1
          },
          "autotypenumbers": "strict",
          "coloraxis": {
           "colorbar": {
            "outlinewidth": 0,
            "ticks": ""
           }
          },
          "colorscale": {
           "diverging": [
            [
             0,
             "#8e0152"
            ],
            [
             0.1,
             "#c51b7d"
            ],
            [
             0.2,
             "#de77ae"
            ],
            [
             0.3,
             "#f1b6da"
            ],
            [
             0.4,
             "#fde0ef"
            ],
            [
             0.5,
             "#f7f7f7"
            ],
            [
             0.6,
             "#e6f5d0"
            ],
            [
             0.7,
             "#b8e186"
            ],
            [
             0.8,
             "#7fbc41"
            ],
            [
             0.9,
             "#4d9221"
            ],
            [
             1,
             "#276419"
            ]
           ],
           "sequential": [
            [
             0,
             "#0d0887"
            ],
            [
             0.1111111111111111,
             "#46039f"
            ],
            [
             0.2222222222222222,
             "#7201a8"
            ],
            [
             0.3333333333333333,
             "#9c179e"
            ],
            [
             0.4444444444444444,
             "#bd3786"
            ],
            [
             0.5555555555555556,
             "#d8576b"
            ],
            [
             0.6666666666666666,
             "#ed7953"
            ],
            [
             0.7777777777777778,
             "#fb9f3a"
            ],
            [
             0.8888888888888888,
             "#fdca26"
            ],
            [
             1,
             "#f0f921"
            ]
           ],
           "sequentialminus": [
            [
             0,
             "#0d0887"
            ],
            [
             0.1111111111111111,
             "#46039f"
            ],
            [
             0.2222222222222222,
             "#7201a8"
            ],
            [
             0.3333333333333333,
             "#9c179e"
            ],
            [
             0.4444444444444444,
             "#bd3786"
            ],
            [
             0.5555555555555556,
             "#d8576b"
            ],
            [
             0.6666666666666666,
             "#ed7953"
            ],
            [
             0.7777777777777778,
             "#fb9f3a"
            ],
            [
             0.8888888888888888,
             "#fdca26"
            ],
            [
             1,
             "#f0f921"
            ]
           ]
          },
          "colorway": [
           "#636efa",
           "#EF553B",
           "#00cc96",
           "#ab63fa",
           "#FFA15A",
           "#19d3f3",
           "#FF6692",
           "#B6E880",
           "#FF97FF",
           "#FECB52"
          ],
          "font": {
           "color": "#2a3f5f"
          },
          "geo": {
           "bgcolor": "white",
           "lakecolor": "white",
           "landcolor": "#E5ECF6",
           "showlakes": true,
           "showland": true,
           "subunitcolor": "white"
          },
          "hoverlabel": {
           "align": "left"
          },
          "hovermode": "closest",
          "mapbox": {
           "style": "light"
          },
          "paper_bgcolor": "white",
          "plot_bgcolor": "#E5ECF6",
          "polar": {
           "angularaxis": {
            "gridcolor": "white",
            "linecolor": "white",
            "ticks": ""
           },
           "bgcolor": "#E5ECF6",
           "radialaxis": {
            "gridcolor": "white",
            "linecolor": "white",
            "ticks": ""
           }
          },
          "scene": {
           "xaxis": {
            "backgroundcolor": "#E5ECF6",
            "gridcolor": "white",
            "gridwidth": 2,
            "linecolor": "white",
            "showbackground": true,
            "ticks": "",
            "zerolinecolor": "white"
           },
           "yaxis": {
            "backgroundcolor": "#E5ECF6",
            "gridcolor": "white",
            "gridwidth": 2,
            "linecolor": "white",
            "showbackground": true,
            "ticks": "",
            "zerolinecolor": "white"
           },
           "zaxis": {
            "backgroundcolor": "#E5ECF6",
            "gridcolor": "white",
            "gridwidth": 2,
            "linecolor": "white",
            "showbackground": true,
            "ticks": "",
            "zerolinecolor": "white"
           }
          },
          "shapedefaults": {
           "line": {
            "color": "#2a3f5f"
           }
          },
          "ternary": {
           "aaxis": {
            "gridcolor": "white",
            "linecolor": "white",
            "ticks": ""
           },
           "baxis": {
            "gridcolor": "white",
            "linecolor": "white",
            "ticks": ""
           },
           "bgcolor": "#E5ECF6",
           "caxis": {
            "gridcolor": "white",
            "linecolor": "white",
            "ticks": ""
           }
          },
          "title": {
           "x": 0.05
          },
          "xaxis": {
           "automargin": true,
           "gridcolor": "white",
           "linecolor": "white",
           "ticks": "",
           "title": {
            "standoff": 15
           },
           "zerolinecolor": "white",
           "zerolinewidth": 2
          },
          "yaxis": {
           "automargin": true,
           "gridcolor": "white",
           "linecolor": "white",
           "ticks": "",
           "title": {
            "standoff": 15
           },
           "zerolinecolor": "white",
           "zerolinewidth": 2
          }
         }
        },
        "title": {
         "font": {
          "family": "Arial",
          "size": 18
         },
         "text": "Best fitness along the generation from the <b>3</b> best of each experiment"
        },
        "width": 850,
        "xaxis": {
         "gridcolor": "lightgray",
         "ticktext": [
          "BPT<br>exp1",
          "BPT<br>exp2",
          "BPT<br>exp3",
          "SPT<br>exp1",
          "SPT<br>exp2",
          "SPT<br>exp3",
          "TPT<br>exp1",
          "TPT<br>exp2",
          "TPT<br>exp3"
         ],
         "tickvals": [
          0,
          1,
          2,
          3,
          4,
          5,
          6,
          7,
          8
         ],
         "type": "category"
        },
        "yaxis": {
         "gridcolor": "lightgray",
         "title": {
          "text": "Fitness"
         }
        }
       }
      }
     },
     "metadata": {},
     "output_type": "display_data"
    }
   ],
   "source": [
    "plot_Xbest_per_exp_box(Xbest=3, metric='ABF',\n",
    "                       df_exps={'exp1': 'Prob Mut 0.1', 'exp2': 'Prob Mut 0.2', 'exp3': 'Customized Prob Muts'})"
   ]
  },
  {
   "cell_type": "markdown",
   "id": "3ecb2415",
   "metadata": {},
   "source": [
    "### 2.5. Elitism Experiment: Comparison of Final Combination with and without elitism"
   ]
  },
  {
   "cell_type": "markdown",
   "id": "a71eee38",
   "metadata": {},
   "source": [
    "__`Step 10`__ For the final combination, plot the best fitness per generation with and without the result."
   ]
  },
  {
   "cell_type": "code",
   "execution_count": null,
   "id": "84a0b7d0",
   "metadata": {},
   "outputs": [],
   "source": [
    "#elistim_tuning_plot(df_elitism)"
   ]
  },
  {
   "cell_type": "markdown",
   "id": "f8e29e08",
   "metadata": {},
   "source": [
    "## 3. Statistical tests"
   ]
  },
  {
   "cell_type": "code",
   "execution_count": 47,
   "id": "120ebf6c",
   "metadata": {},
   "outputs": [],
   "source": [
    "from scipy.stats import mannwhitneyu, ranksums\n",
    "from typing import List, Tuple, Dict, Any\n",
    "import matplotlib.pyplot as plt\n",
    "import numpy as np\n",
    "import seaborn as sns"
   ]
  },
  {
   "cell_type": "code",
   "execution_count": 48,
   "id": "7620f186",
   "metadata": {},
   "outputs": [],
   "source": [
    "def pairwise_mannwhitney(combs: List[Tuple], alpha:float = 0.05, plot:bool = True) -> Dict[str, Any]:\n",
    "    \"\"\"\n",
    "    Perform pairwise Mann-Whitney U tests on the provided combinations and visualize results.\n",
    "\n",
    "    Parameters:\n",
    "    - combs: List of tuples containing combinations to compare.\n",
    "    - alpha: Significance level for the tests.\n",
    "    - plot: Whether to generate a visualization of the results.\n",
    "\n",
    "    Returns:\n",
    "    - Dictionary with combinations as keys and p-values as values.\n",
    "    \"\"\"\n",
    "\n",
    "    df_exp1 = pd.read_csv('combination_search/final_results_exp1.csv')\n",
    "    df_exp2 = pd.read_csv('combination_search/final_results_exp2.csv')\n",
    "    df_exp3 = pd.read_csv('combination_search/final_results_exp3.csv')\n",
    "\n",
    "    data_combs = []\n",
    "    labels = []\n",
    "    \n",
    "    for comb, exp in combs:\n",
    "        if exp == 'exp1':\n",
    "            df = df_exp1\n",
    "        elif exp == 'exp2':\n",
    "            df = df_exp2\n",
    "        else:\n",
    "            df = df_exp3\n",
    "\n",
    "        # Get the last generation fitness values for all runs of this combination\n",
    "        data = df[(df['Combination ID'] == comb) & (df['Generation'] == df['Generation'].max())]['Fitness'].values\n",
    "        data_combs.append(data)\n",
    "        labels.append(f\"{comb}({exp})\")\n",
    "\n",
    "    # Perform pairwise Mann-Whitney U tests\n",
    "    n = len(combs)\n",
    "    p_values = np.zeros((n, n))\n",
    "    significant = np.zeros((n, n))\n",
    "\n",
    "    results = {}\n",
    "    for i in range(n):\n",
    "        for j in range(n):\n",
    "            if i == j:\n",
    "                p_values[i, j] = 1.0\n",
    "                continue\n",
    "                \n",
    "            stat, p_value = mannwhitneyu(data_combs[i], data_combs[j], alternative='two-sided')\n",
    "            p_values[i, j] = p_value\n",
    "            significant[i, j] = p_value < alpha\n",
    "            \n",
    "            key = f\"{labels[i]} vs {labels[j]}\"\n",
    "            results[key] = {\n",
    "                'statistic': stat,\n",
    "                'p_value': p_value,\n",
    "                'significant': p_value < alpha\n",
    "            }\n",
    "    \n",
    "    if plot:\n",
    "        plt.figure(figsize=(6, 5))\n",
    "        \n",
    "        # Create custom color palette\n",
    "        cmap = sns.color_palette(\"YlOrRd_r\", as_cmap=True)\n",
    "        \n",
    "        # Create heatmap for p-values\n",
    "        mask = np.triu(np.ones_like(p_values, dtype=bool))\n",
    "        \n",
    "        # Format annotations to show significance level with stars\n",
    "        annot = np.empty_like(p_values, dtype=object)\n",
    "        for i in range(n):\n",
    "            for j in range(n):\n",
    "                if mask[i, j]:\n",
    "                    annot[i, j] = \"\"\n",
    "                else:\n",
    "                    stars = \"\"\n",
    "                    if p_values[i, j] < 0.001:\n",
    "                        stars = \"***\"\n",
    "                    elif p_values[i, j] < 0.01:\n",
    "                        stars = \"**\"\n",
    "                    elif p_values[i, j] < 0.05:\n",
    "                        stars = \"*\"\n",
    "                    annot[i, j] = f\"{p_values[i, j]:.3f}{stars}\"\n",
    "        \n",
    "        ax = sns.heatmap(p_values, annot=annot, fmt=\"\", mask=mask, \n",
    "                        cmap=cmap, xticklabels=labels, yticklabels=labels,\n",
    "                        vmin=0, vmax=alpha*2, square=True, \n",
    "                        cbar_kws={\"shrink\": 0.8, \"label\": \"p-value\"})\n",
    "        \n",
    "        # Add grid for better readability\n",
    "        ax.set_xticklabels(ax.get_xticklabels(), rotation=45, ha=\"right\")\n",
    "        ax.set_yticklabels(ax.get_yticklabels(), rotation=0)\n",
    "        \n",
    "        # # Add border to significant cells\n",
    "        # for i in range(n):\n",
    "        #     for j in range(n):\n",
    "        #         if i != j and not mask[i, j] and significant[i, j]:\n",
    "        #             ax.add_patch(plt.Rectangle((j, i), 1, 1, fill=False, edgecolor='blue', lw=2, linestyle='--'))\n",
    "        \n",
    "        plt.title(f'Pairwise Mann-Whitney U Test p-values\\n*p<0.05, **p<0.01, ***p<0.001', fontsize=14)\n",
    "        plt.tight_layout()\n",
    "        \n",
    "\n",
    "        \n",
    "        plt.show()\n",
    "    \n",
    "    return results"
   ]
  },
  {
   "cell_type": "code",
   "execution_count": 50,
   "id": "09af64ce",
   "metadata": {},
   "outputs": [],
   "source": [
    "def pairwise_ranksums(combs: List[Tuple], alpha: float = 0.05, plot: bool = True) -> Dict[str, Any]:\n",
    "    \"\"\"\n",
    "    Perform pairwise Wilcoxon rank-sum test on the provided combinations and visualize results.\n",
    "\n",
    "    Parameters:\n",
    "    - combs: List of tuples containing combinations to compare.\n",
    "    - alpha: Significance level for the tests.\n",
    "    - plot: Whether to generate a visualization of the results.\n",
    "\n",
    "    Returns:\n",
    "    - Dictionary with combinations as keys and test results as values.\n",
    "    \"\"\"\n",
    "\n",
    "    df_exp1 = pd.read_csv('combination_search/final_results_exp1.csv')\n",
    "    df_exp2 = pd.read_csv('combination_search/final_results_exp2.csv')\n",
    "    df_exp3 = pd.read_csv('combination_search/final_results_exp3.csv')\n",
    "\n",
    "    data_combs = []\n",
    "    labels = []\n",
    "    \n",
    "    for comb, exp in combs:\n",
    "        if exp == 'exp1':\n",
    "            df = df_exp1\n",
    "        elif exp == 'exp2':\n",
    "            df = df_exp2\n",
    "        else:\n",
    "            df = df_exp3\n",
    "\n",
    "        # Get the last generation fitness values for all runs of this combination\n",
    "        data = df[(df['Combination ID'] == comb) & (df['Generation'] == df['Generation'].max())]['Fitness'].values\n",
    "        data_combs.append(data)\n",
    "        labels.append(f\"{comb}({exp})\")\n",
    "\n",
    "    # Perform pairwise Mann-Whitney U tests (ranksum tests)\n",
    "    n = len(combs)\n",
    "    p_values = np.zeros((n, n))\n",
    "    significant = np.zeros((n, n))\n",
    "\n",
    "    results = {}\n",
    "    for i in range(n):\n",
    "        for j in range(i+1, n):  # Only compute lower triangle to avoid redundant calculations\n",
    "            # scipy.stats.ranksums is equivalent to mannwhitneyu with alternative='two-sided'\n",
    "            stat, p_value = ranksums(data_combs[i], data_combs[j])\n",
    "            p_values[i, j] = p_value\n",
    "            p_values[j, i] = p_value  # Matrix is symmetric\n",
    "            significant[i, j] = p_value < alpha\n",
    "            significant[j, i] = p_value < alpha\n",
    "            \n",
    "            key = f\"{labels[i]} vs {labels[j]}\"\n",
    "            results[key] = {\n",
    "                'statistic': stat,\n",
    "                'p_value': p_value,\n",
    "                'significant': p_value < alpha\n",
    "            }\n",
    "    \n",
    "    # Set diagonal to 1.0\n",
    "    np.fill_diagonal(p_values, 1.0)\n",
    "    \n",
    "    if plot:\n",
    "        plt.figure(figsize=(6, 5))\n",
    "        \n",
    "        # Create custom color palette\n",
    "        cmap = sns.color_palette(\"YlOrRd_r\", as_cmap=True)\n",
    "        \n",
    "        # Create heatmap for p-values\n",
    "        mask = np.triu(np.ones_like(p_values, dtype=bool))\n",
    "        \n",
    "        # Format annotations to show significance level with stars\n",
    "        annot = np.empty_like(p_values, dtype=object)\n",
    "        for i in range(n):\n",
    "            for j in range(n):\n",
    "                if mask[i, j]:\n",
    "                    annot[i, j] = \"\"\n",
    "                else:\n",
    "                    stars = \"\"\n",
    "                    if p_values[i, j] < 0.001:\n",
    "                        stars = \"***\"\n",
    "                    elif p_values[i, j] < 0.01:\n",
    "                        stars = \"**\"\n",
    "                    elif p_values[i, j] < 0.05:\n",
    "                        stars = \"*\"\n",
    "                    annot[i, j] = f\"{p_values[i, j]:.3f}{stars}\"\n",
    "        \n",
    "        ax = sns.heatmap(p_values, annot=annot, fmt=\"\", mask=mask, \n",
    "                        cmap=cmap, xticklabels=labels, yticklabels=labels,\n",
    "                        vmin=0, vmax=alpha*2, square=True, \n",
    "                        cbar_kws={\"shrink\": 0.8, \"label\": \"p-value\"})\n",
    "        \n",
    "        # Add grid for better readability\n",
    "        ax.set_xticklabels(ax.get_xticklabels(), rotation=45, ha=\"right\")\n",
    "        ax.set_yticklabels(ax.get_yticklabels(), rotation=0)\n",
    "        \n",
    "        plt.title(f'Pairwise Ranksum Test p-values\\n*p<0.05, **p<0.01, ***p<0.001', fontsize=14)\n",
    "        plt.tight_layout()\n",
    "        plt.show()\n",
    "    \n",
    "    return results\n"
   ]
  },
  {
   "cell_type": "markdown",
   "id": "d08a347d",
   "metadata": {},
   "source": [
    "### Effect of different probabilities in mutations\n",
    "\n",
    "- #### Semi-shuffle:"
   ]
  },
  {
   "cell_type": "code",
   "execution_count": 21,
   "id": "79645e97",
   "metadata": {},
   "outputs": [],
   "source": [
    "S_combs = [('SPT', 'exp1'), ('SPT', 'exp2'), ('SPT', 'exp3')]"
   ]
  },
  {
   "cell_type": "code",
   "execution_count": 51,
   "id": "5851dfd8",
   "metadata": {},
   "outputs": [
    {
     "data": {
      "image/png": "[encoded data removed]",
      "text/plain": [
       "<Figure size 600x500 with 2 Axes>"
      ]
     },
     "metadata": {},
     "output_type": "display_data"
    }
   ],
   "source": [
    "_ = pairwise_mannwhitney(S_combs, alpha=0.05)"
   ]
  },
  {
   "cell_type": "code",
   "execution_count": 52,
   "id": "6327c727",
   "metadata": {},
   "outputs": [
    {
     "data": {
      "image/png": "[encoded data removed]",
      "text/plain": [
       "<Figure size 600x500 with 2 Axes>"
      ]
     },
     "metadata": {},
     "output_type": "display_data"
    }
   ],
   "source": [
    "_ =pairwise_ranksums(S_combs, alpha=0.05)"
   ]
  },
  {
   "cell_type": "markdown",
   "id": "83becf31",
   "metadata": {},
   "source": [
    "- #### Block-rotation:"
   ]
  },
  {
   "cell_type": "code",
   "execution_count": 57,
   "id": "5e9bb7fa",
   "metadata": {},
   "outputs": [],
   "source": [
    "B_combs = [('BPT', 'exp1'), ('BPT', 'exp2'), ('BPT', 'exp3')]"
   ]
  },
  {
   "cell_type": "code",
   "execution_count": 58,
   "id": "55b6bac2",
   "metadata": {},
   "outputs": [
    {
     "data": {
      "image/png": "[encoded data removed]",
      "text/plain": [
       "<Figure size 600x500 with 2 Axes>"
      ]
     },
     "metadata": {},
     "output_type": "display_data"
    }
   ],
   "source": [
    "_ = pairwise_mannwhitney(B_combs, alpha=0.05)"
   ]
  },
  {
   "cell_type": "code",
   "execution_count": 59,
   "id": "b71a8182",
   "metadata": {},
   "outputs": [
    {
     "data": {
      "image/png": "[encoded data removed]",
      "text/plain": [
       "<Figure size 600x500 with 2 Axes>"
      ]
     },
     "metadata": {},
     "output_type": "display_data"
    }
   ],
   "source": [
    "_ = pairwise_ranksums(B_combs, alpha=0.05)"
   ]
  },
  {
   "cell_type": "markdown",
   "id": "4df693cc",
   "metadata": {},
   "source": [
    "- #### Two-phase shuffle:"
   ]
  },
  {
   "cell_type": "code",
   "execution_count": 60,
   "id": "2f3bb99b",
   "metadata": {},
   "outputs": [],
   "source": [
    "T_combs = [('TPT', 'exp1'), ('TPT', 'exp2'), ('TPT', 'exp3')]"
   ]
  },
  {
   "cell_type": "code",
   "execution_count": 61,
   "id": "068b9566",
   "metadata": {},
   "outputs": [
    {
     "data": {
      "image/png": "[encoded data removed]",
      "text/plain": [
       "<Figure size 600x500 with 2 Axes>"
      ]
     },
     "metadata": {},
     "output_type": "display_data"
    }
   ],
   "source": [
    "_ = pairwise_mannwhitney(T_combs, alpha=0.05)"
   ]
  },
  {
   "cell_type": "code",
   "execution_count": 62,
   "id": "267443fe",
   "metadata": {},
   "outputs": [
    {
     "data": {
      "image/png": "[encoded data removed]",
      "text/plain": [
       "<Figure size 600x500 with 2 Axes>"
      ]
     },
     "metadata": {},
     "output_type": "display_data"
    }
   ],
   "source": [
    "_ = pairwise_ranksums(T_combs, alpha=0.05)"
   ]
  },
  {
   "cell_type": "markdown",
   "id": "5d13b555",
   "metadata": {},
   "source": [
    "### Best combinations"
   ]
  },
  {
   "cell_type": "code",
   "execution_count": 53,
   "id": "d1563b80",
   "metadata": {},
   "outputs": [],
   "source": [
    "# TOP 3 \n",
    "best_comb = [('SPT', 'exp3'), ('SPT', 'exp2'), ('BPT', 'exp3'), ('BPT', 'exp1')]"
   ]
  },
  {
   "cell_type": "code",
   "execution_count": 56,
   "id": "95bffa26",
   "metadata": {},
   "outputs": [
    {
     "data": {
      "image/png": "[encoded data removed]",
      "text/plain": [
       "<Figure size 600x500 with 2 Axes>"
      ]
     },
     "metadata": {},
     "output_type": "display_data"
    }
   ],
   "source": [
    "_ = pairwise_mannwhitney(best_comb, alpha=0.05)"
   ]
  },
  {
   "cell_type": "code",
   "execution_count": 55,
   "id": "5fc23765",
   "metadata": {},
   "outputs": [
    {
     "data": {
      "image/png": "[encoded data removed]",
      "text/plain": [
       "<Figure size 600x500 with 2 Axes>"
      ]
     },
     "metadata": {},
     "output_type": "display_data"
    }
   ],
   "source": [
    "_ = pairwise_ranksums(best_comb, alpha=0.05)"
   ]
  }
 ],
 "metadata": {
  "kernelspec": {
   "display_name": ".venv",
   "language": "python",
   "name": "python3"
  },
  "language_info": {
   "codemirror_mode": {
    "name": "ipython",
    "version": 3
   },
   "file_extension": ".py",
   "mimetype": "text/x-python",
   "name": "python",
   "nbconvert_exporter": "python",
   "pygments_lexer": "ipython3",
   "version": "3.13.1"
  }
 },
 "nbformat": 4,
 "nbformat_minor": 5
}
